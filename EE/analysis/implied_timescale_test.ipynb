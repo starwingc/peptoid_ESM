{
 "cells": [
  {
   "cell_type": "markdown",
   "id": "553bb284-f6d0-4abf-bcc6-760903b86056",
   "metadata": {},
   "source": [
    "# Calculating time scales for *cis/trans* isomerization\n"
   ]
  },
  {
   "cell_type": "code",
   "execution_count": 1,
   "id": "bddb7aaf",
   "metadata": {},
   "outputs": [],
   "source": [
    "import numpy as np\n",
    "from matplotlib import pyplot as plt\n",
    "import pickle\n",
    "import pandas as pd\n",
    "from joblib import Parallel, delayed\n",
    "from tqdm import tqdm\n",
    "import os"
   ]
  },
  {
   "cell_type": "code",
   "execution_count": 2,
   "id": "a2d6f4cb",
   "metadata": {},
   "outputs": [],
   "source": [
    "os.makedirs('autocoorel_data', exist_ok=True)"
   ]
  },
  {
   "cell_type": "markdown",
   "id": "4805f811",
   "metadata": {},
   "source": [
    "## Load Important Function"
   ]
  },
  {
   "cell_type": "code",
   "execution_count": 3,
   "id": "908fe0b4-f6ff-4108-9a34-817abcf717f2",
   "metadata": {},
   "outputs": [],
   "source": [
    "class Data:\n",
    "    def __init__(self, array_list):\n",
    "        self.array_list = array_list\n",
    "\n",
    "    def save(self, filename):\n",
    "        with open(filename, 'wb') as f:\n",
    "            pickle.dump(self.array_list, f)\n",
    "\n",
    "    @classmethod\n",
    "    def load(cls, filename):\n",
    "        with open(filename, 'rb') as f:\n",
    "            array_list = pickle.load(f)\n",
    "        return cls(array_list)"
   ]
  },
  {
   "cell_type": "code",
   "execution_count": 4,
   "id": "d8ab5546",
   "metadata": {},
   "outputs": [],
   "source": [
    "def omega2cistrans(omega):\n",
    "    \"\"\"Converts a sequence of float omega angles (in degrees) to an array of ints: 0 cis and 1 trans.\"\"\"\n",
    "    \n",
    "    shifted_omega = (omega + 90.0) % 360.0 - 90.0 # shift into (-90, 270) range to avoid periodic boundaries\n",
    "    \n",
    "    cistrans = np.where(shifted_omega > 90.0, 1, 0).astype(int)\n",
    "    return cistrans"
   ]
  },
  {
   "cell_type": "markdown",
   "id": "0e89a021-0827-4ed8-85bf-648db44394a1",
   "metadata": {},
   "source": [
    "## Load in the omega angle trajectories by result"
   ]
  },
  {
   "cell_type": "code",
   "execution_count": 5,
   "id": "4e9e4c9d",
   "metadata": {},
   "outputs": [
    {
     "name": "stdout",
     "output_type": "stream",
     "text": [
      "First array shape after conversion: (9002, 3)\n"
     ]
    },
    {
     "data": {
      "text/plain": [
       "array([[1, 1, 1],\n",
       "       [0, 1, 1],\n",
       "       [0, 1, 1],\n",
       "       ...,\n",
       "       [0, 1, 1],\n",
       "       [0, 0, 1],\n",
       "       [0, 0, 1]])"
      ]
     },
     "execution_count": 5,
     "metadata": {},
     "output_type": "execute_result"
    }
   ],
   "source": [
    "# Parameters\n",
    "residues_to_plot = [0, 1, 2]  # Residues to plot\n",
    "num_residues = len(residues_to_plot)\n",
    "\n",
    "save_dir = 'omega_data'\n",
    "all_omega = Data.load(f\"{save_dir}/all_omega.pkl\").array_list  # This is an (742, x, 3) array\n",
    "# Convert each array in the list to float\n",
    "all_omega = [arr.astype(float) for arr in all_omega]\n",
    "\n",
    "# Apply omega2cistrans() to each array in all_omega\n",
    "all_cistrans = [omega2cistrans(arr) for arr in all_omega]\n",
    "\n",
    "# Print shape of the first converted array for verification\n",
    "print(f\"First array shape after conversion: {all_cistrans[0].shape}\")\n",
    "all_cistrans[0]"
   ]
  },
  {
   "cell_type": "markdown",
   "id": "55e1a4d8-0044-4969-9ab8-b0ca15c77880",
   "metadata": {},
   "source": [
    "#### compile transition probabilities as a function of lag time (in steps)"
   ]
  },
  {
   "cell_type": "code",
   "execution_count": 6,
   "id": "24ffd950",
   "metadata": {},
   "outputs": [],
   "source": [
    "def compute_transition_matrix(subset, num_states, lagtime, pseudocount=0.25):\n",
    "    \"\"\"Compute transition matrix for a given subset of trajectories.\"\"\"\n",
    "    \n",
    "    C = np.zeros((num_states, num_states))  # Initialize count matrix\n",
    "\n",
    "    for traj in subset:\n",
    "        for t in range(len(traj) - lagtime):\n",
    "            from_state = traj[t]\n",
    "            to_state = traj[t + lagtime]\n",
    "\n",
    "            # Skip NaN transitions\n",
    "            if np.isnan(from_state) or np.isnan(to_state):\n",
    "                continue\n",
    "\n",
    "            # Convert states to integers for indexing\n",
    "            from_state = int(from_state)\n",
    "            to_state = int(to_state)\n",
    "\n",
    "            # Count transitions\n",
    "            C[from_state, to_state] += 1.0\n",
    "\n",
    "    # Add pseudocounts to avoid zero entries\n",
    "    C += pseudocount\n",
    "\n",
    "    # Normalize rows to get probabilities\n",
    "    row_sums = C.sum(axis=1, keepdims=True)\n",
    "    row_sums[row_sums == 0] = 1  # Prevent division by zero\n",
    "    T = C / row_sums        \n",
    "    \n",
    "    return T"
   ]
  },
  {
   "cell_type": "code",
   "execution_count": 7,
   "id": "c2ee9afb",
   "metadata": {},
   "outputs": [],
   "source": [
    "def compute_stationary_distribution(T, lagtime):\n",
    "    \"\"\"Compute the stationary distribution of a transition matrix T.\n",
    "    \n",
    "    INPUT:\n",
    "    T - Transition matrix where T_ij is the probability of transitioning i -> j.\n",
    "    \n",
    "    RETURN:\n",
    "    pi - The stationary distribution (1D NumPy array).\n",
    "    t2 - The implied timescale (in units of steps).\n",
    "    \"\"\"\n",
    "    try:\n",
    "        # Compute the implied timescale\n",
    "        evals = np.linalg.eigvals(T.transpose() )  # will be something like [0.99754545 1.        ]\n",
    "        evals_sorted = np.sort(evals)      # ascending order\n",
    "        mu2 = evals_sorted[-2]            # second-largest eigenvalue\n",
    "        #print('mu2', mu2, 'evals', evals, 'evals_sorted', evals_sorted, 'T', T)\n",
    "        \n",
    "        t2 = -1.0*lagtime/np.log(mu2.real)  # the implied timescale relation\n",
    "        #print('evals_sorted', evals_sorted, 'mu2', mu2, 't2', t2)\n",
    "\n",
    "        # Compute the stationary state distribution \n",
    "        n_states = T.shape[0]\n",
    "        A = np.transpose(T) - np.eye(n_states)  # (T' - I)\n",
    "        A = np.vstack([A, np.ones(n_states)])  # Append normalization row\n",
    "        b = np.zeros(n_states + 1)\n",
    "        b[-1] = 1  # Ensure probability sums to 1\n",
    "        \n",
    "        # Solve for stationary distribution using least squares\n",
    "        pi, *_ = np.linalg.lstsq(A, b, rcond=None)\n",
    "        \n",
    "        # Ensure non-negative values and normalize\n",
    "        pi = np.maximum(pi, 0)  # Prevent small negative values due to numerical error\n",
    "        pi /= np.sum(pi)  # Normalize to sum to 1\n",
    "\n",
    "    except Exception as e:\n",
    "        print(f\"Error computing stationary distribution: {e}\")\n",
    "        t2 = np.nan\n",
    "        pi = None\n",
    "\n",
    "    return pi, t2"
   ]
  },
  {
   "cell_type": "code",
   "execution_count": 8,
   "id": "2af791bd",
   "metadata": {},
   "outputs": [],
   "source": [
    "def get_transition_matrices(n_trajs, num_states, lagtime, cluster_size=10, pseudocount=0.25, n_jobs=-1):\n",
    "    \"\"\"\n",
    "    Compute transition matrices for subsets of trajectories in parallel.\n",
    "    \"\"\"\n",
    "\n",
    "    num_trajs = n_trajs.shape[0]  # Number of trajectories\n",
    "    \n",
    "    # Shuffle indices\n",
    "    indices = np.arange(num_trajs)\n",
    "    np.random.shuffle(indices)\n",
    "\n",
    "    # Split into clusters\n",
    "    clusters = [indices[i:i + cluster_size] for i in range(0, num_trajs, cluster_size)]\n",
    "\n",
    "    # Merge last small cluster with the second-last if needed\n",
    "    if len(clusters) > 1 and len(clusters[-1]) < cluster_size:\n",
    "        clusters[-2] = np.concatenate([clusters[-2], clusters[-1]])  \n",
    "        clusters.pop()\n",
    "\n",
    "    # Parallel computation of transition matrices\n",
    "    def process_cluster(cluster):\n",
    "        subset = n_trajs[cluster]\n",
    "        # Call your existing compute_transition_matrix\n",
    "        T = compute_transition_matrix(subset, num_states, lagtime, pseudocount)\n",
    "        return T\n",
    "\n",
    "    # Use joblib's Parallel for parallelism. \n",
    "    # `delayed(process_cluster)(c)` calls `process_cluster(c)` lazily.\n",
    "    # `n_jobs=-1` uses all available CPUs unless specified otherwise.\n",
    "    transition_matrices = Parallel(n_jobs=n_jobs)(\n",
    "        delayed(process_cluster)(cluster) \n",
    "        for cluster in tqdm(clusters, desc=\"Computing transition matrices\", unit=\"cluster\")\n",
    "    )\n",
    "\n",
    "    return transition_matrices\n"
   ]
  },
  {
   "cell_type": "code",
   "execution_count": 9,
   "id": "11552073",
   "metadata": {},
   "outputs": [],
   "source": [
    "def process_trajectory(n_trajs, lagtime, num_states, cluster_size):\n",
    "\n",
    "    # Calculate the transition matrix \n",
    "    transition_matrices = get_transition_matrices(n_trajs, num_states, lagtime, cluster_size, pseudocount=0.25, n_jobs=-1)\n",
    "    transition_matrices = np.array(transition_matrices)\n",
    "    print('transition_matrices.shape', transition_matrices.shape)\n",
    "    print(transition_matrices)\n",
    "\n",
    "    # Calculate the stationary population \n",
    "    pi_all = []\n",
    "    t2_all = []\n",
    "\n",
    "    \n",
    "    for T in transition_matrices:\n",
    "        pi, t2 = compute_stationary_distribution(T, lagtime)\n",
    "        pi_all.append(pi)\n",
    "        t2_all.append(t2)\n",
    "\n",
    "    pi_all = np.array(pi_all)\n",
    "    t2_all = np.array(t2_all)\n",
    "\n",
    "\n",
    "    t2_mean = np.exp(np.nanmean([np.log(t2) for t2 in t2_all]))  # Geometric mean\n",
    "    t2_std = np.exp(np.sqrt(np.nanvar([np.log(t2) for t2 in t2_all])))  # Geometric std dev\n",
    "    pi_means = np.nanmean(pi_all, axis=0)  # Mean across trajectories\n",
    "    pi_std = np.nanstd(pi_all, axis=0)  # Standard deviation\n",
    "    \n",
    "    print('t2_mean, pi_means:', t2_mean, pi_means)\n",
    "    return pi_means, pi_std, t2_mean, t2_std, transition_matrices\n",
    "\n",
    "#print(pi_all)"
   ]
  },
  {
   "cell_type": "markdown",
   "id": "cbbeb6bc-a5d8-4d6e-8abc-cf944fe8462e",
   "metadata": {},
   "source": [
    "## Let's make an implied timescale plot for each omega angle"
   ]
  },
  {
   "cell_type": "code",
   "execution_count": 10,
   "id": "fd8bcc17",
   "metadata": {},
   "outputs": [
    {
     "name": "stdout",
     "output_type": "stream",
     "text": [
      "maxlength 37002\n"
     ]
    },
    {
     "data": {
      "text/plain": [
       "array([[[ 1.,  1.,  1.],\n",
       "        [ 0.,  1.,  1.],\n",
       "        [ 0.,  1.,  1.],\n",
       "        ...,\n",
       "        [nan, nan, nan],\n",
       "        [nan, nan, nan],\n",
       "        [nan, nan, nan]],\n",
       "\n",
       "       [[ 1.,  1.,  1.],\n",
       "        [ 1.,  1.,  1.],\n",
       "        [ 1.,  1.,  1.],\n",
       "        ...,\n",
       "        [nan, nan, nan],\n",
       "        [nan, nan, nan],\n",
       "        [nan, nan, nan]],\n",
       "\n",
       "       [[ 1.,  1.,  1.],\n",
       "        [ 1.,  1.,  1.],\n",
       "        [ 1.,  1.,  1.],\n",
       "        ...,\n",
       "        [nan, nan, nan],\n",
       "        [nan, nan, nan],\n",
       "        [nan, nan, nan]],\n",
       "\n",
       "       ...,\n",
       "\n",
       "       [[ 1.,  1.,  1.],\n",
       "        [ 0.,  1.,  1.],\n",
       "        [ 0.,  1.,  1.],\n",
       "        ...,\n",
       "        [nan, nan, nan],\n",
       "        [nan, nan, nan],\n",
       "        [nan, nan, nan]],\n",
       "\n",
       "       [[ 1.,  1.,  1.],\n",
       "        [ 0.,  1.,  1.],\n",
       "        [ 0.,  1.,  1.],\n",
       "        ...,\n",
       "        [nan, nan, nan],\n",
       "        [nan, nan, nan],\n",
       "        [nan, nan, nan]],\n",
       "\n",
       "       [[ 1.,  1.,  1.],\n",
       "        [ 1.,  1.,  1.],\n",
       "        [ 1.,  1.,  1.],\n",
       "        ...,\n",
       "        [nan, nan, nan],\n",
       "        [nan, nan, nan],\n",
       "        [nan, nan, nan]]])"
      ]
     },
     "execution_count": 10,
     "metadata": {},
     "output_type": "execute_result"
    }
   ],
   "source": [
    "## Create a nah filling array where to make sure all the traj are the same length\n",
    "\n",
    "ntraj = len(all_omega)\n",
    "\n",
    "# Find the longest traj\n",
    "maxlength = max( [ len(all_cistrans[i]) for i in range(ntraj) ])\n",
    "print('maxlength', maxlength)\n",
    "\n",
    "# Make an array to store all the trajectories\n",
    "traj = np.nan * np.ones( (ntraj, maxlength, 3) )\n",
    "\n",
    "for i in range(ntraj):\n",
    "    n = len(all_cistrans[i])\n",
    "    traj[i, 0:n, :] = all_cistrans[i]\n",
    "\n",
    "traj\n"
   ]
  },
  {
   "cell_type": "code",
   "execution_count": 11,
   "id": "f7ec858f",
   "metadata": {},
   "outputs": [
    {
     "name": "stdout",
     "output_type": "stream",
     "text": [
      "(37002, 3)\n"
     ]
    },
    {
     "data": {
      "image/png": "[encoded data removed]",
      "text/plain": [
       "<Figure size 640x480 with 1 Axes>"
      ]
     },
     "metadata": {},
     "output_type": "display_data"
    },
    {
     "name": "stdout",
     "output_type": "stream",
     "text": [
      "(37002, 3)\n"
     ]
    },
    {
     "data": {
      "image/png": "[encoded data removed]",
      "text/plain": [
       "<Figure size 640x480 with 1 Axes>"
      ]
     },
     "metadata": {},
     "output_type": "display_data"
    },
    {
     "name": "stdout",
     "output_type": "stream",
     "text": [
      "(37002, 3)\n"
     ]
    },
    {
     "data": {
      "image/png": "[encoded data removed]",
      "text/plain": [
       "<Figure size 640x480 with 1 Axes>"
      ]
     },
     "metadata": {},
     "output_type": "display_data"
    },
    {
     "name": "stdout",
     "output_type": "stream",
     "text": [
      "(37002, 3)\n"
     ]
    },
    {
     "data": {
      "image/png": "[encoded data removed]",
      "text/plain": [
       "<Figure size 640x480 with 1 Axes>"
      ]
     },
     "metadata": {},
     "output_type": "display_data"
    },
    {
     "name": "stdout",
     "output_type": "stream",
     "text": [
      "(37002, 3)\n"
     ]
    },
    {
     "data": {
      "image/png": "[encoded data removed]",
      "text/plain": [
       "<Figure size 640x480 with 1 Axes>"
      ]
     },
     "metadata": {},
     "output_type": "display_data"
    }
   ],
   "source": [
    "step_to_plot = np.arange(5000, 5500)  # Corrected step range\n",
    "dt_in_ns = 0.01 # 10 ps to 1 ns\n",
    "\n",
    "for i in range(40, 45):\n",
    "    print(traj[i].shape)\n",
    "    #plt.plot(step_to_plot * dt_in_ns, traj[i][step_to_plot, 0], label='res0')  # X component\n",
    "    #plt.plot(step_to_plot * dt_in_ns, traj[i][step_to_plot, 1], label='res1')  # Y component\n",
    "    plt.plot(step_to_plot * dt_in_ns, traj[i][step_to_plot, 2], label='res2')  # Z component\n",
    "    \n",
    "    plt.xlabel(\"ns\")\n",
    "    plt.ylabel(\"Trans/Cis\")\n",
    "    plt.legend(loc='best')  # Automatically places the legend in the best position\n",
    "    plt.title(f\"Trajectory {i}\")\n",
    "    plt.show()\n"
   ]
  },
  {
   "cell_type": "markdown",
   "id": "c454cbde",
   "metadata": {},
   "source": [
    "### Calculating the implied timescale and stationary population"
   ]
  },
  {
   "cell_type": "code",
   "execution_count": 12,
   "id": "23105d79",
   "metadata": {},
   "outputs": [
    {
     "name": "stdout",
     "output_type": "stream",
     "text": [
      "Processing residue 0 with lagtimes = [5, 10, 25, 50, 100, 600, 1100, 1600, 2100, 2600, 3100, 3600, 4100, 4600, 5100, 5600, 6100, 6600, 7100, 7600, 8100, 8600, 9100, 9600, 10100, 10600, 11100, 11600, 12100, 12600, 13100, 13600, 14100, 14600, 15100, 15600, 16100, 16600, 17100, 17600, 18100, 18600, 19100, 19600, 20100, 20600, 21100, 21600, 22100, 22600, 23100, 23600, 24100, 24600, 25100, 25600, 26100, 26600, 27100, 27600, 28100, 28600, 29100, 29600, 30100, 30600, 31100, 31600, 32100, 32600, 33100, 33600, 34100, 34600, 35100, 35600, 36100, 36600, 37100, 37600, 38100, 38600, 39100, 39600]\n"
     ]
    },
    {
     "name": "stderr",
     "output_type": "stream",
     "text": [
      "Computing transition matrices: 100%|██████████| 8/8 [00:00<00:00, 28.68cluster/s]\n",
      "Processing Lag Times:   1%|          | 1/84 [00:05<07:30,  5.43s/lag]"
     ]
    },
    {
     "name": "stdout",
     "output_type": "stream",
     "text": [
      "transition_matrices.shape (8, 2, 2)\n",
      "[[[0.67312337 0.32687663]\n",
      "  [0.13465162 0.86534838]]\n",
      "\n",
      " [[0.68344211 0.31655789]\n",
      "  [0.13516879 0.86483121]]\n",
      "\n",
      " [[0.67572596 0.32427404]\n",
      "  [0.13800327 0.86199673]]\n",
      "\n",
      " [[0.67721071 0.32278929]\n",
      "  [0.13335485 0.86664515]]\n",
      "\n",
      " [[0.67177604 0.32822396]\n",
      "  [0.13743926 0.86256074]]\n",
      "\n",
      " [[0.68574182 0.31425818]\n",
      "  [0.13198164 0.86801836]]\n",
      "\n",
      " [[0.68599051 0.31400949]\n",
      "  [0.13343751 0.86656249]]\n",
      "\n",
      " [[0.66864723 0.33135277]\n",
      "  [0.13492517 0.86507483]]]\n",
      "t2_mean, pi_means: 8.184834180820078 [0.2950447 0.7049553]\n"
     ]
    },
    {
     "name": "stderr",
     "output_type": "stream",
     "text": [
      "Computing transition matrices: 100%|██████████| 8/8 [00:00<00:00, 3100.86cluster/s]\n",
      "Processing Lag Times:   2%|▏         | 2/84 [00:07<04:26,  3.25s/lag]"
     ]
    },
    {
     "name": "stdout",
     "output_type": "stream",
     "text": [
      "transition_matrices.shape (8, 2, 2)\n",
      "[[[0.5769467  0.4230533 ]\n",
      "  [0.17792477 0.82207523]]\n",
      "\n",
      " [[0.56987062 0.43012938]\n",
      "  [0.17473199 0.82526801]]\n",
      "\n",
      " [[0.56930352 0.43069648]\n",
      "  [0.18138188 0.81861812]]\n",
      "\n",
      " [[0.56266042 0.43733958]\n",
      "  [0.18179621 0.81820379]]\n",
      "\n",
      " [[0.59225418 0.40774582]\n",
      "  [0.17207834 0.82792166]]\n",
      "\n",
      " [[0.56829109 0.43170891]\n",
      "  [0.17524516 0.82475484]]\n",
      "\n",
      " [[0.57013632 0.42986368]\n",
      "  [0.17926641 0.82073359]]\n",
      "\n",
      " [[0.58672881 0.41327119]\n",
      "  [0.18012671 0.81987329]]]\n",
      "t2_mean, pi_means: 10.816358220637015 [0.29478259 0.70521741]\n"
     ]
    },
    {
     "name": "stderr",
     "output_type": "stream",
     "text": [
      "Computing transition matrices: 100%|██████████| 8/8 [00:00<00:00, 3210.34cluster/s]\n",
      "Processing Lag Times:   4%|▎         | 3/84 [00:08<03:29,  2.58s/lag]"
     ]
    },
    {
     "name": "stdout",
     "output_type": "stream",
     "text": [
      "transition_matrices.shape (8, 2, 2)\n",
      "[[[0.42517168 0.57482832]\n",
      "  [0.24737038 0.75262962]]\n",
      "\n",
      " [[0.41230257 0.58769743]\n",
      "  [0.2376916  0.7623084 ]]\n",
      "\n",
      " [[0.41345111 0.58654889]\n",
      "  [0.24339891 0.75660109]]\n",
      "\n",
      " [[0.4120394  0.5879606 ]\n",
      "  [0.23496329 0.76503671]]\n",
      "\n",
      " [[0.42258872 0.57741128]\n",
      "  [0.23594798 0.76405202]]\n",
      "\n",
      " [[0.41307798 0.58692202]\n",
      "  [0.24510744 0.75489256]]\n",
      "\n",
      " [[0.43698845 0.56301155]\n",
      "  [0.24688978 0.75311022]]\n",
      "\n",
      " [[0.42291822 0.57708178]\n",
      "  [0.24819947 0.75180053]]]\n",
      "t2_mean, pi_means: 14.45216173397917 [0.2947372 0.7052628]\n"
     ]
    },
    {
     "name": "stderr",
     "output_type": "stream",
     "text": [
      "Computing transition matrices: 100%|██████████| 8/8 [00:00<00:00, 2541.23cluster/s]\n",
      "Processing Lag Times:   5%|▍         | 4/84 [00:10<03:03,  2.29s/lag]"
     ]
    },
    {
     "name": "stdout",
     "output_type": "stream",
     "text": [
      "transition_matrices.shape (8, 2, 2)\n",
      "[[[0.31906515 0.68093485]\n",
      "  [0.27548064 0.72451936]]\n",
      "\n",
      " [[0.34585641 0.65414359]\n",
      "  [0.27996904 0.72003096]]\n",
      "\n",
      " [[0.35961075 0.64038925]\n",
      "  [0.28074514 0.71925486]]\n",
      "\n",
      " [[0.3278742  0.6721258 ]\n",
      "  [0.2767471  0.7232529 ]]\n",
      "\n",
      " [[0.32991222 0.67008778]\n",
      "  [0.28096349 0.71903651]]\n",
      "\n",
      " [[0.33249367 0.66750633]\n",
      "  [0.27398859 0.72601141]]\n",
      "\n",
      " [[0.33190171 0.66809829]\n",
      "  [0.27194745 0.72805255]]\n",
      "\n",
      " [[0.34702308 0.65297692]\n",
      "  [0.27878702 0.72121298]]]\n",
      "t2_mean, pi_means: 17.641154547304545 [0.29489069 0.70510931]\n"
     ]
    },
    {
     "name": "stderr",
     "output_type": "stream",
     "text": [
      "Computing transition matrices: 100%|██████████| 8/8 [00:00<00:00, 1290.70cluster/s]\n",
      "/var/folders/2g/yfyfpy7d3n3fwl_23ytkftvm0000gn/T/ipykernel_33063/606344109.py:18: RuntimeWarning: invalid value encountered in log\n",
      "  t2 = -1.0*lagtime/np.log(mu2.real)  # the implied timescale relation\n",
      "Processing Lag Times:   6%|▌         | 5/84 [00:12<02:48,  2.14s/lag]"
     ]
    },
    {
     "name": "stdout",
     "output_type": "stream",
     "text": [
      "transition_matrices.shape (8, 2, 2)\n",
      "[[[0.29681684 0.70318316]\n",
      "  [0.29756894 0.70243106]]\n",
      "\n",
      " [[0.31424165 0.68575835]\n",
      "  [0.28937951 0.71062049]]\n",
      "\n",
      " [[0.30938498 0.69061502]\n",
      "  [0.28488577 0.71511423]]\n",
      "\n",
      " [[0.30264686 0.69735314]\n",
      "  [0.29076211 0.70923789]]\n",
      "\n",
      " [[0.31229431 0.68770569]\n",
      "  [0.29617405 0.70382595]]\n",
      "\n",
      " [[0.2959229  0.7040771 ]\n",
      "  [0.28209263 0.71790737]]\n",
      "\n",
      " [[0.32117875 0.67882125]\n",
      "  [0.30029237 0.69970763]]\n",
      "\n",
      " [[0.29696243 0.70303757]\n",
      "  [0.28469365 0.71530635]]]\n",
      "t2_mean, pi_means: 24.613501043144616 [0.29530077 0.70469923]\n"
     ]
    },
    {
     "name": "stderr",
     "output_type": "stream",
     "text": [
      "Computing transition matrices: 100%|██████████| 8/8 [00:00<00:00, 4439.59cluster/s]\n",
      "Processing Lag Times:   7%|▋         | 6/84 [00:14<02:43,  2.10s/lag]"
     ]
    },
    {
     "name": "stdout",
     "output_type": "stream",
     "text": [
      "transition_matrices.shape (8, 2, 2)\n",
      "[[[0.29889394 0.70110606]\n",
      "  [0.28465926 0.71534074]]\n",
      "\n",
      " [[0.31277131 0.68722869]\n",
      "  [0.29956486 0.70043514]]\n",
      "\n",
      " [[0.28995588 0.71004412]\n",
      "  [0.28941681 0.71058319]]\n",
      "\n",
      " [[0.30099135 0.69900865]\n",
      "  [0.30200797 0.69799203]]\n",
      "\n",
      " [[0.2851242  0.7148758 ]\n",
      "  [0.28358027 0.71641973]]\n",
      "\n",
      " [[0.28491623 0.71508377]\n",
      "  [0.3006147  0.6993853 ]]\n",
      "\n",
      " [[0.31021319 0.68978681]\n",
      "  [0.30018915 0.69981085]]\n",
      "\n",
      " [[0.29492716 0.70507284]\n",
      "  [0.2942934  0.7057066 ]]]\n",
      "t2_mean, pi_means: 107.41181775792641 [0.29516424 0.70483576]\n"
     ]
    },
    {
     "name": "stderr",
     "output_type": "stream",
     "text": [
      "Computing transition matrices: 100%|██████████| 8/8 [00:00<00:00, 2029.30cluster/s]\n",
      "Processing Lag Times:   8%|▊         | 7/84 [00:16<02:38,  2.06s/lag]"
     ]
    },
    {
     "name": "stdout",
     "output_type": "stream",
     "text": [
      "transition_matrices.shape (8, 2, 2)\n",
      "[[[0.29996752 0.70003248]\n",
      "  [0.30126709 0.69873291]]\n",
      "\n",
      " [[0.28882382 0.71117618]\n",
      "  [0.28517246 0.71482754]]\n",
      "\n",
      " [[0.29096808 0.70903192]\n",
      "  [0.30018923 0.69981077]]\n",
      "\n",
      " [[0.29784567 0.70215433]\n",
      "  [0.28756963 0.71243037]]\n",
      "\n",
      " [[0.30596514 0.69403486]\n",
      "  [0.30298661 0.69701339]]\n",
      "\n",
      " [[0.29658892 0.70341108]\n",
      "  [0.29248373 0.70751627]]\n",
      "\n",
      " [[0.28868107 0.71131893]\n",
      "  [0.29266704 0.70733296]]\n",
      "\n",
      " [[0.29200887 0.70799113]\n",
      "  [0.29624528 0.70375472]]]\n",
      "t2_mean, pi_means: 205.47976774366268 [0.29489716 0.70510284]\n"
     ]
    },
    {
     "name": "stderr",
     "output_type": "stream",
     "text": [
      "Computing transition matrices: 100%|██████████| 8/8 [00:00<00:00, 2614.50cluster/s]\n",
      "Processing Lag Times:  10%|▉         | 8/84 [00:18<02:32,  2.01s/lag]"
     ]
    },
    {
     "name": "stdout",
     "output_type": "stream",
     "text": [
      "transition_matrices.shape (8, 2, 2)\n",
      "[[[0.29778252 0.70221748]\n",
      "  [0.30331797 0.69668203]]\n",
      "\n",
      " [[0.31308754 0.68691246]\n",
      "  [0.29999063 0.70000937]]\n",
      "\n",
      " [[0.29037561 0.70962439]\n",
      "  [0.29128152 0.70871848]]\n",
      "\n",
      " [[0.29811632 0.70188368]\n",
      "  [0.29203768 0.70796232]]\n",
      "\n",
      " [[0.28060856 0.71939144]\n",
      "  [0.28685184 0.71314816]]\n",
      "\n",
      " [[0.29350898 0.70649102]\n",
      "  [0.29423816 0.70576184]]\n",
      "\n",
      " [[0.29558986 0.70441014]\n",
      "  [0.30221876 0.69778124]]\n",
      "\n",
      " [[0.2867285  0.7132715 ]\n",
      "  [0.29945863 0.70054137]]]\n",
      "t2_mean, pi_means: 340.1690252038312 [0.29568504 0.70431496]\n"
     ]
    },
    {
     "name": "stderr",
     "output_type": "stream",
     "text": [
      "Computing transition matrices: 100%|██████████| 8/8 [00:00<00:00, 1715.20cluster/s]\n",
      "Processing Lag Times:  11%|█         | 9/84 [00:20<02:26,  1.96s/lag]"
     ]
    },
    {
     "name": "stdout",
     "output_type": "stream",
     "text": [
      "transition_matrices.shape (8, 2, 2)\n",
      "[[[0.29813582 0.70186418]\n",
      "  [0.31237899 0.68762101]]\n",
      "\n",
      " [[0.28399803 0.71600197]\n",
      "  [0.28983035 0.71016965]]\n",
      "\n",
      " [[0.29768433 0.70231567]\n",
      "  [0.29822565 0.70177435]]\n",
      "\n",
      " [[0.293571   0.706429  ]\n",
      "  [0.29042177 0.70957823]]\n",
      "\n",
      " [[0.3010981  0.6989019 ]\n",
      "  [0.29192515 0.70807485]]\n",
      "\n",
      " [[0.29535397 0.70464603]\n",
      "  [0.28707017 0.71292983]]\n",
      "\n",
      " [[0.29473549 0.70526451]\n",
      "  [0.30189558 0.69810442]]\n",
      "\n",
      " [[0.29968236 0.70031764]\n",
      "  [0.29247078 0.70752922]]]\n",
      "t2_mean, pi_means: 417.6910799079344 [0.29549825 0.70450175]\n"
     ]
    },
    {
     "name": "stderr",
     "output_type": "stream",
     "text": [
      "Computing transition matrices: 100%|██████████| 8/8 [00:00<00:00, 2487.54cluster/s]\n",
      "Processing Lag Times:  12%|█▏        | 10/84 [00:22<02:20,  1.90s/lag]"
     ]
    },
    {
     "name": "stdout",
     "output_type": "stream",
     "text": [
      "transition_matrices.shape (8, 2, 2)\n",
      "[[[0.298032   0.701968  ]\n",
      "  [0.29164347 0.70835653]]\n",
      "\n",
      " [[0.28489579 0.71510421]\n",
      "  [0.29030116 0.70969884]]\n",
      "\n",
      " [[0.29846034 0.70153966]\n",
      "  [0.29652597 0.70347403]]\n",
      "\n",
      " [[0.28677703 0.71322297]\n",
      "  [0.29729722 0.70270278]]\n",
      "\n",
      " [[0.30159787 0.69840213]\n",
      "  [0.29887899 0.70112101]]\n",
      "\n",
      " [[0.28950174 0.71049826]\n",
      "  [0.28864007 0.71135993]]\n",
      "\n",
      " [[0.29249546 0.70750454]\n",
      "  [0.30051639 0.69948361]]\n",
      "\n",
      " [[0.30209957 0.69790043]\n",
      "  [0.2969774  0.7030226 ]]]\n",
      "t2_mean, pi_means: 443.2814001907144 [0.29484703 0.70515297]\n"
     ]
    },
    {
     "name": "stderr",
     "output_type": "stream",
     "text": [
      "Computing transition matrices: 100%|██████████| 8/8 [00:00<00:00, 2369.16cluster/s]\n",
      "Processing Lag Times:  13%|█▎        | 11/84 [00:24<02:28,  2.03s/lag]"
     ]
    },
    {
     "name": "stdout",
     "output_type": "stream",
     "text": [
      "transition_matrices.shape (8, 2, 2)\n",
      "[[[0.30696033 0.69303967]\n",
      "  [0.30888135 0.69111865]]\n",
      "\n",
      " [[0.29566073 0.70433927]\n",
      "  [0.29378263 0.70621737]]\n",
      "\n",
      " [[0.30254888 0.69745112]\n",
      "  [0.29259137 0.70740863]]\n",
      "\n",
      " [[0.29166179 0.70833821]\n",
      "  [0.28737786 0.71262214]]\n",
      "\n",
      " [[0.30310383 0.69689617]\n",
      "  [0.28358178 0.71641822]]\n",
      "\n",
      " [[0.30014516 0.69985484]\n",
      "  [0.30782448 0.69217552]]\n",
      "\n",
      " [[0.297588   0.702412  ]\n",
      "  [0.28838955 0.71161045]]\n",
      "\n",
      " [[0.30154784 0.69845216]\n",
      "  [0.29557955 0.70442045]]]\n",
      "t2_mean, pi_means: 624.8364385969594 [0.2962376 0.7037624]\n"
     ]
    },
    {
     "name": "stderr",
     "output_type": "stream",
     "text": [
      "Computing transition matrices: 100%|██████████| 8/8 [00:00<00:00, 4219.62cluster/s]\n",
      "Processing Lag Times:  14%|█▍        | 12/84 [00:26<02:26,  2.04s/lag]"
     ]
    },
    {
     "name": "stdout",
     "output_type": "stream",
     "text": [
      "transition_matrices.shape (8, 2, 2)\n",
      "[[[0.29103806 0.70896194]\n",
      "  [0.28887305 0.71112695]]\n",
      "\n",
      " [[0.30022667 0.69977333]\n",
      "  [0.29806308 0.70193692]]\n",
      "\n",
      " [[0.29894174 0.70105826]\n",
      "  [0.28645309 0.71354691]]\n",
      "\n",
      " [[0.30227885 0.69772115]\n",
      "  [0.30328822 0.69671178]]\n",
      "\n",
      " [[0.27534854 0.72465146]\n",
      "  [0.29177475 0.70822525]]\n",
      "\n",
      " [[0.29808423 0.70191577]\n",
      "  [0.29941124 0.70058876]]\n",
      "\n",
      " [[0.29410937 0.70589063]\n",
      "  [0.28623777 0.71376223]]\n",
      "\n",
      " [[0.31687976 0.68312024]\n",
      "  [0.30109837 0.69890163]]]\n",
      "t2_mean, pi_means: 711.4891642748324 [0.29522204 0.70477796]\n"
     ]
    },
    {
     "name": "stderr",
     "output_type": "stream",
     "text": [
      "Computing transition matrices: 100%|██████████| 8/8 [00:00<00:00, 2469.23cluster/s]\n",
      "Processing Lag Times:  15%|█▌        | 13/84 [00:28<02:18,  1.95s/lag]"
     ]
    },
    {
     "name": "stdout",
     "output_type": "stream",
     "text": [
      "transition_matrices.shape (8, 2, 2)\n",
      "[[[0.28971968 0.71028032]\n",
      "  [0.30088667 0.69911333]]\n",
      "\n",
      " [[0.29085185 0.70914815]\n",
      "  [0.2982901  0.7017099 ]]\n",
      "\n",
      " [[0.30639107 0.69360893]\n",
      "  [0.30054288 0.69945712]]\n",
      "\n",
      " [[0.28684219 0.71315781]\n",
      "  [0.29067795 0.70932205]]\n",
      "\n",
      " [[0.29627219 0.70372781]\n",
      "  [0.30354332 0.69645668]]\n",
      "\n",
      " [[0.29538592 0.70461408]\n",
      "  [0.29475229 0.70524771]]\n",
      "\n",
      " [[0.29200957 0.70799043]\n",
      "  [0.29429942 0.70570058]]\n",
      "\n",
      " [[0.29061468 0.70938532]\n",
      "  [0.29815904 0.70184096]]]\n",
      "t2_mean, pi_means: 666.3084592084574 [0.2964218 0.7035782]\n"
     ]
    },
    {
     "name": "stderr",
     "output_type": "stream",
     "text": [
      "Computing transition matrices: 100%|██████████| 8/8 [00:00<00:00, 2078.45cluster/s]\n",
      "Processing Lag Times:  17%|█▋        | 14/84 [00:30<02:12,  1.89s/lag]"
     ]
    },
    {
     "name": "stdout",
     "output_type": "stream",
     "text": [
      "transition_matrices.shape (8, 2, 2)\n",
      "[[[0.32206567 0.67793433]\n",
      "  [0.29892741 0.70107259]]\n",
      "\n",
      " [[0.31049716 0.68950284]\n",
      "  [0.29994163 0.70005837]]\n",
      "\n",
      " [[0.27458433 0.72541567]\n",
      "  [0.28492089 0.71507911]]\n",
      "\n",
      " [[0.29588705 0.70411295]\n",
      "  [0.28941401 0.71058599]]\n",
      "\n",
      " [[0.29668575 0.70331425]\n",
      "  [0.30249623 0.69750377]]\n",
      "\n",
      " [[0.29298929 0.70701071]\n",
      "  [0.29308852 0.70691148]]\n",
      "\n",
      " [[0.29152529 0.70847471]\n",
      "  [0.29504775 0.70495225]]\n",
      "\n",
      " [[0.30788627 0.69211373]\n",
      "  [0.30060466 0.69939534]]]\n",
      "t2_mean, pi_means: 1012.9699571860276 [0.29663559 0.70336441]\n"
     ]
    },
    {
     "name": "stderr",
     "output_type": "stream",
     "text": [
      "Computing transition matrices: 100%|██████████| 8/8 [00:00<00:00, 1707.60cluster/s]\n",
      "Processing Lag Times:  18%|█▊        | 15/84 [00:32<02:14,  1.95s/lag]"
     ]
    },
    {
     "name": "stdout",
     "output_type": "stream",
     "text": [
      "transition_matrices.shape (8, 2, 2)\n",
      "[[[0.29889091 0.70110909]\n",
      "  [0.30105269 0.69894731]]\n",
      "\n",
      " [[0.28985069 0.71014931]\n",
      "  [0.29621241 0.70378759]]\n",
      "\n",
      " [[0.29328751 0.70671249]\n",
      "  [0.29372939 0.70627061]]\n",
      "\n",
      " [[0.30200847 0.69799153]\n",
      "  [0.29584993 0.70415007]]\n",
      "\n",
      " [[0.31382239 0.68617761]\n",
      "  [0.30136832 0.69863168]]\n",
      "\n",
      " [[0.29723304 0.70276696]\n",
      "  [0.29467531 0.70532469]]\n",
      "\n",
      " [[0.29687269 0.70312731]\n",
      "  [0.29990254 0.70009746]]\n",
      "\n",
      " [[0.29408133 0.70591867]\n",
      "  [0.29249994 0.70750006]]]\n",
      "t2_mean, pi_means: 941.9615396909015 [0.29732322 0.70267678]\n"
     ]
    },
    {
     "name": "stderr",
     "output_type": "stream",
     "text": [
      "Computing transition matrices: 100%|██████████| 8/8 [00:00<00:00, 3889.02cluster/s]\n",
      "Processing Lag Times:  19%|█▉        | 16/84 [00:33<02:04,  1.83s/lag]"
     ]
    },
    {
     "name": "stdout",
     "output_type": "stream",
     "text": [
      "transition_matrices.shape (8, 2, 2)\n",
      "[[[0.29380525 0.70619475]\n",
      "  [0.29324594 0.70675406]]\n",
      "\n",
      " [[0.28009978 0.71990022]\n",
      "  [0.28814551 0.71185449]]\n",
      "\n",
      " [[0.28506039 0.71493961]\n",
      "  [0.28611592 0.71388408]]\n",
      "\n",
      " [[0.29020531 0.70979469]\n",
      "  [0.29439717 0.70560283]]\n",
      "\n",
      " [[0.27783439 0.72216561]\n",
      "  [0.28901279 0.71098721]]\n",
      "\n",
      " [[0.30336888 0.69663112]\n",
      "  [0.30294519 0.69705481]]\n",
      "\n",
      " [[0.30109379 0.69890621]\n",
      "  [0.30914371 0.69085629]]\n",
      "\n",
      " [[0.30798522 0.69201478]\n",
      "  [0.31108811 0.68891189]]]\n",
      "t2_mean, pi_means: 734.2927203651075 [0.29549131 0.70450869]\n"
     ]
    },
    {
     "name": "stderr",
     "output_type": "stream",
     "text": [
      "Computing transition matrices: 100%|██████████| 8/8 [00:00<00:00, 2665.59cluster/s]\n",
      "Processing Lag Times:  20%|██        | 17/84 [00:35<01:59,  1.79s/lag]"
     ]
    },
    {
     "name": "stdout",
     "output_type": "stream",
     "text": [
      "transition_matrices.shape (8, 2, 2)\n",
      "[[[0.30698538 0.69301462]\n",
      "  [0.30290741 0.69709259]]\n",
      "\n",
      " [[0.27475949 0.72524051]\n",
      "  [0.29191423 0.70808577]]\n",
      "\n",
      " [[0.31747306 0.68252694]\n",
      "  [0.29667422 0.70332578]]\n",
      "\n",
      " [[0.28210701 0.71789299]\n",
      "  [0.29441349 0.70558651]]\n",
      "\n",
      " [[0.28347479 0.71652521]\n",
      "  [0.29416916 0.70583084]]\n",
      "\n",
      " [[0.31818693 0.68181307]\n",
      "  [0.3018201  0.6981799 ]]\n",
      "\n",
      " [[0.31092843 0.68907157]\n",
      "  [0.3022901  0.6977099 ]]\n",
      "\n",
      " [[0.29272217 0.70727783]\n",
      "  [0.28420637 0.71579363]]]\n",
      "t2_mean, pi_means: 1335.9833218736699 [0.29680237 0.70319763]\n"
     ]
    },
    {
     "name": "stderr",
     "output_type": "stream",
     "text": [
      "Computing transition matrices: 100%|██████████| 8/8 [00:00<00:00, 2719.82cluster/s]\n",
      "Processing Lag Times:  21%|██▏       | 18/84 [00:37<01:57,  1.78s/lag]"
     ]
    },
    {
     "name": "stdout",
     "output_type": "stream",
     "text": [
      "transition_matrices.shape (8, 2, 2)\n",
      "[[[0.30786542 0.69213458]\n",
      "  [0.3036595  0.6963405 ]]\n",
      "\n",
      " [[0.30504012 0.69495988]\n",
      "  [0.31069547 0.68930453]]\n",
      "\n",
      " [[0.2880914  0.7119086 ]\n",
      "  [0.29389286 0.70610714]]\n",
      "\n",
      " [[0.29354527 0.70645473]\n",
      "  [0.29203038 0.70796962]]\n",
      "\n",
      " [[0.28952563 0.71047437]\n",
      "  [0.29487222 0.70512778]]\n",
      "\n",
      " [[0.28153522 0.71846478]\n",
      "  [0.30263905 0.69736095]]\n",
      "\n",
      " [[0.29648199 0.70351801]\n",
      "  [0.29141073 0.70858927]]\n",
      "\n",
      " [[0.29878564 0.70121436]\n",
      "  [0.29362967 0.70637033]]]\n",
      "t2_mean, pi_means: 1176.9913185327314 [0.29703716 0.70296284]\n"
     ]
    },
    {
     "name": "stderr",
     "output_type": "stream",
     "text": [
      "Computing transition matrices: 100%|██████████| 8/8 [00:00<00:00, 2163.27cluster/s]\n",
      "Processing Lag Times:  23%|██▎       | 19/84 [00:38<01:52,  1.74s/lag]"
     ]
    },
    {
     "name": "stdout",
     "output_type": "stream",
     "text": [
      "transition_matrices.shape (8, 2, 2)\n",
      "[[[0.29748038 0.70251962]\n",
      "  [0.30523647 0.69476353]]\n",
      "\n",
      " [[0.29066861 0.70933139]\n",
      "  [0.29485135 0.70514865]]\n",
      "\n",
      " [[0.28738356 0.71261644]\n",
      "  [0.29234046 0.70765954]]\n",
      "\n",
      " [[0.28418886 0.71581114]\n",
      "  [0.29238613 0.70761387]]\n",
      "\n",
      " [[0.30105203 0.69894797]\n",
      "  [0.29692095 0.70307905]]\n",
      "\n",
      " [[0.29135691 0.70864309]\n",
      "  [0.30526959 0.69473041]]\n",
      "\n",
      " [[0.30744438 0.69255562]\n",
      "  [0.29946852 0.70053148]]\n",
      "\n",
      " [[0.30644777 0.69355223]\n",
      "  [0.28834165 0.71165835]]]\n",
      "t2_mean, pi_means: 1498.4078167962307 [0.29652326 0.70347674]\n"
     ]
    },
    {
     "name": "stderr",
     "output_type": "stream",
     "text": [
      "Computing transition matrices: 100%|██████████| 8/8 [00:00<00:00, 1707.26cluster/s]\n",
      "Processing Lag Times:  24%|██▍       | 20/84 [00:40<01:48,  1.70s/lag]"
     ]
    },
    {
     "name": "stdout",
     "output_type": "stream",
     "text": [
      "transition_matrices.shape (8, 2, 2)\n",
      "[[[0.28970234 0.71029766]\n",
      "  [0.29165284 0.70834716]]\n",
      "\n",
      " [[0.30402236 0.69597764]\n",
      "  [0.30160208 0.69839792]]\n",
      "\n",
      " [[0.28606492 0.71393508]\n",
      "  [0.28579037 0.71420963]]\n",
      "\n",
      " [[0.3077946  0.6922054 ]\n",
      "  [0.30700058 0.69299942]]\n",
      "\n",
      " [[0.29373146 0.70626854]\n",
      "  [0.30217055 0.69782945]]\n",
      "\n",
      " [[0.27134827 0.72865173]\n",
      "  [0.27232022 0.72767978]]\n",
      "\n",
      " [[0.30244845 0.69755155]\n",
      "  [0.29945836 0.70054164]]\n",
      "\n",
      " [[0.29706924 0.70293076]\n",
      "  [0.29706069 0.70293931]]]\n",
      "t2_mean, pi_means: 1011.7283944969776 [0.2944562 0.7055438]\n"
     ]
    },
    {
     "name": "stderr",
     "output_type": "stream",
     "text": [
      "Computing transition matrices: 100%|██████████| 8/8 [00:00<00:00, 2413.81cluster/s]\n",
      "Processing Lag Times:  25%|██▌       | 21/84 [00:41<01:44,  1.66s/lag]"
     ]
    },
    {
     "name": "stdout",
     "output_type": "stream",
     "text": [
      "transition_matrices.shape (8, 2, 2)\n",
      "[[[0.28208127 0.71791873]\n",
      "  [0.28738059 0.71261941]]\n",
      "\n",
      " [[0.29371728 0.70628272]\n",
      "  [0.28399639 0.71600361]]\n",
      "\n",
      " [[0.30080048 0.69919952]\n",
      "  [0.29923822 0.70076178]]\n",
      "\n",
      " [[0.28450456 0.71549544]\n",
      "  [0.27830012 0.72169988]]\n",
      "\n",
      " [[0.30610493 0.69389507]\n",
      "  [0.29579334 0.70420666]]\n",
      "\n",
      " [[0.33369527 0.66630473]\n",
      "  [0.30475939 0.69524061]]\n",
      "\n",
      " [[0.28442042 0.71557958]\n",
      "  [0.29354744 0.70645256]]\n",
      "\n",
      " [[0.30500118 0.69499882]\n",
      "  [0.2967601  0.7032399 ]]]\n",
      "t2_mean, pi_means: 1696.8069931078626 [0.29440354 0.70559646]\n"
     ]
    },
    {
     "name": "stderr",
     "output_type": "stream",
     "text": [
      "Computing transition matrices: 100%|██████████| 8/8 [00:00<00:00, 3490.53cluster/s]\n",
      "Processing Lag Times:  26%|██▌       | 22/84 [00:43<01:40,  1.62s/lag]"
     ]
    },
    {
     "name": "stdout",
     "output_type": "stream",
     "text": [
      "transition_matrices.shape (8, 2, 2)\n",
      "[[[0.31841362 0.68158638]\n",
      "  [0.29425517 0.70574483]]\n",
      "\n",
      " [[0.29984217 0.70015783]\n",
      "  [0.29726555 0.70273445]]\n",
      "\n",
      " [[0.2959521  0.7040479 ]\n",
      "  [0.29137819 0.70862181]]\n",
      "\n",
      " [[0.31589474 0.68410526]\n",
      "  [0.31174531 0.68825469]]\n",
      "\n",
      " [[0.29737509 0.70262491]\n",
      "  [0.29237349 0.70762651]]\n",
      "\n",
      " [[0.27708388 0.72291612]\n",
      "  [0.29504682 0.70495318]]\n",
      "\n",
      " [[0.29311851 0.70688149]\n",
      "  [0.29185049 0.70814951]]\n",
      "\n",
      " [[0.29222026 0.70777974]\n",
      "  [0.29596927 0.70403073]]]\n",
      "t2_mean, pi_means: 1610.6142452591187 [0.29701289 0.70298711]\n"
     ]
    },
    {
     "name": "stderr",
     "output_type": "stream",
     "text": [
      "Computing transition matrices: 100%|██████████| 8/8 [00:00<00:00, 1701.46cluster/s]\n",
      "Processing Lag Times:  27%|██▋       | 23/84 [00:44<01:36,  1.57s/lag]"
     ]
    },
    {
     "name": "stdout",
     "output_type": "stream",
     "text": [
      "transition_matrices.shape (8, 2, 2)\n",
      "[[[0.29923567 0.70076433]\n",
      "  [0.31298477 0.68701523]]\n",
      "\n",
      " [[0.31436136 0.68563864]\n",
      "  [0.29755518 0.70244482]]\n",
      "\n",
      " [[0.30600727 0.69399273]\n",
      "  [0.28783353 0.71216647]]\n",
      "\n",
      " [[0.29816114 0.70183886]\n",
      "  [0.30232723 0.69767277]]\n",
      "\n",
      " [[0.29541302 0.70458698]\n",
      "  [0.31125655 0.68874345]]\n",
      "\n",
      " [[0.29184113 0.70815887]\n",
      "  [0.29858991 0.70141009]]\n",
      "\n",
      " [[0.30109467 0.69890533]\n",
      "  [0.28131485 0.71868515]]\n",
      "\n",
      " [[0.26749683 0.73250317]\n",
      "  [0.28672562 0.71327438]]]\n",
      "t2_mean, pi_means: 2272.11809217266 [0.29711421 0.70288579]\n"
     ]
    },
    {
     "name": "stderr",
     "output_type": "stream",
     "text": [
      "Computing transition matrices: 100%|██████████| 8/8 [00:00<00:00, 2494.75cluster/s]\n",
      "Processing Lag Times:  29%|██▊       | 24/84 [00:46<01:33,  1.55s/lag]"
     ]
    },
    {
     "name": "stdout",
     "output_type": "stream",
     "text": [
      "transition_matrices.shape (8, 2, 2)\n",
      "[[[0.30027125 0.69972875]\n",
      "  [0.3025402  0.6974598 ]]\n",
      "\n",
      " [[0.30685555 0.69314445]\n",
      "  [0.31219915 0.68780085]]\n",
      "\n",
      " [[0.29299819 0.70700181]\n",
      "  [0.29588509 0.70411491]]\n",
      "\n",
      " [[0.3021469  0.6978531 ]\n",
      "  [0.30484174 0.69515826]]\n",
      "\n",
      " [[0.31189189 0.68810811]\n",
      "  [0.28694008 0.71305992]]\n",
      "\n",
      " [[0.29435946 0.70564054]\n",
      "  [0.28360131 0.71639869]]\n",
      "\n",
      " [[0.30605723 0.69394277]\n",
      "  [0.29329002 0.70670998]]\n",
      "\n",
      " [[0.31581819 0.68418181]\n",
      "  [0.2972114  0.7027886 ]]]\n",
      "t2_mean, pi_means: 2325.0735837970146 [0.29904359 0.70095641]\n"
     ]
    },
    {
     "name": "stderr",
     "output_type": "stream",
     "text": [
      "Computing transition matrices: 100%|██████████| 8/8 [00:00<00:00, 2069.22cluster/s]\n",
      "Processing Lag Times:  30%|██▉       | 25/84 [00:47<01:28,  1.50s/lag]"
     ]
    },
    {
     "name": "stdout",
     "output_type": "stream",
     "text": [
      "transition_matrices.shape (8, 2, 2)\n",
      "[[[0.28014269 0.71985731]\n",
      "  [0.28484899 0.71515101]]\n",
      "\n",
      " [[0.2951361  0.7048639 ]\n",
      "  [0.29461984 0.70538016]]\n",
      "\n",
      " [[0.2936816  0.7063184 ]\n",
      "  [0.31150349 0.68849651]]\n",
      "\n",
      " [[0.30609215 0.69390785]\n",
      "  [0.30604633 0.69395367]]\n",
      "\n",
      " [[0.31108712 0.68891288]\n",
      "  [0.30509537 0.69490463]]\n",
      "\n",
      " [[0.29928014 0.70071986]\n",
      "  [0.29134348 0.70865652]]\n",
      "\n",
      " [[0.28917921 0.71082079]\n",
      "  [0.28573856 0.71426144]]\n",
      "\n",
      " [[0.29912369 0.70087631]\n",
      "  [0.30235933 0.69764067]]]\n",
      "t2_mean, pi_means: 1581.7332219079933 [0.29738927 0.70261073]\n"
     ]
    },
    {
     "name": "stderr",
     "output_type": "stream",
     "text": [
      "Computing transition matrices: 100%|██████████| 8/8 [00:00<00:00, 2422.88cluster/s]\n",
      "Processing Lag Times:  31%|███       | 26/84 [00:49<01:24,  1.45s/lag]"
     ]
    },
    {
     "name": "stdout",
     "output_type": "stream",
     "text": [
      "transition_matrices.shape (8, 2, 2)\n",
      "[[[0.27783442 0.72216558]\n",
      "  [0.29251642 0.70748358]]\n",
      "\n",
      " [[0.30272372 0.69727628]\n",
      "  [0.31116237 0.68883763]]\n",
      "\n",
      " [[0.30313712 0.69686288]\n",
      "  [0.30078014 0.69921986]]\n",
      "\n",
      " [[0.30965917 0.69034083]\n",
      "  [0.28510132 0.71489868]]\n",
      "\n",
      " [[0.28169087 0.71830913]\n",
      "  [0.30102837 0.69897163]]\n",
      "\n",
      " [[0.30751024 0.69248976]\n",
      "  [0.31061253 0.68938747]]\n",
      "\n",
      " [[0.31044098 0.68955902]\n",
      "  [0.313721   0.686279  ]]\n",
      "\n",
      " [[0.29371707 0.70628293]\n",
      "  [0.29182982 0.70817018]]]\n",
      "t2_mean, pi_means: 2038.1288103711454 [0.30008234 0.69991766]\n"
     ]
    },
    {
     "name": "stderr",
     "output_type": "stream",
     "text": [
      "Computing transition matrices: 100%|██████████| 8/8 [00:00<00:00, 2368.16cluster/s]\n",
      "Processing Lag Times:  32%|███▏      | 27/84 [00:50<01:18,  1.38s/lag]"
     ]
    },
    {
     "name": "stdout",
     "output_type": "stream",
     "text": [
      "transition_matrices.shape (8, 2, 2)\n",
      "[[[0.31284574 0.68715426]\n",
      "  [0.31106929 0.68893071]]\n",
      "\n",
      " [[0.3117386  0.6882614 ]\n",
      "  [0.30567618 0.69432382]]\n",
      "\n",
      " [[0.28846505 0.71153495]\n",
      "  [0.29541186 0.70458814]]\n",
      "\n",
      " [[0.30778406 0.69221594]\n",
      "  [0.30683364 0.69316636]]\n",
      "\n",
      " [[0.28481123 0.71518877]\n",
      "  [0.29663632 0.70336368]]\n",
      "\n",
      " [[0.30244805 0.69755195]\n",
      "  [0.28949258 0.71050742]]\n",
      "\n",
      " [[0.29213268 0.70786732]\n",
      "  [0.3036075  0.6963925 ]]\n",
      "\n",
      " [[0.29660675 0.70339325]\n",
      "  [0.28675088 0.71324912]]]\n",
      "t2_mean, pi_means: 2062.24054090752 [0.29948664 0.70051336]\n"
     ]
    },
    {
     "name": "stderr",
     "output_type": "stream",
     "text": [
      "Computing transition matrices: 100%|██████████| 8/8 [00:00<00:00, 4996.94cluster/s]\n",
      "Processing Lag Times:  33%|███▎      | 28/84 [00:51<01:16,  1.36s/lag]"
     ]
    },
    {
     "name": "stdout",
     "output_type": "stream",
     "text": [
      "transition_matrices.shape (8, 2, 2)\n",
      "[[[0.2895925  0.7104075 ]\n",
      "  [0.29407671 0.70592329]]\n",
      "\n",
      " [[0.31203865 0.68796135]\n",
      "  [0.31708644 0.68291356]]\n",
      "\n",
      " [[0.31734595 0.68265405]\n",
      "  [0.28870804 0.71129196]]\n",
      "\n",
      " [[0.28429504 0.71570496]\n",
      "  [0.30093111 0.69906889]]\n",
      "\n",
      " [[0.29612723 0.70387277]\n",
      "  [0.28871828 0.71128172]]\n",
      "\n",
      " [[0.29318193 0.70681807]\n",
      "  [0.29910805 0.70089195]]\n",
      "\n",
      " [[0.31697537 0.68302463]\n",
      "  [0.31664645 0.68335355]]\n",
      "\n",
      " [[0.2989881  0.7010119 ]\n",
      "  [0.28494546 0.71505454]]]\n",
      "t2_mean, pi_means: 2347.531530179128 [0.29943226 0.70056774]\n"
     ]
    },
    {
     "name": "stderr",
     "output_type": "stream",
     "text": [
      "Computing transition matrices: 100%|██████████| 8/8 [00:00<00:00, 1137.28cluster/s]\n",
      "Processing Lag Times:  35%|███▍      | 29/84 [00:52<01:12,  1.33s/lag]"
     ]
    },
    {
     "name": "stdout",
     "output_type": "stream",
     "text": [
      "transition_matrices.shape (8, 2, 2)\n",
      "[[[0.30682284 0.69317716]\n",
      "  [0.29116079 0.70883921]]\n",
      "\n",
      " [[0.27855797 0.72144203]\n",
      "  [0.31269006 0.68730994]]\n",
      "\n",
      " [[0.29053452 0.70946548]\n",
      "  [0.28514234 0.71485766]]\n",
      "\n",
      " [[0.28368669 0.71631331]\n",
      "  [0.30780575 0.69219425]]\n",
      "\n",
      " [[0.31697455 0.68302545]\n",
      "  [0.29756194 0.70243806]]\n",
      "\n",
      " [[0.29143532 0.70856468]\n",
      "  [0.2901941  0.7098059 ]]\n",
      "\n",
      " [[0.3034719  0.6965281 ]\n",
      "  [0.30583137 0.69416863]]\n",
      "\n",
      " [[0.25823182 0.74176818]\n",
      "  [0.30623994 0.69376006]]]\n",
      "t2_mean, pi_means: 2473.540644114085 [0.29709229 0.70290771]\n"
     ]
    },
    {
     "name": "stderr",
     "output_type": "stream",
     "text": [
      "Computing transition matrices: 100%|██████████| 8/8 [00:00<00:00, 4186.45cluster/s]\n",
      "Processing Lag Times:  36%|███▌      | 30/84 [00:54<01:10,  1.30s/lag]"
     ]
    },
    {
     "name": "stdout",
     "output_type": "stream",
     "text": [
      "transition_matrices.shape (8, 2, 2)\n",
      "[[[0.33747023 0.66252977]\n",
      "  [0.31405309 0.68594691]]\n",
      "\n",
      " [[0.3216875  0.6783125 ]\n",
      "  [0.30589815 0.69410185]]\n",
      "\n",
      " [[0.29940852 0.70059148]\n",
      "  [0.28896744 0.71103256]]\n",
      "\n",
      " [[0.29350073 0.70649927]\n",
      "  [0.2865685  0.7134315 ]]\n",
      "\n",
      " [[0.26640728 0.73359272]\n",
      "  [0.28592208 0.71407792]]\n",
      "\n",
      " [[0.26796574 0.73203426]\n",
      "  [0.30811678 0.69188322]]\n",
      "\n",
      " [[0.29093082 0.70906918]\n",
      "  [0.31058669 0.68941331]]\n",
      "\n",
      " [[0.28304917 0.71695083]\n",
      "  [0.29423001 0.70576999]]]\n",
      "t2_mean, pi_means: 2906.401054240147 [0.29815288 0.70184712]\n"
     ]
    },
    {
     "name": "stderr",
     "output_type": "stream",
     "text": [
      "Computing transition matrices: 100%|██████████| 8/8 [00:00<00:00, 2273.34cluster/s]\n",
      "Processing Lag Times:  37%|███▋      | 31/84 [00:55<01:08,  1.30s/lag]"
     ]
    },
    {
     "name": "stdout",
     "output_type": "stream",
     "text": [
      "transition_matrices.shape (8, 2, 2)\n",
      "[[[0.29596198 0.70403802]\n",
      "  [0.30307668 0.69692332]]\n",
      "\n",
      " [[0.27485707 0.72514293]\n",
      "  [0.29578933 0.70421067]]\n",
      "\n",
      " [[0.29757189 0.70242811]\n",
      "  [0.29159179 0.70840821]]\n",
      "\n",
      " [[0.28059501 0.71940499]\n",
      "  [0.29272995 0.70727005]]\n",
      "\n",
      " [[0.30450728 0.69549272]\n",
      "  [0.32533468 0.67466532]]\n",
      "\n",
      " [[0.29958305 0.70041695]\n",
      "  [0.31355677 0.68644323]]\n",
      "\n",
      " [[0.30194137 0.69805863]\n",
      "  [0.31214236 0.68785764]]\n",
      "\n",
      " [[0.27746222 0.72253778]\n",
      "  [0.28872007 0.71127993]]]\n",
      "t2_mean, pi_means: 2558.934683004319 [0.29945694 0.70054306]\n"
     ]
    },
    {
     "name": "stderr",
     "output_type": "stream",
     "text": [
      "Computing transition matrices: 100%|██████████| 8/8 [00:00<00:00, 3501.45cluster/s]\n",
      "Processing Lag Times:  38%|███▊      | 32/84 [00:56<01:05,  1.26s/lag]"
     ]
    },
    {
     "name": "stdout",
     "output_type": "stream",
     "text": [
      "transition_matrices.shape (8, 2, 2)\n",
      "[[[0.32233414 0.67766586]\n",
      "  [0.29127605 0.70872395]]\n",
      "\n",
      " [[0.28849274 0.71150726]\n",
      "  [0.29635715 0.70364285]]\n",
      "\n",
      " [[0.30737294 0.69262706]\n",
      "  [0.3045424  0.6954576 ]]\n",
      "\n",
      " [[0.31798184 0.68201816]\n",
      "  [0.3031479  0.6968521 ]]\n",
      "\n",
      " [[0.29541774 0.70458226]\n",
      "  [0.29101488 0.70898512]]\n",
      "\n",
      " [[0.27452747 0.72547253]\n",
      "  [0.27883247 0.72116753]]\n",
      "\n",
      " [[0.29634239 0.70365761]\n",
      "  [0.3136986  0.6863014 ]]\n",
      "\n",
      " [[0.29038632 0.70961368]\n",
      "  [0.29831168 0.70168832]]]\n",
      "t2_mean, pi_means: 2928.0989791354127 [0.29775356 0.70224644]\n"
     ]
    },
    {
     "name": "stderr",
     "output_type": "stream",
     "text": [
      "Computing transition matrices: 100%|██████████| 8/8 [00:00<00:00, 2819.70cluster/s]\n",
      "Processing Lag Times:  39%|███▉      | 33/84 [00:57<01:03,  1.24s/lag]"
     ]
    },
    {
     "name": "stdout",
     "output_type": "stream",
     "text": [
      "transition_matrices.shape (8, 2, 2)\n",
      "[[[0.303119   0.696881  ]\n",
      "  [0.28954925 0.71045075]]\n",
      "\n",
      " [[0.29555621 0.70444379]\n",
      "  [0.30516588 0.69483412]]\n",
      "\n",
      " [[0.30006773 0.69993227]\n",
      "  [0.29480443 0.70519557]]\n",
      "\n",
      " [[0.27372693 0.72627307]\n",
      "  [0.30089829 0.69910171]]\n",
      "\n",
      " [[0.3043156  0.6956844 ]\n",
      "  [0.31048235 0.68951765]]\n",
      "\n",
      " [[0.29169453 0.70830547]\n",
      "  [0.30565583 0.69434417]]\n",
      "\n",
      " [[0.3056853  0.6943147 ]\n",
      "  [0.290447   0.709553  ]]\n",
      "\n",
      " [[0.29570919 0.70429081]\n",
      "  [0.30106419 0.69893581]]]\n",
      "t2_mean, pi_means: 3096.708734489232 [0.29869067 0.70130933]\n"
     ]
    },
    {
     "name": "stderr",
     "output_type": "stream",
     "text": [
      "Computing transition matrices: 100%|██████████| 8/8 [00:00<00:00, 2346.14cluster/s]\n",
      "/var/folders/2g/yfyfpy7d3n3fwl_23ytkftvm0000gn/T/ipykernel_33063/1634129454.py:23: RuntimeWarning: Mean of empty slice\n",
      "  t2_mean = np.exp(np.nanmean([np.log(t2) for t2 in t2_all]))  # Geometric mean\n",
      "/var/folders/2g/yfyfpy7d3n3fwl_23ytkftvm0000gn/T/ipykernel_33063/1634129454.py:24: RuntimeWarning: Degrees of freedom <= 0 for slice.\n",
      "  t2_std = np.exp(np.sqrt(np.nanvar([np.log(t2) for t2 in t2_all])))  # Geometric std dev\n",
      "Processing Lag Times:  40%|████      | 34/84 [00:59<01:01,  1.22s/lag]"
     ]
    },
    {
     "name": "stdout",
     "output_type": "stream",
     "text": [
      "transition_matrices.shape (8, 2, 2)\n",
      "[[[0.28096419 0.71903581]\n",
      "  [0.29547292 0.70452708]]\n",
      "\n",
      " [[0.30126799 0.69873201]\n",
      "  [0.30371132 0.69628868]]\n",
      "\n",
      " [[0.3093856  0.6906144 ]\n",
      "  [0.31862401 0.68137599]]\n",
      "\n",
      " [[0.30023856 0.69976144]\n",
      "  [0.31201227 0.68798773]]\n",
      "\n",
      " [[0.26294996 0.73705004]\n",
      "  [0.28055703 0.71944297]]\n",
      "\n",
      " [[0.28023606 0.71976394]\n",
      "  [0.29886876 0.70113124]]\n",
      "\n",
      " [[0.30985159 0.69014841]\n",
      "  [0.32039211 0.67960789]]\n",
      "\n",
      " [[0.29676893 0.70323107]\n",
      "  [0.2999322  0.7000678 ]]]\n",
      "t2_mean, pi_means: nan [0.30043106 0.69956894]\n"
     ]
    },
    {
     "name": "stderr",
     "output_type": "stream",
     "text": [
      "Computing transition matrices: 100%|██████████| 8/8 [00:00<00:00, 2829.93cluster/s]\n",
      "Processing Lag Times:  42%|████▏     | 35/84 [01:00<00:59,  1.20s/lag]"
     ]
    },
    {
     "name": "stdout",
     "output_type": "stream",
     "text": [
      "transition_matrices.shape (8, 2, 2)\n",
      "[[[0.28052814 0.71947186]\n",
      "  [0.28187756 0.71812244]]\n",
      "\n",
      " [[0.29193668 0.70806332]\n",
      "  [0.28678634 0.71321366]]\n",
      "\n",
      " [[0.280256   0.719744  ]\n",
      "  [0.31277976 0.68722024]]\n",
      "\n",
      " [[0.32103225 0.67896775]\n",
      "  [0.33142231 0.66857769]]\n",
      "\n",
      " [[0.29483669 0.70516331]\n",
      "  [0.28044632 0.71955368]]\n",
      "\n",
      " [[0.32121972 0.67878028]\n",
      "  [0.30870352 0.69129648]]\n",
      "\n",
      " [[0.29237857 0.70762143]\n",
      "  [0.2984112  0.7015888 ]]\n",
      "\n",
      " [[0.31136962 0.68863038]\n",
      "  [0.29250673 0.70749327]]]\n",
      "t2_mean, pi_means: 3400.7879154619154 [0.29907747 0.70092253]\n"
     ]
    },
    {
     "name": "stderr",
     "output_type": "stream",
     "text": [
      "Computing transition matrices: 100%|██████████| 8/8 [00:00<00:00, 2840.95cluster/s]\n",
      "Processing Lag Times:  43%|████▎     | 36/84 [01:01<00:57,  1.20s/lag]"
     ]
    },
    {
     "name": "stdout",
     "output_type": "stream",
     "text": [
      "transition_matrices.shape (8, 2, 2)\n",
      "[[[0.28322711 0.71677289]\n",
      "  [0.30072265 0.69927735]]\n",
      "\n",
      " [[0.29910895 0.70089105]\n",
      "  [0.31423683 0.68576317]]\n",
      "\n",
      " [[0.2736511  0.7263489 ]\n",
      "  [0.28290132 0.71709868]]\n",
      "\n",
      " [[0.31313809 0.68686191]\n",
      "  [0.30963255 0.69036745]]\n",
      "\n",
      " [[0.30029439 0.69970561]\n",
      "  [0.30445243 0.69554757]]\n",
      "\n",
      " [[0.30809031 0.69190969]\n",
      "  [0.32015041 0.67984959]]\n",
      "\n",
      " [[0.27423639 0.72576361]\n",
      "  [0.29871812 0.70128188]]\n",
      "\n",
      " [[0.33099765 0.66900235]\n",
      "  [0.29408414 0.70591586]]]\n",
      "t2_mean, pi_means: 3612.155538507887 [0.30157484 0.69842516]\n"
     ]
    },
    {
     "name": "stderr",
     "output_type": "stream",
     "text": [
      "Computing transition matrices: 100%|██████████| 8/8 [00:00<00:00, 2609.41cluster/s]\n",
      "Processing Lag Times:  44%|████▍     | 37/84 [01:02<00:55,  1.18s/lag]"
     ]
    },
    {
     "name": "stdout",
     "output_type": "stream",
     "text": [
      "transition_matrices.shape (8, 2, 2)\n",
      "[[[0.30241046 0.69758954]\n",
      "  [0.30185321 0.69814679]]\n",
      "\n",
      " [[0.27792442 0.72207558]\n",
      "  [0.33528736 0.66471264]]\n",
      "\n",
      " [[0.32253708 0.67746292]\n",
      "  [0.2975834  0.7024166 ]]\n",
      "\n",
      " [[0.3432304  0.6567696 ]\n",
      "  [0.32761201 0.67238799]]\n",
      "\n",
      " [[0.29183369 0.70816631]\n",
      "  [0.28533698 0.71466302]]\n",
      "\n",
      " [[0.29142376 0.70857624]\n",
      "  [0.30242318 0.69757682]]\n",
      "\n",
      " [[0.33137951 0.66862049]\n",
      "  [0.3022219  0.6977781 ]]\n",
      "\n",
      " [[0.28506723 0.71493277]\n",
      "  [0.28828222 0.71171778]]]\n",
      "t2_mean, pi_means: 3504.0471781855094 [0.30526515 0.69473485]\n"
     ]
    },
    {
     "name": "stderr",
     "output_type": "stream",
     "text": [
      "Computing transition matrices: 100%|██████████| 8/8 [00:00<00:00, 1804.68cluster/s]\n",
      "Processing Lag Times:  45%|████▌     | 38/84 [01:03<00:52,  1.15s/lag]"
     ]
    },
    {
     "name": "stdout",
     "output_type": "stream",
     "text": [
      "transition_matrices.shape (8, 2, 2)\n",
      "[[[0.29618145 0.70381855]\n",
      "  [0.31132179 0.68867821]]\n",
      "\n",
      " [[0.30970767 0.69029233]\n",
      "  [0.30908338 0.69091662]]\n",
      "\n",
      " [[0.28656524 0.71343476]\n",
      "  [0.31119758 0.68880242]]\n",
      "\n",
      " [[0.28443732 0.71556268]\n",
      "  [0.29628847 0.70371153]]\n",
      "\n",
      " [[0.31115689 0.68884311]\n",
      "  [0.31001193 0.68998807]]\n",
      "\n",
      " [[0.27102267 0.72897733]\n",
      "  [0.29383834 0.70616166]]\n",
      "\n",
      " [[0.29078329 0.70921671]\n",
      "  [0.28878258 0.71121742]]\n",
      "\n",
      " [[0.31270667 0.68729333]\n",
      "  [0.31690271 0.68309729]]]\n",
      "t2_mean, pi_means: 2451.3227960132513 [0.30188509 0.69811491]\n"
     ]
    },
    {
     "name": "stderr",
     "output_type": "stream",
     "text": [
      "Computing transition matrices: 100%|██████████| 8/8 [00:00<00:00, 2467.06cluster/s]\n",
      "Processing Lag Times:  46%|████▋     | 39/84 [01:04<00:50,  1.12s/lag]"
     ]
    },
    {
     "name": "stdout",
     "output_type": "stream",
     "text": [
      "transition_matrices.shape (8, 2, 2)\n",
      "[[[0.29797103 0.70202897]\n",
      "  [0.30076294 0.69923706]]\n",
      "\n",
      " [[0.33463429 0.66536571]\n",
      "  [0.29463857 0.70536143]]\n",
      "\n",
      " [[0.26517313 0.73482687]\n",
      "  [0.30458319 0.69541681]]\n",
      "\n",
      " [[0.28366861 0.71633139]\n",
      "  [0.29711295 0.70288705]]\n",
      "\n",
      " [[0.33172087 0.66827913]\n",
      "  [0.30635536 0.69364464]]\n",
      "\n",
      " [[0.27119312 0.72880688]\n",
      "  [0.29260074 0.70739926]]\n",
      "\n",
      " [[0.32513785 0.67486215]\n",
      "  [0.30654876 0.69345124]]\n",
      "\n",
      " [[0.29165282 0.70834718]\n",
      "  [0.27799075 0.72200925]]]\n",
      "t2_mean, pi_means: 4533.830921879098 [0.29850482 0.70149518]\n"
     ]
    },
    {
     "name": "stderr",
     "output_type": "stream",
     "text": [
      "Computing transition matrices: 100%|██████████| 8/8 [00:00<00:00, 3344.74cluster/s]\n",
      "Processing Lag Times:  48%|████▊     | 40/84 [01:05<00:48,  1.11s/lag]"
     ]
    },
    {
     "name": "stdout",
     "output_type": "stream",
     "text": [
      "transition_matrices.shape (8, 2, 2)\n",
      "[[[0.27708217 0.72291783]\n",
      "  [0.28730893 0.71269107]]\n",
      "\n",
      " [[0.28441437 0.71558563]\n",
      "  [0.29246302 0.70753698]]\n",
      "\n",
      " [[0.41593956 0.58406044]\n",
      "  [0.36153032 0.63846968]]\n",
      "\n",
      " [[0.28211829 0.71788171]\n",
      "  [0.27597712 0.72402288]]\n",
      "\n",
      " [[0.28605123 0.71394877]\n",
      "  [0.31095626 0.68904374]]\n",
      "\n",
      " [[0.31481219 0.68518781]\n",
      "  [0.32401049 0.67598951]]\n",
      "\n",
      " [[0.30090158 0.69909842]\n",
      "  [0.33228218 0.66771782]]\n",
      "\n",
      " [[0.27013448 0.72986552]\n",
      "  [0.28271483 0.71728517]]]\n",
      "t2_mean, pi_means: 4570.87493080138 [0.30754693 0.69245307]\n"
     ]
    },
    {
     "name": "stderr",
     "output_type": "stream",
     "text": [
      "Computing transition matrices: 100%|██████████| 8/8 [00:00<00:00, 1891.78cluster/s]\n",
      "Processing Lag Times:  49%|████▉     | 41/84 [01:06<00:45,  1.06s/lag]"
     ]
    },
    {
     "name": "stdout",
     "output_type": "stream",
     "text": [
      "transition_matrices.shape (8, 2, 2)\n",
      "[[[0.28778673 0.71221327]\n",
      "  [0.29458373 0.70541627]]\n",
      "\n",
      " [[0.29997998 0.70002002]\n",
      "  [0.28972201 0.71027799]]\n",
      "\n",
      " [[0.31072005 0.68927995]\n",
      "  [0.3042669  0.6957331 ]]\n",
      "\n",
      " [[0.5        0.5       ]\n",
      "  [0.5        0.5       ]]\n",
      "\n",
      " [[0.2805583  0.7194417 ]\n",
      "  [0.28549877 0.71450123]]\n",
      "\n",
      " [[0.27147595 0.72852405]\n",
      "  [0.27531123 0.72468877]]\n",
      "\n",
      " [[0.32459699 0.67540301]\n",
      "  [0.2997143  0.7002857 ]]\n",
      "\n",
      " [[0.27064105 0.72935895]\n",
      "  [0.29614545 0.70385455]]]\n",
      "t2_mean, pi_means: 2419.1106600197477 [0.3182575 0.6817425]\n"
     ]
    },
    {
     "name": "stderr",
     "output_type": "stream",
     "text": [
      "Computing transition matrices: 100%|██████████| 8/8 [00:00<00:00, 3519.45cluster/s]\n",
      "Processing Lag Times:  50%|█████     | 42/84 [01:07<00:42,  1.01s/lag]"
     ]
    },
    {
     "name": "stdout",
     "output_type": "stream",
     "text": [
      "transition_matrices.shape (8, 2, 2)\n",
      "[[[0.28809598 0.71190402]\n",
      "  [0.30238879 0.69761121]]\n",
      "\n",
      " [[0.30500064 0.69499936]\n",
      "  [0.32718262 0.67281738]]\n",
      "\n",
      " [[0.26819053 0.73180947]\n",
      "  [0.27955724 0.72044276]]\n",
      "\n",
      " [[0.30240269 0.69759731]\n",
      "  [0.27420678 0.72579322]]\n",
      "\n",
      " [[0.29213379 0.70786621]\n",
      "  [0.31063409 0.68936591]]\n",
      "\n",
      " [[0.28684566 0.71315434]\n",
      "  [0.28656044 0.71343956]]\n",
      "\n",
      " [[0.30355434 0.69644566]\n",
      "  [0.29457386 0.70542614]]\n",
      "\n",
      " [[0.28220592 0.71779408]\n",
      "  [0.30440689 0.69559311]]]\n",
      "t2_mean, pi_means: 3605.6836309006953 [0.2954326 0.7045674]\n"
     ]
    },
    {
     "name": "stderr",
     "output_type": "stream",
     "text": [
      "Computing transition matrices: 100%|██████████| 8/8 [00:00<00:00, 3978.00cluster/s]\n",
      "Processing Lag Times:  51%|█████     | 43/84 [01:08<00:42,  1.02s/lag]"
     ]
    },
    {
     "name": "stdout",
     "output_type": "stream",
     "text": [
      "transition_matrices.shape (8, 2, 2)\n",
      "[[[0.29265879 0.70734121]\n",
      "  [0.29821252 0.70178748]]\n",
      "\n",
      " [[0.343291   0.656709  ]\n",
      "  [0.31265503 0.68734497]]\n",
      "\n",
      " [[0.34478577 0.65521423]\n",
      "  [0.2900428  0.7099572 ]]\n",
      "\n",
      " [[0.31360868 0.68639132]\n",
      "  [0.33538258 0.66461742]]\n",
      "\n",
      " [[0.28631421 0.71368579]\n",
      "  [0.29372876 0.70627124]]\n",
      "\n",
      " [[0.31830157 0.68169843]\n",
      "  [0.28328704 0.71671296]]\n",
      "\n",
      " [[0.23928682 0.76071318]\n",
      "  [0.26048277 0.73951723]]\n",
      "\n",
      " [[0.29617213 0.70382787]\n",
      "  [0.30273891 0.69726109]]]\n",
      "t2_mean, pi_means: 5899.112250317121 [0.29939382 0.70060618]\n"
     ]
    },
    {
     "name": "stderr",
     "output_type": "stream",
     "text": [
      "Computing transition matrices: 100%|██████████| 8/8 [00:00<00:00, 2144.19cluster/s]\n",
      "Processing Lag Times:  52%|█████▏    | 44/84 [01:09<00:40,  1.01s/lag]"
     ]
    },
    {
     "name": "stdout",
     "output_type": "stream",
     "text": [
      "transition_matrices.shape (8, 2, 2)\n",
      "[[[0.30330431 0.69669569]\n",
      "  [0.24470674 0.75529326]]\n",
      "\n",
      " [[0.28083772 0.71916228]\n",
      "  [0.2979405  0.7020595 ]]\n",
      "\n",
      " [[0.26901275 0.73098725]\n",
      "  [0.30614619 0.69385381]]\n",
      "\n",
      " [[0.24203214 0.75796786]\n",
      "  [0.31743227 0.68256773]]\n",
      "\n",
      " [[0.2980613  0.7019387 ]\n",
      "  [0.28786717 0.71213283]]\n",
      "\n",
      " [[0.28178935 0.71821065]\n",
      "  [0.31534212 0.68465788]]\n",
      "\n",
      " [[0.29015446 0.70984554]\n",
      "  [0.30081324 0.69918676]]\n",
      "\n",
      " [[0.33171083 0.66828917]\n",
      "  [0.30192314 0.69807686]]]\n",
      "t2_mean, pi_means: 5481.553599361018 [0.29350007 0.70649993]\n"
     ]
    },
    {
     "name": "stderr",
     "output_type": "stream",
     "text": [
      "Computing transition matrices: 100%|██████████| 8/8 [00:00<00:00, 1714.15cluster/s]\n",
      "Processing Lag Times:  54%|█████▎    | 45/84 [01:10<00:38,  1.01lag/s]"
     ]
    },
    {
     "name": "stdout",
     "output_type": "stream",
     "text": [
      "transition_matrices.shape (8, 2, 2)\n",
      "[[[0.2691023  0.7308977 ]\n",
      "  [0.30097604 0.69902396]]\n",
      "\n",
      " [[0.30372879 0.69627121]\n",
      "  [0.26963549 0.73036451]]\n",
      "\n",
      " [[0.39650037 0.60349963]\n",
      "  [0.25496957 0.74503043]]\n",
      "\n",
      " [[0.32336568 0.67663432]\n",
      "  [0.30300337 0.69699663]]\n",
      "\n",
      " [[0.27825465 0.72174535]\n",
      "  [0.32058319 0.67941681]]\n",
      "\n",
      " [[0.265295   0.734705  ]\n",
      "  [0.27826314 0.72173686]]\n",
      "\n",
      " [[0.39909444 0.60090556]\n",
      "  [0.46335583 0.53664417]]\n",
      "\n",
      " [[0.32315241 0.67684759]\n",
      "  [0.31026325 0.68973675]]]\n",
      "t2_mean, pi_means: 6179.492786655869 [0.31363698 0.68636302]\n"
     ]
    },
    {
     "name": "stderr",
     "output_type": "stream",
     "text": [
      "Computing transition matrices: 100%|██████████| 8/8 [00:00<00:00, 2749.24cluster/s]\n",
      "Processing Lag Times:  55%|█████▍    | 46/84 [01:11<00:36,  1.03lag/s]"
     ]
    },
    {
     "name": "stdout",
     "output_type": "stream",
     "text": [
      "transition_matrices.shape (8, 2, 2)\n",
      "[[[0.29468623 0.70531377]\n",
      "  [0.32036385 0.67963615]]\n",
      "\n",
      " [[0.32428544 0.67571456]\n",
      "  [0.31990483 0.68009517]]\n",
      "\n",
      " [[0.29771238 0.70228762]\n",
      "  [0.33340549 0.66659451]]\n",
      "\n",
      " [[0.24302349 0.75697651]\n",
      "  [0.27929289 0.72070711]]\n",
      "\n",
      " [[0.2762684  0.7237316 ]\n",
      "  [0.27546055 0.72453945]]\n",
      "\n",
      " [[0.27349398 0.72650602]\n",
      "  [0.25277538 0.74722462]]\n",
      "\n",
      " [[0.29527268 0.70472732]\n",
      "  [0.3019802  0.6980198 ]]\n",
      "\n",
      " [[0.27356005 0.72643995]\n",
      "  [0.28737143 0.71262857]]]\n",
      "t2_mean, pi_means: 3877.7595735903337 [0.29279003 0.70720997]\n"
     ]
    },
    {
     "name": "stderr",
     "output_type": "stream",
     "text": [
      "Computing transition matrices: 100%|██████████| 8/8 [00:00<00:00, 2423.40cluster/s]\n",
      "Processing Lag Times:  56%|█████▌    | 47/84 [01:12<00:35,  1.05lag/s]"
     ]
    },
    {
     "name": "stdout",
     "output_type": "stream",
     "text": [
      "transition_matrices.shape (8, 2, 2)\n",
      "[[[0.25547361 0.74452639]\n",
      "  [0.27691544 0.72308456]]\n",
      "\n",
      " [[0.31881999 0.68118001]\n",
      "  [0.29374058 0.70625942]]\n",
      "\n",
      " [[0.31758242 0.68241758]\n",
      "  [0.32833217 0.67166783]]\n",
      "\n",
      " [[0.27772116 0.72227884]\n",
      "  [0.28546791 0.71453209]]\n",
      "\n",
      " [[0.29718809 0.70281191]\n",
      "  [0.28034116 0.71965884]]\n",
      "\n",
      " [[0.27296182 0.72703818]\n",
      "  [0.18474815 0.81525185]]\n",
      "\n",
      " [[0.28411757 0.71588243]\n",
      "  [0.3096125  0.6903875 ]]\n",
      "\n",
      " [[0.28662341 0.71337659]\n",
      "  [0.31231929 0.68768071]]]\n",
      "t2_mean, pi_means: 6358.368748925599 [0.28433631 0.71566369]\n"
     ]
    },
    {
     "name": "stderr",
     "output_type": "stream",
     "text": [
      "Computing transition matrices: 100%|██████████| 8/8 [00:00<00:00, 2555.94cluster/s]\n",
      "Processing Lag Times:  57%|█████▋    | 48/84 [01:13<00:34,  1.05lag/s]"
     ]
    },
    {
     "name": "stdout",
     "output_type": "stream",
     "text": [
      "transition_matrices.shape (8, 2, 2)\n",
      "[[[0.26535587 0.73464413]\n",
      "  [0.33405551 0.66594449]]\n",
      "\n",
      " [[0.28813618 0.71186382]\n",
      "  [0.26932789 0.73067211]]\n",
      "\n",
      " [[0.29503559 0.70496441]\n",
      "  [0.28722423 0.71277577]]\n",
      "\n",
      " [[0.25502392 0.74497608]\n",
      "  [0.25820445 0.74179555]]\n",
      "\n",
      " [[0.29011813 0.70988187]\n",
      "  [0.30063589 0.69936411]]\n",
      "\n",
      " [[0.25641842 0.74358158]\n",
      "  [0.26934171 0.73065829]]\n",
      "\n",
      " [[0.0648855  0.9351145 ]\n",
      "  [0.39777778 0.60222222]]\n",
      "\n",
      " [[0.26669291 0.73330709]\n",
      "  [0.32942431 0.67057569]]]\n",
      "t2_mean, pi_means: 4919.276028422655 [0.28822079 0.71177921]\n"
     ]
    },
    {
     "name": "stderr",
     "output_type": "stream",
     "text": [
      "Computing transition matrices: 100%|██████████| 8/8 [00:00<00:00, 1866.52cluster/s]\n",
      "Processing Lag Times:  58%|█████▊    | 49/84 [01:14<00:32,  1.07lag/s]"
     ]
    },
    {
     "name": "stdout",
     "output_type": "stream",
     "text": [
      "transition_matrices.shape (8, 2, 2)\n",
      "[[[0.27055756 0.72944244]\n",
      "  [0.28781964 0.71218036]]\n",
      "\n",
      " [[0.29775619 0.70224381]\n",
      "  [0.30624534 0.69375466]]\n",
      "\n",
      " [[0.5        0.5       ]\n",
      "  [0.5        0.5       ]]\n",
      "\n",
      " [[0.29407904 0.70592096]\n",
      "  [0.30439054 0.69560946]]\n",
      "\n",
      " [[0.26799667 0.73200333]\n",
      "  [0.30747095 0.69252905]]\n",
      "\n",
      " [[0.32732111 0.67267889]\n",
      "  [0.31500678 0.68499322]]\n",
      "\n",
      " [[0.27270174 0.72729826]\n",
      "  [0.25553544 0.74446456]]\n",
      "\n",
      " [[0.26495681 0.73504319]\n",
      "  [0.25709467 0.74290533]]]\n",
      "t2_mean, pi_means: 2942.5849388799093 [0.31521831 0.68478169]\n"
     ]
    },
    {
     "name": "stderr",
     "output_type": "stream",
     "text": [
      "Computing transition matrices: 100%|██████████| 8/8 [00:00<00:00, 3451.04cluster/s]\n",
      "Processing Lag Times:  60%|█████▉    | 50/84 [01:15<00:30,  1.10lag/s]"
     ]
    },
    {
     "name": "stdout",
     "output_type": "stream",
     "text": [
      "transition_matrices.shape (8, 2, 2)\n",
      "[[[0.29072742 0.70927258]\n",
      "  [0.31081961 0.68918039]]\n",
      "\n",
      " [[0.15397924 0.84602076]\n",
      "  [0.18138196 0.81861804]]\n",
      "\n",
      " [[0.22127536 0.77872464]\n",
      "  [0.27095345 0.72904655]]\n",
      "\n",
      " [[0.0503876  0.9496124 ]\n",
      "  [0.18041237 0.81958763]]\n",
      "\n",
      " [[0.30745823 0.69254177]\n",
      "  [0.31516764 0.68483236]]\n",
      "\n",
      " [[0.27379481 0.72620519]\n",
      "  [0.27858936 0.72141064]]\n",
      "\n",
      " [[0.3118749  0.6881251 ]\n",
      "  [0.33145613 0.66854387]]\n",
      "\n",
      " [[0.25308061 0.74691939]\n",
      "  [0.27981847 0.72018153]]]\n",
      "t2_mean, pi_means: nan [0.26083297 0.73916703]\n"
     ]
    },
    {
     "name": "stderr",
     "output_type": "stream",
     "text": [
      "Computing transition matrices: 100%|██████████| 8/8 [00:00<00:00, 1905.20cluster/s]\n",
      "Processing Lag Times:  61%|██████    | 51/84 [01:15<00:29,  1.12lag/s]"
     ]
    },
    {
     "name": "stdout",
     "output_type": "stream",
     "text": [
      "transition_matrices.shape (8, 2, 2)\n",
      "[[[0.32452659 0.67547341]\n",
      "  [0.294642   0.705358  ]]\n",
      "\n",
      " [[0.28793256 0.71206744]\n",
      "  [0.22265771 0.77734229]]\n",
      "\n",
      " [[0.34973596 0.65026404]\n",
      "  [0.30331878 0.69668122]]\n",
      "\n",
      " [[0.28889543 0.71110457]\n",
      "  [0.26336497 0.73663503]]\n",
      "\n",
      " [[0.33487941 0.66512059]\n",
      "  [0.42210858 0.57789142]]\n",
      "\n",
      " [[0.5        0.5       ]\n",
      "  [0.5        0.5       ]]\n",
      "\n",
      " [[0.3422206  0.6577794 ]\n",
      "  [0.2954586  0.7045414 ]]\n",
      "\n",
      " [[0.28276951 0.71723049]\n",
      "  [0.25490718 0.74509282]]]\n",
      "t2_mean, pi_means: 5023.736219114893 [0.32383519 0.67616481]\n"
     ]
    },
    {
     "name": "stderr",
     "output_type": "stream",
     "text": [
      "Computing transition matrices: 100%|██████████| 8/8 [00:00<00:00, 1306.54cluster/s]\n",
      "Processing Lag Times:  62%|██████▏   | 52/84 [01:16<00:28,  1.13lag/s]"
     ]
    },
    {
     "name": "stdout",
     "output_type": "stream",
     "text": [
      "transition_matrices.shape (8, 2, 2)\n",
      "[[[0.40316395 0.59683605]\n",
      "  [0.2806874  0.7193126 ]]\n",
      "\n",
      " [[0.29953152 0.70046848]\n",
      "  [0.29853235 0.70146765]]\n",
      "\n",
      " [[0.23226748 0.76773252]\n",
      "  [0.26179657 0.73820343]]\n",
      "\n",
      " [[0.29227053 0.70772947]\n",
      "  [0.3261099  0.6738901 ]]\n",
      "\n",
      " [[0.25406236 0.74593764]\n",
      "  [0.26583536 0.73416464]]\n",
      "\n",
      " [[0.29006434 0.70993566]\n",
      "  [0.32214105 0.67785895]]\n",
      "\n",
      " [[0.26990851 0.73009149]\n",
      "  [0.28793336 0.71206664]]\n",
      "\n",
      " [[0.30660702 0.69339298]\n",
      "  [0.31320211 0.68679789]]]\n",
      "t2_mean, pi_means: 6196.19051943225 [0.29465924 0.70534076]\n"
     ]
    },
    {
     "name": "stderr",
     "output_type": "stream",
     "text": [
      "Computing transition matrices: 100%|██████████| 8/8 [00:00<00:00, 2413.29cluster/s]\n",
      "Processing Lag Times:  63%|██████▎   | 53/84 [01:17<00:26,  1.17lag/s]"
     ]
    },
    {
     "name": "stdout",
     "output_type": "stream",
     "text": [
      "transition_matrices.shape (8, 2, 2)\n",
      "[[[0.25578309 0.74421691]\n",
      "  [0.25261574 0.74738426]]\n",
      "\n",
      " [[0.2895935  0.7104065 ]\n",
      "  [0.31870824 0.68129176]]\n",
      "\n",
      " [[0.31730304 0.68269696]\n",
      "  [0.38042531 0.61957469]]\n",
      "\n",
      " [[0.33789903 0.66210097]\n",
      "  [0.33381389 0.66618611]]\n",
      "\n",
      " [[0.5        0.5       ]\n",
      "  [0.5        0.5       ]]\n",
      "\n",
      " [[0.25219227 0.74780773]\n",
      "  [0.31896655 0.68103345]]\n",
      "\n",
      " [[0.33172147 0.66827853]\n",
      "  [0.3064032  0.6935968 ]]\n",
      "\n",
      " [[0.25606238 0.74393762]\n",
      "  [0.25158051 0.74841949]]]\n",
      "t2_mean, pi_means: 3230.1870995389954 [0.32777593 0.67222407]\n"
     ]
    },
    {
     "name": "stderr",
     "output_type": "stream",
     "text": [
      "Computing transition matrices: 100%|██████████| 8/8 [00:00<00:00, 2037.18cluster/s]\n",
      "Processing Lag Times:  64%|██████▍   | 54/84 [01:18<00:24,  1.21lag/s]"
     ]
    },
    {
     "name": "stdout",
     "output_type": "stream",
     "text": [
      "transition_matrices.shape (8, 2, 2)\n",
      "[[[0.35814234 0.64185766]\n",
      "  [0.33092283 0.66907717]]\n",
      "\n",
      " [[0.37823225 0.62176775]\n",
      "  [0.3656582  0.6343418 ]]\n",
      "\n",
      " [[0.35301091 0.64698909]\n",
      "  [0.30191073 0.69808927]]\n",
      "\n",
      " [[0.25538657 0.74461343]\n",
      "  [0.23326894 0.76673106]]\n",
      "\n",
      " [[0.24500069 0.75499931]\n",
      "  [0.24552088 0.75447912]]\n",
      "\n",
      " [[0.5        0.5       ]\n",
      "  [0.5        0.5       ]]\n",
      "\n",
      " [[0.30576965 0.69423035]\n",
      "  [0.31013774 0.68986226]]\n",
      "\n",
      " [[0.24222222 0.75777778]\n",
      "  [0.31272814 0.68727186]]]\n",
      "t2_mean, pi_means: 4240.925478458759 [0.32669057 0.67330943]\n"
     ]
    },
    {
     "name": "stderr",
     "output_type": "stream",
     "text": [
      "Computing transition matrices: 100%|██████████| 8/8 [00:00<00:00, 2740.93cluster/s]\n",
      "Processing Lag Times:  65%|██████▌   | 55/84 [01:19<00:23,  1.25lag/s]"
     ]
    },
    {
     "name": "stdout",
     "output_type": "stream",
     "text": [
      "transition_matrices.shape (8, 2, 2)\n",
      "[[[0.23402612 0.76597388]\n",
      "  [0.2539107  0.7460893 ]]\n",
      "\n",
      " [[0.37092883 0.62907117]\n",
      "  [0.38878049 0.61121951]]\n",
      "\n",
      " [[0.1861268  0.8138732 ]\n",
      "  [0.26074056 0.73925944]]\n",
      "\n",
      " [[0.33890822 0.66109178]\n",
      "  [0.32775309 0.67224691]]\n",
      "\n",
      " [[0.5        0.5       ]\n",
      "  [0.5        0.5       ]]\n",
      "\n",
      " [[0.29126967 0.70873033]\n",
      "  [0.34859948 0.65140052]]\n",
      "\n",
      " [[0.29131256 0.70868744]\n",
      "  [0.36467806 0.63532194]]\n",
      "\n",
      " [[0.24176776 0.75823224]\n",
      "  [0.25135135 0.74864865]]]\n",
      "t2_mean, pi_means: 1953.0657504283954 [0.32792805 0.67207195]\n"
     ]
    },
    {
     "name": "stderr",
     "output_type": "stream",
     "text": [
      "Computing transition matrices: 100%|██████████| 8/8 [00:00<00:00, 2759.64cluster/s]\n",
      "Processing Lag Times:  67%|██████▋   | 56/84 [01:19<00:21,  1.28lag/s]"
     ]
    },
    {
     "name": "stdout",
     "output_type": "stream",
     "text": [
      "transition_matrices.shape (8, 2, 2)\n",
      "[[[0.24808498 0.75191502]\n",
      "  [0.24941776 0.75058224]]\n",
      "\n",
      " [[0.0480226  0.9519774 ]\n",
      "  [0.06398104 0.93601896]]\n",
      "\n",
      " [[0.5        0.5       ]\n",
      "  [0.5        0.5       ]]\n",
      "\n",
      " [[0.34950495 0.65049505]\n",
      "  [0.43729373 0.56270627]]\n",
      "\n",
      " [[0.3430973  0.6569027 ]\n",
      "  [0.32989729 0.67010271]]\n",
      "\n",
      " [[0.35316379 0.64683621]\n",
      "  [0.32832932 0.67167068]]\n",
      "\n",
      " [[0.23053067 0.76946933]\n",
      "  [0.26005961 0.73994039]]\n",
      "\n",
      " [[0.36448923 0.63551077]\n",
      "  [0.41416691 0.58583309]]]\n",
      "t2_mean, pi_means: 3056.567082840029 [0.31652896 0.68347104]\n"
     ]
    },
    {
     "name": "stderr",
     "output_type": "stream",
     "text": [
      "Computing transition matrices: 100%|██████████| 8/8 [00:00<00:00, 2158.67cluster/s]\n",
      "Processing Lag Times:  68%|██████▊   | 57/84 [01:20<00:20,  1.29lag/s]"
     ]
    },
    {
     "name": "stdout",
     "output_type": "stream",
     "text": [
      "transition_matrices.shape (8, 2, 2)\n",
      "[[[0.19894982 0.80105018]\n",
      "  [0.48422713 0.51577287]]\n",
      "\n",
      " [[0.27484204 0.72515796]\n",
      "  [0.35942492 0.64057508]]\n",
      "\n",
      " [[0.33456931 0.66543069]\n",
      "  [0.28569667 0.71430333]]\n",
      "\n",
      " [[0.5        0.5       ]\n",
      "  [0.5        0.5       ]]\n",
      "\n",
      " [[0.25452716 0.74547284]\n",
      "  [0.2427175  0.7572825 ]]\n",
      "\n",
      " [[0.34898829 0.65101171]\n",
      "  [0.36851374 0.63148626]]\n",
      "\n",
      " [[0.5        0.5       ]\n",
      "  [0.5        0.5       ]]\n",
      "\n",
      " [[0.28383288 0.71616712]\n",
      "  [0.25600739 0.74399261]]]\n",
      "t2_mean, pi_means: 2846.862431541372 [0.35986622 0.64013378]\n"
     ]
    },
    {
     "name": "stderr",
     "output_type": "stream",
     "text": [
      "Computing transition matrices: 100%|██████████| 8/8 [00:00<00:00, 1880.12cluster/s]\n",
      "Processing Lag Times:  69%|██████▉   | 58/84 [01:21<00:19,  1.34lag/s]"
     ]
    },
    {
     "name": "stdout",
     "output_type": "stream",
     "text": [
      "transition_matrices.shape (8, 2, 2)\n",
      "[[[0.27661985 0.72338015]\n",
      "  [0.28464385 0.71535615]]\n",
      "\n",
      " [[0.5        0.5       ]\n",
      "  [0.5        0.5       ]]\n",
      "\n",
      " [[0.5        0.5       ]\n",
      "  [0.5        0.5       ]]\n",
      "\n",
      " [[0.5        0.5       ]\n",
      "  [0.5        0.5       ]]\n",
      "\n",
      " [[0.27288136 0.72711864]\n",
      "  [0.38335832 0.61664168]]\n",
      "\n",
      " [[0.5        0.5       ]\n",
      "  [0.5        0.5       ]]\n",
      "\n",
      " [[0.43797606 0.56202394]\n",
      "  [0.40865206 0.59134794]]\n",
      "\n",
      " [[0.25292414 0.74707586]\n",
      "  [0.28535859 0.71464141]]]\n",
      "t2_mean, pi_means: 1156.8089802046718 [0.41562361 0.58437639]\n"
     ]
    },
    {
     "name": "stderr",
     "output_type": "stream",
     "text": [
      "Computing transition matrices: 100%|██████████| 8/8 [00:00<00:00, 2932.82cluster/s]\n",
      "Processing Lag Times:  70%|███████   | 59/84 [01:21<00:18,  1.38lag/s]"
     ]
    },
    {
     "name": "stdout",
     "output_type": "stream",
     "text": [
      "transition_matrices.shape (8, 2, 2)\n",
      "[[[0.28887745 0.71112255]\n",
      "  [0.3188227  0.6811773 ]]\n",
      "\n",
      " [[0.5        0.5       ]\n",
      "  [0.5        0.5       ]]\n",
      "\n",
      " [[0.5        0.5       ]\n",
      "  [0.5        0.5       ]]\n",
      "\n",
      " [[0.39197904 0.60802096]\n",
      "  [0.32278824 0.67721176]]\n",
      "\n",
      " [[0.5        0.5       ]\n",
      "  [0.5        0.5       ]]\n",
      "\n",
      " [[0.23397046 0.76602954]\n",
      "  [0.25596043 0.74403957]]\n",
      "\n",
      " [[0.5        0.5       ]\n",
      "  [0.5        0.5       ]]\n",
      "\n",
      " [[0.41782131 0.58217869]\n",
      "  [0.34037559 0.65962441]]]\n",
      "t2_mean, pi_means: 1780.2077325380883 [0.40946719 0.59053281]\n"
     ]
    },
    {
     "name": "stderr",
     "output_type": "stream",
     "text": [
      "Computing transition matrices: 100%|██████████| 8/8 [00:00<00:00, 2689.95cluster/s]\n",
      "Processing Lag Times:  71%|███████▏  | 60/84 [01:22<00:16,  1.43lag/s]"
     ]
    },
    {
     "name": "stdout",
     "output_type": "stream",
     "text": [
      "transition_matrices.shape (8, 2, 2)\n",
      "[[[0.27619274 0.72380726]\n",
      "  [0.24978762 0.75021238]]\n",
      "\n",
      " [[0.3844656  0.6155344 ]\n",
      "  [0.30873149 0.69126851]]\n",
      "\n",
      " [[0.3422782  0.6577218 ]\n",
      "  [0.29968371 0.70031629]]\n",
      "\n",
      " [[0.5        0.5       ]\n",
      "  [0.5        0.5       ]]\n",
      "\n",
      " [[0.5        0.5       ]\n",
      "  [0.5        0.5       ]]\n",
      "\n",
      " [[0.5        0.5       ]\n",
      "  [0.5        0.5       ]]\n",
      "\n",
      " [[0.52461538 0.47538462]\n",
      "  [0.4043659  0.5956341 ]]\n",
      "\n",
      " [[0.1816609  0.8183391 ]\n",
      "  [0.10541586 0.89458414]]]\n",
      "t2_mean, pi_means: 3784.612225407192 [0.37217016 0.62782984]\n"
     ]
    },
    {
     "name": "stderr",
     "output_type": "stream",
     "text": [
      "Computing transition matrices: 100%|██████████| 8/8 [00:00<00:00, 2635.65cluster/s]\n",
      "Processing Lag Times:  73%|███████▎  | 61/84 [01:23<00:15,  1.49lag/s]"
     ]
    },
    {
     "name": "stdout",
     "output_type": "stream",
     "text": [
      "transition_matrices.shape (8, 2, 2)\n",
      "[[[0.21252205 0.78747795]\n",
      "  [0.28680611 0.71319389]]\n",
      "\n",
      " [[0.5        0.5       ]\n",
      "  [0.5        0.5       ]]\n",
      "\n",
      " [[0.35993485 0.64006515]\n",
      "  [0.42671552 0.57328448]]\n",
      "\n",
      " [[0.5        0.5       ]\n",
      "  [0.5        0.5       ]]\n",
      "\n",
      " [[0.5        0.5       ]\n",
      "  [0.5        0.5       ]]\n",
      "\n",
      " [[0.4098001  0.5901999 ]\n",
      "  [0.29022543 0.70977457]]\n",
      "\n",
      " [[0.5        0.5       ]\n",
      "  [0.5        0.5       ]]\n",
      "\n",
      " [[0.25004882 0.74995118]\n",
      "  [0.23937722 0.76062278]]]\n",
      "t2_mean, pi_means: 1742.9061553910258 [0.40482236 0.59517764]\n"
     ]
    },
    {
     "name": "stderr",
     "output_type": "stream",
     "text": [
      "Computing transition matrices: 100%|██████████| 8/8 [00:00<00:00, 3466.73cluster/s]\n",
      "Processing Lag Times:  74%|███████▍  | 62/84 [01:23<00:14,  1.51lag/s]"
     ]
    },
    {
     "name": "stdout",
     "output_type": "stream",
     "text": [
      "transition_matrices.shape (8, 2, 2)\n",
      "[[[0.32666667 0.67333333]\n",
      "  [0.33561644 0.66438356]]\n",
      "\n",
      " [[0.5        0.5       ]\n",
      "  [0.5        0.5       ]]\n",
      "\n",
      " [[0.2607523  0.7392477 ]\n",
      "  [0.26670435 0.73329565]]\n",
      "\n",
      " [[0.5        0.5       ]\n",
      "  [0.5        0.5       ]]\n",
      "\n",
      " [[0.5        0.5       ]\n",
      "  [0.5        0.5       ]]\n",
      "\n",
      " [[0.5        0.5       ]\n",
      "  [0.5        0.5       ]]\n",
      "\n",
      " [[0.5        0.5       ]\n",
      "  [0.5        0.5       ]]\n",
      "\n",
      " [[0.5        0.5       ]\n",
      "  [0.5        0.5       ]]]\n",
      "t2_mean, pi_means: 778.5109088570638 [0.44972071 0.55027929]\n"
     ]
    },
    {
     "name": "stderr",
     "output_type": "stream",
     "text": [
      "Computing transition matrices: 100%|██████████| 8/8 [00:00<00:00, 3659.55cluster/s]\n",
      "Processing Lag Times:  75%|███████▌  | 63/84 [01:24<00:13,  1.51lag/s]"
     ]
    },
    {
     "name": "stdout",
     "output_type": "stream",
     "text": [
      "transition_matrices.shape (8, 2, 2)\n",
      "[[[0.36547085 0.63452915]\n",
      "  [0.32376192 0.67623808]]\n",
      "\n",
      " [[0.5        0.5       ]\n",
      "  [0.5        0.5       ]]\n",
      "\n",
      " [[0.5        0.5       ]\n",
      "  [0.5        0.5       ]]\n",
      "\n",
      " [[0.5        0.5       ]\n",
      "  [0.5        0.5       ]]\n",
      "\n",
      " [[0.24942863 0.75057137]\n",
      "  [0.2391067  0.7608933 ]]\n",
      "\n",
      " [[0.5        0.5       ]\n",
      "  [0.5        0.5       ]]\n",
      "\n",
      " [[0.5        0.5       ]\n",
      "  [0.5        0.5       ]]\n",
      "\n",
      " [[0.5        0.5       ]\n",
      "  [0.5        0.5       ]]]\n",
      "t2_mean, pi_means: 1395.6716346782698 [0.44743174 0.55256826]\n"
     ]
    },
    {
     "name": "stderr",
     "output_type": "stream",
     "text": [
      "Computing transition matrices: 100%|██████████| 8/8 [00:00<00:00, 1554.89cluster/s]\n",
      "Processing Lag Times:  76%|███████▌  | 64/84 [01:25<00:14,  1.37lag/s]"
     ]
    },
    {
     "name": "stdout",
     "output_type": "stream",
     "text": [
      "transition_matrices.shape (8, 2, 2)\n",
      "[[[0.5        0.5       ]\n",
      "  [0.5        0.5       ]]\n",
      "\n",
      " [[0.5        0.5       ]\n",
      "  [0.5        0.5       ]]\n",
      "\n",
      " [[0.5        0.5       ]\n",
      "  [0.5        0.5       ]]\n",
      "\n",
      " [[0.5        0.5       ]\n",
      "  [0.5        0.5       ]]\n",
      "\n",
      " [[0.5        0.5       ]\n",
      "  [0.5        0.5       ]]\n",
      "\n",
      " [[0.25396648 0.74603352]\n",
      "  [0.23545639 0.76454361]]\n",
      "\n",
      " [[0.30817844 0.69182156]\n",
      "  [0.28504407 0.71495593]]\n",
      "\n",
      " [[0.5        0.5       ]\n",
      "  [0.5        0.5       ]]]\n",
      "t2_mean, pi_means: 1413.7102410201842 [0.44146143 0.55853857]\n"
     ]
    },
    {
     "name": "stderr",
     "output_type": "stream",
     "text": [
      "Computing transition matrices: 100%|██████████| 8/8 [00:00<00:00, 3555.62cluster/s]\n",
      "Processing Lag Times:  77%|███████▋  | 65/84 [01:26<00:13,  1.37lag/s]"
     ]
    },
    {
     "name": "stdout",
     "output_type": "stream",
     "text": [
      "transition_matrices.shape (8, 2, 2)\n",
      "[[[0.5        0.5       ]\n",
      "  [0.5        0.5       ]]\n",
      "\n",
      " [[0.23150963 0.76849037]\n",
      "  [0.252      0.748     ]]\n",
      "\n",
      " [[0.5        0.5       ]\n",
      "  [0.5        0.5       ]]\n",
      "\n",
      " [[0.5        0.5       ]\n",
      "  [0.5        0.5       ]]\n",
      "\n",
      " [[0.5        0.5       ]\n",
      "  [0.5        0.5       ]]\n",
      "\n",
      " [[0.5        0.5       ]\n",
      "  [0.5        0.5       ]]\n",
      "\n",
      " [[0.5        0.5       ]\n",
      "  [0.5        0.5       ]]\n",
      "\n",
      " [[0.25565831 0.74434169]\n",
      "  [0.23311333 0.76688667]]]\n",
      "t2_mean, pi_means: 1133.3175610956514 [0.43567877 0.56432123]\n"
     ]
    },
    {
     "name": "stderr",
     "output_type": "stream",
     "text": [
      "Computing transition matrices: 100%|██████████| 8/8 [00:00<00:00, 2982.62cluster/s]\n",
      "Processing Lag Times:  79%|███████▊  | 66/84 [01:26<00:12,  1.43lag/s]"
     ]
    },
    {
     "name": "stdout",
     "output_type": "stream",
     "text": [
      "transition_matrices.shape (8, 2, 2)\n",
      "[[[0.21490593 0.78509407]\n",
      "  [0.26186089 0.73813911]]\n",
      "\n",
      " [[0.5        0.5       ]\n",
      "  [0.5        0.5       ]]\n",
      "\n",
      " [[0.2781588  0.7218412 ]\n",
      "  [0.23056018 0.76943982]]\n",
      "\n",
      " [[0.5        0.5       ]\n",
      "  [0.5        0.5       ]]\n",
      "\n",
      " [[0.5        0.5       ]\n",
      "  [0.5        0.5       ]]\n",
      "\n",
      " [[0.5        0.5       ]\n",
      "  [0.5        0.5       ]]\n",
      "\n",
      " [[0.5        0.5       ]\n",
      "  [0.5        0.5       ]]\n",
      "\n",
      " [[0.5        0.5       ]\n",
      "  [0.5        0.5       ]]]\n",
      "t2_mean, pi_means: 1188.8391225645564 [0.43652496 0.56347504]\n"
     ]
    },
    {
     "name": "stderr",
     "output_type": "stream",
     "text": [
      "Computing transition matrices: 100%|██████████| 8/8 [00:00<00:00, 2845.04cluster/s]\n",
      "Processing Lag Times:  80%|███████▉  | 67/84 [01:27<00:11,  1.50lag/s]"
     ]
    },
    {
     "name": "stdout",
     "output_type": "stream",
     "text": [
      "transition_matrices.shape (8, 2, 2)\n",
      "[[[0.5        0.5       ]\n",
      "  [0.5        0.5       ]]\n",
      "\n",
      " [[0.5        0.5       ]\n",
      "  [0.5        0.5       ]]\n",
      "\n",
      " [[0.5        0.5       ]\n",
      "  [0.5        0.5       ]]\n",
      "\n",
      " [[0.5        0.5       ]\n",
      "  [0.5        0.5       ]]\n",
      "\n",
      " [[0.5        0.5       ]\n",
      "  [0.5        0.5       ]]\n",
      "\n",
      " [[0.5        0.5       ]\n",
      "  [0.5        0.5       ]]\n",
      "\n",
      " [[0.5        0.5       ]\n",
      "  [0.5        0.5       ]]\n",
      "\n",
      " [[0.30750697 0.69249303]\n",
      "  [0.22529055 0.77470945]]]\n",
      "t2_mean, pi_means: 1184.6470430093536 [0.46818405 0.53181595]\n"
     ]
    },
    {
     "name": "stderr",
     "output_type": "stream",
     "text": [
      "Computing transition matrices: 100%|██████████| 8/8 [00:00<00:00, 1938.44cluster/s]\n",
      "Processing Lag Times:  81%|████████  | 68/84 [01:27<00:09,  1.62lag/s]"
     ]
    },
    {
     "name": "stdout",
     "output_type": "stream",
     "text": [
      "transition_matrices.shape (8, 2, 2)\n",
      "[[[0.0193133  0.9806867 ]\n",
      "  [0.09936407 0.90063593]]\n",
      "\n",
      " [[0.5        0.5       ]\n",
      "  [0.5        0.5       ]]\n",
      "\n",
      " [[0.5        0.5       ]\n",
      "  [0.5        0.5       ]]\n",
      "\n",
      " [[0.5        0.5       ]\n",
      "  [0.5        0.5       ]]\n",
      "\n",
      " [[0.5        0.5       ]\n",
      "  [0.5        0.5       ]]\n",
      "\n",
      " [[0.5        0.5       ]\n",
      "  [0.5        0.5       ]]\n",
      "\n",
      " [[0.2116821  0.7883179 ]\n",
      "  [0.2740984  0.7259016 ]]\n",
      "\n",
      " [[0.5        0.5       ]\n",
      "  [0.5        0.5       ]]]\n",
      "t2_mean, pi_means: 860.1728923036085 [0.41874934 0.58125066]\n"
     ]
    },
    {
     "name": "stderr",
     "output_type": "stream",
     "text": [
      "Computing transition matrices: 100%|██████████| 8/8 [00:00<00:00, 1594.57cluster/s]\n",
      "Processing Lag Times:  82%|████████▏ | 69/84 [01:28<00:09,  1.65lag/s]"
     ]
    },
    {
     "name": "stdout",
     "output_type": "stream",
     "text": [
      "transition_matrices.shape (8, 2, 2)\n",
      "[[[0.5        0.5       ]\n",
      "  [0.5        0.5       ]]\n",
      "\n",
      " [[0.5        0.5       ]\n",
      "  [0.5        0.5       ]]\n",
      "\n",
      " [[0.5        0.5       ]\n",
      "  [0.5        0.5       ]]\n",
      "\n",
      " [[0.5        0.5       ]\n",
      "  [0.5        0.5       ]]\n",
      "\n",
      " [[0.5        0.5       ]\n",
      "  [0.5        0.5       ]]\n",
      "\n",
      " [[0.23004306 0.76995694]\n",
      "  [0.24082805 0.75917195]]\n",
      "\n",
      " [[0.5        0.5       ]\n",
      "  [0.5        0.5       ]]\n",
      "\n",
      " [[0.5        0.5       ]\n",
      "  [0.5        0.5       ]]]\n",
      "t2_mean, pi_means: 873.7832228780325 [0.4672823 0.5327177]\n"
     ]
    },
    {
     "name": "stderr",
     "output_type": "stream",
     "text": [
      "Computing transition matrices: 100%|██████████| 8/8 [00:00<00:00, 2634.20cluster/s]\n",
      "Processing Lag Times:  83%|████████▎ | 70/84 [01:28<00:07,  1.78lag/s]"
     ]
    },
    {
     "name": "stdout",
     "output_type": "stream",
     "text": [
      "transition_matrices.shape (8, 2, 2)\n",
      "[[[0.5        0.5       ]\n",
      "  [0.5        0.5       ]]\n",
      "\n",
      " [[0.5        0.5       ]\n",
      "  [0.5        0.5       ]]\n",
      "\n",
      " [[0.5        0.5       ]\n",
      "  [0.5        0.5       ]]\n",
      "\n",
      " [[0.5        0.5       ]\n",
      "  [0.5        0.5       ]]\n",
      "\n",
      " [[0.26942004 0.73057996]\n",
      "  [0.22991109 0.77008891]]\n",
      "\n",
      " [[0.5        0.5       ]\n",
      "  [0.5        0.5       ]]\n",
      "\n",
      " [[0.5        0.5       ]\n",
      "  [0.5        0.5       ]]\n",
      "\n",
      " [[0.5        0.5       ]\n",
      "  [0.5        0.5       ]]]\n",
      "t2_mean, pi_means: 1202.49417956757 [0.46742103 0.53257897]\n"
     ]
    },
    {
     "name": "stderr",
     "output_type": "stream",
     "text": [
      "Computing transition matrices: 100%|██████████| 8/8 [00:00<00:00, 3177.20cluster/s]\n",
      "Processing Lag Times:  85%|████████▍ | 71/84 [01:29<00:06,  1.93lag/s]"
     ]
    },
    {
     "name": "stdout",
     "output_type": "stream",
     "text": [
      "transition_matrices.shape (8, 2, 2)\n",
      "[[[0.5        0.5       ]\n",
      "  [0.5        0.5       ]]\n",
      "\n",
      " [[0.5        0.5       ]\n",
      "  [0.5        0.5       ]]\n",
      "\n",
      " [[0.5        0.5       ]\n",
      "  [0.5        0.5       ]]\n",
      "\n",
      " [[0.5        0.5       ]\n",
      "  [0.5        0.5       ]]\n",
      "\n",
      " [[0.5        0.5       ]\n",
      "  [0.5        0.5       ]]\n",
      "\n",
      " [[0.5        0.5       ]\n",
      "  [0.5        0.5       ]]\n",
      "\n",
      " [[0.26111817 0.73888183]\n",
      "  [0.22708907 0.77291093]]\n",
      "\n",
      " [[0.5        0.5       ]\n",
      "  [0.5        0.5       ]]]\n",
      "t2_mean, pi_means: 1214.0626004191545 [0.46688612 0.53311388]\n"
     ]
    },
    {
     "name": "stderr",
     "output_type": "stream",
     "text": [
      "Computing transition matrices: 100%|██████████| 8/8 [00:00<00:00, 2427.96cluster/s]\n",
      "Processing Lag Times:  86%|████████▌ | 72/84 [01:29<00:05,  2.23lag/s]"
     ]
    },
    {
     "name": "stdout",
     "output_type": "stream",
     "text": [
      "transition_matrices.shape (8, 2, 2)\n",
      "[[[0.5        0.5       ]\n",
      "  [0.5        0.5       ]]\n",
      "\n",
      " [[0.5        0.5       ]\n",
      "  [0.5        0.5       ]]\n",
      "\n",
      " [[0.25186474 0.74813526]\n",
      "  [0.24911366 0.75088634]]\n",
      "\n",
      " [[0.5        0.5       ]\n",
      "  [0.5        0.5       ]]\n",
      "\n",
      " [[0.5        0.5       ]\n",
      "  [0.5        0.5       ]]\n",
      "\n",
      " [[0.5        0.5       ]\n",
      "  [0.5        0.5       ]]\n",
      "\n",
      " [[0.5        0.5       ]\n",
      "  [0.5        0.5       ]]\n",
      "\n",
      " [[0.5        0.5       ]\n",
      "  [0.5        0.5       ]]]\n",
      "t2_mean, pi_means: 1149.630125097992 [0.46872511 0.53127489]\n"
     ]
    },
    {
     "name": "stderr",
     "output_type": "stream",
     "text": [
      "Computing transition matrices: 100%|██████████| 8/8 [00:00<00:00, 3165.81cluster/s]\n",
      "Processing Lag Times:  87%|████████▋ | 73/84 [01:29<00:04,  2.37lag/s]"
     ]
    },
    {
     "name": "stdout",
     "output_type": "stream",
     "text": [
      "transition_matrices.shape (8, 2, 2)\n",
      "[[[0.5        0.5       ]\n",
      "  [0.5        0.5       ]]\n",
      "\n",
      " [[0.5        0.5       ]\n",
      "  [0.5        0.5       ]]\n",
      "\n",
      " [[0.5        0.5       ]\n",
      "  [0.5        0.5       ]]\n",
      "\n",
      " [[0.5        0.5       ]\n",
      "  [0.5        0.5       ]]\n",
      "\n",
      " [[0.5        0.5       ]\n",
      "  [0.5        0.5       ]]\n",
      "\n",
      " [[0.5        0.5       ]\n",
      "  [0.5        0.5       ]]\n",
      "\n",
      " [[0.24927283 0.75072717]\n",
      "  [0.25752386 0.74247614]]\n",
      "\n",
      " [[0.5        0.5       ]\n",
      "  [0.5        0.5       ]]]\n",
      "t2_mean, pi_means: 928.2245451757302 [0.46942705 0.53057295]\n"
     ]
    },
    {
     "name": "stderr",
     "output_type": "stream",
     "text": [
      "Computing transition matrices: 100%|██████████| 8/8 [00:00<00:00, 2156.18cluster/s]\n",
      "Processing Lag Times:  88%|████████▊ | 74/84 [01:30<00:03,  2.53lag/s]"
     ]
    },
    {
     "name": "stdout",
     "output_type": "stream",
     "text": [
      "transition_matrices.shape (8, 2, 2)\n",
      "[[[0.5        0.5       ]\n",
      "  [0.5        0.5       ]]\n",
      "\n",
      " [[0.5        0.5       ]\n",
      "  [0.5        0.5       ]]\n",
      "\n",
      " [[0.5        0.5       ]\n",
      "  [0.5        0.5       ]]\n",
      "\n",
      " [[0.5        0.5       ]\n",
      "  [0.5        0.5       ]]\n",
      "\n",
      " [[0.20717518 0.79282482]\n",
      "  [0.2370359  0.7629641 ]]\n",
      "\n",
      " [[0.5        0.5       ]\n",
      "  [0.5        0.5       ]]\n",
      "\n",
      " [[0.5        0.5       ]\n",
      "  [0.5        0.5       ]]\n",
      "\n",
      " [[0.5        0.5       ]\n",
      "  [0.5        0.5       ]]]\n",
      "t2_mean, pi_means: 941.834875750153 [0.46627038 0.53372962]\n"
     ]
    },
    {
     "name": "stderr",
     "output_type": "stream",
     "text": [
      "Computing transition matrices: 100%|██████████| 8/8 [00:00<00:00, 2436.60cluster/s]\n",
      "Processing Lag Times:  89%|████████▉ | 75/84 [01:30<00:03,  2.70lag/s]"
     ]
    },
    {
     "name": "stdout",
     "output_type": "stream",
     "text": [
      "transition_matrices.shape (8, 2, 2)\n",
      "[[[0.5        0.5       ]\n",
      "  [0.5        0.5       ]]\n",
      "\n",
      " [[0.30071174 0.69928826]\n",
      "  [0.17346939 0.82653061]]\n",
      "\n",
      " [[0.5        0.5       ]\n",
      "  [0.5        0.5       ]]\n",
      "\n",
      " [[0.5        0.5       ]\n",
      "  [0.5        0.5       ]]\n",
      "\n",
      " [[0.5        0.5       ]\n",
      "  [0.5        0.5       ]]\n",
      "\n",
      " [[0.5        0.5       ]\n",
      "  [0.5        0.5       ]]\n",
      "\n",
      " [[0.5        0.5       ]\n",
      "  [0.5        0.5       ]]\n",
      "\n",
      " [[0.5        0.5       ]\n",
      "  [0.5        0.5       ]]]\n",
      "t2_mean, pi_means: 1369.5133713598996 [0.46234501 0.53765499]\n"
     ]
    },
    {
     "name": "stderr",
     "output_type": "stream",
     "text": [
      "Computing transition matrices: 100%|██████████| 8/8 [00:00<00:00, 3229.80cluster/s]\n",
      "Processing Lag Times:  90%|█████████ | 76/84 [01:30<00:02,  2.90lag/s]"
     ]
    },
    {
     "name": "stdout",
     "output_type": "stream",
     "text": [
      "transition_matrices.shape (8, 2, 2)\n",
      "[[[0.5        0.5       ]\n",
      "  [0.5        0.5       ]]\n",
      "\n",
      " [[0.5        0.5       ]\n",
      "  [0.5        0.5       ]]\n",
      "\n",
      " [[0.5        0.5       ]\n",
      "  [0.5        0.5       ]]\n",
      "\n",
      " [[0.5        0.5       ]\n",
      "  [0.5        0.5       ]]\n",
      "\n",
      " [[0.5        0.5       ]\n",
      "  [0.5        0.5       ]]\n",
      "\n",
      " [[0.20738916 0.79261084]\n",
      "  [0.25265215 0.74734785]]\n",
      "\n",
      " [[0.5        0.5       ]\n",
      "  [0.5        0.5       ]]\n",
      "\n",
      " [[0.5        0.5       ]\n",
      "  [0.5        0.5       ]]]\n",
      "t2_mean, pi_means: 969.0555368990009 [0.46771395 0.53228605]\n"
     ]
    },
    {
     "name": "stderr",
     "output_type": "stream",
     "text": [
      "Computing transition matrices: 100%|██████████| 8/8 [00:00<00:00, 1618.80cluster/s]\n",
      "Processing Lag Times:  92%|█████████▏| 77/84 [01:31<00:02,  3.32lag/s]"
     ]
    },
    {
     "name": "stdout",
     "output_type": "stream",
     "text": [
      "transition_matrices.shape (8, 2, 2)\n",
      "[[[0.5        0.5       ]\n",
      "  [0.5        0.5       ]]\n",
      "\n",
      " [[0.5        0.5       ]\n",
      "  [0.5        0.5       ]]\n",
      "\n",
      " [[0.5        0.5       ]\n",
      "  [0.5        0.5       ]]\n",
      "\n",
      " [[0.5        0.5       ]\n",
      "  [0.5        0.5       ]]\n",
      "\n",
      " [[0.5        0.5       ]\n",
      "  [0.5        0.5       ]]\n",
      "\n",
      " [[0.23343152 0.76656848]\n",
      "  [0.23824312 0.76175688]]\n",
      "\n",
      " [[0.5        0.5       ]\n",
      "  [0.5        0.5       ]]\n",
      "\n",
      " [[0.5        0.5       ]\n",
      "  [0.5        0.5       ]]]\n",
      "t2_mean, pi_means: 982.6658674734256 [0.46713779 0.53286221]\n"
     ]
    },
    {
     "name": "stderr",
     "output_type": "stream",
     "text": [
      "Computing transition matrices: 100%|██████████| 8/8 [00:00<00:00, 3119.02cluster/s]\n",
      "Processing Lag Times:  93%|█████████▎| 78/84 [01:31<00:01,  3.56lag/s]"
     ]
    },
    {
     "name": "stdout",
     "output_type": "stream",
     "text": [
      "transition_matrices.shape (8, 2, 2)\n",
      "[[[0.5        0.5       ]\n",
      "  [0.5        0.5       ]]\n",
      "\n",
      " [[0.5        0.5       ]\n",
      "  [0.5        0.5       ]]\n",
      "\n",
      " [[0.43230769 0.56769231]\n",
      "  [0.30873181 0.69126819]]\n",
      "\n",
      " [[0.5        0.5       ]\n",
      "  [0.5        0.5       ]]\n",
      "\n",
      " [[0.5        0.5       ]\n",
      "  [0.5        0.5       ]]\n",
      "\n",
      " [[0.5        0.5       ]\n",
      "  [0.5        0.5       ]]\n",
      "\n",
      " [[0.5        0.5       ]\n",
      "  [0.5        0.5       ]]\n",
      "\n",
      " [[0.5        0.5       ]\n",
      "  [0.5        0.5       ]]]\n",
      "t2_mean, pi_means: 1425.528047794701 [0.48153288 0.51846712]\n"
     ]
    },
    {
     "name": "stderr",
     "output_type": "stream",
     "text": [
      "Computing transition matrices: 100%|██████████| 8/8 [00:00<00:00, 2269.34cluster/s]\n",
      "Processing Lag Times:  94%|█████████▍| 79/84 [01:31<00:01,  3.87lag/s]"
     ]
    },
    {
     "name": "stdout",
     "output_type": "stream",
     "text": [
      "transition_matrices.shape (8, 2, 2)\n",
      "[[[0.5 0.5]\n",
      "  [0.5 0.5]]\n",
      "\n",
      " [[0.5 0.5]\n",
      "  [0.5 0.5]]\n",
      "\n",
      " [[0.5 0.5]\n",
      "  [0.5 0.5]]\n",
      "\n",
      " [[0.5 0.5]\n",
      "  [0.5 0.5]]\n",
      "\n",
      " [[0.5 0.5]\n",
      "  [0.5 0.5]]\n",
      "\n",
      " [[0.5 0.5]\n",
      "  [0.5 0.5]]\n",
      "\n",
      " [[0.5 0.5]\n",
      "  [0.5 0.5]]\n",
      "\n",
      " [[0.5 0.5]\n",
      "  [0.5 0.5]]]\n",
      "t2_mean, pi_means: 1009.886528622275 [0.5 0.5]\n"
     ]
    },
    {
     "name": "stderr",
     "output_type": "stream",
     "text": [
      "Computing transition matrices: 100%|██████████| 8/8 [00:00<00:00, 4415.06cluster/s]\n",
      "Processing Lag Times:  95%|█████████▌| 80/84 [01:31<00:00,  4.23lag/s]"
     ]
    },
    {
     "name": "stdout",
     "output_type": "stream",
     "text": [
      "transition_matrices.shape (8, 2, 2)\n",
      "[[[0.5 0.5]\n",
      "  [0.5 0.5]]\n",
      "\n",
      " [[0.5 0.5]\n",
      "  [0.5 0.5]]\n",
      "\n",
      " [[0.5 0.5]\n",
      "  [0.5 0.5]]\n",
      "\n",
      " [[0.5 0.5]\n",
      "  [0.5 0.5]]\n",
      "\n",
      " [[0.5 0.5]\n",
      "  [0.5 0.5]]\n",
      "\n",
      " [[0.5 0.5]\n",
      "  [0.5 0.5]]\n",
      "\n",
      " [[0.5 0.5]\n",
      "  [0.5 0.5]]\n",
      "\n",
      " [[0.5 0.5]\n",
      "  [0.5 0.5]]]\n",
      "t2_mean, pi_means: 1023.4968591966987 [0.5 0.5]\n"
     ]
    },
    {
     "name": "stderr",
     "output_type": "stream",
     "text": [
      "Computing transition matrices: 100%|██████████| 8/8 [00:00<00:00, 1603.25cluster/s]\n",
      "Processing Lag Times:  96%|█████████▋| 81/84 [01:31<00:00,  4.92lag/s]"
     ]
    },
    {
     "name": "stdout",
     "output_type": "stream",
     "text": [
      "transition_matrices.shape (8, 2, 2)\n",
      "[[[0.5 0.5]\n",
      "  [0.5 0.5]]\n",
      "\n",
      " [[0.5 0.5]\n",
      "  [0.5 0.5]]\n",
      "\n",
      " [[0.5 0.5]\n",
      "  [0.5 0.5]]\n",
      "\n",
      " [[0.5 0.5]\n",
      "  [0.5 0.5]]\n",
      "\n",
      " [[0.5 0.5]\n",
      "  [0.5 0.5]]\n",
      "\n",
      " [[0.5 0.5]\n",
      "  [0.5 0.5]]\n",
      "\n",
      " [[0.5 0.5]\n",
      "  [0.5 0.5]]\n",
      "\n",
      " [[0.5 0.5]\n",
      "  [0.5 0.5]]]\n",
      "t2_mean, pi_means: 1037.1071897711229 [0.5 0.5]\n"
     ]
    },
    {
     "name": "stderr",
     "output_type": "stream",
     "text": [
      "Computing transition matrices: 100%|██████████| 8/8 [00:00<00:00, 1166.87cluster/s]\n",
      "Processing Lag Times:  98%|█████████▊| 82/84 [01:32<00:00,  4.66lag/s]"
     ]
    },
    {
     "name": "stdout",
     "output_type": "stream",
     "text": [
      "transition_matrices.shape (8, 2, 2)\n",
      "[[[0.5 0.5]\n",
      "  [0.5 0.5]]\n",
      "\n",
      " [[0.5 0.5]\n",
      "  [0.5 0.5]]\n",
      "\n",
      " [[0.5 0.5]\n",
      "  [0.5 0.5]]\n",
      "\n",
      " [[0.5 0.5]\n",
      "  [0.5 0.5]]\n",
      "\n",
      " [[0.5 0.5]\n",
      "  [0.5 0.5]]\n",
      "\n",
      " [[0.5 0.5]\n",
      "  [0.5 0.5]]\n",
      "\n",
      " [[0.5 0.5]\n",
      "  [0.5 0.5]]\n",
      "\n",
      " [[0.5 0.5]\n",
      "  [0.5 0.5]]]\n",
      "t2_mean, pi_means: 1050.717520345547 [0.5 0.5]\n"
     ]
    },
    {
     "name": "stderr",
     "output_type": "stream",
     "text": [
      "Computing transition matrices: 100%|██████████| 8/8 [00:00<00:00, 1887.63cluster/s]\n",
      "Processing Lag Times:  99%|█████████▉| 83/84 [01:32<00:00,  4.08lag/s]"
     ]
    },
    {
     "name": "stdout",
     "output_type": "stream",
     "text": [
      "transition_matrices.shape (8, 2, 2)\n",
      "[[[0.5 0.5]\n",
      "  [0.5 0.5]]\n",
      "\n",
      " [[0.5 0.5]\n",
      "  [0.5 0.5]]\n",
      "\n",
      " [[0.5 0.5]\n",
      "  [0.5 0.5]]\n",
      "\n",
      " [[0.5 0.5]\n",
      "  [0.5 0.5]]\n",
      "\n",
      " [[0.5 0.5]\n",
      "  [0.5 0.5]]\n",
      "\n",
      " [[0.5 0.5]\n",
      "  [0.5 0.5]]\n",
      "\n",
      " [[0.5 0.5]\n",
      "  [0.5 0.5]]\n",
      "\n",
      " [[0.5 0.5]\n",
      "  [0.5 0.5]]]\n",
      "t2_mean, pi_means: 1064.327850919971 [0.5 0.5]\n"
     ]
    },
    {
     "name": "stderr",
     "output_type": "stream",
     "text": [
      "Computing transition matrices: 100%|██████████| 8/8 [00:00<00:00, 3276.16cluster/s]\n",
      "Processing Lag Times: 100%|██████████| 84/84 [01:32<00:00,  1.10s/lag]\n"
     ]
    },
    {
     "name": "stdout",
     "output_type": "stream",
     "text": [
      "transition_matrices.shape (8, 2, 2)\n",
      "[[[0.5 0.5]\n",
      "  [0.5 0.5]]\n",
      "\n",
      " [[0.5 0.5]\n",
      "  [0.5 0.5]]\n",
      "\n",
      " [[0.5 0.5]\n",
      "  [0.5 0.5]]\n",
      "\n",
      " [[0.5 0.5]\n",
      "  [0.5 0.5]]\n",
      "\n",
      " [[0.5 0.5]\n",
      "  [0.5 0.5]]\n",
      "\n",
      " [[0.5 0.5]\n",
      "  [0.5 0.5]]\n",
      "\n",
      " [[0.5 0.5]\n",
      "  [0.5 0.5]]\n",
      "\n",
      " [[0.5 0.5]\n",
      "  [0.5 0.5]]]\n",
      "t2_mean, pi_means: 1077.9381814943952 [0.5 0.5]\n",
      "Processing residue 1 with lagtimes = [5, 10, 25, 50, 100, 600, 1100, 1600, 2100, 2600, 3100, 3600, 4100, 4600, 5100, 5600, 6100, 6600, 7100, 7600, 8100, 8600, 9100, 9600, 10100, 10600, 11100, 11600, 12100, 12600, 13100, 13600, 14100, 14600, 15100, 15600, 16100, 16600, 17100, 17600, 18100, 18600, 19100, 19600, 20100, 20600, 21100, 21600, 22100, 22600, 23100, 23600, 24100, 24600, 25100, 25600, 26100, 26600, 27100, 27600, 28100, 28600, 29100, 29600, 30100, 30600, 31100, 31600, 32100, 32600, 33100, 33600, 34100, 34600, 35100, 35600, 36100, 36600, 37100, 37600, 38100, 38600, 39100, 39600]\n"
     ]
    },
    {
     "name": "stderr",
     "output_type": "stream",
     "text": [
      "Computing transition matrices: 100%|██████████| 8/8 [00:00<00:00, 2205.64cluster/s]\n",
      "Processing Lag Times:   1%|          | 1/84 [00:02<02:57,  2.14s/lag]"
     ]
    },
    {
     "name": "stdout",
     "output_type": "stream",
     "text": [
      "transition_matrices.shape (8, 2, 2)\n",
      "[[[0.91307127 0.08692873]\n",
      "  [0.09596483 0.90403517]]\n",
      "\n",
      " [[0.90673703 0.09326297]\n",
      "  [0.09933065 0.90066935]]\n",
      "\n",
      " [[0.91345655 0.08654345]\n",
      "  [0.09441942 0.90558058]]\n",
      "\n",
      " [[0.91205856 0.08794144]\n",
      "  [0.1004737  0.8995263 ]]\n",
      "\n",
      " [[0.916094   0.083906  ]\n",
      "  [0.09091022 0.90908978]]\n",
      "\n",
      " [[0.91771372 0.08228628]\n",
      "  [0.09078872 0.90921128]]\n",
      "\n",
      " [[0.91409542 0.08590458]\n",
      "  [0.09479916 0.90520084]]\n",
      "\n",
      " [[0.91561185 0.08438815]\n",
      "  [0.10366583 0.89633417]]]\n",
      "t2_mean, pi_means: 24.799513949336486 [0.52699208 0.47300792]\n"
     ]
    },
    {
     "name": "stderr",
     "output_type": "stream",
     "text": [
      "Computing transition matrices: 100%|██████████| 8/8 [00:00<00:00, 2701.65cluster/s]\n",
      "Processing Lag Times:   2%|▏         | 2/84 [00:04<03:02,  2.23s/lag]"
     ]
    },
    {
     "name": "stdout",
     "output_type": "stream",
     "text": [
      "transition_matrices.shape (8, 2, 2)\n",
      "[[[0.8772223  0.1227777 ]\n",
      "  [0.1264429  0.8735571 ]]\n",
      "\n",
      " [[0.87744227 0.12255773]\n",
      "  [0.13930063 0.86069937]]\n",
      "\n",
      " [[0.8729217  0.1270783 ]\n",
      "  [0.14501751 0.85498249]]\n",
      "\n",
      " [[0.88603674 0.11396326]\n",
      "  [0.13833433 0.86166567]]\n",
      "\n",
      " [[0.87288001 0.12711999]\n",
      "  [0.13717686 0.86282314]]\n",
      "\n",
      " [[0.8797103  0.1202897 ]\n",
      "  [0.1328945  0.8671055 ]]\n",
      "\n",
      " [[0.88898163 0.11101837]\n",
      "  [0.13680188 0.86319812]]\n",
      "\n",
      " [[0.86954778 0.13045222]\n",
      "  [0.14120984 0.85879016]]]\n",
      "t2_mean, pi_means: 33.372077181768994 [0.52954054 0.47045946]\n"
     ]
    },
    {
     "name": "stderr",
     "output_type": "stream",
     "text": [
      "Computing transition matrices: 100%|██████████| 8/8 [00:00<00:00, 2767.38cluster/s]\n",
      "Processing Lag Times:   4%|▎         | 3/84 [00:06<02:46,  2.05s/lag]"
     ]
    },
    {
     "name": "stdout",
     "output_type": "stream",
     "text": [
      "transition_matrices.shape (8, 2, 2)\n",
      "[[[0.80618416 0.19381584]\n",
      "  [0.2373788  0.7626212 ]]\n",
      "\n",
      " [[0.78748592 0.21251408]\n",
      "  [0.22013807 0.77986193]]\n",
      "\n",
      " [[0.7910632  0.2089368 ]\n",
      "  [0.23626351 0.76373649]]\n",
      "\n",
      " [[0.80376068 0.19623932]\n",
      "  [0.22529689 0.77470311]]\n",
      "\n",
      " [[0.78858798 0.21141202]\n",
      "  [0.22781754 0.77218246]]\n",
      "\n",
      " [[0.79169299 0.20830701]\n",
      "  [0.22248215 0.77751785]]\n",
      "\n",
      " [[0.80527638 0.19472362]\n",
      "  [0.22947181 0.77052819]]\n",
      "\n",
      " [[0.79608759 0.20391241]\n",
      "  [0.22413103 0.77586897]]]\n",
      "t2_mean, pi_means: 44.25736755278043 [0.5280231 0.4719769]\n"
     ]
    },
    {
     "name": "stderr",
     "output_type": "stream",
     "text": [
      "Computing transition matrices: 100%|██████████| 8/8 [00:00<00:00, 2367.66cluster/s]\n",
      "Processing Lag Times:   5%|▍         | 4/84 [00:08<02:42,  2.04s/lag]"
     ]
    },
    {
     "name": "stdout",
     "output_type": "stream",
     "text": [
      "transition_matrices.shape (8, 2, 2)\n",
      "[[[0.71016352 0.28983648]\n",
      "  [0.33577884 0.66422116]]\n",
      "\n",
      " [[0.70828543 0.29171457]\n",
      "  [0.32864643 0.67135357]]\n",
      "\n",
      " [[0.70835377 0.29164623]\n",
      "  [0.31664742 0.68335258]]\n",
      "\n",
      " [[0.6915178  0.3084822 ]\n",
      "  [0.33316797 0.66683203]]\n",
      "\n",
      " [[0.70321207 0.29678793]\n",
      "  [0.32410056 0.67589944]]\n",
      "\n",
      " [[0.7091129  0.2908871 ]\n",
      "  [0.33190084 0.66809916]]\n",
      "\n",
      " [[0.69853689 0.30146311]\n",
      "  [0.34658971 0.65341029]]\n",
      "\n",
      " [[0.70607159 0.29392841]\n",
      "  [0.32753612 0.67246388]]]\n",
      "t2_mean, pi_means: 50.81988122771333 [0.52788114 0.47211886]\n"
     ]
    },
    {
     "name": "stderr",
     "output_type": "stream",
     "text": [
      "Computing transition matrices: 100%|██████████| 8/8 [00:00<00:00, 2354.37cluster/s]\n",
      "Processing Lag Times:   6%|▌         | 5/84 [00:10<02:48,  2.13s/lag]"
     ]
    },
    {
     "name": "stdout",
     "output_type": "stream",
     "text": [
      "transition_matrices.shape (8, 2, 2)\n",
      "[[[0.59066359 0.40933641]\n",
      "  [0.47054229 0.52945771]]\n",
      "\n",
      " [[0.61138732 0.38861268]\n",
      "  [0.43438529 0.56561471]]\n",
      "\n",
      " [[0.62563797 0.37436203]\n",
      "  [0.44229696 0.55770304]]\n",
      "\n",
      " [[0.61444069 0.38555931]\n",
      "  [0.42627085 0.57372915]]\n",
      "\n",
      " [[0.59754546 0.40245454]\n",
      "  [0.42981093 0.57018907]]\n",
      "\n",
      " [[0.59646999 0.40353001]\n",
      "  [0.41270112 0.58729888]]\n",
      "\n",
      " [[0.61614663 0.38385337]\n",
      "  [0.44971773 0.55028227]]\n",
      "\n",
      " [[0.61209117 0.38790883]\n",
      "  [0.44474936 0.55525064]]]\n",
      "t2_mean, pi_means: 56.17640424371886 [0.52811858 0.47188142]\n"
     ]
    },
    {
     "name": "stderr",
     "output_type": "stream",
     "text": [
      "Computing transition matrices: 100%|██████████| 8/8 [00:00<00:00, 2707.97cluster/s]\n",
      "Processing Lag Times:   7%|▋         | 6/84 [00:12<02:38,  2.03s/lag]"
     ]
    },
    {
     "name": "stdout",
     "output_type": "stream",
     "text": [
      "transition_matrices.shape (8, 2, 2)\n",
      "[[[0.49475917 0.50524083]\n",
      "  [0.54801378 0.45198622]]\n",
      "\n",
      " [[0.50797712 0.49202288]\n",
      "  [0.54430902 0.45569098]]\n",
      "\n",
      " [[0.56242696 0.43757304]\n",
      "  [0.53348475 0.46651525]]\n",
      "\n",
      " [[0.52500943 0.47499057]\n",
      "  [0.53275683 0.46724317]]\n",
      "\n",
      " [[0.53378152 0.46621848]\n",
      "  [0.50367999 0.49632001]]\n",
      "\n",
      " [[0.54248163 0.45751837]\n",
      "  [0.57141555 0.42858445]]\n",
      "\n",
      " [[0.49463733 0.50536267]\n",
      "  [0.52953745 0.47046255]]\n",
      "\n",
      " [[0.5373322  0.4626678 ]\n",
      "  [0.52220681 0.47779319]]]\n",
      "t2_mean, pi_means: 160.73483770798728 [0.53001795 0.46998205]\n"
     ]
    },
    {
     "name": "stderr",
     "output_type": "stream",
     "text": [
      "Computing transition matrices: 100%|██████████| 8/8 [00:00<00:00, 1815.32cluster/s]\n",
      "Processing Lag Times:   8%|▊         | 7/84 [00:14<02:39,  2.07s/lag]"
     ]
    },
    {
     "name": "stdout",
     "output_type": "stream",
     "text": [
      "transition_matrices.shape (8, 2, 2)\n",
      "[[[0.51342912 0.48657088]\n",
      "  [0.54065673 0.45934327]]\n",
      "\n",
      " [[0.51295972 0.48704028]\n",
      "  [0.56245148 0.43754852]]\n",
      "\n",
      " [[0.52086686 0.47913314]\n",
      "  [0.52100233 0.47899767]]\n",
      "\n",
      " [[0.52803768 0.47196232]\n",
      "  [0.52382229 0.47617771]]\n",
      "\n",
      " [[0.53982319 0.46017681]\n",
      "  [0.54260931 0.45739069]]\n",
      "\n",
      " [[0.54060901 0.45939099]\n",
      "  [0.50839349 0.49160651]]\n",
      "\n",
      " [[0.54594401 0.45405599]\n",
      "  [0.56482891 0.43517109]]\n",
      "\n",
      " [[0.52820776 0.47179224]\n",
      "  [0.50696905 0.49303095]]]\n",
      "t2_mean, pi_means: 263.9621822601762 [0.53099671 0.46900329]\n"
     ]
    },
    {
     "name": "stderr",
     "output_type": "stream",
     "text": [
      "Computing transition matrices: 100%|██████████| 8/8 [00:00<00:00, 320.79cluster/s]\n",
      "Processing Lag Times:  10%|▉         | 8/84 [00:16<02:36,  2.06s/lag]"
     ]
    },
    {
     "name": "stdout",
     "output_type": "stream",
     "text": [
      "transition_matrices.shape (8, 2, 2)\n",
      "[[[0.53575607 0.46424393]\n",
      "  [0.52993267 0.47006733]]\n",
      "\n",
      " [[0.50826452 0.49173548]\n",
      "  [0.53502796 0.46497204]]\n",
      "\n",
      " [[0.53600595 0.46399405]\n",
      "  [0.50409162 0.49590838]]\n",
      "\n",
      " [[0.55203529 0.44796471]\n",
      "  [0.54184953 0.45815047]]\n",
      "\n",
      " [[0.53095418 0.46904582]\n",
      "  [0.52667937 0.47332063]]\n",
      "\n",
      " [[0.53801729 0.46198271]\n",
      "  [0.55262577 0.44737423]]\n",
      "\n",
      " [[0.53686116 0.46313884]\n",
      "  [0.52296233 0.47703767]]\n",
      "\n",
      " [[0.52398679 0.47601321]\n",
      "  [0.52370403 0.47629597]]]\n",
      "t2_mean, pi_means: 320.4429846233975 [0.53125612 0.46874388]\n"
     ]
    },
    {
     "name": "stderr",
     "output_type": "stream",
     "text": [
      "Computing transition matrices: 100%|██████████| 8/8 [00:00<00:00, 1364.72cluster/s]\n",
      "Processing Lag Times:  11%|█         | 9/84 [00:18<02:35,  2.07s/lag]"
     ]
    },
    {
     "name": "stdout",
     "output_type": "stream",
     "text": [
      "transition_matrices.shape (8, 2, 2)\n",
      "[[[0.52520502 0.47479498]\n",
      "  [0.54008116 0.45991884]]\n",
      "\n",
      " [[0.52919158 0.47080842]\n",
      "  [0.52939124 0.47060876]]\n",
      "\n",
      " [[0.5277531  0.4722469 ]\n",
      "  [0.5196716  0.4803284 ]]\n",
      "\n",
      " [[0.51825458 0.48174542]\n",
      "  [0.5302598  0.4697402 ]]\n",
      "\n",
      " [[0.53877928 0.46122072]\n",
      "  [0.54451383 0.45548617]]\n",
      "\n",
      " [[0.52901101 0.47098899]\n",
      "  [0.54569578 0.45430422]]\n",
      "\n",
      " [[0.51398442 0.48601558]\n",
      "  [0.54183874 0.45816126]]\n",
      "\n",
      " [[0.55029614 0.44970386]\n",
      "  [0.52224563 0.47775437]]]\n",
      "t2_mean, pi_means: 506.0762239048912 [0.53149344 0.46850656]\n"
     ]
    },
    {
     "name": "stderr",
     "output_type": "stream",
     "text": [
      "Computing transition matrices: 100%|██████████| 8/8 [00:00<00:00, 2861.54cluster/s]\n",
      "Processing Lag Times:  12%|█▏        | 10/84 [00:20<02:22,  1.93s/lag]"
     ]
    },
    {
     "name": "stdout",
     "output_type": "stream",
     "text": [
      "transition_matrices.shape (8, 2, 2)\n",
      "[[[0.5378084  0.4621916 ]\n",
      "  [0.52014956 0.47985044]]\n",
      "\n",
      " [[0.53608767 0.46391233]\n",
      "  [0.55130996 0.44869004]]\n",
      "\n",
      " [[0.51423646 0.48576354]\n",
      "  [0.51398541 0.48601459]]\n",
      "\n",
      " [[0.53557903 0.46442097]\n",
      "  [0.535902   0.464098  ]]\n",
      "\n",
      " [[0.52574904 0.47425096]\n",
      "  [0.53272964 0.46727036]]\n",
      "\n",
      " [[0.54061094 0.45938906]\n",
      "  [0.53513572 0.46486428]]\n",
      "\n",
      " [[0.52701651 0.47298349]\n",
      "  [0.52780946 0.47219054]]\n",
      "\n",
      " [[0.52364228 0.47635772]\n",
      "  [0.53759428 0.46240572]]]\n",
      "t2_mean, pi_means: 465.4911522458641 [0.53088671 0.46911329]\n"
     ]
    },
    {
     "name": "stderr",
     "output_type": "stream",
     "text": [
      "Computing transition matrices: 100%|██████████| 8/8 [00:00<00:00, 1648.79cluster/s]\n",
      "Processing Lag Times:  13%|█▎        | 11/84 [00:22<02:20,  1.92s/lag]"
     ]
    },
    {
     "name": "stdout",
     "output_type": "stream",
     "text": [
      "transition_matrices.shape (8, 2, 2)\n",
      "[[[0.50545103 0.49454897]\n",
      "  [0.53995452 0.46004548]]\n",
      "\n",
      " [[0.53063999 0.46936001]\n",
      "  [0.53354455 0.46645545]]\n",
      "\n",
      " [[0.52442829 0.47557171]\n",
      "  [0.51121821 0.48878179]]\n",
      "\n",
      " [[0.53542092 0.46457908]\n",
      "  [0.54931231 0.45068769]]\n",
      "\n",
      " [[0.53491619 0.46508381]\n",
      "  [0.54812034 0.45187966]]\n",
      "\n",
      " [[0.52824673 0.47175327]\n",
      "  [0.51482676 0.48517324]]\n",
      "\n",
      " [[0.55491011 0.44508989]\n",
      "  [0.54622489 0.45377511]]\n",
      "\n",
      " [[0.50916421 0.49083579]\n",
      "  [0.53586174 0.46413826]]]\n",
      "t2_mean, pi_means: 695.5588917333974 [0.53119224 0.46880776]\n"
     ]
    },
    {
     "name": "stderr",
     "output_type": "stream",
     "text": [
      "Computing transition matrices: 100%|██████████| 8/8 [00:00<00:00, 2002.41cluster/s]\n",
      "Processing Lag Times:  14%|█▍        | 12/84 [00:23<02:12,  1.83s/lag]"
     ]
    },
    {
     "name": "stdout",
     "output_type": "stream",
     "text": [
      "transition_matrices.shape (8, 2, 2)\n",
      "[[[0.56795212 0.43204788]\n",
      "  [0.53498364 0.46501636]]\n",
      "\n",
      " [[0.53593315 0.46406685]\n",
      "  [0.51469082 0.48530918]]\n",
      "\n",
      " [[0.5112437  0.4887563 ]\n",
      "  [0.53804088 0.46195912]]\n",
      "\n",
      " [[0.54937039 0.45062961]\n",
      "  [0.52969754 0.47030246]]\n",
      "\n",
      " [[0.5355443  0.4644557 ]\n",
      "  [0.53208024 0.46791976]]\n",
      "\n",
      " [[0.50608837 0.49391163]\n",
      "  [0.5335895  0.4664105 ]]\n",
      "\n",
      " [[0.53516715 0.46483285]\n",
      "  [0.53694262 0.46305738]]\n",
      "\n",
      " [[0.52245377 0.47754623]\n",
      "  [0.53103167 0.46896833]]]\n",
      "t2_mean, pi_means: 870.4941758581025 [0.5323943 0.4676057]\n"
     ]
    },
    {
     "name": "stderr",
     "output_type": "stream",
     "text": [
      "Computing transition matrices: 100%|██████████| 8/8 [00:00<00:00, 1571.42cluster/s]\n",
      "Processing Lag Times:  15%|█▌        | 13/84 [00:25<02:08,  1.81s/lag]"
     ]
    },
    {
     "name": "stdout",
     "output_type": "stream",
     "text": [
      "transition_matrices.shape (8, 2, 2)\n",
      "[[[0.54232138 0.45767862]\n",
      "  [0.5382448  0.4617552 ]]\n",
      "\n",
      " [[0.55580404 0.44419596]\n",
      "  [0.56406641 0.43593359]]\n",
      "\n",
      " [[0.54338722 0.45661278]\n",
      "  [0.53051939 0.46948061]]\n",
      "\n",
      " [[0.51040175 0.48959825]\n",
      "  [0.51973668 0.48026332]]\n",
      "\n",
      " [[0.50760957 0.49239043]\n",
      "  [0.52957324 0.47042676]]\n",
      "\n",
      " [[0.51718361 0.48281639]\n",
      "  [0.50023776 0.49976224]]\n",
      "\n",
      " [[0.54187634 0.45812366]\n",
      "  [0.564968   0.435032  ]]\n",
      "\n",
      " [[0.50930592 0.49069408]\n",
      "  [0.51801469 0.48198531]]]\n",
      "t2_mean, pi_means: 890.2813640526867 [0.53063355 0.46936645]\n"
     ]
    },
    {
     "name": "stderr",
     "output_type": "stream",
     "text": [
      "Computing transition matrices: 100%|██████████| 8/8 [00:00<00:00, 2214.23cluster/s]\n",
      "Processing Lag Times:  17%|█▋        | 14/84 [00:28<02:22,  2.03s/lag]"
     ]
    },
    {
     "name": "stdout",
     "output_type": "stream",
     "text": [
      "transition_matrices.shape (8, 2, 2)\n",
      "[[[0.54560632 0.45439368]\n",
      "  [0.53116026 0.46883974]]\n",
      "\n",
      " [[0.52620388 0.47379612]\n",
      "  [0.52671    0.47329   ]]\n",
      "\n",
      " [[0.52260716 0.47739284]\n",
      "  [0.50648479 0.49351521]]\n",
      "\n",
      " [[0.53567099 0.46432901]\n",
      "  [0.51653312 0.48346688]]\n",
      "\n",
      " [[0.52693709 0.47306291]\n",
      "  [0.54474927 0.45525073]]\n",
      "\n",
      " [[0.5446138  0.4553862 ]\n",
      "  [0.53436363 0.46563637]]\n",
      "\n",
      " [[0.51403322 0.48596678]\n",
      "  [0.51536604 0.48463396]]\n",
      "\n",
      " [[0.53580177 0.46419823]\n",
      "  [0.52734304 0.47265696]]]\n",
      "t2_mean, pi_means: 1063.691469961566 [0.52855257 0.47144743]\n"
     ]
    },
    {
     "name": "stderr",
     "output_type": "stream",
     "text": [
      "Computing transition matrices: 100%|██████████| 8/8 [00:00<00:00, 1890.39cluster/s]\n",
      "Processing Lag Times:  18%|█▊        | 15/84 [00:30<02:24,  2.09s/lag]"
     ]
    },
    {
     "name": "stdout",
     "output_type": "stream",
     "text": [
      "transition_matrices.shape (8, 2, 2)\n",
      "[[[0.52472504 0.47527496]\n",
      "  [0.5270361  0.4729639 ]]\n",
      "\n",
      " [[0.53580882 0.46419118]\n",
      "  [0.54050654 0.45949346]]\n",
      "\n",
      " [[0.52574153 0.47425847]\n",
      "  [0.48488768 0.51511232]]\n",
      "\n",
      " [[0.53951347 0.46048653]\n",
      "  [0.51277101 0.48722899]]\n",
      "\n",
      " [[0.53747037 0.46252963]\n",
      "  [0.5521527  0.4478473 ]]\n",
      "\n",
      " [[0.51376857 0.48623143]\n",
      "  [0.53165819 0.46834181]]\n",
      "\n",
      " [[0.54618119 0.45381881]\n",
      "  [0.51531147 0.48468853]]\n",
      "\n",
      " [[0.52233078 0.47766922]\n",
      "  [0.53831592 0.46168408]]]\n",
      "t2_mean, pi_means: 1487.8182094073795 [0.52803137 0.47196863]\n"
     ]
    },
    {
     "name": "stderr",
     "output_type": "stream",
     "text": [
      "Computing transition matrices: 100%|██████████| 8/8 [00:00<00:00, 1905.09cluster/s]\n",
      "Processing Lag Times:  19%|█▉        | 16/84 [00:32<02:23,  2.11s/lag]"
     ]
    },
    {
     "name": "stdout",
     "output_type": "stream",
     "text": [
      "transition_matrices.shape (8, 2, 2)\n",
      "[[[0.53437804 0.46562196]\n",
      "  [0.54564301 0.45435699]]\n",
      "\n",
      " [[0.51323934 0.48676066]\n",
      "  [0.54509408 0.45490592]]\n",
      "\n",
      " [[0.52909958 0.47090042]\n",
      "  [0.49540793 0.50459207]]\n",
      "\n",
      " [[0.51817154 0.48182846]\n",
      "  [0.53749387 0.46250613]]\n",
      "\n",
      " [[0.48597764 0.51402236]\n",
      "  [0.52380112 0.47619888]]\n",
      "\n",
      " [[0.56403894 0.43596106]\n",
      "  [0.54557962 0.45442038]]\n",
      "\n",
      " [[0.53549657 0.46450343]\n",
      "  [0.53621828 0.46378172]]\n",
      "\n",
      " [[0.5185551  0.4814449 ]\n",
      "  [0.50946244 0.49053756]]]\n",
      "t2_mean, pi_means: 1402.7754951349493 [0.52729217 0.47270783]\n"
     ]
    },
    {
     "name": "stderr",
     "output_type": "stream",
     "text": [
      "Computing transition matrices: 100%|██████████| 8/8 [00:00<00:00, 1400.84cluster/s]\n",
      "Processing Lag Times:  20%|██        | 17/84 [00:34<02:14,  2.01s/lag]"
     ]
    },
    {
     "name": "stdout",
     "output_type": "stream",
     "text": [
      "transition_matrices.shape (8, 2, 2)\n",
      "[[[0.55019594 0.44980406]\n",
      "  [0.50857063 0.49142937]]\n",
      "\n",
      " [[0.53808784 0.46191216]\n",
      "  [0.52034307 0.47965693]]\n",
      "\n",
      " [[0.52973635 0.47026365]\n",
      "  [0.53125786 0.46874214]]\n",
      "\n",
      " [[0.5452362  0.4547638 ]\n",
      "  [0.49655729 0.50344271]]\n",
      "\n",
      " [[0.53552502 0.46447498]\n",
      "  [0.53035866 0.46964134]]\n",
      "\n",
      " [[0.53850669 0.46149331]\n",
      "  [0.51071522 0.48928478]]\n",
      "\n",
      " [[0.50699363 0.49300637]\n",
      "  [0.54856149 0.45143851]]\n",
      "\n",
      " [[0.52489591 0.47510409]\n",
      "  [0.53527755 0.46472245]]]\n",
      "t2_mean, pi_means: 1631.400847539575 [0.52846169 0.47153831]\n"
     ]
    },
    {
     "name": "stderr",
     "output_type": "stream",
     "text": [
      "Computing transition matrices: 100%|██████████| 8/8 [00:00<00:00, 2574.97cluster/s]\n",
      "Processing Lag Times:  21%|██▏       | 18/84 [00:37<02:29,  2.27s/lag]"
     ]
    },
    {
     "name": "stdout",
     "output_type": "stream",
     "text": [
      "transition_matrices.shape (8, 2, 2)\n",
      "[[[0.50637677 0.49362323]\n",
      "  [0.53292419 0.46707581]]\n",
      "\n",
      " [[0.53216819 0.46783181]\n",
      "  [0.55783988 0.44216012]]\n",
      "\n",
      " [[0.55799077 0.44200923]\n",
      "  [0.54400913 0.45599087]]\n",
      "\n",
      " [[0.52511979 0.47488021]\n",
      "  [0.49549684 0.50450316]]\n",
      "\n",
      " [[0.53834932 0.46165068]\n",
      "  [0.54629459 0.45370541]]\n",
      "\n",
      " [[0.52780561 0.47219439]\n",
      "  [0.54929152 0.45070848]]\n",
      "\n",
      " [[0.5175039  0.4824961 ]\n",
      "  [0.54394616 0.45605384]]\n",
      "\n",
      " [[0.50620559 0.49379441]\n",
      "  [0.51115927 0.48884073]]]\n",
      "t2_mean, pi_means: 1702.5784557625957 [0.53045816 0.46954184]\n"
     ]
    },
    {
     "name": "stderr",
     "output_type": "stream",
     "text": [
      "Computing transition matrices: 100%|██████████| 8/8 [00:00<00:00, 410.20cluster/s]\n",
      "Processing Lag Times:  23%|██▎       | 19/84 [00:39<02:33,  2.36s/lag]"
     ]
    },
    {
     "name": "stdout",
     "output_type": "stream",
     "text": [
      "transition_matrices.shape (8, 2, 2)\n",
      "[[[0.51809763 0.48190237]\n",
      "  [0.52202133 0.47797867]]\n",
      "\n",
      " [[0.52751331 0.47248669]\n",
      "  [0.49977153 0.50022847]]\n",
      "\n",
      " [[0.54963861 0.45036139]\n",
      "  [0.52497079 0.47502921]]\n",
      "\n",
      " [[0.5286981  0.4713019 ]\n",
      "  [0.51816542 0.48183458]]\n",
      "\n",
      " [[0.52734339 0.47265661]\n",
      "  [0.51331037 0.48668963]]\n",
      "\n",
      " [[0.50183324 0.49816676]\n",
      "  [0.53476791 0.46523209]]\n",
      "\n",
      " [[0.56167024 0.43832976]\n",
      "  [0.52063251 0.47936749]]\n",
      "\n",
      " [[0.55442249 0.44557751]\n",
      "  [0.54491553 0.45508447]]]\n",
      "t2_mean, pi_means: 1794.7438783944435 [0.52841669 0.47158331]\n"
     ]
    },
    {
     "name": "stderr",
     "output_type": "stream",
     "text": [
      "Computing transition matrices: 100%|██████████| 8/8 [00:00<00:00, 2650.85cluster/s]\n",
      "Processing Lag Times:  24%|██▍       | 20/84 [00:41<02:21,  2.21s/lag]"
     ]
    },
    {
     "name": "stdout",
     "output_type": "stream",
     "text": [
      "transition_matrices.shape (8, 2, 2)\n",
      "[[[0.51125511 0.48874489]\n",
      "  [0.4898567  0.5101433 ]]\n",
      "\n",
      " [[0.55017326 0.44982674]\n",
      "  [0.51357605 0.48642395]]\n",
      "\n",
      " [[0.57137058 0.42862942]\n",
      "  [0.5440109  0.4559891 ]]\n",
      "\n",
      " [[0.50876008 0.49123992]\n",
      "  [0.53960773 0.46039227]]\n",
      "\n",
      " [[0.54550904 0.45449096]\n",
      "  [0.54194366 0.45805634]]\n",
      "\n",
      " [[0.52296867 0.47703133]\n",
      "  [0.52189935 0.47810065]]\n",
      "\n",
      " [[0.5153843  0.4846157 ]\n",
      "  [0.52223187 0.47776813]]\n",
      "\n",
      " [[0.53309701 0.46690299]\n",
      "  [0.56406967 0.43593033]]]\n",
      "t2_mean, pi_means: 1704.0751142504632 [0.53107151 0.46892849]\n"
     ]
    },
    {
     "name": "stderr",
     "output_type": "stream",
     "text": [
      "Computing transition matrices: 100%|██████████| 8/8 [00:00<00:00, 2460.72cluster/s]\n",
      "Processing Lag Times:  25%|██▌       | 21/84 [00:43<02:11,  2.09s/lag]"
     ]
    },
    {
     "name": "stdout",
     "output_type": "stream",
     "text": [
      "transition_matrices.shape (8, 2, 2)\n",
      "[[[0.51725944 0.48274056]\n",
      "  [0.51464168 0.48535832]]\n",
      "\n",
      " [[0.5223412  0.4776588 ]\n",
      "  [0.50071434 0.49928566]]\n",
      "\n",
      " [[0.52355095 0.47644905]\n",
      "  [0.53323318 0.46676682]]\n",
      "\n",
      " [[0.52883623 0.47116377]\n",
      "  [0.54643497 0.45356503]]\n",
      "\n",
      " [[0.50506947 0.49493053]\n",
      "  [0.52357337 0.47642663]]\n",
      "\n",
      " [[0.52865702 0.47134298]\n",
      "  [0.53674011 0.46325989]]\n",
      "\n",
      " [[0.51829789 0.48170211]\n",
      "  [0.53636384 0.46363616]]\n",
      "\n",
      " [[0.53935858 0.46064142]\n",
      "  [0.53003232 0.46996768]]]\n",
      "t2_mean, pi_means: 1708.526782205323 [0.52515564 0.47484436]\n"
     ]
    },
    {
     "name": "stderr",
     "output_type": "stream",
     "text": [
      "Computing transition matrices: 100%|██████████| 8/8 [00:00<00:00, 2552.83cluster/s]\n",
      "Processing Lag Times:  26%|██▌       | 22/84 [00:44<01:58,  1.92s/lag]"
     ]
    },
    {
     "name": "stdout",
     "output_type": "stream",
     "text": [
      "transition_matrices.shape (8, 2, 2)\n",
      "[[[0.52094186 0.47905814]\n",
      "  [0.54156289 0.45843711]]\n",
      "\n",
      " [[0.52505573 0.47494427]\n",
      "  [0.5148378  0.4851622 ]]\n",
      "\n",
      " [[0.51994866 0.48005134]\n",
      "  [0.5255881  0.4744119 ]]\n",
      "\n",
      " [[0.51932148 0.48067852]\n",
      "  [0.56425053 0.43574947]]\n",
      "\n",
      " [[0.51665127 0.48334873]\n",
      "  [0.53810868 0.46189132]]\n",
      "\n",
      " [[0.52829121 0.47170879]\n",
      "  [0.51638204 0.48361796]]\n",
      "\n",
      " [[0.53595884 0.46404116]\n",
      "  [0.4914261  0.5085739 ]]\n",
      "\n",
      " [[0.54013646 0.45986354]\n",
      "  [0.54217101 0.45782899]]]\n",
      "t2_mean, pi_means: 2159.179123068433 [0.52727689 0.47272311]\n"
     ]
    },
    {
     "name": "stderr",
     "output_type": "stream",
     "text": [
      "Computing transition matrices: 100%|██████████| 8/8 [00:00<00:00, 2503.69cluster/s]\n",
      "Processing Lag Times:  27%|██▋       | 23/84 [00:46<01:48,  1.79s/lag]"
     ]
    },
    {
     "name": "stdout",
     "output_type": "stream",
     "text": [
      "transition_matrices.shape (8, 2, 2)\n",
      "[[[0.54979242 0.45020758]\n",
      "  [0.54780973 0.45219027]]\n",
      "\n",
      " [[0.47693548 0.52306452]\n",
      "  [0.48737084 0.51262916]]\n",
      "\n",
      " [[0.52815167 0.47184833]\n",
      "  [0.52255085 0.47744915]]\n",
      "\n",
      " [[0.51412148 0.48587852]\n",
      "  [0.55143437 0.44856563]]\n",
      "\n",
      " [[0.55752673 0.44247327]\n",
      "  [0.5486212  0.4513788 ]]\n",
      "\n",
      " [[0.51964316 0.48035684]\n",
      "  [0.51160448 0.48839552]]\n",
      "\n",
      " [[0.50118374 0.49881626]\n",
      "  [0.51944547 0.48055453]]\n",
      "\n",
      " [[0.51272893 0.48727107]\n",
      "  [0.54683951 0.45316049]]]\n",
      "t2_mean, pi_means: 1747.8395184876974 [0.52457014 0.47542986]\n"
     ]
    },
    {
     "name": "stderr",
     "output_type": "stream",
     "text": [
      "Computing transition matrices: 100%|██████████| 8/8 [00:00<00:00, 1141.73cluster/s]\n",
      "Processing Lag Times:  29%|██▊       | 24/84 [00:47<01:41,  1.69s/lag]"
     ]
    },
    {
     "name": "stdout",
     "output_type": "stream",
     "text": [
      "transition_matrices.shape (8, 2, 2)\n",
      "[[[0.53519461 0.46480539]\n",
      "  [0.51120146 0.48879854]]\n",
      "\n",
      " [[0.50788664 0.49211336]\n",
      "  [0.54151677 0.45848323]]\n",
      "\n",
      " [[0.54314368 0.45685632]\n",
      "  [0.54705093 0.45294907]]\n",
      "\n",
      " [[0.51814652 0.48185348]\n",
      "  [0.55623269 0.44376731]]\n",
      "\n",
      " [[0.54275596 0.45724404]\n",
      "  [0.50256616 0.49743384]]\n",
      "\n",
      " [[0.50939239 0.49060761]\n",
      "  [0.5472704  0.4527296 ]]\n",
      "\n",
      " [[0.49985248 0.50014752]\n",
      "  [0.48023467 0.51976533]]\n",
      "\n",
      " [[0.50960385 0.49039615]\n",
      "  [0.54716068 0.45283932]]]\n",
      "t2_mean, pi_means: 2657.670010526872 [0.52456498 0.47543502]\n"
     ]
    },
    {
     "name": "stderr",
     "output_type": "stream",
     "text": [
      "Computing transition matrices: 100%|██████████| 8/8 [00:00<00:00, 4001.72cluster/s]\n",
      "Processing Lag Times:  30%|██▉       | 25/84 [00:49<01:36,  1.64s/lag]"
     ]
    },
    {
     "name": "stdout",
     "output_type": "stream",
     "text": [
      "transition_matrices.shape (8, 2, 2)\n",
      "[[[0.51485024 0.48514976]\n",
      "  [0.52395583 0.47604417]]\n",
      "\n",
      " [[0.55075707 0.44924293]\n",
      "  [0.56019803 0.43980197]]\n",
      "\n",
      " [[0.51331777 0.48668223]\n",
      "  [0.52279472 0.47720528]]\n",
      "\n",
      " [[0.51996049 0.48003951]\n",
      "  [0.55677907 0.44322093]]\n",
      "\n",
      " [[0.51496805 0.48503195]\n",
      "  [0.51426802 0.48573198]]\n",
      "\n",
      " [[0.48416243 0.51583757]\n",
      "  [0.52658445 0.47341555]]\n",
      "\n",
      " [[0.52081925 0.47918075]\n",
      "  [0.53639163 0.46360837]]\n",
      "\n",
      " [[0.53678308 0.46321692]\n",
      "  [0.53748794 0.46251206]]]\n",
      "t2_mean, pi_means: 1390.344500134546 [0.52676748 0.47323252]\n"
     ]
    },
    {
     "name": "stderr",
     "output_type": "stream",
     "text": [
      "Computing transition matrices: 100%|██████████| 8/8 [00:00<00:00, 2170.40cluster/s]\n",
      "Processing Lag Times:  31%|███       | 26/84 [00:50<01:29,  1.55s/lag]"
     ]
    },
    {
     "name": "stdout",
     "output_type": "stream",
     "text": [
      "transition_matrices.shape (8, 2, 2)\n",
      "[[[0.53073836 0.46926164]\n",
      "  [0.55942074 0.44057926]]\n",
      "\n",
      " [[0.52529247 0.47470753]\n",
      "  [0.53068175 0.46931825]]\n",
      "\n",
      " [[0.54210262 0.45789738]\n",
      "  [0.53887312 0.46112688]]\n",
      "\n",
      " [[0.51462864 0.48537136]\n",
      "  [0.54227138 0.45772862]]\n",
      "\n",
      " [[0.50317606 0.49682394]\n",
      "  [0.51271881 0.48728119]]\n",
      "\n",
      " [[0.5340513  0.4659487 ]\n",
      "  [0.53578443 0.46421557]]\n",
      "\n",
      " [[0.51859274 0.48140726]\n",
      "  [0.48675462 0.51324538]]\n",
      "\n",
      " [[0.55367341 0.44632659]\n",
      "  [0.51346326 0.48653674]]]\n",
      "t2_mean, pi_means: 2656.4449142589024 [0.52755369 0.47244631]\n"
     ]
    },
    {
     "name": "stderr",
     "output_type": "stream",
     "text": [
      "Computing transition matrices: 100%|██████████| 8/8 [00:00<00:00, 2390.26cluster/s]\n",
      "Processing Lag Times:  32%|███▏      | 27/84 [00:52<01:25,  1.49s/lag]"
     ]
    },
    {
     "name": "stdout",
     "output_type": "stream",
     "text": [
      "transition_matrices.shape (8, 2, 2)\n",
      "[[[0.58388714 0.41611286]\n",
      "  [0.54513219 0.45486781]]\n",
      "\n",
      " [[0.49634488 0.50365512]\n",
      "  [0.52377686 0.47622314]]\n",
      "\n",
      " [[0.52101843 0.47898157]\n",
      "  [0.4940716  0.5059284 ]]\n",
      "\n",
      " [[0.58855891 0.41144109]\n",
      "  [0.55727657 0.44272343]]\n",
      "\n",
      " [[0.51169139 0.48830861]\n",
      "  [0.54659151 0.45340849]]\n",
      "\n",
      " [[0.49637225 0.50362775]\n",
      "  [0.51268874 0.48731126]]\n",
      "\n",
      " [[0.56270165 0.43729835]\n",
      "  [0.55034168 0.44965832]]\n",
      "\n",
      " [[0.48061452 0.51938548]\n",
      "  [0.49269106 0.50730894]]]\n",
      "t2_mean, pi_means: 3035.483235045157 [0.52957334 0.47042666]\n"
     ]
    },
    {
     "name": "stderr",
     "output_type": "stream",
     "text": [
      "Computing transition matrices: 100%|██████████| 8/8 [00:00<00:00, 4872.14cluster/s]\n",
      "Processing Lag Times:  33%|███▎      | 28/84 [00:53<01:22,  1.48s/lag]"
     ]
    },
    {
     "name": "stdout",
     "output_type": "stream",
     "text": [
      "transition_matrices.shape (8, 2, 2)\n",
      "[[[0.51386463 0.48613537]\n",
      "  [0.49979847 0.50020153]]\n",
      "\n",
      " [[0.53066041 0.46933959]\n",
      "  [0.54954809 0.45045191]]\n",
      "\n",
      " [[0.49264164 0.50735836]\n",
      "  [0.46726301 0.53273699]]\n",
      "\n",
      " [[0.51934219 0.48065781]\n",
      "  [0.53810763 0.46189237]]\n",
      "\n",
      " [[0.50628931 0.49371069]\n",
      "  [0.52507438 0.47492562]]\n",
      "\n",
      " [[0.52257228 0.47742772]\n",
      "  [0.49922952 0.50077048]]\n",
      "\n",
      " [[0.57062647 0.42937353]\n",
      "  [0.53281448 0.46718552]]\n",
      "\n",
      " [[0.5465578  0.4534422 ]\n",
      "  [0.55775146 0.44224854]]]\n",
      "t2_mean, pi_means: 3113.098511235036 [0.52322504 0.47677496]\n"
     ]
    },
    {
     "name": "stderr",
     "output_type": "stream",
     "text": [
      "Computing transition matrices: 100%|██████████| 8/8 [00:00<00:00, 118.10cluster/s]\n",
      "Processing Lag Times:  35%|███▍      | 29/84 [00:55<01:30,  1.65s/lag]"
     ]
    },
    {
     "name": "stdout",
     "output_type": "stream",
     "text": [
      "transition_matrices.shape (8, 2, 2)\n",
      "[[[0.56493718 0.43506282]\n",
      "  [0.50919008 0.49080992]]\n",
      "\n",
      " [[0.52560304 0.47439696]\n",
      "  [0.51327782 0.48672218]]\n",
      "\n",
      " [[0.55937755 0.44062245]\n",
      "  [0.52524026 0.47475974]]\n",
      "\n",
      " [[0.52898346 0.47101654]\n",
      "  [0.51282115 0.48717885]]\n",
      "\n",
      " [[0.50364483 0.49635517]\n",
      "  [0.50772957 0.49227043]]\n",
      "\n",
      " [[0.50080124 0.49919876]\n",
      "  [0.49611568 0.50388432]]\n",
      "\n",
      " [[0.54446427 0.45553573]\n",
      "  [0.53855509 0.46144491]]\n",
      "\n",
      " [[0.54314878 0.45685122]\n",
      "  [0.54782063 0.45217937]]]\n",
      "t2_mean, pi_means: 2939.3921323608006 [0.52689121 0.47310879]\n"
     ]
    },
    {
     "name": "stderr",
     "output_type": "stream",
     "text": [
      "Computing transition matrices: 100%|██████████| 8/8 [00:00<00:00, 1084.92cluster/s]\n",
      "Processing Lag Times:  36%|███▌      | 30/84 [00:57<01:28,  1.65s/lag]"
     ]
    },
    {
     "name": "stdout",
     "output_type": "stream",
     "text": [
      "transition_matrices.shape (8, 2, 2)\n",
      "[[[0.51346642 0.48653358]\n",
      "  [0.5443199  0.4556801 ]]\n",
      "\n",
      " [[0.47939707 0.52060293]\n",
      "  [0.55675944 0.44324056]]\n",
      "\n",
      " [[0.56914289 0.43085711]\n",
      "  [0.51710206 0.48289794]]\n",
      "\n",
      " [[0.53506389 0.46493611]\n",
      "  [0.5065409  0.4934591 ]]\n",
      "\n",
      " [[0.57466432 0.42533568]\n",
      "  [0.54972557 0.45027443]]\n",
      "\n",
      " [[0.52802455 0.47197545]\n",
      "  [0.52932388 0.47067612]]\n",
      "\n",
      " [[0.50825532 0.49174468]\n",
      "  [0.51907571 0.48092429]]\n",
      "\n",
      " [[0.51335989 0.48664011]\n",
      "  [0.54469253 0.45530747]]]\n",
      "t2_mean, pi_means: 3721.559388217116 [0.53072472 0.46927528]\n"
     ]
    },
    {
     "name": "stderr",
     "output_type": "stream",
     "text": [
      "Computing transition matrices: 100%|██████████| 8/8 [00:00<00:00, 2385.33cluster/s]\n",
      "Processing Lag Times:  37%|███▋      | 31/84 [00:58<01:23,  1.58s/lag]"
     ]
    },
    {
     "name": "stdout",
     "output_type": "stream",
     "text": [
      "transition_matrices.shape (8, 2, 2)\n",
      "[[[0.50722252 0.49277748]\n",
      "  [0.54853362 0.45146638]]\n",
      "\n",
      " [[0.50841456 0.49158544]\n",
      "  [0.47567595 0.52432405]]\n",
      "\n",
      " [[0.51024915 0.48975085]\n",
      "  [0.5557139  0.4442861 ]]\n",
      "\n",
      " [[0.58914022 0.41085978]\n",
      "  [0.57127539 0.42872461]]\n",
      "\n",
      " [[0.57223762 0.42776238]\n",
      "  [0.51609669 0.48390331]]\n",
      "\n",
      " [[0.62290909 0.37709091]\n",
      "  [0.58286842 0.41713158]]\n",
      "\n",
      " [[0.50280154 0.49719846]\n",
      "  [0.47103833 0.52896167]]\n",
      "\n",
      " [[0.48850861 0.51149139]\n",
      "  [0.51956505 0.48043495]]]\n",
      "t2_mean, pi_means: 3877.898391802879 [0.53451784 0.46548216]\n"
     ]
    },
    {
     "name": "stderr",
     "output_type": "stream",
     "text": [
      "Computing transition matrices: 100%|██████████| 8/8 [00:00<00:00, 3872.41cluster/s]\n",
      "Processing Lag Times:  38%|███▊      | 32/84 [00:59<01:18,  1.51s/lag]"
     ]
    },
    {
     "name": "stdout",
     "output_type": "stream",
     "text": [
      "transition_matrices.shape (8, 2, 2)\n",
      "[[[0.5456342  0.4543658 ]\n",
      "  [0.53459015 0.46540985]]\n",
      "\n",
      " [[0.50467129 0.49532871]\n",
      "  [0.52553049 0.47446951]]\n",
      "\n",
      " [[0.53151882 0.46848118]\n",
      "  [0.56557224 0.43442776]]\n",
      "\n",
      " [[0.51395619 0.48604381]\n",
      "  [0.5379977  0.4620023 ]]\n",
      "\n",
      " [[0.47418539 0.52581461]\n",
      "  [0.54076332 0.45923668]]\n",
      "\n",
      " [[0.48939531 0.51060469]\n",
      "  [0.49410364 0.50589636]]\n",
      "\n",
      " [[0.5498495  0.4501505 ]\n",
      "  [0.52433125 0.47566875]]\n",
      "\n",
      " [[0.49777695 0.50222305]\n",
      "  [0.500419   0.499581  ]]]\n",
      "t2_mean, pi_means: 3345.1363198192466 [0.52045304 0.47954696]\n"
     ]
    },
    {
     "name": "stderr",
     "output_type": "stream",
     "text": [
      "Computing transition matrices: 100%|██████████| 8/8 [00:00<00:00, 2304.72cluster/s]\n",
      "Processing Lag Times:  39%|███▉      | 33/84 [01:01<01:13,  1.44s/lag]"
     ]
    },
    {
     "name": "stdout",
     "output_type": "stream",
     "text": [
      "transition_matrices.shape (8, 2, 2)\n",
      "[[[0.50849438 0.49150562]\n",
      "  [0.52455553 0.47544447]]\n",
      "\n",
      " [[0.52940421 0.47059579]\n",
      "  [0.52936268 0.47063732]]\n",
      "\n",
      " [[0.51824047 0.48175953]\n",
      "  [0.47885267 0.52114733]]\n",
      "\n",
      " [[0.51179732 0.48820268]\n",
      "  [0.51347954 0.48652046]]\n",
      "\n",
      " [[0.51416366 0.48583634]\n",
      "  [0.54482328 0.45517672]]\n",
      "\n",
      " [[0.50114497 0.49885503]\n",
      "  [0.50608953 0.49391047]]\n",
      "\n",
      " [[0.50150488 0.49849512]\n",
      "  [0.50921596 0.49078404]]\n",
      "\n",
      " [[0.58500579 0.41499421]\n",
      "  [0.55518483 0.44481517]]]\n",
      "t2_mean, pi_means: 2902.6932210301507 [0.52081718 0.47918282]\n"
     ]
    },
    {
     "name": "stderr",
     "output_type": "stream",
     "text": [
      "Computing transition matrices: 100%|██████████| 8/8 [00:00<00:00, 3891.27cluster/s]\n",
      "Processing Lag Times:  40%|████      | 34/84 [01:02<01:10,  1.40s/lag]"
     ]
    },
    {
     "name": "stdout",
     "output_type": "stream",
     "text": [
      "transition_matrices.shape (8, 2, 2)\n",
      "[[[0.52225497 0.47774503]\n",
      "  [0.45521112 0.54478888]]\n",
      "\n",
      " [[0.49366741 0.50633259]\n",
      "  [0.53070095 0.46929905]]\n",
      "\n",
      " [[0.54270864 0.45729136]\n",
      "  [0.51968754 0.48031246]]\n",
      "\n",
      " [[0.49630856 0.50369144]\n",
      "  [0.51237855 0.48762145]]\n",
      "\n",
      " [[0.57590266 0.42409734]\n",
      "  [0.55183508 0.44816492]]\n",
      "\n",
      " [[0.49869284 0.50130716]\n",
      "  [0.49445594 0.50554406]]\n",
      "\n",
      " [[0.51273916 0.48726084]\n",
      "  [0.59843588 0.40156412]]\n",
      "\n",
      " [[0.48347552 0.51652448]\n",
      "  [0.52392334 0.47607666]]]\n",
      "t2_mean, pi_means: 3846.6114174906925 [0.51907997 0.48092003]\n"
     ]
    },
    {
     "name": "stderr",
     "output_type": "stream",
     "text": [
      "Computing transition matrices: 100%|██████████| 8/8 [00:00<00:00, 1753.65cluster/s]\n",
      "Processing Lag Times:  42%|████▏     | 35/84 [01:04<01:09,  1.41s/lag]"
     ]
    },
    {
     "name": "stdout",
     "output_type": "stream",
     "text": [
      "transition_matrices.shape (8, 2, 2)\n",
      "[[[0.5293441  0.4706559 ]\n",
      "  [0.57665223 0.42334777]]\n",
      "\n",
      " [[0.52027677 0.47972323]\n",
      "  [0.50420953 0.49579047]]\n",
      "\n",
      " [[0.52025796 0.47974204]\n",
      "  [0.53728373 0.46271627]]\n",
      "\n",
      " [[0.52395559 0.47604441]\n",
      "  [0.54843738 0.45156262]]\n",
      "\n",
      " [[0.54793414 0.45206586]\n",
      "  [0.533601   0.466399  ]]\n",
      "\n",
      " [[0.4988849  0.5011151 ]\n",
      "  [0.43799908 0.56200092]]\n",
      "\n",
      " [[0.47179715 0.52820285]\n",
      "  [0.47125066 0.52874934]]\n",
      "\n",
      " [[0.58532697 0.41467303]\n",
      "  [0.56572311 0.43427689]]]\n",
      "t2_mean, pi_means: 3521.43717366454 [0.52287099 0.47712901]\n"
     ]
    },
    {
     "name": "stderr",
     "output_type": "stream",
     "text": [
      "Computing transition matrices: 100%|██████████| 8/8 [00:00<00:00, 2474.52cluster/s]\n",
      "Processing Lag Times:  43%|████▎     | 36/84 [01:05<01:11,  1.48s/lag]"
     ]
    },
    {
     "name": "stdout",
     "output_type": "stream",
     "text": [
      "transition_matrices.shape (8, 2, 2)\n",
      "[[[0.48273891 0.51726109]\n",
      "  [0.55113974 0.44886026]]\n",
      "\n",
      " [[0.51162187 0.48837813]\n",
      "  [0.47180406 0.52819594]]\n",
      "\n",
      " [[0.58959511 0.41040489]\n",
      "  [0.54328842 0.45671158]]\n",
      "\n",
      " [[0.52593421 0.47406579]\n",
      "  [0.50280132 0.49719868]]\n",
      "\n",
      " [[0.51988948 0.48011052]\n",
      "  [0.5271299  0.4728701 ]]\n",
      "\n",
      " [[0.5950145  0.4049855 ]\n",
      "  [0.5252255  0.4747745 ]]\n",
      "\n",
      " [[0.56086289 0.43913711]\n",
      "  [0.5587315  0.4412685 ]]\n",
      "\n",
      " [[0.52637685 0.47362315]\n",
      "  [0.45493804 0.54506196]]]\n",
      "t2_mean, pi_means: 4555.784898456559 [0.52867935 0.47132065]\n"
     ]
    },
    {
     "name": "stderr",
     "output_type": "stream",
     "text": [
      "Computing transition matrices: 100%|██████████| 8/8 [00:00<00:00, 2515.70cluster/s]\n",
      "Processing Lag Times:  44%|████▍     | 37/84 [01:07<01:12,  1.55s/lag]"
     ]
    },
    {
     "name": "stdout",
     "output_type": "stream",
     "text": [
      "transition_matrices.shape (8, 2, 2)\n",
      "[[[0.49898169 0.50101831]\n",
      "  [0.54591116 0.45408884]]\n",
      "\n",
      " [[0.55925841 0.44074159]\n",
      "  [0.53948286 0.46051714]]\n",
      "\n",
      " [[0.60426244 0.39573756]\n",
      "  [0.61401068 0.38598932]]\n",
      "\n",
      " [[0.51449501 0.48550499]\n",
      "  [0.57059884 0.42940116]]\n",
      "\n",
      " [[0.4106348  0.5893652 ]\n",
      "  [0.50487092 0.49512908]]\n",
      "\n",
      " [[0.49757296 0.50242704]\n",
      "  [0.51122412 0.48877588]]\n",
      "\n",
      " [[0.55893214 0.44106786]\n",
      "  [0.57582232 0.42417768]]\n",
      "\n",
      " [[0.44380717 0.55619283]\n",
      "  [0.48561951 0.51438049]]]\n",
      "t2_mean, pi_means: 4103.679029762703 [0.52728684 0.47271316]\n"
     ]
    },
    {
     "name": "stderr",
     "output_type": "stream",
     "text": [
      "Computing transition matrices: 100%|██████████| 8/8 [00:00<00:00, 2154.65cluster/s]\n",
      "Processing Lag Times:  45%|████▌     | 38/84 [01:08<01:09,  1.52s/lag]"
     ]
    },
    {
     "name": "stdout",
     "output_type": "stream",
     "text": [
      "transition_matrices.shape (8, 2, 2)\n",
      "[[[0.47711069 0.52288931]\n",
      "  [0.53569912 0.46430088]]\n",
      "\n",
      " [[0.4638949  0.5361051 ]\n",
      "  [0.49343242 0.50656758]]\n",
      "\n",
      " [[0.49165058 0.50834942]\n",
      "  [0.47827798 0.52172202]]\n",
      "\n",
      " [[0.56347728 0.43652272]\n",
      "  [0.54765604 0.45234396]]\n",
      "\n",
      " [[0.56941629 0.43058371]\n",
      "  [0.62293558 0.37706442]]\n",
      "\n",
      " [[0.51545376 0.48454624]\n",
      "  [0.52336096 0.47663904]]\n",
      "\n",
      " [[0.5418478  0.4581522 ]\n",
      "  [0.54385531 0.45614469]]\n",
      "\n",
      " [[0.60461892 0.39538108]\n",
      "  [0.56731077 0.43268923]]]\n",
      "t2_mean, pi_means: 4268.1335354812545 [0.53364424 0.46635576]\n"
     ]
    },
    {
     "name": "stderr",
     "output_type": "stream",
     "text": [
      "Computing transition matrices: 100%|██████████| 8/8 [00:00<00:00, 2778.83cluster/s]\n",
      "Processing Lag Times:  46%|████▋     | 39/84 [01:10<01:05,  1.46s/lag]"
     ]
    },
    {
     "name": "stdout",
     "output_type": "stream",
     "text": [
      "transition_matrices.shape (8, 2, 2)\n",
      "[[[0.45466359 0.54533641]\n",
      "  [0.68459969 0.31540031]]\n",
      "\n",
      " [[0.56220547 0.43779453]\n",
      "  [0.57263863 0.42736137]]\n",
      "\n",
      " [[0.51368205 0.48631795]\n",
      "  [0.55115019 0.44884981]]\n",
      "\n",
      " [[0.48546524 0.51453476]\n",
      "  [0.44710981 0.55289019]]\n",
      "\n",
      " [[0.54485822 0.45514178]\n",
      "  [0.59712599 0.40287401]]\n",
      "\n",
      " [[0.51925797 0.48074203]\n",
      "  [0.53098916 0.46901084]]\n",
      "\n",
      " [[0.50237104 0.49762896]\n",
      "  [0.50480437 0.49519563]]\n",
      "\n",
      " [[0.50163158 0.49836842]\n",
      "  [0.50560939 0.49439061]]]\n",
      "t2_mean, pi_means: 5244.016774844382 [0.52737643 0.47262357]\n"
     ]
    },
    {
     "name": "stderr",
     "output_type": "stream",
     "text": [
      "Computing transition matrices: 100%|██████████| 8/8 [00:00<00:00, 3663.15cluster/s]\n",
      "Processing Lag Times:  48%|████▊     | 40/84 [01:11<01:04,  1.47s/lag]"
     ]
    },
    {
     "name": "stdout",
     "output_type": "stream",
     "text": [
      "transition_matrices.shape (8, 2, 2)\n",
      "[[[0.57963233 0.42036767]\n",
      "  [0.5495616  0.4504384 ]]\n",
      "\n",
      " [[0.52772123 0.47227877]\n",
      "  [0.56329373 0.43670627]]\n",
      "\n",
      " [[0.42666267 0.57333733]\n",
      "  [0.50138644 0.49861356]]\n",
      "\n",
      " [[0.47532829 0.52467171]\n",
      "  [0.49505076 0.50494924]]\n",
      "\n",
      " [[0.56617258 0.43382742]\n",
      "  [0.53901801 0.46098199]]\n",
      "\n",
      " [[0.51551529 0.48448471]\n",
      "  [0.49950854 0.50049146]]\n",
      "\n",
      " [[0.55706864 0.44293136]\n",
      "  [0.52196469 0.47803531]]\n",
      "\n",
      " [[0.56495656 0.43504344]\n",
      "  [0.50628656 0.49371344]]]\n",
      "t2_mean, pi_means: 5085.860388585936 [0.52537991 0.47462009]\n"
     ]
    },
    {
     "name": "stderr",
     "output_type": "stream",
     "text": [
      "Computing transition matrices: 100%|██████████| 8/8 [00:00<00:00, 2888.89cluster/s]\n",
      "Processing Lag Times:  49%|████▉     | 41/84 [01:12<01:00,  1.41s/lag]"
     ]
    },
    {
     "name": "stdout",
     "output_type": "stream",
     "text": [
      "transition_matrices.shape (8, 2, 2)\n",
      "[[[0.55174189 0.44825811]\n",
      "  [0.52188361 0.47811639]]\n",
      "\n",
      " [[0.61326752 0.38673248]\n",
      "  [0.49825691 0.50174309]]\n",
      "\n",
      " [[0.52382178 0.47617822]\n",
      "  [0.48462791 0.51537209]]\n",
      "\n",
      " [[0.63580155 0.36419845]\n",
      "  [0.50792168 0.49207832]]\n",
      "\n",
      " [[0.50734556 0.49265444]\n",
      "  [0.53875186 0.46124814]]\n",
      "\n",
      " [[0.59894216 0.40105784]\n",
      "  [0.47751072 0.52248928]]\n",
      "\n",
      " [[0.42361129 0.57638871]\n",
      "  [0.49580372 0.50419628]]\n",
      "\n",
      " [[0.55320819 0.44679181]\n",
      "  [0.55711929 0.44288071]]]\n",
      "t2_mean, pi_means: 7113.3253307704435 [0.53387208 0.46612792]\n"
     ]
    },
    {
     "name": "stderr",
     "output_type": "stream",
     "text": [
      "Computing transition matrices: 100%|██████████| 8/8 [00:00<00:00, 1548.00cluster/s]\n",
      "Processing Lag Times:  50%|█████     | 42/84 [01:14<00:56,  1.35s/lag]"
     ]
    },
    {
     "name": "stdout",
     "output_type": "stream",
     "text": [
      "transition_matrices.shape (8, 2, 2)\n",
      "[[[0.4848742  0.5151258 ]\n",
      "  [0.54429344 0.45570656]]\n",
      "\n",
      " [[0.65217783 0.34782217]\n",
      "  [0.60981804 0.39018196]]\n",
      "\n",
      " [[0.5339602  0.4660398 ]\n",
      "  [0.58424993 0.41575007]]\n",
      "\n",
      " [[0.5747399  0.4252601 ]\n",
      "  [0.56601542 0.43398458]]\n",
      "\n",
      " [[0.47937279 0.52062721]\n",
      "  [0.59012074 0.40987926]]\n",
      "\n",
      " [[0.44571091 0.55428909]\n",
      "  [0.50185549 0.49814451]]\n",
      "\n",
      " [[0.47578184 0.52421816]\n",
      "  [0.49648135 0.50351865]]\n",
      "\n",
      " [[0.46618862 0.53381138]\n",
      "  [0.51614395 0.48385605]]]\n",
      "t2_mean, pi_means: 4803.956251836966 [0.53278612 0.46721388]\n"
     ]
    },
    {
     "name": "stderr",
     "output_type": "stream",
     "text": [
      "Computing transition matrices: 100%|██████████| 8/8 [00:00<00:00, 4929.40cluster/s]\n",
      "Processing Lag Times:  51%|█████     | 43/84 [01:15<00:53,  1.30s/lag]"
     ]
    },
    {
     "name": "stdout",
     "output_type": "stream",
     "text": [
      "transition_matrices.shape (8, 2, 2)\n",
      "[[[0.56442977 0.43557023]\n",
      "  [0.55038743 0.44961257]]\n",
      "\n",
      " [[0.59308686 0.40691314]\n",
      "  [0.66397447 0.33602553]]\n",
      "\n",
      " [[0.54482252 0.45517748]\n",
      "  [0.53143291 0.46856709]]\n",
      "\n",
      " [[0.51611027 0.48388973]\n",
      "  [0.55404542 0.44595458]]\n",
      "\n",
      " [[0.57631552 0.42368448]\n",
      "  [0.49643811 0.50356189]]\n",
      "\n",
      " [[0.53890683 0.46109317]\n",
      "  [0.61631541 0.38368459]]\n",
      "\n",
      " [[0.47313647 0.52686353]\n",
      "  [0.48280621 0.51719379]]\n",
      "\n",
      " [[0.5452314  0.4547686 ]\n",
      "  [0.47783512 0.52216488]]]\n",
      "t2_mean, pi_means: 5707.488805332198 [0.54410107 0.45589893]\n"
     ]
    },
    {
     "name": "stderr",
     "output_type": "stream",
     "text": [
      "Computing transition matrices: 100%|██████████| 8/8 [00:00<00:00, 3219.27cluster/s]\n",
      "Processing Lag Times:  52%|█████▏    | 44/84 [01:16<00:50,  1.25s/lag]"
     ]
    },
    {
     "name": "stdout",
     "output_type": "stream",
     "text": [
      "transition_matrices.shape (8, 2, 2)\n",
      "[[[0.57553754 0.42446246]\n",
      "  [0.5046969  0.4953031 ]]\n",
      "\n",
      " [[0.51530028 0.48469972]\n",
      "  [0.52539757 0.47460243]]\n",
      "\n",
      " [[0.43241681 0.56758319]\n",
      "  [0.53263952 0.46736048]]\n",
      "\n",
      " [[0.5247619  0.4752381 ]\n",
      "  [0.56892726 0.43107274]]\n",
      "\n",
      " [[0.5856364  0.4143636 ]\n",
      "  [0.57768555 0.42231445]]\n",
      "\n",
      " [[0.57076766 0.42923234]\n",
      "  [0.59363247 0.40636753]]\n",
      "\n",
      " [[0.48266886 0.51733114]\n",
      "  [0.51620416 0.48379584]]\n",
      "\n",
      " [[0.55254054 0.44745946]\n",
      "  [0.6347319  0.3652681 ]]]\n",
      "t2_mean, pi_means: 5478.705443004035 [0.54262022 0.45737978]\n"
     ]
    },
    {
     "name": "stderr",
     "output_type": "stream",
     "text": [
      "Computing transition matrices: 100%|██████████| 8/8 [00:00<00:00, 3528.70cluster/s]\n",
      "Processing Lag Times:  54%|█████▎    | 45/84 [01:17<00:46,  1.19s/lag]"
     ]
    },
    {
     "name": "stdout",
     "output_type": "stream",
     "text": [
      "transition_matrices.shape (8, 2, 2)\n",
      "[[[0.58068431 0.41931569]\n",
      "  [0.53702916 0.46297084]]\n",
      "\n",
      " [[0.62690535 0.37309465]\n",
      "  [0.59211135 0.40788865]]\n",
      "\n",
      " [[0.42222831 0.57777169]\n",
      "  [0.43452103 0.56547897]]\n",
      "\n",
      " [[0.51051754 0.48948246]\n",
      "  [0.53654817 0.46345183]]\n",
      "\n",
      " [[0.41405659 0.58594341]\n",
      "  [0.54765078 0.45234922]]\n",
      "\n",
      " [[0.51627248 0.48372752]\n",
      "  [0.44857282 0.55142718]]\n",
      "\n",
      " [[0.51672623 0.48327377]\n",
      "  [0.54212592 0.45787408]]\n",
      "\n",
      " [[0.63974759 0.36025241]\n",
      "  [0.5687946  0.4312054 ]]]\n",
      "t2_mean, pi_means: 6831.992739983946 [0.52904595 0.47095405]\n"
     ]
    },
    {
     "name": "stderr",
     "output_type": "stream",
     "text": [
      "Computing transition matrices: 100%|██████████| 8/8 [00:00<00:00, 1841.53cluster/s]\n",
      "Processing Lag Times:  55%|█████▍    | 46/84 [01:18<00:43,  1.15s/lag]"
     ]
    },
    {
     "name": "stdout",
     "output_type": "stream",
     "text": [
      "transition_matrices.shape (8, 2, 2)\n",
      "[[[0.53689198 0.46310802]\n",
      "  [0.47599497 0.52400503]]\n",
      "\n",
      " [[0.669546   0.330454  ]\n",
      "  [0.78402177 0.21597823]]\n",
      "\n",
      " [[0.45015252 0.54984748]\n",
      "  [0.50720362 0.49279638]]\n",
      "\n",
      " [[0.59858218 0.40141782]\n",
      "  [0.58522525 0.41477475]]\n",
      "\n",
      " [[0.50461488 0.49538512]\n",
      "  [0.50151321 0.49848679]]\n",
      "\n",
      " [[0.69444803 0.30555197]\n",
      "  [0.59705432 0.40294568]]\n",
      "\n",
      " [[0.60888518 0.39111482]\n",
      "  [0.54353011 0.45646989]]\n",
      "\n",
      " [[0.52439563 0.47560437]\n",
      "  [0.492254   0.507746  ]]]\n",
      "t2_mean, pi_means: 6072.824956181994 [0.5672521 0.4327479]\n"
     ]
    },
    {
     "name": "stderr",
     "output_type": "stream",
     "text": [
      "Computing transition matrices: 100%|██████████| 8/8 [00:00<00:00, 1826.89cluster/s]\n",
      "Processing Lag Times:  56%|█████▌    | 47/84 [01:19<00:41,  1.11s/lag]"
     ]
    },
    {
     "name": "stdout",
     "output_type": "stream",
     "text": [
      "transition_matrices.shape (8, 2, 2)\n",
      "[[[0.49065477 0.50934523]\n",
      "  [0.50094243 0.49905757]]\n",
      "\n",
      " [[0.49449476 0.50550524]\n",
      "  [0.51762304 0.48237696]]\n",
      "\n",
      " [[0.48020938 0.51979062]\n",
      "  [0.44272854 0.55727146]]\n",
      "\n",
      " [[0.61161185 0.38838815]\n",
      "  [0.59351405 0.40648595]]\n",
      "\n",
      " [[0.59827603 0.40172397]\n",
      "  [0.61308441 0.38691559]]\n",
      "\n",
      " [[0.74673851 0.25326149]\n",
      "  [0.55031754 0.44968246]]\n",
      "\n",
      " [[0.46821002 0.53178998]\n",
      "  [0.44952004 0.55047996]]\n",
      "\n",
      " [[0.52788829 0.47211171]\n",
      "  [0.54582282 0.45417718]]]\n",
      "t2_mean, pi_means: 6942.254041564604 [0.54368053 0.45631947]\n"
     ]
    },
    {
     "name": "stderr",
     "output_type": "stream",
     "text": [
      "Computing transition matrices: 100%|██████████| 8/8 [00:00<00:00, 1147.32cluster/s]\n",
      "Processing Lag Times:  57%|█████▋    | 48/84 [01:20<00:39,  1.10s/lag]"
     ]
    },
    {
     "name": "stdout",
     "output_type": "stream",
     "text": [
      "transition_matrices.shape (8, 2, 2)\n",
      "[[[0.55441467 0.44558533]\n",
      "  [0.63574208 0.36425792]]\n",
      "\n",
      " [[0.54891544 0.45108456]\n",
      "  [0.53420988 0.46579012]]\n",
      "\n",
      " [[0.5        0.5       ]\n",
      "  [0.5        0.5       ]]\n",
      "\n",
      " [[0.51587155 0.48412845]\n",
      "  [0.5075055  0.4924945 ]]\n",
      "\n",
      " [[0.36121312 0.63878688]\n",
      "  [0.38190794 0.61809206]]\n",
      "\n",
      " [[0.50551185 0.49448815]\n",
      "  [0.54464164 0.45535836]]\n",
      "\n",
      " [[0.4772471  0.5227529 ]\n",
      "  [0.43956571 0.56043429]]\n",
      "\n",
      " [[0.65606936 0.34393064]\n",
      "  [0.74702939 0.25297061]]]\n",
      "t2_mean, pi_means: 3076.1147941092668 [0.52271467 0.47728533]\n"
     ]
    },
    {
     "name": "stderr",
     "output_type": "stream",
     "text": [
      "Computing transition matrices: 100%|██████████| 8/8 [00:00<00:00, 2049.75cluster/s]\n",
      "Processing Lag Times:  58%|█████▊    | 49/84 [01:21<00:36,  1.03s/lag]"
     ]
    },
    {
     "name": "stdout",
     "output_type": "stream",
     "text": [
      "transition_matrices.shape (8, 2, 2)\n",
      "[[[0.54913767 0.45086233]\n",
      "  [0.54451951 0.45548049]]\n",
      "\n",
      " [[0.54390806 0.45609194]\n",
      "  [0.54097672 0.45902328]]\n",
      "\n",
      " [[0.43577107 0.56422893]\n",
      "  [0.39814193 0.60185807]]\n",
      "\n",
      " [[0.51969152 0.48030848]\n",
      "  [0.49674872 0.50325128]]\n",
      "\n",
      " [[0.54200385 0.45799615]\n",
      "  [0.48106996 0.51893004]]\n",
      "\n",
      " [[0.63938835 0.36061165]\n",
      "  [0.5312286  0.4687714 ]]\n",
      "\n",
      " [[0.40276026 0.59723974]\n",
      "  [0.3291623  0.6708377 ]]\n",
      "\n",
      " [[0.44935831 0.55064169]\n",
      "  [0.36776106 0.63223894]]]\n",
      "t2_mean, pi_means: 6600.208570242414 [0.48442796 0.51557204]\n"
     ]
    },
    {
     "name": "stderr",
     "output_type": "stream",
     "text": [
      "Computing transition matrices: 100%|██████████| 8/8 [00:00<00:00, 3334.77cluster/s]\n",
      "Processing Lag Times:  60%|█████▉    | 50/84 [01:22<00:34,  1.01s/lag]"
     ]
    },
    {
     "name": "stdout",
     "output_type": "stream",
     "text": [
      "transition_matrices.shape (8, 2, 2)\n",
      "[[[0.54132231 0.45867769]\n",
      "  [0.32113821 0.67886179]]\n",
      "\n",
      " [[0.45607559 0.54392441]\n",
      "  [0.41344236 0.58655764]]\n",
      "\n",
      " [[0.60350964 0.39649036]\n",
      "  [0.5536743  0.4463257 ]]\n",
      "\n",
      " [[0.06069364 0.93930636]\n",
      "  [0.07322835 0.92677165]]\n",
      "\n",
      " [[0.49361532 0.50638468]\n",
      "  [0.64779153 0.35220847]]\n",
      "\n",
      " [[0.5        0.5       ]\n",
      "  [0.46972383 0.53027617]]\n",
      "\n",
      " [[0.5389764  0.4610236 ]\n",
      "  [0.47563485 0.52436515]]\n",
      "\n",
      " [[0.5        0.5       ]\n",
      "  [0.5        0.5       ]]]\n",
      "t2_mean, pi_means: 5451.507769630176 [0.44401877 0.55598123]\n"
     ]
    },
    {
     "name": "stderr",
     "output_type": "stream",
     "text": [
      "Computing transition matrices: 100%|██████████| 8/8 [00:00<00:00, 1725.25cluster/s]\n",
      "Processing Lag Times:  61%|██████    | 51/84 [01:23<00:32,  1.03lag/s]"
     ]
    },
    {
     "name": "stdout",
     "output_type": "stream",
     "text": [
      "transition_matrices.shape (8, 2, 2)\n",
      "[[[0.62315135 0.37684865]\n",
      "  [0.57493139 0.42506861]]\n",
      "\n",
      " [[0.51646058 0.48353942]\n",
      "  [0.42705524 0.57294476]]\n",
      "\n",
      " [[0.44819922 0.55180078]\n",
      "  [0.44600256 0.55399744]]\n",
      "\n",
      " [[0.44522868 0.55477132]\n",
      "  [0.49211724 0.50788276]]\n",
      "\n",
      " [[0.58344814 0.41655186]\n",
      "  [0.53417861 0.46582139]]\n",
      "\n",
      " [[0.51517269 0.48482731]\n",
      "  [0.50933362 0.49066638]]\n",
      "\n",
      " [[0.42903472 0.57096528]\n",
      "  [0.44481029 0.55518971]]\n",
      "\n",
      " [[0.53041054 0.46958946]\n",
      "  [0.5604309  0.4395691 ]]]\n",
      "t2_mean, pi_means: 6242.577503682313 [0.50578625 0.49421375]\n"
     ]
    },
    {
     "name": "stderr",
     "output_type": "stream",
     "text": [
      "Computing transition matrices: 100%|██████████| 8/8 [00:00<00:00, 3202.68cluster/s]\n",
      "Processing Lag Times:  62%|██████▏   | 52/84 [01:24<00:30,  1.06lag/s]"
     ]
    },
    {
     "name": "stdout",
     "output_type": "stream",
     "text": [
      "transition_matrices.shape (8, 2, 2)\n",
      "[[[0.3651474  0.6348526 ]\n",
      "  [0.49088519 0.50911481]]\n",
      "\n",
      " [[0.64648872 0.35351128]\n",
      "  [0.60762087 0.39237913]]\n",
      "\n",
      " [[0.5        0.5       ]\n",
      "  [0.5        0.5       ]]\n",
      "\n",
      " [[0.39402784 0.60597216]\n",
      "  [0.46760822 0.53239178]]\n",
      "\n",
      " [[0.66936051 0.33063949]\n",
      "  [0.88284066 0.11715934]]\n",
      "\n",
      " [[0.5473191  0.4526809 ]\n",
      "  [0.50154777 0.49845223]]\n",
      "\n",
      " [[0.3451409  0.6548591 ]\n",
      "  [0.31949458 0.68050542]]\n",
      "\n",
      " [[0.55128876 0.44871124]\n",
      "  [0.55454919 0.44545081]]]\n",
      "t2_mean, pi_means: 3894.8851825164375 [0.51719916 0.48280084]\n"
     ]
    },
    {
     "name": "stderr",
     "output_type": "stream",
     "text": [
      "Computing transition matrices: 100%|██████████| 8/8 [00:00<00:00, 2097.41cluster/s]\n",
      "Processing Lag Times:  63%|██████▎   | 53/84 [01:25<00:28,  1.08lag/s]"
     ]
    },
    {
     "name": "stdout",
     "output_type": "stream",
     "text": [
      "transition_matrices.shape (8, 2, 2)\n",
      "[[[0.44140127 0.55859873]\n",
      "  [0.50668747 0.49331253]]\n",
      "\n",
      " [[0.41777609 0.58222391]\n",
      "  [0.49088146 0.50911854]]\n",
      "\n",
      " [[0.8968073  0.1031927 ]\n",
      "  [0.72936763 0.27063237]]\n",
      "\n",
      " [[0.48990809 0.51009191]\n",
      "  [0.52950387 0.47049613]]\n",
      "\n",
      " [[0.44506667 0.55493333]\n",
      "  [0.52739018 0.47260982]]\n",
      "\n",
      " [[0.77361564 0.22638436]\n",
      "  [0.63507853 0.36492147]]\n",
      "\n",
      " [[0.67254174 0.32745826]\n",
      "  [0.54625763 0.45374237]]\n",
      "\n",
      " [[0.5421045  0.4578955 ]\n",
      "  [0.50124927 0.49875073]]]\n",
      "t2_mean, pi_means: 10960.626794624568 [0.58634535 0.41365465]\n"
     ]
    },
    {
     "name": "stderr",
     "output_type": "stream",
     "text": [
      "Computing transition matrices: 100%|██████████| 8/8 [00:00<00:00, 2153.55cluster/s]\n",
      "Processing Lag Times:  64%|██████▍   | 54/84 [01:25<00:26,  1.12lag/s]"
     ]
    },
    {
     "name": "stdout",
     "output_type": "stream",
     "text": [
      "transition_matrices.shape (8, 2, 2)\n",
      "[[[0.55394685 0.44605315]\n",
      "  [0.7435505  0.2564495 ]]\n",
      "\n",
      " [[0.46313679 0.53686321]\n",
      "  [0.4934329  0.5065671 ]]\n",
      "\n",
      " [[0.69978106 0.30021894]\n",
      "  [0.57708895 0.42291105]]\n",
      "\n",
      " [[0.57650273 0.42349727]\n",
      "  [0.86015326 0.13984674]]\n",
      "\n",
      " [[0.48594682 0.51405318]\n",
      "  [0.37105243 0.62894757]]\n",
      "\n",
      " [[0.54002965 0.45997035]\n",
      "  [0.50304821 0.49695179]]\n",
      "\n",
      " [[0.5        0.5       ]\n",
      "  [0.5        0.5       ]]\n",
      "\n",
      " [[0.67225839 0.32774161]\n",
      "  [0.69000617 0.30999383]]]\n",
      "t2_mean, pi_means: 5079.981585496896 [0.5689251 0.4310749]\n"
     ]
    },
    {
     "name": "stderr",
     "output_type": "stream",
     "text": [
      "Computing transition matrices: 100%|██████████| 8/8 [00:00<00:00, 2458.56cluster/s]\n",
      "Processing Lag Times:  65%|██████▌   | 55/84 [01:26<00:25,  1.15lag/s]"
     ]
    },
    {
     "name": "stdout",
     "output_type": "stream",
     "text": [
      "transition_matrices.shape (8, 2, 2)\n",
      "[[[0.53895201 0.46104799]\n",
      "  [0.44244197 0.55755803]]\n",
      "\n",
      " [[0.52592712 0.47407288]\n",
      "  [0.62252964 0.37747036]]\n",
      "\n",
      " [[0.5        0.5       ]\n",
      "  [0.5        0.5       ]]\n",
      "\n",
      " [[0.5        0.5       ]\n",
      "  [0.5        0.5       ]]\n",
      "\n",
      " [[0.59235936 0.40764064]\n",
      "  [0.56313444 0.43686556]]\n",
      "\n",
      " [[0.43619347 0.56380653]\n",
      "  [0.33967599 0.66032401]]\n",
      "\n",
      " [[0.43444542 0.56555458]\n",
      "  [0.26508081 0.73491919]]\n",
      "\n",
      " [[0.39971197 0.60028803]\n",
      "  [0.49699173 0.50300827]]]\n",
      "t2_mean, pi_means: 4188.970708755522 [0.473188 0.526812]\n"
     ]
    },
    {
     "name": "stderr",
     "output_type": "stream",
     "text": [
      "Computing transition matrices: 100%|██████████| 8/8 [00:00<00:00, 2191.24cluster/s]\n",
      "Processing Lag Times:  67%|██████▋   | 56/84 [01:27<00:23,  1.20lag/s]"
     ]
    },
    {
     "name": "stdout",
     "output_type": "stream",
     "text": [
      "transition_matrices.shape (8, 2, 2)\n",
      "[[[0.5        0.5       ]\n",
      "  [0.5        0.5       ]]\n",
      "\n",
      " [[0.5        0.5       ]\n",
      "  [0.5        0.5       ]]\n",
      "\n",
      " [[0.69328957 0.30671043]\n",
      "  [0.47912317 0.52087683]]\n",
      "\n",
      " [[0.51737766 0.48262234]\n",
      "  [0.45360045 0.54639955]]\n",
      "\n",
      " [[0.46725784 0.53274216]\n",
      "  [0.40698714 0.59301286]]\n",
      "\n",
      " [[0.46564531 0.53435469]\n",
      "  [0.33449818 0.66550182]]\n",
      "\n",
      " [[0.5        0.5       ]\n",
      "  [0.5        0.5       ]]\n",
      "\n",
      " [[0.71584861 0.28415139]\n",
      "  [0.52444098 0.47555902]]]\n",
      "t2_mean, pi_means: 4178.787011371054 [0.50760803 0.49239197]\n"
     ]
    },
    {
     "name": "stderr",
     "output_type": "stream",
     "text": [
      "Computing transition matrices: 100%|██████████| 8/8 [00:00<00:00, 2311.39cluster/s]\n",
      "Processing Lag Times:  68%|██████▊   | 57/84 [01:28<00:21,  1.24lag/s]"
     ]
    },
    {
     "name": "stdout",
     "output_type": "stream",
     "text": [
      "transition_matrices.shape (8, 2, 2)\n",
      "[[[0.34339441 0.65660559]\n",
      "  [0.45218996 0.54781004]]\n",
      "\n",
      " [[0.5        0.5       ]\n",
      "  [0.5        0.5       ]]\n",
      "\n",
      " [[0.64704124 0.35295876]\n",
      "  [0.41279887 0.58720113]]\n",
      "\n",
      " [[0.51901788 0.48098212]\n",
      "  [0.45670052 0.54329948]]\n",
      "\n",
      " [[0.5        0.5       ]\n",
      "  [0.5        0.5       ]]\n",
      "\n",
      " [[0.36724939 0.63275061]\n",
      "  [0.48002528 0.51997472]]\n",
      "\n",
      " [[0.5        0.5       ]\n",
      "  [0.5        0.5       ]]\n",
      "\n",
      " [[0.5        0.5       ]\n",
      "  [0.5        0.5       ]]]\n",
      "t2_mean, pi_means: 1872.3392993093805 [0.48316526 0.51683474]\n"
     ]
    },
    {
     "name": "stderr",
     "output_type": "stream",
     "text": [
      "Computing transition matrices: 100%|██████████| 8/8 [00:00<00:00, 2119.81cluster/s]\n",
      "Processing Lag Times:  69%|██████▉   | 58/84 [01:29<00:20,  1.27lag/s]"
     ]
    },
    {
     "name": "stdout",
     "output_type": "stream",
     "text": [
      "transition_matrices.shape (8, 2, 2)\n",
      "[[[0.59558379 0.40441621]\n",
      "  [0.51561145 0.48438855]]\n",
      "\n",
      " [[0.38801773 0.61198227]\n",
      "  [0.35405405 0.64594595]]\n",
      "\n",
      " [[0.5        0.5       ]\n",
      "  [0.5        0.5       ]]\n",
      "\n",
      " [[0.24641509 0.75358491]\n",
      "  [0.3298447  0.6701553 ]]\n",
      "\n",
      " [[0.47829716 0.52170284]\n",
      "  [0.32245132 0.67754868]]\n",
      "\n",
      " [[0.60970901 0.39029099]\n",
      "  [0.48753313 0.51246687]]\n",
      "\n",
      " [[0.68518519 0.31481481]\n",
      "  [0.65472779 0.34527221]]\n",
      "\n",
      " [[0.33218707 0.66781293]\n",
      "  [0.31437809 0.68562191]]]\n",
      "t2_mean, pi_means: 6601.16953379474 [0.4580151 0.5419849]\n"
     ]
    },
    {
     "name": "stderr",
     "output_type": "stream",
     "text": [
      "Computing transition matrices: 100%|██████████| 8/8 [00:00<00:00, 2702.95cluster/s]\n",
      "Processing Lag Times:  70%|███████   | 59/84 [01:29<00:19,  1.31lag/s]"
     ]
    },
    {
     "name": "stdout",
     "output_type": "stream",
     "text": [
      "transition_matrices.shape (8, 2, 2)\n",
      "[[[0.5        0.5       ]\n",
      "  [0.5        0.5       ]]\n",
      "\n",
      " [[0.22631151 0.77368849]\n",
      "  [0.3044374  0.6955626 ]]\n",
      "\n",
      " [[0.5        0.5       ]\n",
      "  [0.5        0.5       ]]\n",
      "\n",
      " [[0.5        0.5       ]\n",
      "  [0.5        0.5       ]]\n",
      "\n",
      " [[0.5        0.5       ]\n",
      "  [0.5        0.5       ]]\n",
      "\n",
      " [[0.5        0.5       ]\n",
      "  [0.5        0.5       ]]\n",
      "\n",
      " [[0.41929878 0.58070122]\n",
      "  [0.34155278 0.65844722]]\n",
      "\n",
      " [[0.49974617 0.50025383]\n",
      "  [0.60514712 0.39485288]]]\n",
      "t2_mean, pi_means: 1150.3746350339234 [0.462521 0.537479]\n"
     ]
    },
    {
     "name": "stderr",
     "output_type": "stream",
     "text": [
      "Computing transition matrices: 100%|██████████| 8/8 [00:00<00:00, 1249.23cluster/s]\n",
      "Processing Lag Times:  71%|███████▏  | 60/84 [01:30<00:17,  1.39lag/s]"
     ]
    },
    {
     "name": "stdout",
     "output_type": "stream",
     "text": [
      "transition_matrices.shape (8, 2, 2)\n",
      "[[[0.22246696 0.77753304]\n",
      "  [0.4019725  0.5980275 ]]\n",
      "\n",
      " [[0.5        0.5       ]\n",
      "  [0.5        0.5       ]]\n",
      "\n",
      " [[0.37284287 0.62715713]\n",
      "  [0.312756   0.687244  ]]\n",
      "\n",
      " [[0.55795443 0.44204557]\n",
      "  [0.58710871 0.41289129]]\n",
      "\n",
      " [[0.5        0.5       ]\n",
      "  [0.5        0.5       ]]\n",
      "\n",
      " [[0.5        0.5       ]\n",
      "  [0.5        0.5       ]]\n",
      "\n",
      " [[0.19616519 0.80383481]\n",
      "  [0.53211991 0.46788009]]\n",
      "\n",
      " [[0.39663785 0.60336215]\n",
      "  [0.43437244 0.56562756]]]\n",
      "t2_mean, pi_means: 1428.336877790328 [0.44511358 0.55488642]\n"
     ]
    },
    {
     "name": "stderr",
     "output_type": "stream",
     "text": [
      "Computing transition matrices: 100%|██████████| 8/8 [00:00<00:00, 3966.24cluster/s]\n",
      "Processing Lag Times:  73%|███████▎  | 61/84 [01:30<00:16,  1.43lag/s]"
     ]
    },
    {
     "name": "stdout",
     "output_type": "stream",
     "text": [
      "transition_matrices.shape (8, 2, 2)\n",
      "[[[0.5        0.5       ]\n",
      "  [0.5        0.5       ]]\n",
      "\n",
      " [[0.5        0.5       ]\n",
      "  [0.5        0.5       ]]\n",
      "\n",
      " [[0.5        0.5       ]\n",
      "  [0.5        0.5       ]]\n",
      "\n",
      " [[0.54175699 0.45824301]\n",
      "  [0.62830439 0.37169561]]\n",
      "\n",
      " [[0.35941488 0.64058512]\n",
      "  [0.53015075 0.46984925]]\n",
      "\n",
      " [[0.5        0.5       ]\n",
      "  [0.5        0.5       ]]\n",
      "\n",
      " [[0.5        0.5       ]\n",
      "  [0.5        0.5       ]]\n",
      "\n",
      " [[0.4106204  0.5893796 ]\n",
      "  [0.39731622 0.60268378]]]\n",
      "t2_mean, pi_means: 1092.8150452577183 [0.49172083 0.50827917]\n"
     ]
    },
    {
     "name": "stderr",
     "output_type": "stream",
     "text": [
      "Computing transition matrices: 100%|██████████| 8/8 [00:00<00:00, 3626.72cluster/s]\n",
      "Processing Lag Times:  74%|███████▍  | 62/84 [01:31<00:15,  1.46lag/s]"
     ]
    },
    {
     "name": "stdout",
     "output_type": "stream",
     "text": [
      "transition_matrices.shape (8, 2, 2)\n",
      "[[[0.63266744 0.36733256]\n",
      "  [0.55023897 0.44976103]]\n",
      "\n",
      " [[0.46113074 0.53886926]\n",
      "  [0.4847619  0.5152381 ]]\n",
      "\n",
      " [[0.5        0.5       ]\n",
      "  [0.5        0.5       ]]\n",
      "\n",
      " [[0.5        0.5       ]\n",
      "  [0.5        0.5       ]]\n",
      "\n",
      " [[0.5        0.5       ]\n",
      "  [0.5        0.5       ]]\n",
      "\n",
      " [[0.29193147 0.70806853]\n",
      "  [0.50832562 0.49167438]]\n",
      "\n",
      " [[0.35970149 0.64029851]\n",
      "  [0.19894737 0.80105263]]\n",
      "\n",
      " [[0.5        0.5       ]\n",
      "  [0.5        0.5       ]]]\n",
      "t2_mean, pi_means: 2009.5781024953562 [0.46602375 0.53397625]\n"
     ]
    },
    {
     "name": "stderr",
     "output_type": "stream",
     "text": [
      "Computing transition matrices: 100%|██████████| 8/8 [00:00<00:00, 1081.25cluster/s]\n",
      "Processing Lag Times:  75%|███████▌  | 63/84 [01:32<00:14,  1.42lag/s]"
     ]
    },
    {
     "name": "stdout",
     "output_type": "stream",
     "text": [
      "transition_matrices.shape (8, 2, 2)\n",
      "[[[0.5        0.5       ]\n",
      "  [0.5        0.5       ]]\n",
      "\n",
      " [[0.5        0.5       ]\n",
      "  [0.5        0.5       ]]\n",
      "\n",
      " [[0.5        0.5       ]\n",
      "  [0.5        0.5       ]]\n",
      "\n",
      " [[0.5        0.5       ]\n",
      "  [0.5        0.5       ]]\n",
      "\n",
      " [[0.5        0.5       ]\n",
      "  [0.5        0.5       ]]\n",
      "\n",
      " [[0.5        0.5       ]\n",
      "  [0.5        0.5       ]]\n",
      "\n",
      " [[0.29783897 0.70216103]\n",
      "  [0.42582693 0.57417307]]\n",
      "\n",
      " [[0.54920568 0.45079432]\n",
      "  [0.58374554 0.41625446]]]\n",
      "t2_mean, pi_means: 792.1212394314877 [0.4927208 0.5072792]\n"
     ]
    },
    {
     "name": "stderr",
     "output_type": "stream",
     "text": [
      "Computing transition matrices: 100%|██████████| 8/8 [00:00<00:00, 2518.16cluster/s]\n",
      "Processing Lag Times:  76%|███████▌  | 64/84 [01:32<00:13,  1.52lag/s]"
     ]
    },
    {
     "name": "stdout",
     "output_type": "stream",
     "text": [
      "transition_matrices.shape (8, 2, 2)\n",
      "[[[0.33678647 0.66321353]\n",
      "  [0.25090108 0.74909892]]\n",
      "\n",
      " [[0.5        0.5       ]\n",
      "  [0.5        0.5       ]]\n",
      "\n",
      " [[0.5        0.5       ]\n",
      "  [0.5        0.5       ]]\n",
      "\n",
      " [[0.5        0.5       ]\n",
      "  [0.5        0.5       ]]\n",
      "\n",
      " [[0.5        0.5       ]\n",
      "  [0.5        0.5       ]]\n",
      "\n",
      " [[0.5        0.5       ]\n",
      "  [0.5        0.5       ]]\n",
      "\n",
      " [[0.61263946 0.38736054]\n",
      "  [0.56595667 0.43404333]]\n",
      "\n",
      " [[0.5        0.5       ]\n",
      "  [0.5        0.5       ]]]\n",
      "t2_mean, pi_means: 1541.4241818051717 [0.48351816 0.51648184]\n"
     ]
    },
    {
     "name": "stderr",
     "output_type": "stream",
     "text": [
      "Computing transition matrices: 100%|██████████| 8/8 [00:00<00:00, 3170.60cluster/s]\n",
      "Processing Lag Times:  77%|███████▋  | 65/84 [01:33<00:11,  1.60lag/s]"
     ]
    },
    {
     "name": "stdout",
     "output_type": "stream",
     "text": [
      "transition_matrices.shape (8, 2, 2)\n",
      "[[[0.5        0.5       ]\n",
      "  [0.5        0.5       ]]\n",
      "\n",
      " [[0.5        0.5       ]\n",
      "  [0.5        0.5       ]]\n",
      "\n",
      " [[0.34180791 0.65819209]\n",
      "  [0.31225209 0.68774791]]\n",
      "\n",
      " [[0.5        0.5       ]\n",
      "  [0.5        0.5       ]]\n",
      "\n",
      " [[0.5        0.5       ]\n",
      "  [0.5        0.5       ]]\n",
      "\n",
      " [[0.5        0.5       ]\n",
      "  [0.5        0.5       ]]\n",
      "\n",
      " [[0.5        0.5       ]\n",
      "  [0.5        0.5       ]]\n",
      "\n",
      " [[0.52995651 0.47004349]\n",
      "  [0.60583125 0.39416875]]]\n",
      "t2_mean, pi_means: 1145.374627777919 [0.48560847 0.51439153]\n"
     ]
    },
    {
     "name": "stderr",
     "output_type": "stream",
     "text": [
      "Computing transition matrices: 100%|██████████| 8/8 [00:00<00:00, 1585.07cluster/s]\n",
      "Processing Lag Times:  79%|███████▊  | 66/84 [01:34<00:11,  1.63lag/s]"
     ]
    },
    {
     "name": "stdout",
     "output_type": "stream",
     "text": [
      "transition_matrices.shape (8, 2, 2)\n",
      "[[[0.5        0.5       ]\n",
      "  [0.5        0.5       ]]\n",
      "\n",
      " [[0.5        0.5       ]\n",
      "  [0.5        0.5       ]]\n",
      "\n",
      " [[0.5        0.5       ]\n",
      "  [0.5        0.5       ]]\n",
      "\n",
      " [[0.5        0.5       ]\n",
      "  [0.5        0.5       ]]\n",
      "\n",
      " [[0.5        0.5       ]\n",
      "  [0.5        0.5       ]]\n",
      "\n",
      " [[0.57715227 0.42284773]\n",
      "  [0.5383249  0.4616751 ]]\n",
      "\n",
      " [[0.5        0.5       ]\n",
      "  [0.5        0.5       ]]\n",
      "\n",
      " [[0.5        0.5       ]\n",
      "  [0.5        0.5       ]]]\n",
      "t2_mean, pi_means: 1127.9639796286656 [0.50750887 0.49249113]\n"
     ]
    },
    {
     "name": "stderr",
     "output_type": "stream",
     "text": [
      "Computing transition matrices: 100%|██████████| 8/8 [00:00<00:00, 3087.45cluster/s]\n",
      "Processing Lag Times:  80%|███████▉  | 67/84 [01:34<00:10,  1.69lag/s]"
     ]
    },
    {
     "name": "stdout",
     "output_type": "stream",
     "text": [
      "transition_matrices.shape (8, 2, 2)\n",
      "[[[0.5        0.5       ]\n",
      "  [0.5        0.5       ]]\n",
      "\n",
      " [[0.5        0.5       ]\n",
      "  [0.5        0.5       ]]\n",
      "\n",
      " [[0.5        0.5       ]\n",
      "  [0.5        0.5       ]]\n",
      "\n",
      " [[0.5        0.5       ]\n",
      "  [0.5        0.5       ]]\n",
      "\n",
      " [[0.5        0.5       ]\n",
      "  [0.5        0.5       ]]\n",
      "\n",
      " [[0.5        0.5       ]\n",
      "  [0.5        0.5       ]]\n",
      "\n",
      " [[0.50910913 0.49089087]\n",
      "  [0.55283111 0.44716889]]\n",
      "\n",
      " [[0.5        0.5       ]\n",
      "  [0.5        0.5       ]]]\n",
      "t2_mean, pi_means: 846.5625617291832 [0.5037091 0.4962909]\n"
     ]
    },
    {
     "name": "stderr",
     "output_type": "stream",
     "text": [
      "Computing transition matrices: 100%|██████████| 8/8 [00:00<00:00, 2820.89cluster/s]\n",
      "Processing Lag Times:  81%|████████  | 68/84 [01:35<00:09,  1.68lag/s]"
     ]
    },
    {
     "name": "stdout",
     "output_type": "stream",
     "text": [
      "transition_matrices.shape (8, 2, 2)\n",
      "[[[0.58219178 0.41780822]\n",
      "  [0.32002535 0.67997465]]\n",
      "\n",
      " [[0.5        0.5       ]\n",
      "  [0.5        0.5       ]]\n",
      "\n",
      " [[0.5        0.5       ]\n",
      "  [0.5        0.5       ]]\n",
      "\n",
      " [[0.5        0.5       ]\n",
      "  [0.5        0.5       ]]\n",
      "\n",
      " [[0.49088739 0.50911261]\n",
      "  [0.64103599 0.35896401]]\n",
      "\n",
      " [[0.5        0.5       ]\n",
      "  [0.5        0.5       ]]\n",
      "\n",
      " [[0.5        0.5       ]\n",
      "  [0.5        0.5       ]]\n",
      "\n",
      " [[0.5        0.5       ]\n",
      "  [0.5        0.5       ]]]\n",
      "t2_mean, pi_means: 1380.6084821237944 [0.49888588 0.50111412]\n"
     ]
    },
    {
     "name": "stderr",
     "output_type": "stream",
     "text": [
      "Computing transition matrices: 100%|██████████| 8/8 [00:00<00:00, 1779.32cluster/s]\n",
      "Processing Lag Times:  82%|████████▏ | 69/84 [01:35<00:07,  1.89lag/s]"
     ]
    },
    {
     "name": "stdout",
     "output_type": "stream",
     "text": [
      "transition_matrices.shape (8, 2, 2)\n",
      "[[[0.5        0.5       ]\n",
      "  [0.5        0.5       ]]\n",
      "\n",
      " [[0.5        0.5       ]\n",
      "  [0.5        0.5       ]]\n",
      "\n",
      " [[0.5        0.5       ]\n",
      "  [0.5        0.5       ]]\n",
      "\n",
      " [[0.5        0.5       ]\n",
      "  [0.5        0.5       ]]\n",
      "\n",
      " [[0.5678526  0.4321474 ]\n",
      "  [0.58908193 0.41091807]]\n",
      "\n",
      " [[0.5        0.5       ]\n",
      "  [0.5        0.5       ]]\n",
      "\n",
      " [[0.5        0.5       ]\n",
      "  [0.5        0.5       ]]\n",
      "\n",
      " [[0.5        0.5       ]\n",
      "  [0.5        0.5       ]]]\n",
      "t2_mean, pi_means: 873.7832228780325 [0.50960451 0.49039549]\n"
     ]
    },
    {
     "name": "stderr",
     "output_type": "stream",
     "text": [
      "Computing transition matrices: 100%|██████████| 8/8 [00:00<00:00, 3942.94cluster/s]\n",
      "Processing Lag Times:  83%|████████▎ | 70/84 [01:36<00:07,  1.96lag/s]"
     ]
    },
    {
     "name": "stdout",
     "output_type": "stream",
     "text": [
      "transition_matrices.shape (8, 2, 2)\n",
      "[[[0.5        0.5       ]\n",
      "  [0.5        0.5       ]]\n",
      "\n",
      " [[0.5        0.5       ]\n",
      "  [0.5        0.5       ]]\n",
      "\n",
      " [[0.5        0.5       ]\n",
      "  [0.5        0.5       ]]\n",
      "\n",
      " [[0.5        0.5       ]\n",
      "  [0.5        0.5       ]]\n",
      "\n",
      " [[0.5        0.5       ]\n",
      "  [0.5        0.5       ]]\n",
      "\n",
      " [[0.5        0.5       ]\n",
      "  [0.5        0.5       ]]\n",
      "\n",
      " [[0.5        0.5       ]\n",
      "  [0.5        0.5       ]]\n",
      "\n",
      " [[0.56874189 0.43125811]\n",
      "  [0.55917996 0.44082004]]]\n",
      "t2_mean, pi_means: 1149.0071129519893 [0.5080723 0.4919277]\n"
     ]
    },
    {
     "name": "stderr",
     "output_type": "stream",
     "text": [
      "Computing transition matrices: 100%|██████████| 8/8 [00:00<00:00, 2127.74cluster/s]\n",
      "Processing Lag Times:  85%|████████▍ | 71/84 [01:36<00:06,  1.98lag/s]"
     ]
    },
    {
     "name": "stdout",
     "output_type": "stream",
     "text": [
      "transition_matrices.shape (8, 2, 2)\n",
      "[[[0.5        0.5       ]\n",
      "  [0.5        0.5       ]]\n",
      "\n",
      " [[0.5        0.5       ]\n",
      "  [0.5        0.5       ]]\n",
      "\n",
      " [[0.5        0.5       ]\n",
      "  [0.5        0.5       ]]\n",
      "\n",
      " [[0.5        0.5       ]\n",
      "  [0.5        0.5       ]]\n",
      "\n",
      " [[0.5        0.5       ]\n",
      "  [0.5        0.5       ]]\n",
      "\n",
      " [[0.5        0.5       ]\n",
      "  [0.5        0.5       ]]\n",
      "\n",
      " [[0.5        0.5       ]\n",
      "  [0.5        0.5       ]]\n",
      "\n",
      " [[0.62799751 0.37200249]\n",
      "  [0.50282916 0.49717084]]]\n",
      "t2_mean, pi_means: 1290.1973249711023 [0.50934656 0.49065344]\n"
     ]
    },
    {
     "name": "stderr",
     "output_type": "stream",
     "text": [
      "Computing transition matrices: 100%|██████████| 8/8 [00:00<00:00, 2829.21cluster/s]\n",
      "Processing Lag Times:  86%|████████▌ | 72/84 [01:36<00:05,  2.10lag/s]"
     ]
    },
    {
     "name": "stdout",
     "output_type": "stream",
     "text": [
      "transition_matrices.shape (8, 2, 2)\n",
      "[[[0.5        0.5       ]\n",
      "  [0.5        0.5       ]]\n",
      "\n",
      " [[0.44874591 0.55125409]\n",
      "  [0.64032059 0.35967941]]\n",
      "\n",
      " [[0.5        0.5       ]\n",
      "  [0.5        0.5       ]]\n",
      "\n",
      " [[0.5        0.5       ]\n",
      "  [0.5        0.5       ]]\n",
      "\n",
      " [[0.5        0.5       ]\n",
      "  [0.5        0.5       ]]\n",
      "\n",
      " [[0.5        0.5       ]\n",
      "  [0.5        0.5       ]]\n",
      "\n",
      " [[0.5        0.5       ]\n",
      "  [0.5        0.5       ]]\n",
      "\n",
      " [[0.5        0.5       ]\n",
      "  [0.5        0.5       ]]]\n",
      "t2_mean, pi_means: 914.614214601305 [0.50467168 0.49532832]\n"
     ]
    },
    {
     "name": "stderr",
     "output_type": "stream",
     "text": [
      "Computing transition matrices: 100%|██████████| 8/8 [00:00<00:00, 2614.50cluster/s]\n",
      "Processing Lag Times:  87%|████████▋ | 73/84 [01:37<00:04,  2.21lag/s]"
     ]
    },
    {
     "name": "stdout",
     "output_type": "stream",
     "text": [
      "transition_matrices.shape (8, 2, 2)\n",
      "[[[0.5        0.5       ]\n",
      "  [0.5        0.5       ]]\n",
      "\n",
      " [[0.5        0.5       ]\n",
      "  [0.5        0.5       ]]\n",
      "\n",
      " [[0.5        0.5       ]\n",
      "  [0.5        0.5       ]]\n",
      "\n",
      " [[0.5        0.5       ]\n",
      "  [0.5        0.5       ]]\n",
      "\n",
      " [[0.43830703 0.56169297]\n",
      "  [0.68008075 0.31991925]]\n",
      "\n",
      " [[0.5        0.5       ]\n",
      "  [0.5        0.5       ]]\n",
      "\n",
      " [[0.5        0.5       ]\n",
      "  [0.5        0.5       ]]\n",
      "\n",
      " [[0.5        0.5       ]\n",
      "  [0.5        0.5       ]]]\n",
      "t2_mean, pi_means: 928.2245451757302 [0.5059586 0.4940414]\n"
     ]
    },
    {
     "name": "stderr",
     "output_type": "stream",
     "text": [
      "Computing transition matrices: 100%|██████████| 8/8 [00:00<00:00, 1748.26cluster/s]\n",
      "Processing Lag Times:  88%|████████▊ | 74/84 [01:37<00:04,  2.40lag/s]"
     ]
    },
    {
     "name": "stdout",
     "output_type": "stream",
     "text": [
      "transition_matrices.shape (8, 2, 2)\n",
      "[[[0.5        0.5       ]\n",
      "  [0.5        0.5       ]]\n",
      "\n",
      " [[0.5        0.5       ]\n",
      "  [0.5        0.5       ]]\n",
      "\n",
      " [[0.5        0.5       ]\n",
      "  [0.5        0.5       ]]\n",
      "\n",
      " [[0.5        0.5       ]\n",
      "  [0.5        0.5       ]]\n",
      "\n",
      " [[0.67919075 0.32080925]\n",
      "  [0.62159835 0.37840165]]\n",
      "\n",
      " [[0.5        0.5       ]\n",
      "  [0.5        0.5       ]]\n",
      "\n",
      " [[0.5        0.5       ]\n",
      "  [0.5        0.5       ]]\n",
      "\n",
      " [[0.5        0.5       ]\n",
      "  [0.5        0.5       ]]]\n",
      "t2_mean, pi_means: 1296.2051840781767 [0.51994818 0.48005182]\n"
     ]
    },
    {
     "name": "stderr",
     "output_type": "stream",
     "text": [
      "Computing transition matrices: 100%|██████████| 8/8 [00:00<00:00, 2182.26cluster/s]\n",
      "Processing Lag Times:  89%|████████▉ | 75/84 [01:38<00:03,  2.53lag/s]"
     ]
    },
    {
     "name": "stdout",
     "output_type": "stream",
     "text": [
      "transition_matrices.shape (8, 2, 2)\n",
      "[[[0.69914163 0.30085837]\n",
      "  [0.49924271 0.50075729]]\n",
      "\n",
      " [[0.5        0.5       ]\n",
      "  [0.5        0.5       ]]\n",
      "\n",
      " [[0.5        0.5       ]\n",
      "  [0.5        0.5       ]]\n",
      "\n",
      " [[0.5        0.5       ]\n",
      "  [0.5        0.5       ]]\n",
      "\n",
      " [[0.5        0.5       ]\n",
      "  [0.5        0.5       ]]\n",
      "\n",
      " [[0.5        0.5       ]\n",
      "  [0.5        0.5       ]]\n",
      "\n",
      " [[0.5        0.5       ]\n",
      "  [0.5        0.5       ]]\n",
      "\n",
      " [[0.5        0.5       ]\n",
      "  [0.5        0.5       ]]]\n",
      "t2_mean, pi_means: 1412.5119307334735 [0.51549682 0.48450318]\n"
     ]
    },
    {
     "name": "stderr",
     "output_type": "stream",
     "text": [
      "Computing transition matrices: 100%|██████████| 8/8 [00:00<00:00, 2014.07cluster/s]\n",
      "Processing Lag Times:  90%|█████████ | 76/84 [01:38<00:02,  2.74lag/s]"
     ]
    },
    {
     "name": "stdout",
     "output_type": "stream",
     "text": [
      "transition_matrices.shape (8, 2, 2)\n",
      "[[[0.5        0.5       ]\n",
      "  [0.5        0.5       ]]\n",
      "\n",
      " [[0.5        0.5       ]\n",
      "  [0.5        0.5       ]]\n",
      "\n",
      " [[0.5        0.5       ]\n",
      "  [0.5        0.5       ]]\n",
      "\n",
      " [[0.5        0.5       ]\n",
      "  [0.5        0.5       ]]\n",
      "\n",
      " [[0.5        0.5       ]\n",
      "  [0.5        0.5       ]]\n",
      "\n",
      " [[0.5        0.5       ]\n",
      "  [0.5        0.5       ]]\n",
      "\n",
      " [[0.5        0.5       ]\n",
      "  [0.5        0.5       ]]\n",
      "\n",
      " [[0.49477124 0.50522876]\n",
      "  [0.5499755  0.4500245 ]]]\n",
      "t2_mean, pi_means: 969.0555368990009 [0.50265036 0.49734964]\n"
     ]
    },
    {
     "name": "stderr",
     "output_type": "stream",
     "text": [
      "Computing transition matrices: 100%|██████████| 8/8 [00:00<00:00, 2119.81cluster/s]\n",
      "Processing Lag Times:  92%|█████████▏| 77/84 [01:38<00:02,  2.98lag/s]"
     ]
    },
    {
     "name": "stdout",
     "output_type": "stream",
     "text": [
      "transition_matrices.shape (8, 2, 2)\n",
      "[[[0.5        0.5       ]\n",
      "  [0.5        0.5       ]]\n",
      "\n",
      " [[0.5        0.5       ]\n",
      "  [0.5        0.5       ]]\n",
      "\n",
      " [[0.5        0.5       ]\n",
      "  [0.5        0.5       ]]\n",
      "\n",
      " [[0.57692308 0.42307692]\n",
      "  [0.57086614 0.42913386]]\n",
      "\n",
      " [[0.5        0.5       ]\n",
      "  [0.5        0.5       ]]\n",
      "\n",
      " [[0.5        0.5       ]\n",
      "  [0.5        0.5       ]]\n",
      "\n",
      " [[0.5        0.5       ]\n",
      "  [0.5        0.5       ]]\n",
      "\n",
      " [[0.5        0.5       ]\n",
      "  [0.5        0.5       ]]]\n",
      "t2_mean, pi_means: 1257.5566978671236 [0.50929311 0.49070689]\n"
     ]
    },
    {
     "name": "stderr",
     "output_type": "stream",
     "text": [
      "Computing transition matrices: 100%|██████████| 8/8 [00:00<00:00, 2646.46cluster/s]\n",
      "Processing Lag Times:  93%|█████████▎| 78/84 [01:38<00:01,  3.24lag/s]"
     ]
    },
    {
     "name": "stdout",
     "output_type": "stream",
     "text": [
      "transition_matrices.shape (8, 2, 2)\n",
      "[[[0.5        0.5       ]\n",
      "  [0.5        0.5       ]]\n",
      "\n",
      " [[0.5        0.5       ]\n",
      "  [0.5        0.5       ]]\n",
      "\n",
      " [[0.5        0.5       ]\n",
      "  [0.5        0.5       ]]\n",
      "\n",
      " [[0.5        0.5       ]\n",
      "  [0.5        0.5       ]]\n",
      "\n",
      " [[0.5        0.5       ]\n",
      "  [0.5        0.5       ]]\n",
      "\n",
      " [[0.5        0.5       ]\n",
      "  [0.5        0.5       ]]\n",
      "\n",
      " [[0.77805695 0.22194305]\n",
      "  [0.84449761 0.15550239]]\n",
      "\n",
      " [[0.5        0.5       ]\n",
      "  [0.5        0.5       ]]]\n",
      "t2_mean, pi_means: 996.2761980478498 [0.53648554 0.46351446]\n"
     ]
    },
    {
     "name": "stderr",
     "output_type": "stream",
     "text": [
      "Computing transition matrices: 100%|██████████| 8/8 [00:00<00:00, 736.84cluster/s]\n",
      "Processing Lag Times:  94%|█████████▍| 79/84 [01:39<00:01,  3.41lag/s]"
     ]
    },
    {
     "name": "stdout",
     "output_type": "stream",
     "text": [
      "transition_matrices.shape (8, 2, 2)\n",
      "[[[0.5 0.5]\n",
      "  [0.5 0.5]]\n",
      "\n",
      " [[0.5 0.5]\n",
      "  [0.5 0.5]]\n",
      "\n",
      " [[0.5 0.5]\n",
      "  [0.5 0.5]]\n",
      "\n",
      " [[0.5 0.5]\n",
      "  [0.5 0.5]]\n",
      "\n",
      " [[0.5 0.5]\n",
      "  [0.5 0.5]]\n",
      "\n",
      " [[0.5 0.5]\n",
      "  [0.5 0.5]]\n",
      "\n",
      " [[0.5 0.5]\n",
      "  [0.5 0.5]]\n",
      "\n",
      " [[0.5 0.5]\n",
      "  [0.5 0.5]]]\n",
      "t2_mean, pi_means: 1009.886528622275 [0.5 0.5]\n"
     ]
    },
    {
     "name": "stderr",
     "output_type": "stream",
     "text": [
      "Computing transition matrices: 100%|██████████| 8/8 [00:00<00:00, 2323.55cluster/s]\n",
      "Processing Lag Times:  95%|█████████▌| 80/84 [01:39<00:01,  4.00lag/s]"
     ]
    },
    {
     "name": "stdout",
     "output_type": "stream",
     "text": [
      "transition_matrices.shape (8, 2, 2)\n",
      "[[[0.5 0.5]\n",
      "  [0.5 0.5]]\n",
      "\n",
      " [[0.5 0.5]\n",
      "  [0.5 0.5]]\n",
      "\n",
      " [[0.5 0.5]\n",
      "  [0.5 0.5]]\n",
      "\n",
      " [[0.5 0.5]\n",
      "  [0.5 0.5]]\n",
      "\n",
      " [[0.5 0.5]\n",
      "  [0.5 0.5]]\n",
      "\n",
      " [[0.5 0.5]\n",
      "  [0.5 0.5]]\n",
      "\n",
      " [[0.5 0.5]\n",
      "  [0.5 0.5]]\n",
      "\n",
      " [[0.5 0.5]\n",
      "  [0.5 0.5]]]\n",
      "t2_mean, pi_means: 1023.4968591966987 [0.5 0.5]\n"
     ]
    },
    {
     "name": "stderr",
     "output_type": "stream",
     "text": [
      "Computing transition matrices: 100%|██████████| 8/8 [00:00<00:00, 2260.47cluster/s]\n",
      "Processing Lag Times:  96%|█████████▋| 81/84 [01:39<00:00,  4.11lag/s]"
     ]
    },
    {
     "name": "stdout",
     "output_type": "stream",
     "text": [
      "transition_matrices.shape (8, 2, 2)\n",
      "[[[0.5 0.5]\n",
      "  [0.5 0.5]]\n",
      "\n",
      " [[0.5 0.5]\n",
      "  [0.5 0.5]]\n",
      "\n",
      " [[0.5 0.5]\n",
      "  [0.5 0.5]]\n",
      "\n",
      " [[0.5 0.5]\n",
      "  [0.5 0.5]]\n",
      "\n",
      " [[0.5 0.5]\n",
      "  [0.5 0.5]]\n",
      "\n",
      " [[0.5 0.5]\n",
      "  [0.5 0.5]]\n",
      "\n",
      " [[0.5 0.5]\n",
      "  [0.5 0.5]]\n",
      "\n",
      " [[0.5 0.5]\n",
      "  [0.5 0.5]]]\n",
      "t2_mean, pi_means: 1037.1071897711229 [0.5 0.5]\n"
     ]
    },
    {
     "name": "stderr",
     "output_type": "stream",
     "text": [
      "Computing transition matrices: 100%|██████████| 8/8 [00:00<00:00, 1415.74cluster/s]\n",
      "Processing Lag Times:  98%|█████████▊| 82/84 [01:39<00:00,  3.83lag/s]"
     ]
    },
    {
     "name": "stdout",
     "output_type": "stream",
     "text": [
      "transition_matrices.shape (8, 2, 2)\n",
      "[[[0.5 0.5]\n",
      "  [0.5 0.5]]\n",
      "\n",
      " [[0.5 0.5]\n",
      "  [0.5 0.5]]\n",
      "\n",
      " [[0.5 0.5]\n",
      "  [0.5 0.5]]\n",
      "\n",
      " [[0.5 0.5]\n",
      "  [0.5 0.5]]\n",
      "\n",
      " [[0.5 0.5]\n",
      "  [0.5 0.5]]\n",
      "\n",
      " [[0.5 0.5]\n",
      "  [0.5 0.5]]\n",
      "\n",
      " [[0.5 0.5]\n",
      "  [0.5 0.5]]\n",
      "\n",
      " [[0.5 0.5]\n",
      "  [0.5 0.5]]]\n",
      "t2_mean, pi_means: 1050.717520345547 [0.5 0.5]\n"
     ]
    },
    {
     "name": "stderr",
     "output_type": "stream",
     "text": [
      "Computing transition matrices: 100%|██████████| 8/8 [00:00<00:00, 1718.54cluster/s]\n",
      "Processing Lag Times:  99%|█████████▉| 83/84 [01:39<00:00,  4.13lag/s]"
     ]
    },
    {
     "name": "stdout",
     "output_type": "stream",
     "text": [
      "transition_matrices.shape (8, 2, 2)\n",
      "[[[0.5 0.5]\n",
      "  [0.5 0.5]]\n",
      "\n",
      " [[0.5 0.5]\n",
      "  [0.5 0.5]]\n",
      "\n",
      " [[0.5 0.5]\n",
      "  [0.5 0.5]]\n",
      "\n",
      " [[0.5 0.5]\n",
      "  [0.5 0.5]]\n",
      "\n",
      " [[0.5 0.5]\n",
      "  [0.5 0.5]]\n",
      "\n",
      " [[0.5 0.5]\n",
      "  [0.5 0.5]]\n",
      "\n",
      " [[0.5 0.5]\n",
      "  [0.5 0.5]]\n",
      "\n",
      " [[0.5 0.5]\n",
      "  [0.5 0.5]]]\n",
      "t2_mean, pi_means: 1064.327850919971 [0.5 0.5]\n"
     ]
    },
    {
     "name": "stderr",
     "output_type": "stream",
     "text": [
      "Computing transition matrices: 100%|██████████| 8/8 [00:00<00:00, 2022.33cluster/s]\n",
      "Processing Lag Times: 100%|██████████| 84/84 [01:40<00:00,  1.19s/lag]\n"
     ]
    },
    {
     "name": "stdout",
     "output_type": "stream",
     "text": [
      "transition_matrices.shape (8, 2, 2)\n",
      "[[[0.5 0.5]\n",
      "  [0.5 0.5]]\n",
      "\n",
      " [[0.5 0.5]\n",
      "  [0.5 0.5]]\n",
      "\n",
      " [[0.5 0.5]\n",
      "  [0.5 0.5]]\n",
      "\n",
      " [[0.5 0.5]\n",
      "  [0.5 0.5]]\n",
      "\n",
      " [[0.5 0.5]\n",
      "  [0.5 0.5]]\n",
      "\n",
      " [[0.5 0.5]\n",
      "  [0.5 0.5]]\n",
      "\n",
      " [[0.5 0.5]\n",
      "  [0.5 0.5]]\n",
      "\n",
      " [[0.5 0.5]\n",
      "  [0.5 0.5]]]\n",
      "t2_mean, pi_means: 1077.9381814943952 [0.5 0.5]\n",
      "Processing residue 2 with lagtimes = [5, 10, 25, 50, 100, 600, 1100, 1600, 2100, 2600, 3100, 3600, 4100, 4600, 5100, 5600, 6100, 6600, 7100, 7600, 8100, 8600, 9100, 9600, 10100, 10600, 11100, 11600, 12100, 12600, 13100, 13600, 14100, 14600, 15100, 15600, 16100, 16600, 17100, 17600, 18100, 18600, 19100, 19600, 20100, 20600, 21100, 21600, 22100, 22600, 23100, 23600, 24100, 24600, 25100, 25600, 26100, 26600, 27100, 27600, 28100, 28600, 29100, 29600, 30100, 30600, 31100, 31600, 32100, 32600, 33100, 33600, 34100, 34600, 35100, 35600, 36100, 36600, 37100, 37600, 38100, 38600, 39100, 39600]\n"
     ]
    },
    {
     "name": "stderr",
     "output_type": "stream",
     "text": [
      "Computing transition matrices: 100%|██████████| 8/8 [00:00<00:00, 2759.64cluster/s]\n",
      "Processing Lag Times:   1%|          | 1/84 [00:02<02:58,  2.15s/lag]"
     ]
    },
    {
     "name": "stdout",
     "output_type": "stream",
     "text": [
      "transition_matrices.shape (8, 2, 2)\n",
      "[[[0.8549684  0.1450316 ]\n",
      "  [0.09486613 0.90513387]]\n",
      "\n",
      " [[0.8595636  0.1404364 ]\n",
      "  [0.09808288 0.90191712]]\n",
      "\n",
      " [[0.85399128 0.14600872]\n",
      "  [0.09745036 0.90254964]]\n",
      "\n",
      " [[0.86224342 0.13775658]\n",
      "  [0.1023333  0.8976667 ]]\n",
      "\n",
      " [[0.85275203 0.14724797]\n",
      "  [0.09753426 0.90246574]]\n",
      "\n",
      " [[0.85520263 0.14479737]\n",
      "  [0.10106642 0.89893358]]\n",
      "\n",
      " [[0.8515805  0.1484195 ]\n",
      "  [0.09810284 0.90189716]]\n",
      "\n",
      " [[0.8513303  0.1486697 ]\n",
      "  [0.09546469 0.90453531]]]\n",
      "t2_mean, pi_means: 17.969238291923357 [0.40395791 0.59604209]\n"
     ]
    },
    {
     "name": "stderr",
     "output_type": "stream",
     "text": [
      "Computing transition matrices: 100%|██████████| 8/8 [00:00<00:00, 1112.81cluster/s]\n",
      "Processing Lag Times:   2%|▏         | 2/84 [00:04<02:49,  2.06s/lag]"
     ]
    },
    {
     "name": "stdout",
     "output_type": "stream",
     "text": [
      "transition_matrices.shape (8, 2, 2)\n",
      "[[[0.79254034 0.20745966]\n",
      "  [0.1462322  0.8537678 ]]\n",
      "\n",
      " [[0.78007305 0.21992695]\n",
      "  [0.14640688 0.85359312]]\n",
      "\n",
      " [[0.77506308 0.22493692]\n",
      "  [0.15058866 0.84941134]]\n",
      "\n",
      " [[0.78718852 0.21281148]\n",
      "  [0.14913236 0.85086764]]\n",
      "\n",
      " [[0.79283651 0.20716349]\n",
      "  [0.14829979 0.85170021]]\n",
      "\n",
      " [[0.78426606 0.21573394]\n",
      "  [0.14624425 0.85375575]]\n",
      "\n",
      " [[0.78645222 0.21354778]\n",
      "  [0.13504798 0.86495202]]\n",
      "\n",
      " [[0.77739189 0.22260811]\n",
      "  [0.14409463 0.85590537]]]\n",
      "t2_mean, pi_means: 22.31186936032352 [0.40346334 0.59653666]\n"
     ]
    },
    {
     "name": "stderr",
     "output_type": "stream",
     "text": [
      "Computing transition matrices: 100%|██████████| 8/8 [00:00<00:00, 3042.93cluster/s]\n",
      "Processing Lag Times:   4%|▎         | 3/84 [00:06<02:52,  2.13s/lag]"
     ]
    },
    {
     "name": "stdout",
     "output_type": "stream",
     "text": [
      "transition_matrices.shape (8, 2, 2)\n",
      "[[[0.63092909 0.36907091]\n",
      "  [0.25550134 0.74449866]]\n",
      "\n",
      " [[0.64999126 0.35000874]\n",
      "  [0.24019503 0.75980497]]\n",
      "\n",
      " [[0.65949162 0.34050838]\n",
      "  [0.23415363 0.76584637]]\n",
      "\n",
      " [[0.65262968 0.34737032]\n",
      "  [0.23458616 0.76541384]]\n",
      "\n",
      " [[0.63732791 0.36267209]\n",
      "  [0.23276357 0.76723643]]\n",
      "\n",
      " [[0.65071466 0.34928534]\n",
      "  [0.24485233 0.75514767]]\n",
      "\n",
      " [[0.64090534 0.35909466]\n",
      "  [0.24018288 0.75981712]]\n",
      "\n",
      " [[0.63458134 0.36541866]\n",
      "  [0.24076122 0.75923878]]]\n",
      "t2_mean, pi_means: 27.60011100391608 [0.40345078 0.59654922]\n"
     ]
    },
    {
     "name": "stderr",
     "output_type": "stream",
     "text": [
      "Computing transition matrices: 100%|██████████| 8/8 [00:00<00:00, 1741.10cluster/s]\n",
      "Processing Lag Times:   5%|▍         | 4/84 [00:08<02:53,  2.16s/lag]"
     ]
    },
    {
     "name": "stdout",
     "output_type": "stream",
     "text": [
      "transition_matrices.shape (8, 2, 2)\n",
      "[[[0.53907039 0.46092961]\n",
      "  [0.32705844 0.67294156]]\n",
      "\n",
      " [[0.51626357 0.48373643]\n",
      "  [0.31751444 0.68248556]]\n",
      "\n",
      " [[0.52643083 0.47356917]\n",
      "  [0.32922436 0.67077564]]\n",
      "\n",
      " [[0.51320103 0.48679897]\n",
      "  [0.32176352 0.67823648]]\n",
      "\n",
      " [[0.52487122 0.47512878]\n",
      "  [0.32027781 0.67972219]]\n",
      "\n",
      " [[0.51052482 0.48947518]\n",
      "  [0.31716878 0.68283122]]\n",
      "\n",
      " [[0.53800104 0.46199896]\n",
      "  [0.32050342 0.67949658]]\n",
      "\n",
      " [[0.52008256 0.47991744]\n",
      "  [0.32007278 0.67992722]]]\n",
      "t2_mean, pi_means: 31.239960067594573 [0.40311381 0.59688619]\n"
     ]
    },
    {
     "name": "stderr",
     "output_type": "stream",
     "text": [
      "Computing transition matrices: 100%|██████████| 8/8 [00:00<00:00, 3568.10cluster/s]\n",
      "Processing Lag Times:   6%|▌         | 5/84 [00:10<02:54,  2.21s/lag]"
     ]
    },
    {
     "name": "stdout",
     "output_type": "stream",
     "text": [
      "transition_matrices.shape (8, 2, 2)\n",
      "[[[0.42322225 0.57677775]\n",
      "  [0.36247985 0.63752015]]\n",
      "\n",
      " [[0.42937072 0.57062928]\n",
      "  [0.368043   0.631957  ]]\n",
      "\n",
      " [[0.44081954 0.55918046]\n",
      "  [0.39589694 0.60410306]]\n",
      "\n",
      " [[0.42614076 0.57385924]\n",
      "  [0.38427258 0.61572742]]\n",
      "\n",
      " [[0.43198101 0.56801899]\n",
      "  [0.37818258 0.62181742]]\n",
      "\n",
      " [[0.4528436  0.5471564 ]\n",
      "  [0.39005711 0.60994289]]\n",
      "\n",
      " [[0.43377389 0.56622611]\n",
      "  [0.36545014 0.63454986]]\n",
      "\n",
      " [[0.44951661 0.55048339]\n",
      "  [0.38736804 0.61263196]]]\n",
      "t2_mean, pi_means: 34.805440602808886 [0.40184427 0.59815573]\n"
     ]
    },
    {
     "name": "stderr",
     "output_type": "stream",
     "text": [
      "Computing transition matrices: 100%|██████████| 8/8 [00:00<00:00, 2928.22cluster/s]\n",
      "Processing Lag Times:   7%|▋         | 6/84 [00:12<02:42,  2.08s/lag]"
     ]
    },
    {
     "name": "stdout",
     "output_type": "stream",
     "text": [
      "transition_matrices.shape (8, 2, 2)\n",
      "[[[0.41660293 0.58339707]\n",
      "  [0.41917264 0.58082736]]\n",
      "\n",
      " [[0.39349276 0.60650724]\n",
      "  [0.40141408 0.59858592]]\n",
      "\n",
      " [[0.42249537 0.57750463]\n",
      "  [0.41193174 0.58806826]]\n",
      "\n",
      " [[0.39886204 0.60113796]\n",
      "  [0.3941064  0.6058936 ]]\n",
      "\n",
      " [[0.41613021 0.58386979]\n",
      "  [0.40253174 0.59746826]]\n",
      "\n",
      " [[0.40307395 0.59692605]\n",
      "  [0.4009817  0.5990183 ]]\n",
      "\n",
      " [[0.40162792 0.59837208]\n",
      "  [0.39506117 0.60493883]]\n",
      "\n",
      " [[0.39209372 0.60790628]\n",
      "  [0.38972936 0.61027064]]]\n",
      "t2_mean, pi_means: 115.53951850606205 [0.40336324 0.59663676]\n"
     ]
    },
    {
     "name": "stderr",
     "output_type": "stream",
     "text": [
      "Computing transition matrices: 100%|██████████| 8/8 [00:00<00:00, 2380.42cluster/s]\n",
      "Processing Lag Times:   8%|▊         | 7/84 [00:14<02:41,  2.10s/lag]"
     ]
    },
    {
     "name": "stdout",
     "output_type": "stream",
     "text": [
      "transition_matrices.shape (8, 2, 2)\n",
      "[[[0.38584447 0.61415553]\n",
      "  [0.40195635 0.59804365]]\n",
      "\n",
      " [[0.38739341 0.61260659]\n",
      "  [0.3871038  0.6128962 ]]\n",
      "\n",
      " [[0.39587418 0.60412582]\n",
      "  [0.40952004 0.59047996]]\n",
      "\n",
      " [[0.39935732 0.60064268]\n",
      "  [0.41743781 0.58256219]]\n",
      "\n",
      " [[0.40420095 0.59579905]\n",
      "  [0.38953059 0.61046941]]\n",
      "\n",
      " [[0.41313463 0.58686537]\n",
      "  [0.42352466 0.57647534]]\n",
      "\n",
      " [[0.42107136 0.57892864]\n",
      "  [0.40518397 0.59481603]]\n",
      "\n",
      " [[0.39549267 0.60450733]\n",
      "  [0.39225706 0.60774294]]]\n",
      "t2_mean, pi_means: 205.7556000994982 [0.40207317 0.59792683]\n"
     ]
    },
    {
     "name": "stderr",
     "output_type": "stream",
     "text": [
      "Computing transition matrices: 100%|██████████| 8/8 [00:00<00:00, 2306.31cluster/s]\n",
      "Processing Lag Times:  10%|▉         | 8/84 [00:17<02:46,  2.19s/lag]"
     ]
    },
    {
     "name": "stdout",
     "output_type": "stream",
     "text": [
      "transition_matrices.shape (8, 2, 2)\n",
      "[[[0.38417713 0.61582287]\n",
      "  [0.40835375 0.59164625]]\n",
      "\n",
      " [[0.40153568 0.59846432]\n",
      "  [0.39117631 0.60882369]]\n",
      "\n",
      " [[0.42800434 0.57199566]\n",
      "  [0.41563518 0.58436482]]\n",
      "\n",
      " [[0.40925821 0.59074179]\n",
      "  [0.397944   0.602056  ]]\n",
      "\n",
      " [[0.39860204 0.60139796]\n",
      "  [0.39649056 0.60350944]]\n",
      "\n",
      " [[0.40407123 0.59592877]\n",
      "  [0.38031562 0.61968438]]\n",
      "\n",
      " [[0.40242902 0.59757098]\n",
      "  [0.39315013 0.60684987]]\n",
      "\n",
      " [[0.41436347 0.58563653]\n",
      "  [0.40175546 0.59824454]]]\n",
      "t2_mean, pi_means: 349.1676997486139 [0.40099265 0.59900735]\n"
     ]
    },
    {
     "name": "stderr",
     "output_type": "stream",
     "text": [
      "Computing transition matrices: 100%|██████████| 8/8 [00:00<00:00, 1722.68cluster/s]\n",
      "Processing Lag Times:  11%|█         | 9/84 [00:19<02:37,  2.09s/lag]"
     ]
    },
    {
     "name": "stdout",
     "output_type": "stream",
     "text": [
      "transition_matrices.shape (8, 2, 2)\n",
      "[[[0.40892956 0.59107044]\n",
      "  [0.39652642 0.60347358]]\n",
      "\n",
      " [[0.4070544  0.5929456 ]\n",
      "  [0.40734708 0.59265292]]\n",
      "\n",
      " [[0.39277806 0.60722194]\n",
      "  [0.3870106  0.6129894 ]]\n",
      "\n",
      " [[0.39897913 0.60102087]\n",
      "  [0.42308933 0.57691067]]\n",
      "\n",
      " [[0.39811966 0.60188034]\n",
      "  [0.40000581 0.59999419]]\n",
      "\n",
      " [[0.39657829 0.60342171]\n",
      "  [0.3988419  0.6011581 ]]\n",
      "\n",
      " [[0.38255427 0.61744573]\n",
      "  [0.39545846 0.60454154]]\n",
      "\n",
      " [[0.42025018 0.57974982]\n",
      "  [0.40698617 0.59301383]]]\n",
      "t2_mean, pi_means: 455.7516156323513 [0.40139873 0.59860127]\n"
     ]
    },
    {
     "name": "stderr",
     "output_type": "stream",
     "text": [
      "Computing transition matrices: 100%|██████████| 8/8 [00:00<00:00, 2852.06cluster/s]\n",
      "Processing Lag Times:  12%|█▏        | 10/84 [00:20<02:24,  1.95s/lag]"
     ]
    },
    {
     "name": "stdout",
     "output_type": "stream",
     "text": [
      "transition_matrices.shape (8, 2, 2)\n",
      "[[[0.39422058 0.60577942]\n",
      "  [0.40445325 0.59554675]]\n",
      "\n",
      " [[0.41252866 0.58747134]\n",
      "  [0.41347696 0.58652304]]\n",
      "\n",
      " [[0.38212485 0.61787515]\n",
      "  [0.37080176 0.62919824]]\n",
      "\n",
      " [[0.39502075 0.60497925]\n",
      "  [0.39588298 0.60411702]]\n",
      "\n",
      " [[0.41151381 0.58848619]\n",
      "  [0.41941311 0.58058689]]\n",
      "\n",
      " [[0.40840079 0.59159921]\n",
      "  [0.40420916 0.59579084]]\n",
      "\n",
      " [[0.41734983 0.58265017]\n",
      "  [0.40769884 0.59230116]]\n",
      "\n",
      " [[0.39998188 0.60001812]\n",
      "  [0.39667678 0.60332322]]]\n",
      "t2_mean, pi_means: 514.8658167988967 [0.4019666 0.5980334]\n"
     ]
    },
    {
     "name": "stderr",
     "output_type": "stream",
     "text": [
      "Computing transition matrices: 100%|██████████| 8/8 [00:00<00:00, 3956.89cluster/s]\n",
      "Processing Lag Times:  13%|█▎        | 11/84 [00:22<02:17,  1.88s/lag]"
     ]
    },
    {
     "name": "stdout",
     "output_type": "stream",
     "text": [
      "transition_matrices.shape (8, 2, 2)\n",
      "[[[0.40593924 0.59406076]\n",
      "  [0.41418943 0.58581057]]\n",
      "\n",
      " [[0.37516382 0.62483618]\n",
      "  [0.39949623 0.60050377]]\n",
      "\n",
      " [[0.43156786 0.56843214]\n",
      "  [0.41874246 0.58125754]]\n",
      "\n",
      " [[0.40292544 0.59707456]\n",
      "  [0.40280519 0.59719481]]\n",
      "\n",
      " [[0.3911886  0.6088114 ]\n",
      "  [0.40348173 0.59651827]]\n",
      "\n",
      " [[0.40556527 0.59443473]\n",
      "  [0.40320431 0.59679569]]\n",
      "\n",
      " [[0.40492476 0.59507524]\n",
      "  [0.42116019 0.57883981]]\n",
      "\n",
      " [[0.3757728  0.6242272 ]\n",
      "  [0.3837883  0.6162117 ]]]\n",
      "t2_mean, pi_means: 500.3467314842363 [0.40321897 0.59678103]\n"
     ]
    },
    {
     "name": "stderr",
     "output_type": "stream",
     "text": [
      "Computing transition matrices: 100%|██████████| 8/8 [00:00<00:00, 1695.61cluster/s]\n",
      "Processing Lag Times:  14%|█▍        | 12/84 [00:24<02:09,  1.80s/lag]"
     ]
    },
    {
     "name": "stdout",
     "output_type": "stream",
     "text": [
      "transition_matrices.shape (8, 2, 2)\n",
      "[[[0.37388995 0.62611005]\n",
      "  [0.37809816 0.62190184]]\n",
      "\n",
      " [[0.40440726 0.59559274]\n",
      "  [0.41796568 0.58203432]]\n",
      "\n",
      " [[0.38973727 0.61026273]\n",
      "  [0.38240702 0.61759298]]\n",
      "\n",
      " [[0.40709786 0.59290214]\n",
      "  [0.40069929 0.59930071]]\n",
      "\n",
      " [[0.39092634 0.60907366]\n",
      "  [0.40458715 0.59541285]]\n",
      "\n",
      " [[0.39782807 0.60217193]\n",
      "  [0.40379724 0.59620276]]\n",
      "\n",
      " [[0.40734406 0.59265594]\n",
      "  [0.40514678 0.59485322]]\n",
      "\n",
      " [[0.41389443 0.58610557]\n",
      "  [0.40614041 0.59385959]]]\n",
      "t2_mean, pi_means: 690.5577335828572 [0.39916098 0.60083902]\n"
     ]
    },
    {
     "name": "stderr",
     "output_type": "stream",
     "text": [
      "Computing transition matrices: 100%|██████████| 8/8 [00:00<00:00, 2381.60cluster/s]\n",
      "Processing Lag Times:  15%|█▌        | 13/84 [00:25<02:04,  1.75s/lag]"
     ]
    },
    {
     "name": "stdout",
     "output_type": "stream",
     "text": [
      "transition_matrices.shape (8, 2, 2)\n",
      "[[[0.39040787 0.60959213]\n",
      "  [0.39682975 0.60317025]]\n",
      "\n",
      " [[0.42468113 0.57531887]\n",
      "  [0.41694305 0.58305695]]\n",
      "\n",
      " [[0.39847356 0.60152644]\n",
      "  [0.39653156 0.60346844]]\n",
      "\n",
      " [[0.38874146 0.61125854]\n",
      "  [0.40572545 0.59427455]]\n",
      "\n",
      " [[0.39532034 0.60467966]\n",
      "  [0.41118147 0.58881853]]\n",
      "\n",
      " [[0.39811838 0.60188162]\n",
      "  [0.39212058 0.60787942]]\n",
      "\n",
      " [[0.38568332 0.61431668]\n",
      "  [0.39983245 0.60016755]]\n",
      "\n",
      " [[0.40480287 0.59519713]\n",
      "  [0.39434754 0.60565246]]]\n",
      "t2_mean, pi_means: 794.7413184472771 [0.40034517 0.59965483]\n"
     ]
    },
    {
     "name": "stderr",
     "output_type": "stream",
     "text": [
      "Computing transition matrices: 100%|██████████| 8/8 [00:00<00:00, 1233.98cluster/s]\n",
      "Processing Lag Times:  17%|█▋        | 14/84 [00:27<01:59,  1.70s/lag]"
     ]
    },
    {
     "name": "stdout",
     "output_type": "stream",
     "text": [
      "transition_matrices.shape (8, 2, 2)\n",
      "[[[0.39850604 0.60149396]\n",
      "  [0.39260708 0.60739292]]\n",
      "\n",
      " [[0.41068381 0.58931619]\n",
      "  [0.38858476 0.61141524]]\n",
      "\n",
      " [[0.40947731 0.59052269]\n",
      "  [0.40648925 0.59351075]]\n",
      "\n",
      " [[0.40429807 0.59570193]\n",
      "  [0.39743894 0.60256106]]\n",
      "\n",
      " [[0.39444045 0.60555955]\n",
      "  [0.395682   0.604318  ]]\n",
      "\n",
      " [[0.38113406 0.61886594]\n",
      "  [0.41078035 0.58921965]]\n",
      "\n",
      " [[0.40858627 0.59141373]\n",
      "  [0.41815489 0.58184511]]\n",
      "\n",
      " [[0.38090588 0.61909412]\n",
      "  [0.40365574 0.59634426]]]\n",
      "t2_mean, pi_means: 942.7872383682062 [0.40040089 0.59959911]\n"
     ]
    },
    {
     "name": "stderr",
     "output_type": "stream",
     "text": [
      "Computing transition matrices: 100%|██████████| 8/8 [00:00<00:00, 2362.49cluster/s]\n",
      "Processing Lag Times:  18%|█▊        | 15/84 [00:28<01:56,  1.69s/lag]"
     ]
    },
    {
     "name": "stdout",
     "output_type": "stream",
     "text": [
      "transition_matrices.shape (8, 2, 2)\n",
      "[[[0.39565582 0.60434418]\n",
      "  [0.38694056 0.61305944]]\n",
      "\n",
      " [[0.40778868 0.59221132]\n",
      "  [0.3994235  0.6005765 ]]\n",
      "\n",
      " [[0.37580798 0.62419202]\n",
      "  [0.42686833 0.57313167]]\n",
      "\n",
      " [[0.3892487  0.6107513 ]\n",
      "  [0.39615634 0.60384366]]\n",
      "\n",
      " [[0.41266542 0.58733458]\n",
      "  [0.4036171  0.5963829 ]]\n",
      "\n",
      " [[0.41370086 0.58629914]\n",
      "  [0.40560664 0.59439336]]\n",
      "\n",
      " [[0.43176661 0.56823339]\n",
      "  [0.38961234 0.61038766]]\n",
      "\n",
      " [[0.39507931 0.60492069]\n",
      "  [0.39420952 0.60579048]]]\n",
      "t2_mean, pi_means: 1073.8778648086281 [0.40127948 0.59872052]\n"
     ]
    },
    {
     "name": "stderr",
     "output_type": "stream",
     "text": [
      "Computing transition matrices: 100%|██████████| 8/8 [00:00<00:00, 2192.96cluster/s]\n",
      "Processing Lag Times:  19%|█▉        | 16/84 [00:30<01:51,  1.64s/lag]"
     ]
    },
    {
     "name": "stdout",
     "output_type": "stream",
     "text": [
      "transition_matrices.shape (8, 2, 2)\n",
      "[[[0.40151851 0.59848149]\n",
      "  [0.40470324 0.59529676]]\n",
      "\n",
      " [[0.41251705 0.58748295]\n",
      "  [0.40416537 0.59583463]]\n",
      "\n",
      " [[0.37861439 0.62138561]\n",
      "  [0.40019404 0.59980596]]\n",
      "\n",
      " [[0.37581664 0.62418336]\n",
      "  [0.39135704 0.60864296]]\n",
      "\n",
      " [[0.40223053 0.59776947]\n",
      "  [0.4130028  0.5869972 ]]\n",
      "\n",
      " [[0.40352559 0.59647441]\n",
      "  [0.42205436 0.57794564]]\n",
      "\n",
      " [[0.40260439 0.59739561]\n",
      "  [0.42086675 0.57913325]]\n",
      "\n",
      " [[0.39697413 0.60302587]\n",
      "  [0.38780973 0.61219027]]]\n",
      "t2_mean, pi_means: 1181.7752511030653 [0.40197367 0.59802633]\n"
     ]
    },
    {
     "name": "stderr",
     "output_type": "stream",
     "text": [
      "Computing transition matrices: 100%|██████████| 8/8 [00:00<00:00, 2386.52cluster/s]\n",
      "Processing Lag Times:  20%|██        | 17/84 [00:32<01:47,  1.61s/lag]"
     ]
    },
    {
     "name": "stdout",
     "output_type": "stream",
     "text": [
      "transition_matrices.shape (8, 2, 2)\n",
      "[[[0.40477288 0.59522712]\n",
      "  [0.39358549 0.60641451]]\n",
      "\n",
      " [[0.40056893 0.59943107]\n",
      "  [0.40302461 0.59697539]]\n",
      "\n",
      " [[0.43361568 0.56638432]\n",
      "  [0.40366388 0.59633612]]\n",
      "\n",
      " [[0.4253473  0.5746527 ]\n",
      "  [0.42157733 0.57842267]]\n",
      "\n",
      " [[0.37216953 0.62783047]\n",
      "  [0.40263414 0.59736586]]\n",
      "\n",
      " [[0.40378025 0.59621975]\n",
      "  [0.40768961 0.59231039]]\n",
      "\n",
      " [[0.41479196 0.58520804]\n",
      "  [0.3924541  0.6075459 ]]\n",
      "\n",
      " [[0.37892816 0.62107184]\n",
      "  [0.38157959 0.61842041]]]\n",
      "t2_mean, pi_means: 1426.482956090107 [0.40227505 0.59772495]\n"
     ]
    },
    {
     "name": "stderr",
     "output_type": "stream",
     "text": [
      "Computing transition matrices: 100%|██████████| 8/8 [00:00<00:00, 2002.53cluster/s]\n",
      "Processing Lag Times:  21%|██▏       | 18/84 [00:33<01:44,  1.58s/lag]"
     ]
    },
    {
     "name": "stdout",
     "output_type": "stream",
     "text": [
      "transition_matrices.shape (8, 2, 2)\n",
      "[[[0.43657814 0.56342186]\n",
      "  [0.38825568 0.61174432]]\n",
      "\n",
      " [[0.41544112 0.58455888]\n",
      "  [0.38129    0.61871   ]]\n",
      "\n",
      " [[0.39768291 0.60231709]\n",
      "  [0.38475928 0.61524072]]\n",
      "\n",
      " [[0.43578    0.56422   ]\n",
      "  [0.41557463 0.58442537]]\n",
      "\n",
      " [[0.4030803  0.5969197 ]\n",
      "  [0.40504441 0.59495559]]\n",
      "\n",
      " [[0.40000816 0.59999184]\n",
      "  [0.39263031 0.60736969]]\n",
      "\n",
      " [[0.39771942 0.60228058]\n",
      "  [0.39506253 0.60493747]]\n",
      "\n",
      " [[0.39098723 0.60901277]\n",
      "  [0.41525576 0.58474424]]]\n",
      "t2_mean, pi_means: 1593.1711232447979 [0.40225176 0.59774824]\n"
     ]
    },
    {
     "name": "stderr",
     "output_type": "stream",
     "text": [
      "Computing transition matrices: 100%|██████████| 8/8 [00:00<00:00, 2172.65cluster/s]\n",
      "Processing Lag Times:  23%|██▎       | 19/84 [00:35<01:42,  1.57s/lag]"
     ]
    },
    {
     "name": "stdout",
     "output_type": "stream",
     "text": [
      "transition_matrices.shape (8, 2, 2)\n",
      "[[[0.3948449  0.6051551 ]\n",
      "  [0.40440895 0.59559105]]\n",
      "\n",
      " [[0.39092047 0.60907953]\n",
      "  [0.4082121  0.5917879 ]]\n",
      "\n",
      " [[0.39192189 0.60807811]\n",
      "  [0.41637569 0.58362431]]\n",
      "\n",
      " [[0.3686183  0.6313817 ]\n",
      "  [0.38699505 0.61300495]]\n",
      "\n",
      " [[0.39706131 0.60293869]\n",
      "  [0.38636162 0.61363838]]\n",
      "\n",
      " [[0.40616088 0.59383912]\n",
      "  [0.41350478 0.58649522]]\n",
      "\n",
      " [[0.38054304 0.61945696]\n",
      "  [0.38843303 0.61156697]]\n",
      "\n",
      " [[0.40377726 0.59622274]\n",
      "  [0.41776937 0.58223063]]]\n",
      "t2_mean, pi_means: 1564.7243127066786 [0.39834087 0.60165913]\n"
     ]
    },
    {
     "name": "stderr",
     "output_type": "stream",
     "text": [
      "Computing transition matrices: 100%|██████████| 8/8 [00:00<00:00, 2407.58cluster/s]\n",
      "Processing Lag Times:  24%|██▍       | 20/84 [00:36<01:39,  1.55s/lag]"
     ]
    },
    {
     "name": "stdout",
     "output_type": "stream",
     "text": [
      "transition_matrices.shape (8, 2, 2)\n",
      "[[[0.40383337 0.59616663]\n",
      "  [0.39209348 0.60790652]]\n",
      "\n",
      " [[0.39673481 0.60326519]\n",
      "  [0.40036971 0.59963029]]\n",
      "\n",
      " [[0.38019315 0.61980685]\n",
      "  [0.41650643 0.58349357]]\n",
      "\n",
      " [[0.40270885 0.59729115]\n",
      "  [0.40052236 0.59947764]]\n",
      "\n",
      " [[0.39831849 0.60168151]\n",
      "  [0.37794255 0.62205745]]\n",
      "\n",
      " [[0.40192467 0.59807533]\n",
      "  [0.43632117 0.56367883]]\n",
      "\n",
      " [[0.42863095 0.57136905]\n",
      "  [0.40227681 0.59772319]]\n",
      "\n",
      " [[0.41540516 0.58459484]\n",
      "  [0.40485779 0.59514221]]]\n",
      "t2_mean, pi_means: 1706.020850461734 [0.4036172 0.5963828]\n"
     ]
    },
    {
     "name": "stderr",
     "output_type": "stream",
     "text": [
      "Computing transition matrices: 100%|██████████| 8/8 [00:00<00:00, 3301.63cluster/s]\n",
      "Processing Lag Times:  25%|██▌       | 21/84 [00:37<01:33,  1.48s/lag]"
     ]
    },
    {
     "name": "stdout",
     "output_type": "stream",
     "text": [
      "transition_matrices.shape (8, 2, 2)\n",
      "[[[0.3979843  0.6020157 ]\n",
      "  [0.41898384 0.58101616]]\n",
      "\n",
      " [[0.4197952  0.5802048 ]\n",
      "  [0.42394151 0.57605849]]\n",
      "\n",
      " [[0.35590487 0.64409513]\n",
      "  [0.39106247 0.60893753]]\n",
      "\n",
      " [[0.38353952 0.61646048]\n",
      "  [0.38640745 0.61359255]]\n",
      "\n",
      " [[0.42481225 0.57518775]\n",
      "  [0.38004296 0.61995704]]\n",
      "\n",
      " [[0.38802025 0.61197975]\n",
      "  [0.40181156 0.59818844]]\n",
      "\n",
      " [[0.3966579  0.6033421 ]\n",
      "  [0.41902536 0.58097464]]\n",
      "\n",
      " [[0.39135124 0.60864876]\n",
      "  [0.40445476 0.59554524]]]\n",
      "t2_mean, pi_means: 2607.660232569582 [0.39986523 0.60013477]\n"
     ]
    },
    {
     "name": "stderr",
     "output_type": "stream",
     "text": [
      "Computing transition matrices: 100%|██████████| 8/8 [00:00<00:00, 3646.43cluster/s]\n",
      "Processing Lag Times:  26%|██▌       | 22/84 [00:39<01:31,  1.48s/lag]"
     ]
    },
    {
     "name": "stdout",
     "output_type": "stream",
     "text": [
      "transition_matrices.shape (8, 2, 2)\n",
      "[[[0.39281428 0.60718572]\n",
      "  [0.38101143 0.61898857]]\n",
      "\n",
      " [[0.3872636  0.6127364 ]\n",
      "  [0.37656091 0.62343909]]\n",
      "\n",
      " [[0.43695295 0.56304705]\n",
      "  [0.42955089 0.57044911]]\n",
      "\n",
      " [[0.42185232 0.57814768]\n",
      "  [0.42441519 0.57558481]]\n",
      "\n",
      " [[0.41860219 0.58139781]\n",
      "  [0.40508418 0.59491582]]\n",
      "\n",
      " [[0.38661966 0.61338034]\n",
      "  [0.40802178 0.59197822]]\n",
      "\n",
      " [[0.41472868 0.58527132]\n",
      "  [0.39190966 0.60809034]]\n",
      "\n",
      " [[0.37892295 0.62107705]\n",
      "  [0.39147998 0.60852002]]]\n",
      "t2_mean, pi_means: 1964.5270977962577 [0.40250941 0.59749059]\n"
     ]
    },
    {
     "name": "stderr",
     "output_type": "stream",
     "text": [
      "Computing transition matrices: 100%|██████████| 8/8 [00:00<00:00, 2814.02cluster/s]\n",
      "Processing Lag Times:  27%|██▋       | 23/84 [00:40<01:29,  1.46s/lag]"
     ]
    },
    {
     "name": "stdout",
     "output_type": "stream",
     "text": [
      "transition_matrices.shape (8, 2, 2)\n",
      "[[[0.37956652 0.62043348]\n",
      "  [0.41319253 0.58680747]]\n",
      "\n",
      " [[0.36918589 0.63081411]\n",
      "  [0.39377289 0.60622711]]\n",
      "\n",
      " [[0.40431706 0.59568294]\n",
      "  [0.38893802 0.61106198]]\n",
      "\n",
      " [[0.40054144 0.59945856]\n",
      "  [0.40330643 0.59669357]]\n",
      "\n",
      " [[0.38427035 0.61572965]\n",
      "  [0.39722847 0.60277153]]\n",
      "\n",
      " [[0.39494768 0.60505232]\n",
      "  [0.42520068 0.57479932]]\n",
      "\n",
      " [[0.42834005 0.57165995]\n",
      "  [0.41269722 0.58730278]]\n",
      "\n",
      " [[0.40125983 0.59874017]\n",
      "  [0.40061716 0.59938284]]]\n",
      "t2_mean, pi_means: 1807.668337654025 [0.40078419 0.59921581]\n"
     ]
    },
    {
     "name": "stderr",
     "output_type": "stream",
     "text": [
      "Computing transition matrices: 100%|██████████| 8/8 [00:00<00:00, 620.20cluster/s]\n",
      "Processing Lag Times:  29%|██▊       | 24/84 [00:42<01:27,  1.46s/lag]"
     ]
    },
    {
     "name": "stdout",
     "output_type": "stream",
     "text": [
      "transition_matrices.shape (8, 2, 2)\n",
      "[[[0.41140893 0.58859107]\n",
      "  [0.39100163 0.60899837]]\n",
      "\n",
      " [[0.44556572 0.55443428]\n",
      "  [0.44950172 0.55049828]]\n",
      "\n",
      " [[0.38567044 0.61432956]\n",
      "  [0.38655602 0.61344398]]\n",
      "\n",
      " [[0.41843858 0.58156142]\n",
      "  [0.41994857 0.58005143]]\n",
      "\n",
      " [[0.40445728 0.59554272]\n",
      "  [0.39061228 0.60938772]]\n",
      "\n",
      " [[0.40790778 0.59209222]\n",
      "  [0.40473351 0.59526649]]\n",
      "\n",
      " [[0.39196681 0.60803319]\n",
      "  [0.4012446  0.5987554 ]]\n",
      "\n",
      " [[0.40092412 0.59907588]\n",
      "  [0.38860123 0.61139877]]]\n",
      "t2_mean, pi_means: 2119.0242610697087 [0.40569255 0.59430745]\n"
     ]
    },
    {
     "name": "stderr",
     "output_type": "stream",
     "text": [
      "Computing transition matrices: 100%|██████████| 8/8 [00:00<00:00, 1718.18cluster/s]\n",
      "Processing Lag Times:  30%|██▉       | 25/84 [00:44<01:31,  1.55s/lag]"
     ]
    },
    {
     "name": "stdout",
     "output_type": "stream",
     "text": [
      "transition_matrices.shape (8, 2, 2)\n",
      "[[[0.44861521 0.55138479]\n",
      "  [0.4005141  0.5994859 ]]\n",
      "\n",
      " [[0.40012668 0.59987332]\n",
      "  [0.41982949 0.58017051]]\n",
      "\n",
      " [[0.40756252 0.59243748]\n",
      "  [0.40050968 0.59949032]]\n",
      "\n",
      " [[0.40137648 0.59862352]\n",
      "  [0.41606261 0.58393739]]\n",
      "\n",
      " [[0.39238019 0.60761981]\n",
      "  [0.38702887 0.61297113]]\n",
      "\n",
      " [[0.40559967 0.59440033]\n",
      "  [0.38084007 0.61915993]]\n",
      "\n",
      " [[0.36793023 0.63206977]\n",
      "  [0.39728559 0.60271441]]\n",
      "\n",
      " [[0.39486714 0.60513286]\n",
      "  [0.39055724 0.60944276]]]\n",
      "t2_mean, pi_means: 2314.0154345912224 [0.40046113 0.59953887]\n"
     ]
    },
    {
     "name": "stderr",
     "output_type": "stream",
     "text": [
      "Computing transition matrices: 100%|██████████| 8/8 [00:00<00:00, 2163.96cluster/s]\n",
      "Processing Lag Times:  31%|███       | 26/84 [00:45<01:28,  1.52s/lag]"
     ]
    },
    {
     "name": "stdout",
     "output_type": "stream",
     "text": [
      "transition_matrices.shape (8, 2, 2)\n",
      "[[[0.42395559 0.57604441]\n",
      "  [0.41514729 0.58485271]]\n",
      "\n",
      " [[0.39192553 0.60807447]\n",
      "  [0.39374067 0.60625933]]\n",
      "\n",
      " [[0.37905122 0.62094878]\n",
      "  [0.38469259 0.61530741]]\n",
      "\n",
      " [[0.3909575  0.6090425 ]\n",
      "  [0.40796282 0.59203718]]\n",
      "\n",
      " [[0.38121883 0.61878117]\n",
      "  [0.40688452 0.59311548]]\n",
      "\n",
      " [[0.40518846 0.59481154]\n",
      "  [0.40229111 0.59770889]]\n",
      "\n",
      " [[0.40187607 0.59812393]\n",
      "  [0.4252517  0.5747483 ]]\n",
      "\n",
      " [[0.39211835 0.60788165]\n",
      "  [0.40090649 0.59909351]]]\n",
      "t2_mean, pi_means: 2015.7057267284758 [0.40108185 0.59891815]\n"
     ]
    },
    {
     "name": "stderr",
     "output_type": "stream",
     "text": [
      "Computing transition matrices: 100%|██████████| 8/8 [00:00<00:00, 2225.39cluster/s]\n",
      "Processing Lag Times:  32%|███▏      | 27/84 [00:46<01:23,  1.46s/lag]"
     ]
    },
    {
     "name": "stdout",
     "output_type": "stream",
     "text": [
      "transition_matrices.shape (8, 2, 2)\n",
      "[[[0.41912232 0.58087768]\n",
      "  [0.41476122 0.58523878]]\n",
      "\n",
      " [[0.38839655 0.61160345]\n",
      "  [0.39287955 0.60712045]]\n",
      "\n",
      " [[0.4118872  0.5881128 ]\n",
      "  [0.41806736 0.58193264]]\n",
      "\n",
      " [[0.40513999 0.59486001]\n",
      "  [0.40187863 0.59812137]]\n",
      "\n",
      " [[0.39537401 0.60462599]\n",
      "  [0.42160769 0.57839231]]\n",
      "\n",
      " [[0.37827239 0.62172761]\n",
      "  [0.3766876  0.6233124 ]]\n",
      "\n",
      " [[0.39824831 0.60175169]\n",
      "  [0.38918071 0.61081929]]\n",
      "\n",
      " [[0.41614421 0.58385579]\n",
      "  [0.40872768 0.59127232]]]\n",
      "t2_mean, pi_means: 2052.371292915297 [0.40237955 0.59762045]\n"
     ]
    },
    {
     "name": "stderr",
     "output_type": "stream",
     "text": [
      "Computing transition matrices: 100%|██████████| 8/8 [00:00<00:00, 2295.58cluster/s]\n",
      "Processing Lag Times:  33%|███▎      | 28/84 [00:48<01:19,  1.42s/lag]"
     ]
    },
    {
     "name": "stdout",
     "output_type": "stream",
     "text": [
      "transition_matrices.shape (8, 2, 2)\n",
      "[[[0.41392652 0.58607348]\n",
      "  [0.41907824 0.58092176]]\n",
      "\n",
      " [[0.39906961 0.60093039]\n",
      "  [0.39638247 0.60361753]]\n",
      "\n",
      " [[0.37719298 0.62280702]\n",
      "  [0.38329434 0.61670566]]\n",
      "\n",
      " [[0.41618157 0.58381843]\n",
      "  [0.41963578 0.58036422]]\n",
      "\n",
      " [[0.36089451 0.63910549]\n",
      "  [0.3848516  0.6151484 ]]\n",
      "\n",
      " [[0.43275636 0.56724364]\n",
      "  [0.41079292 0.58920708]]\n",
      "\n",
      " [[0.38682004 0.61317996]\n",
      "  [0.40863186 0.59136814]]\n",
      "\n",
      " [[0.41347924 0.58652076]\n",
      "  [0.40536357 0.59463643]]]\n",
      "t2_mean, pi_means: 2429.823790835338 [0.40224959 0.59775041]\n"
     ]
    },
    {
     "name": "stderr",
     "output_type": "stream",
     "text": [
      "Computing transition matrices: 100%|██████████| 8/8 [00:00<00:00, 1749.45cluster/s]\n",
      "Processing Lag Times:  35%|███▍      | 29/84 [00:49<01:16,  1.39s/lag]"
     ]
    },
    {
     "name": "stdout",
     "output_type": "stream",
     "text": [
      "transition_matrices.shape (8, 2, 2)\n",
      "[[[0.41708175 0.58291825]\n",
      "  [0.43005321 0.56994679]]\n",
      "\n",
      " [[0.38915034 0.61084966]\n",
      "  [0.40473549 0.59526451]]\n",
      "\n",
      " [[0.39890237 0.60109763]\n",
      "  [0.41471412 0.58528588]]\n",
      "\n",
      " [[0.37362437 0.62637563]\n",
      "  [0.40656821 0.59343179]]\n",
      "\n",
      " [[0.39044811 0.60955189]\n",
      "  [0.38273485 0.61726515]]\n",
      "\n",
      " [[0.44501414 0.55498586]\n",
      "  [0.40669503 0.59330497]]\n",
      "\n",
      " [[0.40360103 0.59639897]\n",
      "  [0.40432486 0.59567514]]\n",
      "\n",
      " [[0.39402751 0.60597249]\n",
      "  [0.39904543 0.60095457]]]\n",
      "t2_mean, pi_means: 3037.5479298254286 [0.40432832 0.59567168]\n"
     ]
    },
    {
     "name": "stderr",
     "output_type": "stream",
     "text": [
      "Computing transition matrices: 100%|██████████| 8/8 [00:00<00:00, 1734.62cluster/s]\n",
      "Processing Lag Times:  36%|███▌      | 30/84 [00:50<01:13,  1.35s/lag]"
     ]
    },
    {
     "name": "stdout",
     "output_type": "stream",
     "text": [
      "transition_matrices.shape (8, 2, 2)\n",
      "[[[0.39361888 0.60638112]\n",
      "  [0.40893671 0.59106329]]\n",
      "\n",
      " [[0.4095445  0.5904555 ]\n",
      "  [0.42472491 0.57527509]]\n",
      "\n",
      " [[0.42112933 0.57887067]\n",
      "  [0.38626398 0.61373602]]\n",
      "\n",
      " [[0.41009982 0.58990018]\n",
      "  [0.40306295 0.59693705]]\n",
      "\n",
      " [[0.4343281  0.5656719 ]\n",
      "  [0.4287006  0.5712994 ]]\n",
      "\n",
      " [[0.36519808 0.63480192]\n",
      "  [0.38162576 0.61837424]]\n",
      "\n",
      " [[0.41090627 0.58909373]\n",
      "  [0.37383291 0.62616709]]\n",
      "\n",
      " [[0.38440288 0.61559712]\n",
      "  [0.39512742 0.60487258]]]\n",
      "t2_mean, pi_means: 3069.497955865836 [0.40162791 0.59837209]\n"
     ]
    },
    {
     "name": "stderr",
     "output_type": "stream",
     "text": [
      "Computing transition matrices: 100%|██████████| 8/8 [00:00<00:00, 3571.52cluster/s]\n",
      "Processing Lag Times:  37%|███▋      | 31/84 [00:51<01:10,  1.33s/lag]"
     ]
    },
    {
     "name": "stdout",
     "output_type": "stream",
     "text": [
      "transition_matrices.shape (8, 2, 2)\n",
      "[[[0.37536934 0.62463066]\n",
      "  [0.37577307 0.62422693]]\n",
      "\n",
      " [[0.41578179 0.58421821]\n",
      "  [0.39397762 0.60602238]]\n",
      "\n",
      " [[0.39508441 0.60491559]\n",
      "  [0.37896011 0.62103989]]\n",
      "\n",
      " [[0.42006649 0.57993351]\n",
      "  [0.40433613 0.59566387]]\n",
      "\n",
      " [[0.42008596 0.57991404]\n",
      "  [0.43017034 0.56982966]]\n",
      "\n",
      " [[0.42495902 0.57504098]\n",
      "  [0.40670947 0.59329053]]\n",
      "\n",
      " [[0.42217376 0.57782624]\n",
      "  [0.4191064  0.5808936 ]]\n",
      "\n",
      " [[0.41556948 0.58443052]\n",
      "  [0.3917427  0.6082573 ]]]\n",
      "t2_mean, pi_means: 3101.6421838569995 [0.40452444 0.59547556]\n"
     ]
    },
    {
     "name": "stderr",
     "output_type": "stream",
     "text": [
      "Computing transition matrices: 100%|██████████| 8/8 [00:00<00:00, 2913.47cluster/s]\n",
      "Processing Lag Times:  38%|███▊      | 32/84 [00:53<01:08,  1.32s/lag]"
     ]
    },
    {
     "name": "stdout",
     "output_type": "stream",
     "text": [
      "transition_matrices.shape (8, 2, 2)\n",
      "[[[0.38479221 0.61520779]\n",
      "  [0.39299187 0.60700813]]\n",
      "\n",
      " [[0.42170706 0.57829294]\n",
      "  [0.43368907 0.56631093]]\n",
      "\n",
      " [[0.43090131 0.56909869]\n",
      "  [0.38885563 0.61114437]]\n",
      "\n",
      " [[0.39726379 0.60273621]\n",
      "  [0.39740579 0.60259421]]\n",
      "\n",
      " [[0.42994254 0.57005746]\n",
      "  [0.44169899 0.55830101]]\n",
      "\n",
      " [[0.40163457 0.59836543]\n",
      "  [0.3824696  0.6175304 ]]\n",
      "\n",
      " [[0.40031764 0.59968236]\n",
      "  [0.42104913 0.57895087]]\n",
      "\n",
      " [[0.38146144 0.61853856]\n",
      "  [0.39829235 0.60170765]]]\n",
      "t2_mean, pi_means: 3841.693219923201 [0.40654108 0.59345892]\n"
     ]
    },
    {
     "name": "stderr",
     "output_type": "stream",
     "text": [
      "Computing transition matrices: 100%|██████████| 8/8 [00:00<00:00, 2534.90cluster/s]\n",
      "Processing Lag Times:  39%|███▉      | 33/84 [00:54<01:04,  1.27s/lag]"
     ]
    },
    {
     "name": "stdout",
     "output_type": "stream",
     "text": [
      "transition_matrices.shape (8, 2, 2)\n",
      "[[[0.40995144 0.59004856]\n",
      "  [0.40901581 0.59098419]]\n",
      "\n",
      " [[0.38472756 0.61527244]\n",
      "  [0.43869306 0.56130694]]\n",
      "\n",
      " [[0.40123537 0.59876463]\n",
      "  [0.40322692 0.59677308]]\n",
      "\n",
      " [[0.39420419 0.60579581]\n",
      "  [0.38040462 0.61959538]]\n",
      "\n",
      " [[0.38499591 0.61500409]\n",
      "  [0.38942682 0.61057318]]\n",
      "\n",
      " [[0.41208628 0.58791372]\n",
      "  [0.44483495 0.55516505]]\n",
      "\n",
      " [[0.40108371 0.59891629]\n",
      "  [0.41986271 0.58013729]]\n",
      "\n",
      " [[0.40768471 0.59231529]\n",
      "  [0.40754651 0.59245349]]]\n",
      "t2_mean, pi_means: 2193.9002159924285 [0.40649339 0.59350661]\n"
     ]
    },
    {
     "name": "stderr",
     "output_type": "stream",
     "text": [
      "Computing transition matrices: 100%|██████████| 8/8 [00:00<00:00, 2232.79cluster/s]\n",
      "Processing Lag Times:  40%|████      | 34/84 [00:55<01:01,  1.24s/lag]"
     ]
    },
    {
     "name": "stdout",
     "output_type": "stream",
     "text": [
      "transition_matrices.shape (8, 2, 2)\n",
      "[[[0.43530791 0.56469209]\n",
      "  [0.40623231 0.59376769]]\n",
      "\n",
      " [[0.40478318 0.59521682]\n",
      "  [0.40463867 0.59536133]]\n",
      "\n",
      " [[0.41019175 0.58980825]\n",
      "  [0.42122872 0.57877128]]\n",
      "\n",
      " [[0.42202104 0.57797896]\n",
      "  [0.42503654 0.57496346]]\n",
      "\n",
      " [[0.40989296 0.59010704]\n",
      "  [0.34760602 0.65239398]]\n",
      "\n",
      " [[0.41259266 0.58740734]\n",
      "  [0.43154823 0.56845177]]\n",
      "\n",
      " [[0.40728737 0.59271263]\n",
      "  [0.3879373  0.6120627 ]]\n",
      "\n",
      " [[0.37983841 0.62016159]\n",
      "  [0.39295998 0.60704002]]]\n",
      "t2_mean, pi_means: 3393.591763202315 [0.40514524 0.59485476]\n"
     ]
    },
    {
     "name": "stderr",
     "output_type": "stream",
     "text": [
      "Computing transition matrices: 100%|██████████| 8/8 [00:00<00:00, 2351.56cluster/s]\n",
      "Processing Lag Times:  42%|████▏     | 35/84 [00:56<01:01,  1.25s/lag]"
     ]
    },
    {
     "name": "stdout",
     "output_type": "stream",
     "text": [
      "transition_matrices.shape (8, 2, 2)\n",
      "[[[0.43854801 0.56145199]\n",
      "  [0.40674606 0.59325394]]\n",
      "\n",
      " [[0.33342274 0.66657726]\n",
      "  [0.40484384 0.59515616]]\n",
      "\n",
      " [[0.41129098 0.58870902]\n",
      "  [0.38608994 0.61391006]]\n",
      "\n",
      " [[0.40665659 0.59334341]\n",
      "  [0.39069467 0.60930533]]\n",
      "\n",
      " [[0.37820683 0.62179317]\n",
      "  [0.42080092 0.57919908]]\n",
      "\n",
      " [[0.42233201 0.57766799]\n",
      "  [0.43065243 0.56934757]]\n",
      "\n",
      " [[0.41571346 0.58428654]\n",
      "  [0.3884742  0.6115258 ]]\n",
      "\n",
      " [[0.41450538 0.58549462]\n",
      "  [0.43940389 0.56059611]]]\n",
      "t2_mean, pi_means: 4071.32323657157 [0.40623204 0.59376796]\n"
     ]
    },
    {
     "name": "stderr",
     "output_type": "stream",
     "text": [
      "Computing transition matrices: 100%|██████████| 8/8 [00:00<00:00, 1277.58cluster/s]\n",
      "Processing Lag Times:  43%|████▎     | 36/84 [00:58<01:00,  1.25s/lag]"
     ]
    },
    {
     "name": "stdout",
     "output_type": "stream",
     "text": [
      "transition_matrices.shape (8, 2, 2)\n",
      "[[[0.40175256 0.59824744]\n",
      "  [0.39436227 0.60563773]]\n",
      "\n",
      " [[0.42519384 0.57480616]\n",
      "  [0.40495206 0.59504794]]\n",
      "\n",
      " [[0.38102667 0.61897333]\n",
      "  [0.41593155 0.58406845]]\n",
      "\n",
      " [[0.35826837 0.64173163]\n",
      "  [0.39367922 0.60632078]]\n",
      "\n",
      " [[0.40990221 0.59009779]\n",
      "  [0.43600782 0.56399218]]\n",
      "\n",
      " [[0.43709293 0.56290707]\n",
      "  [0.43110124 0.56889876]]\n",
      "\n",
      " [[0.39094462 0.60905538]\n",
      "  [0.36024507 0.63975493]]\n",
      "\n",
      " [[0.43955436 0.56044564]\n",
      "  [0.44017392 0.55982608]]]\n",
      "t2_mean, pi_means: 3629.7365310599525 [0.40786331 0.59213669]\n"
     ]
    },
    {
     "name": "stderr",
     "output_type": "stream",
     "text": [
      "Computing transition matrices: 100%|██████████| 8/8 [00:00<00:00, 2146.66cluster/s]\n",
      "Processing Lag Times:  44%|████▍     | 37/84 [00:59<00:56,  1.21s/lag]"
     ]
    },
    {
     "name": "stdout",
     "output_type": "stream",
     "text": [
      "transition_matrices.shape (8, 2, 2)\n",
      "[[[0.41759606 0.58240394]\n",
      "  [0.41522366 0.58477634]]\n",
      "\n",
      " [[0.37634514 0.62365486]\n",
      "  [0.37028735 0.62971265]]\n",
      "\n",
      " [[0.47959184 0.52040816]\n",
      "  [0.45320901 0.54679099]]\n",
      "\n",
      " [[0.40567214 0.59432786]\n",
      "  [0.38984622 0.61015378]]\n",
      "\n",
      " [[0.40435472 0.59564528]\n",
      "  [0.42903582 0.57096418]]\n",
      "\n",
      " [[0.40545304 0.59454696]\n",
      "  [0.36808388 0.63191612]]\n",
      "\n",
      " [[0.40597801 0.59402199]\n",
      "  [0.42219745 0.57780255]]\n",
      "\n",
      " [[0.39541659 0.60458341]\n",
      "  [0.41799789 0.58200211]]]\n",
      "t2_mean, pi_means: 3714.9452788734684 [0.40945765 0.59054235]\n"
     ]
    },
    {
     "name": "stderr",
     "output_type": "stream",
     "text": [
      "Computing transition matrices: 100%|██████████| 8/8 [00:00<00:00, 1774.24cluster/s]\n",
      "Processing Lag Times:  45%|████▌     | 38/84 [01:00<00:54,  1.19s/lag]"
     ]
    },
    {
     "name": "stdout",
     "output_type": "stream",
     "text": [
      "transition_matrices.shape (8, 2, 2)\n",
      "[[[0.39426334 0.60573666]\n",
      "  [0.38792785 0.61207215]]\n",
      "\n",
      " [[0.42565297 0.57434703]\n",
      "  [0.40174127 0.59825873]]\n",
      "\n",
      " [[0.37927425 0.62072575]\n",
      "  [0.5166883  0.4833117 ]]\n",
      "\n",
      " [[0.37163853 0.62836147]\n",
      "  [0.38683954 0.61316046]]\n",
      "\n",
      " [[0.4057783  0.5942217 ]\n",
      "  [0.41868055 0.58131945]]\n",
      "\n",
      " [[0.42028296 0.57971704]\n",
      "  [0.42189671 0.57810329]]\n",
      "\n",
      " [[0.35149196 0.64850804]\n",
      "  [0.42494344 0.57505656]]\n",
      "\n",
      " [[0.38068153 0.61931847]\n",
      "  [0.38620937 0.61379063]]]\n",
      "t2_mean, pi_means: 3818.679079471482 [0.40647678 0.59352322]\n"
     ]
    },
    {
     "name": "stderr",
     "output_type": "stream",
     "text": [
      "Computing transition matrices: 100%|██████████| 8/8 [00:00<00:00, 4121.66cluster/s]\n",
      "Processing Lag Times:  46%|████▋     | 39/84 [01:01<00:55,  1.23s/lag]"
     ]
    },
    {
     "name": "stdout",
     "output_type": "stream",
     "text": [
      "transition_matrices.shape (8, 2, 2)\n",
      "[[[0.33330074 0.66669926]\n",
      "  [0.39484369 0.60515631]]\n",
      "\n",
      " [[0.38271469 0.61728531]\n",
      "  [0.44417643 0.55582357]]\n",
      "\n",
      " [[0.37881896 0.62118104]\n",
      "  [0.41419694 0.58580306]]\n",
      "\n",
      " [[0.3794974  0.6205026 ]\n",
      "  [0.35334349 0.64665651]]\n",
      "\n",
      " [[0.39428449 0.60571551]\n",
      "  [0.42332569 0.57667431]]\n",
      "\n",
      " [[0.44703591 0.55296409]\n",
      "  [0.38805418 0.61194582]]\n",
      "\n",
      " [[0.3897408  0.6102592 ]\n",
      "  [0.39785806 0.60214194]]\n",
      "\n",
      " [[0.42159279 0.57840721]\n",
      "  [0.43152883 0.56847117]]]\n",
      "t2_mean, pi_means: 5324.609133557845 [0.39987258 0.60012742]\n"
     ]
    },
    {
     "name": "stderr",
     "output_type": "stream",
     "text": [
      "Computing transition matrices: 100%|██████████| 8/8 [00:00<00:00, 3761.29cluster/s]\n",
      "Processing Lag Times:  48%|████▊     | 40/84 [01:03<00:57,  1.30s/lag]"
     ]
    },
    {
     "name": "stdout",
     "output_type": "stream",
     "text": [
      "transition_matrices.shape (8, 2, 2)\n",
      "[[[0.38313765 0.61686235]\n",
      "  [0.41608045 0.58391955]]\n",
      "\n",
      " [[0.35963003 0.64036997]\n",
      "  [0.37909202 0.62090798]]\n",
      "\n",
      " [[0.39843444 0.60156556]\n",
      "  [0.39799718 0.60200282]]\n",
      "\n",
      " [[0.44057544 0.55942456]\n",
      "  [0.43235418 0.56764582]]\n",
      "\n",
      " [[0.38563297 0.61436703]\n",
      "  [0.3953857  0.6046143 ]]\n",
      "\n",
      " [[0.38786824 0.61213176]\n",
      "  [0.38243955 0.61756045]]\n",
      "\n",
      " [[0.44273105 0.55726895]\n",
      "  [0.43594155 0.56405845]]\n",
      "\n",
      " [[0.39759061 0.60240939]\n",
      "  [0.35552796 0.64447204]]]\n",
      "t2_mean, pi_means: 3533.869931886004 [0.39936621 0.60063379]\n"
     ]
    },
    {
     "name": "stderr",
     "output_type": "stream",
     "text": [
      "Computing transition matrices: 100%|██████████| 8/8 [00:00<00:00, 4550.37cluster/s]\n",
      "Processing Lag Times:  49%|████▉     | 41/84 [01:04<00:53,  1.23s/lag]"
     ]
    },
    {
     "name": "stdout",
     "output_type": "stream",
     "text": [
      "transition_matrices.shape (8, 2, 2)\n",
      "[[[0.3990263  0.6009737 ]\n",
      "  [0.38119728 0.61880272]]\n",
      "\n",
      " [[0.41563166 0.58436834]\n",
      "  [0.39096705 0.60903295]]\n",
      "\n",
      " [[0.36307054 0.63692946]\n",
      "  [0.34053442 0.65946558]]\n",
      "\n",
      " [[0.38734932 0.61265068]\n",
      "  [0.41324677 0.58675323]]\n",
      "\n",
      " [[0.39498005 0.60501995]\n",
      "  [0.38233388 0.61766612]]\n",
      "\n",
      " [[0.48852529 0.51147471]\n",
      "  [0.42482459 0.57517541]]\n",
      "\n",
      " [[0.35428618 0.64571382]\n",
      "  [0.35295259 0.64704741]]\n",
      "\n",
      " [[0.38080395 0.61919605]\n",
      "  [0.45777702 0.54222298]]]\n",
      "t2_mean, pi_means: 4453.84170309492 [0.39495158 0.60504842]\n"
     ]
    },
    {
     "name": "stderr",
     "output_type": "stream",
     "text": [
      "Computing transition matrices: 100%|██████████| 8/8 [00:00<00:00, 1691.68cluster/s]\n",
      "Processing Lag Times:  50%|█████     | 42/84 [01:05<00:49,  1.17s/lag]"
     ]
    },
    {
     "name": "stdout",
     "output_type": "stream",
     "text": [
      "transition_matrices.shape (8, 2, 2)\n",
      "[[[0.37842732 0.62157268]\n",
      "  [0.42715152 0.57284848]]\n",
      "\n",
      " [[0.32324287 0.67675713]\n",
      "  [0.40466299 0.59533701]]\n",
      "\n",
      " [[0.37410157 0.62589843]\n",
      "  [0.36645834 0.63354166]]\n",
      "\n",
      " [[0.40124955 0.59875045]\n",
      "  [0.38710499 0.61289501]]\n",
      "\n",
      " [[0.4010755  0.5989245 ]\n",
      "  [0.46323021 0.53676979]]\n",
      "\n",
      " [[0.39730345 0.60269655]\n",
      "  [0.40343283 0.59656717]]\n",
      "\n",
      " [[0.40339721 0.59660279]\n",
      "  [0.40229406 0.59770594]]\n",
      "\n",
      " [[0.3833648  0.6166352 ]\n",
      "  [0.42301196 0.57698804]]]\n",
      "t2_mean, pi_means: 3570.7798353152907 [0.39876981 0.60123019]\n"
     ]
    },
    {
     "name": "stderr",
     "output_type": "stream",
     "text": [
      "Computing transition matrices: 100%|██████████| 8/8 [00:00<00:00, 1879.27cluster/s]\n",
      "Processing Lag Times:  51%|█████     | 43/84 [01:06<00:45,  1.12s/lag]"
     ]
    },
    {
     "name": "stdout",
     "output_type": "stream",
     "text": [
      "transition_matrices.shape (8, 2, 2)\n",
      "[[[0.41912169 0.58087831]\n",
      "  [0.39117021 0.60882979]]\n",
      "\n",
      " [[0.42897299 0.57102701]\n",
      "  [0.45134021 0.54865979]]\n",
      "\n",
      " [[0.39779356 0.60220644]\n",
      "  [0.36414097 0.63585903]]\n",
      "\n",
      " [[0.41127669 0.58872331]\n",
      "  [0.37524971 0.62475029]]\n",
      "\n",
      " [[0.35806771 0.64193229]\n",
      "  [0.39962848 0.60037152]]\n",
      "\n",
      " [[0.3652782  0.6347218 ]\n",
      "  [0.37507267 0.62492733]]\n",
      "\n",
      " [[0.3516467  0.6483533 ]\n",
      "  [0.39081456 0.60918544]]\n",
      "\n",
      " [[0.42058974 0.57941026]\n",
      "  [0.43730202 0.56269798]]]\n",
      "t2_mean, pi_means: 5569.888701871166 [0.39641192 0.60358808]\n"
     ]
    },
    {
     "name": "stderr",
     "output_type": "stream",
     "text": [
      "Computing transition matrices: 100%|██████████| 8/8 [00:00<00:00, 1975.77cluster/s]\n",
      "Processing Lag Times:  52%|█████▏    | 44/84 [01:07<00:42,  1.07s/lag]"
     ]
    },
    {
     "name": "stdout",
     "output_type": "stream",
     "text": [
      "transition_matrices.shape (8, 2, 2)\n",
      "[[[0.40972678 0.59027322]\n",
      "  [0.39434394 0.60565606]]\n",
      "\n",
      " [[0.03944563 0.96055437]\n",
      "  [0.15578635 0.84421365]]\n",
      "\n",
      " [[0.39120949 0.60879051]\n",
      "  [0.3914462  0.6085538 ]]\n",
      "\n",
      " [[0.32741509 0.67258491]\n",
      "  [0.39536223 0.60463777]]\n",
      "\n",
      " [[0.39442252 0.60557748]\n",
      "  [0.37778324 0.62221676]]\n",
      "\n",
      " [[0.42610216 0.57389784]\n",
      "  [0.40784108 0.59215892]]\n",
      "\n",
      " [[0.36021136 0.63978864]\n",
      "  [0.35172656 0.64827344]]\n",
      "\n",
      " [[0.43327033 0.56672967]\n",
      "  [0.40133625 0.59866375]]]\n",
      "t2_mean, pi_means: 4809.254311125479 [0.35881645 0.64118355]\n"
     ]
    },
    {
     "name": "stderr",
     "output_type": "stream",
     "text": [
      "Computing transition matrices: 100%|██████████| 8/8 [00:00<00:00, 2148.31cluster/s]\n",
      "Processing Lag Times:  54%|█████▎    | 45/84 [01:08<00:41,  1.06s/lag]"
     ]
    },
    {
     "name": "stdout",
     "output_type": "stream",
     "text": [
      "transition_matrices.shape (8, 2, 2)\n",
      "[[[0.33647016 0.66352984]\n",
      "  [0.31554996 0.68445004]]\n",
      "\n",
      " [[0.35002817 0.64997183]\n",
      "  [0.46216471 0.53783529]]\n",
      "\n",
      " [[0.31488192 0.68511808]\n",
      "  [0.40206257 0.59793743]]\n",
      "\n",
      " [[0.38082114 0.61917886]\n",
      "  [0.4207084  0.5792916 ]]\n",
      "\n",
      " [[0.3658297  0.6341703 ]\n",
      "  [0.42056147 0.57943853]]\n",
      "\n",
      " [[0.41794911 0.58205089]\n",
      "  [0.38540605 0.61459395]]\n",
      "\n",
      " [[0.32821256 0.67178744]\n",
      "  [0.41868412 0.58131588]]\n",
      "\n",
      " [[0.38475971 0.61524029]\n",
      "  [0.47612545 0.52387455]]]\n",
      "t2_mean, pi_means: 5522.863632550052 [0.39119639 0.60880361]\n"
     ]
    },
    {
     "name": "stderr",
     "output_type": "stream",
     "text": [
      "Computing transition matrices: 100%|██████████| 8/8 [00:00<00:00, 1958.47cluster/s]\n",
      "Processing Lag Times:  55%|█████▍    | 46/84 [01:09<00:39,  1.03s/lag]"
     ]
    },
    {
     "name": "stdout",
     "output_type": "stream",
     "text": [
      "transition_matrices.shape (8, 2, 2)\n",
      "[[[0.32312159 0.67687841]\n",
      "  [0.33208537 0.66791463]]\n",
      "\n",
      " [[0.3404908  0.6595092 ]\n",
      "  [0.39129594 0.60870406]]\n",
      "\n",
      " [[0.3609336  0.6390664 ]\n",
      "  [0.42524021 0.57475979]]\n",
      "\n",
      " [[0.38238154 0.61761846]\n",
      "  [0.40468781 0.59531219]]\n",
      "\n",
      " [[0.45962873 0.54037127]\n",
      "  [0.39388603 0.60611397]]\n",
      "\n",
      " [[0.42846513 0.57153487]\n",
      "  [0.37945339 0.62054661]]\n",
      "\n",
      " [[0.34365679 0.65634321]\n",
      "  [0.35290534 0.64709466]]\n",
      "\n",
      " [[0.39250399 0.60749601]\n",
      "  [0.35656926 0.64343074]]]\n",
      "t2_mean, pi_means: 6841.195720197122 [0.37963264 0.62036736]\n"
     ]
    },
    {
     "name": "stderr",
     "output_type": "stream",
     "text": [
      "Computing transition matrices: 100%|██████████| 8/8 [00:00<00:00, 2377.39cluster/s]\n",
      "Processing Lag Times:  56%|█████▌    | 47/84 [01:10<00:36,  1.00lag/s]"
     ]
    },
    {
     "name": "stdout",
     "output_type": "stream",
     "text": [
      "transition_matrices.shape (8, 2, 2)\n",
      "[[[0.39168854 0.60831146]\n",
      "  [0.42924834 0.57075166]]\n",
      "\n",
      " [[0.37482666 0.62517334]\n",
      "  [0.38013005 0.61986995]]\n",
      "\n",
      " [[0.32520926 0.67479074]\n",
      "  [0.3441776  0.6558224 ]]\n",
      "\n",
      " [[0.5        0.5       ]\n",
      "  [0.5        0.5       ]]\n",
      "\n",
      " [[0.42924344 0.57075656]\n",
      "  [0.39793837 0.60206163]]\n",
      "\n",
      " [[0.38500903 0.61499097]\n",
      "  [0.35401837 0.64598163]]\n",
      "\n",
      " [[0.37663529 0.62336471]\n",
      "  [0.36877828 0.63122172]]\n",
      "\n",
      " [[0.35554462 0.64445538]\n",
      "  [0.41073156 0.58926844]]]\n",
      "t2_mean, pi_means: 3101.3452833581023 [0.39583657 0.60416343]\n"
     ]
    },
    {
     "name": "stderr",
     "output_type": "stream",
     "text": [
      "Computing transition matrices: 100%|██████████| 8/8 [00:00<00:00, 2061.34cluster/s]\n",
      "Processing Lag Times:  57%|█████▋    | 48/84 [01:11<00:34,  1.03lag/s]"
     ]
    },
    {
     "name": "stdout",
     "output_type": "stream",
     "text": [
      "transition_matrices.shape (8, 2, 2)\n",
      "[[[0.35071413 0.64928587]\n",
      "  [0.39734954 0.60265046]]\n",
      "\n",
      " [[0.34322459 0.65677541]\n",
      "  [0.40437742 0.59562258]]\n",
      "\n",
      " [[0.3763781  0.6236219 ]\n",
      "  [0.42542111 0.57457889]]\n",
      "\n",
      " [[0.39429201 0.60570799]\n",
      "  [0.38697923 0.61302077]]\n",
      "\n",
      " [[0.41567224 0.58432776]\n",
      "  [0.33509962 0.66490038]]\n",
      "\n",
      " [[0.35924225 0.64075775]\n",
      "  [0.32426663 0.67573337]]\n",
      "\n",
      " [[0.48131488 0.51868512]\n",
      "  [0.33336489 0.66663511]]\n",
      "\n",
      " [[0.41604217 0.58395783]\n",
      "  [0.40671181 0.59328819]]]\n",
      "t2_mean, pi_means: 6615.751056923059 [0.38229478 0.61770522]\n"
     ]
    },
    {
     "name": "stderr",
     "output_type": "stream",
     "text": [
      "Computing transition matrices: 100%|██████████| 8/8 [00:00<00:00, 1875.70cluster/s]\n",
      "Processing Lag Times:  58%|█████▊    | 49/84 [01:11<00:33,  1.06lag/s]"
     ]
    },
    {
     "name": "stdout",
     "output_type": "stream",
     "text": [
      "transition_matrices.shape (8, 2, 2)\n",
      "[[[0.5        0.5       ]\n",
      "  [0.5        0.5       ]]\n",
      "\n",
      " [[0.38914364 0.61085636]\n",
      "  [0.43349811 0.56650189]]\n",
      "\n",
      " [[0.46098669 0.53901331]\n",
      "  [0.37153695 0.62846305]]\n",
      "\n",
      " [[0.35967288 0.64032712]\n",
      "  [0.38395086 0.61604914]]\n",
      "\n",
      " [[0.38654253 0.61345747]\n",
      "  [0.38828388 0.61171612]]\n",
      "\n",
      " [[0.39977248 0.60022752]\n",
      "  [0.36952881 0.63047119]]\n",
      "\n",
      " [[0.43704142 0.56295858]\n",
      "  [0.363581   0.636419  ]]\n",
      "\n",
      " [[0.34800286 0.65199714]\n",
      "  [0.38697259 0.61302741]]]\n",
      "t2_mean, pi_means: 4142.452496587115 [0.40393758 0.59606242]\n"
     ]
    },
    {
     "name": "stderr",
     "output_type": "stream",
     "text": [
      "Computing transition matrices: 100%|██████████| 8/8 [00:00<00:00, 2726.67cluster/s]\n",
      "Processing Lag Times:  60%|█████▉    | 50/84 [01:12<00:31,  1.09lag/s]"
     ]
    },
    {
     "name": "stdout",
     "output_type": "stream",
     "text": [
      "transition_matrices.shape (8, 2, 2)\n",
      "[[[0.37677508 0.62322492]\n",
      "  [0.41015023 0.58984977]]\n",
      "\n",
      " [[0.41037812 0.58962188]\n",
      "  [0.33561644 0.66438356]]\n",
      "\n",
      " [[0.28326996 0.71673004]\n",
      "  [0.4706422  0.5293578 ]]\n",
      "\n",
      " [[0.38631458 0.61368542]\n",
      "  [0.41905013 0.58094987]]\n",
      "\n",
      " [[0.3917365  0.6082635 ]\n",
      "  [0.37421005 0.62578995]]\n",
      "\n",
      " [[0.29866638 0.70133362]\n",
      "  [0.39016882 0.60983118]]\n",
      "\n",
      " [[0.36763321 0.63236679]\n",
      "  [0.37862733 0.62137267]]\n",
      "\n",
      " [[0.3940754  0.6059246 ]\n",
      "  [0.40406408 0.59593592]]]\n",
      "t2_mean, pi_means: 6978.491603444388 [0.38433781 0.61566219]\n"
     ]
    },
    {
     "name": "stderr",
     "output_type": "stream",
     "text": [
      "Computing transition matrices: 100%|██████████| 8/8 [00:00<00:00, 1497.83cluster/s]\n",
      "Processing Lag Times:  61%|██████    | 51/84 [01:13<00:29,  1.10lag/s]"
     ]
    },
    {
     "name": "stdout",
     "output_type": "stream",
     "text": [
      "transition_matrices.shape (8, 2, 2)\n",
      "[[[0.38626024 0.61373976]\n",
      "  [0.33554556 0.66445444]]\n",
      "\n",
      " [[0.36075534 0.63924466]\n",
      "  [0.38221709 0.61778291]]\n",
      "\n",
      " [[0.42267418 0.57732582]\n",
      "  [0.42970326 0.57029674]]\n",
      "\n",
      " [[0.37993803 0.62006197]\n",
      "  [0.42642244 0.57357756]]\n",
      "\n",
      " [[0.36977783 0.63022217]\n",
      "  [0.37782773 0.62217227]]\n",
      "\n",
      " [[0.5        0.5       ]\n",
      "  [0.5        0.5       ]]\n",
      "\n",
      " [[0.34924719 0.65075281]\n",
      "  [0.42130778 0.57869222]]\n",
      "\n",
      " [[0.36937519 0.63062481]\n",
      "  [0.4159991  0.5840009 ]]]\n",
      "t2_mean, pi_means: 2207.196526774728 [0.40338874 0.59661126]\n"
     ]
    },
    {
     "name": "stderr",
     "output_type": "stream",
     "text": [
      "Computing transition matrices: 100%|██████████| 8/8 [00:00<00:00, 2687.15cluster/s]\n",
      "Processing Lag Times:  62%|██████▏   | 52/84 [01:14<00:28,  1.13lag/s]"
     ]
    },
    {
     "name": "stdout",
     "output_type": "stream",
     "text": [
      "transition_matrices.shape (8, 2, 2)\n",
      "[[[0.33616338 0.66383662]\n",
      "  [0.40607735 0.59392265]]\n",
      "\n",
      " [[0.37727165 0.62272835]\n",
      "  [0.39094078 0.60905922]]\n",
      "\n",
      " [[0.28181818 0.71818182]\n",
      "  [0.30775194 0.69224806]]\n",
      "\n",
      " [[0.4106476  0.5893524 ]\n",
      "  [0.38936627 0.61063373]]\n",
      "\n",
      " [[0.4118678  0.5881322 ]\n",
      "  [0.38482048 0.61517952]]\n",
      "\n",
      " [[0.44689962 0.55310038]\n",
      "  [0.39663152 0.60336848]]\n",
      "\n",
      " [[0.30097284 0.69902716]\n",
      "  [0.37284036 0.62715964]]\n",
      "\n",
      " [[0.34955972 0.65044028]\n",
      "  [0.40738774 0.59261226]]]\n",
      "t2_mean, pi_means: 6813.074159109565 [0.37613977 0.62386023]\n"
     ]
    },
    {
     "name": "stderr",
     "output_type": "stream",
     "text": [
      "Computing transition matrices: 100%|██████████| 8/8 [00:00<00:00, 2336.99cluster/s]\n",
      "Processing Lag Times:  63%|██████▎   | 53/84 [01:15<00:26,  1.18lag/s]"
     ]
    },
    {
     "name": "stdout",
     "output_type": "stream",
     "text": [
      "transition_matrices.shape (8, 2, 2)\n",
      "[[[0.34914013 0.65085987]\n",
      "  [0.39959943 0.60040057]]\n",
      "\n",
      " [[0.35823389 0.64176611]\n",
      "  [0.34540803 0.65459197]]\n",
      "\n",
      " [[0.36502654 0.63497346]\n",
      "  [0.40822408 0.59177592]]\n",
      "\n",
      " [[0.39515594 0.60484406]\n",
      "  [0.41278494 0.58721506]]\n",
      "\n",
      " [[0.43367217 0.56632783]\n",
      "  [0.41381331 0.58618669]]\n",
      "\n",
      " [[0.414296   0.585704  ]\n",
      "  [0.35336623 0.64663377]]\n",
      "\n",
      " [[0.41920792 0.58079208]\n",
      "  [0.27942323 0.72057677]]\n",
      "\n",
      " [[0.34192749 0.65807251]\n",
      "  [0.44375116 0.55624884]]]\n",
      "t2_mean, pi_means: 7739.997173497894 [0.38166469 0.61833531]\n"
     ]
    },
    {
     "name": "stderr",
     "output_type": "stream",
     "text": [
      "Computing transition matrices: 100%|██████████| 8/8 [00:00<00:00, 2643.75cluster/s]\n",
      "Processing Lag Times:  64%|██████▍   | 54/84 [01:16<00:25,  1.17lag/s]"
     ]
    },
    {
     "name": "stdout",
     "output_type": "stream",
     "text": [
      "transition_matrices.shape (8, 2, 2)\n",
      "[[[0.5        0.5       ]\n",
      "  [0.5        0.5       ]]\n",
      "\n",
      " [[0.41898556 0.58101444]\n",
      "  [0.44459622 0.55540378]]\n",
      "\n",
      " [[0.39984717 0.60015283]\n",
      "  [0.34690814 0.65309186]]\n",
      "\n",
      " [[0.66492693 0.33507307]\n",
      "  [0.52752294 0.47247706]]\n",
      "\n",
      " [[0.48227474 0.51772526]\n",
      "  [0.42838572 0.57161428]]\n",
      "\n",
      " [[0.32311396 0.67688604]\n",
      "  [0.44137353 0.55862647]]\n",
      "\n",
      " [[0.2606264  0.7393736 ]\n",
      "  [0.18319559 0.81680441]]\n",
      "\n",
      " [[0.32240643 0.67759357]\n",
      "  [0.36947604 0.63052396]]]\n",
      "t2_mean, pi_means: 5624.031696811692 [0.4137834 0.5862166]\n"
     ]
    },
    {
     "name": "stderr",
     "output_type": "stream",
     "text": [
      "Computing transition matrices: 100%|██████████| 8/8 [00:00<00:00, 2817.81cluster/s]\n",
      "Processing Lag Times:  65%|██████▌   | 55/84 [01:16<00:23,  1.21lag/s]"
     ]
    },
    {
     "name": "stdout",
     "output_type": "stream",
     "text": [
      "transition_matrices.shape (8, 2, 2)\n",
      "[[[0.27432712 0.72567288]\n",
      "  [0.26614568 0.73385432]]\n",
      "\n",
      " [[0.5        0.5       ]\n",
      "  [0.5        0.5       ]]\n",
      "\n",
      " [[0.37490165 0.62509835]\n",
      "  [0.25167521 0.74832479]]\n",
      "\n",
      " [[0.43873085 0.56126915]\n",
      "  [0.45708854 0.54291146]]\n",
      "\n",
      " [[0.37317073 0.62682927]\n",
      "  [0.36955627 0.63044373]]\n",
      "\n",
      " [[0.41916102 0.58083898]\n",
      "  [0.39763936 0.60236064]]\n",
      "\n",
      " [[0.44122204 0.55877796]\n",
      "  [0.42331685 0.57668315]]\n",
      "\n",
      " [[0.31584906 0.68415094]\n",
      "  [0.42339545 0.57660455]]]\n",
      "t2_mean, pi_means: 4452.451800399767 [0.38685451 0.61314549]\n"
     ]
    },
    {
     "name": "stderr",
     "output_type": "stream",
     "text": [
      "Computing transition matrices: 100%|██████████| 8/8 [00:00<00:00, 2395.21cluster/s]\n",
      "Processing Lag Times:  67%|██████▋   | 56/84 [01:18<00:26,  1.07lag/s]"
     ]
    },
    {
     "name": "stdout",
     "output_type": "stream",
     "text": [
      "transition_matrices.shape (8, 2, 2)\n",
      "[[[0.33335238 0.66664762]\n",
      "  [0.40182827 0.59817173]]\n",
      "\n",
      " [[0.5        0.5       ]\n",
      "  [0.5        0.5       ]]\n",
      "\n",
      " [[0.42294807 0.57705193]\n",
      "  [0.43838863 0.56161137]]\n",
      "\n",
      " [[0.16728281 0.83271719]\n",
      "  [0.31412639 0.68587361]]\n",
      "\n",
      " [[0.37240829 0.62759171]\n",
      "  [0.40461027 0.59538973]]\n",
      "\n",
      " [[0.68324982 0.31675018]\n",
      "  [0.45818568 0.54181432]]\n",
      "\n",
      " [[0.44314089 0.55685911]\n",
      "  [0.50218902 0.49781098]]\n",
      "\n",
      " [[0.35690021 0.64309979]\n",
      "  [0.30445121 0.69554879]]]\n",
      "t2_mean, pi_means: 4700.811117245026 [0.42005499 0.57994501]\n"
     ]
    },
    {
     "name": "stderr",
     "output_type": "stream",
     "text": [
      "Computing transition matrices: 100%|██████████| 8/8 [00:00<00:00, 2333.73cluster/s]\n",
      "Processing Lag Times:  68%|██████▊   | 57/84 [01:18<00:24,  1.08lag/s]"
     ]
    },
    {
     "name": "stdout",
     "output_type": "stream",
     "text": [
      "transition_matrices.shape (8, 2, 2)\n",
      "[[[0.44769976 0.55230024]\n",
      "  [0.46339834 0.53660166]]\n",
      "\n",
      " [[0.33737892 0.66262108]\n",
      "  [0.37059379 0.62940621]]\n",
      "\n",
      " [[0.34629165 0.65370835]\n",
      "  [0.42484934 0.57515066]]\n",
      "\n",
      " [[0.5        0.5       ]\n",
      "  [0.5        0.5       ]]\n",
      "\n",
      " [[0.58157742 0.41842258]\n",
      "  [0.41747645 0.58252355]]\n",
      "\n",
      " [[0.49435404 0.50564596]\n",
      "  [0.43962129 0.56037871]]\n",
      "\n",
      " [[0.5        0.5       ]\n",
      "  [0.5        0.5       ]]\n",
      "\n",
      " [[0.35689201 0.64310799]\n",
      "  [0.31064867 0.68935133]]]\n",
      "t2_mean, pi_means: 3540.1447712221243 [0.43738029 0.56261971]\n"
     ]
    },
    {
     "name": "stderr",
     "output_type": "stream",
     "text": [
      "Computing transition matrices: 100%|██████████| 8/8 [00:00<00:00, 3133.59cluster/s]\n",
      "Processing Lag Times:  69%|██████▉   | 58/84 [01:19<00:23,  1.11lag/s]"
     ]
    },
    {
     "name": "stdout",
     "output_type": "stream",
     "text": [
      "transition_matrices.shape (8, 2, 2)\n",
      "[[[0.41710793 0.58289207]\n",
      "  [0.40137383 0.59862617]]\n",
      "\n",
      " [[0.5        0.5       ]\n",
      "  [0.5        0.5       ]]\n",
      "\n",
      " [[0.5        0.5       ]\n",
      "  [0.5        0.5       ]]\n",
      "\n",
      " [[0.5        0.5       ]\n",
      "  [0.5        0.5       ]]\n",
      "\n",
      " [[0.5        0.5       ]\n",
      "  [0.5        0.5       ]]\n",
      "\n",
      " [[0.54339441 0.45660559]\n",
      "  [0.48243513 0.51756487]]\n",
      "\n",
      " [[0.5        0.5       ]\n",
      "  [0.5        0.5       ]]\n",
      "\n",
      " [[0.55296488 0.44703512]\n",
      "  [0.49446434 0.50553566]]]\n",
      "t2_mean, pi_means: 1806.8603710611171 [0.49334142 0.50665858]\n"
     ]
    },
    {
     "name": "stderr",
     "output_type": "stream",
     "text": [
      "Computing transition matrices: 100%|██████████| 8/8 [00:00<00:00, 2568.07cluster/s]\n",
      "Processing Lag Times:  70%|███████   | 59/84 [01:20<00:20,  1.21lag/s]"
     ]
    },
    {
     "name": "stdout",
     "output_type": "stream",
     "text": [
      "transition_matrices.shape (8, 2, 2)\n",
      "[[[0.5        0.5       ]\n",
      "  [0.5        0.5       ]]\n",
      "\n",
      " [[0.39606233 0.60393767]\n",
      "  [0.36504477 0.63495523]]\n",
      "\n",
      " [[0.5        0.5       ]\n",
      "  [0.5        0.5       ]]\n",
      "\n",
      " [[0.5        0.5       ]\n",
      "  [0.5        0.5       ]]\n",
      "\n",
      " [[0.5        0.5       ]\n",
      "  [0.5        0.5       ]]\n",
      "\n",
      " [[0.52338863 0.47661137]\n",
      "  [0.49619193 0.50380807]]\n",
      "\n",
      " [[0.51551758 0.48448242]\n",
      "  [0.43475285 0.56524715]]\n",
      "\n",
      " [[0.624487   0.375513  ]\n",
      "  [0.31674419 0.68325581]]]\n",
      "t2_mean, pi_means: 2845.837514697202 [0.47716217 0.52283783]\n"
     ]
    },
    {
     "name": "stderr",
     "output_type": "stream",
     "text": [
      "Computing transition matrices: 100%|██████████| 8/8 [00:00<00:00, 2341.22cluster/s]\n",
      "Processing Lag Times:  71%|███████▏  | 60/84 [01:21<00:18,  1.28lag/s]"
     ]
    },
    {
     "name": "stdout",
     "output_type": "stream",
     "text": [
      "transition_matrices.shape (8, 2, 2)\n",
      "[[[0.5        0.5       ]\n",
      "  [0.5        0.5       ]]\n",
      "\n",
      " [[0.5326609  0.4673391 ]\n",
      "  [0.45642332 0.54357668]]\n",
      "\n",
      " [[0.5        0.5       ]\n",
      "  [0.5        0.5       ]]\n",
      "\n",
      " [[0.39308084 0.60691916]\n",
      "  [0.35327579 0.64672421]]\n",
      "\n",
      " [[0.3725949  0.6274051 ]\n",
      "  [0.53843879 0.46156121]]\n",
      "\n",
      " [[0.54142606 0.45857394]\n",
      "  [0.51578192 0.48421808]]\n",
      "\n",
      " [[0.5        0.5       ]\n",
      "  [0.5        0.5       ]]\n",
      "\n",
      " [[0.5        0.5       ]\n",
      "  [0.5        0.5       ]]]\n",
      "t2_mean, pi_means: 2161.3775493081366 [0.48165176 0.51834824]\n"
     ]
    },
    {
     "name": "stderr",
     "output_type": "stream",
     "text": [
      "Computing transition matrices: 100%|██████████| 8/8 [00:00<00:00, 3624.76cluster/s]\n",
      "Processing Lag Times:  73%|███████▎  | 61/84 [01:21<00:17,  1.31lag/s]"
     ]
    },
    {
     "name": "stdout",
     "output_type": "stream",
     "text": [
      "transition_matrices.shape (8, 2, 2)\n",
      "[[[0.5        0.5       ]\n",
      "  [0.5        0.5       ]]\n",
      "\n",
      " [[0.3156554  0.6843446 ]\n",
      "  [0.38683909 0.61316091]]\n",
      "\n",
      " [[0.56662886 0.43337114]\n",
      "  [0.49700115 0.50299885]]\n",
      "\n",
      " [[0.5        0.5       ]\n",
      "  [0.5        0.5       ]]\n",
      "\n",
      " [[0.5        0.5       ]\n",
      "  [0.5        0.5       ]]\n",
      "\n",
      " [[0.47895903 0.52104097]\n",
      "  [0.56725469 0.43274531]]\n",
      "\n",
      " [[0.36358636 0.63641364]\n",
      "  [0.59010011 0.40989989]]\n",
      "\n",
      " [[0.5        0.5       ]\n",
      "  [0.5        0.5       ]]]\n",
      "t2_mean, pi_means: 1292.703991604717 [0.48721004 0.51278996]\n"
     ]
    },
    {
     "name": "stderr",
     "output_type": "stream",
     "text": [
      "Computing transition matrices: 100%|██████████| 8/8 [00:00<00:00, 1568.92cluster/s]\n",
      "Processing Lag Times:  74%|███████▍  | 62/84 [01:22<00:15,  1.40lag/s]"
     ]
    },
    {
     "name": "stdout",
     "output_type": "stream",
     "text": [
      "transition_matrices.shape (8, 2, 2)\n",
      "[[[0.36725664 0.63274336]\n",
      "  [0.64498934 0.35501066]]\n",
      "\n",
      " [[0.4919427  0.5080573 ]\n",
      "  [0.57775563 0.42224437]]\n",
      "\n",
      " [[0.34562958 0.65437042]\n",
      "  [0.37053122 0.62946878]]\n",
      "\n",
      " [[0.5        0.5       ]\n",
      "  [0.5        0.5       ]]\n",
      "\n",
      " [[0.5        0.5       ]\n",
      "  [0.5        0.5       ]]\n",
      "\n",
      " [[0.5        0.5       ]\n",
      "  [0.5        0.5       ]]\n",
      "\n",
      " [[0.5        0.5       ]\n",
      "  [0.5        0.5       ]]\n",
      "\n",
      " [[0.70286396 0.29713604]\n",
      "  [0.28772379 0.71227621]]]\n",
      "t2_mean, pi_means: 1642.3792720114122 [0.48629613 0.51370387]\n"
     ]
    },
    {
     "name": "stderr",
     "output_type": "stream",
     "text": [
      "Computing transition matrices: 100%|██████████| 8/8 [00:00<00:00, 1690.66cluster/s]\n",
      "Processing Lag Times:  75%|███████▌  | 63/84 [01:23<00:14,  1.46lag/s]"
     ]
    },
    {
     "name": "stdout",
     "output_type": "stream",
     "text": [
      "transition_matrices.shape (8, 2, 2)\n",
      "[[[0.37698635 0.62301365]\n",
      "  [0.36611839 0.63388161]]\n",
      "\n",
      " [[0.49724233 0.50275767]\n",
      "  [0.54390409 0.45609591]]\n",
      "\n",
      " [[0.5        0.5       ]\n",
      "  [0.5        0.5       ]]\n",
      "\n",
      " [[0.5        0.5       ]\n",
      "  [0.5        0.5       ]]\n",
      "\n",
      " [[0.5        0.5       ]\n",
      "  [0.5        0.5       ]]\n",
      "\n",
      " [[0.5        0.5       ]\n",
      "  [0.5        0.5       ]]\n",
      "\n",
      " [[0.5        0.5       ]\n",
      "  [0.5        0.5       ]]\n",
      "\n",
      " [[0.5        0.5       ]\n",
      "  [0.5        0.5       ]]]\n",
      "t2_mean, pi_means: 1068.4637436496814 [0.48622464 0.51377536]\n"
     ]
    },
    {
     "name": "stderr",
     "output_type": "stream",
     "text": [
      "Computing transition matrices: 100%|██████████| 8/8 [00:00<00:00, 2344.01cluster/s]\n",
      "Processing Lag Times:  76%|███████▌  | 64/84 [01:23<00:13,  1.53lag/s]"
     ]
    },
    {
     "name": "stdout",
     "output_type": "stream",
     "text": [
      "transition_matrices.shape (8, 2, 2)\n",
      "[[[0.5        0.5       ]\n",
      "  [0.5        0.5       ]]\n",
      "\n",
      " [[0.5        0.5       ]\n",
      "  [0.5        0.5       ]]\n",
      "\n",
      " [[0.5        0.5       ]\n",
      "  [0.5        0.5       ]]\n",
      "\n",
      " [[0.422104   0.577896  ]\n",
      "  [0.33307888 0.66692112]]\n",
      "\n",
      " [[0.5        0.5       ]\n",
      "  [0.5        0.5       ]]\n",
      "\n",
      " [[0.5        0.5       ]\n",
      "  [0.5        0.5       ]]\n",
      "\n",
      " [[0.5        0.5       ]\n",
      "  [0.5        0.5       ]]\n",
      "\n",
      " [[0.43961823 0.56038177]\n",
      "  [0.45163399 0.54836601]]]\n",
      "t2_mean, pi_means: 1188.43476495764 [0.47648759 0.52351241]\n"
     ]
    },
    {
     "name": "stderr",
     "output_type": "stream",
     "text": [
      "Computing transition matrices: 100%|██████████| 8/8 [00:00<00:00, 3315.33cluster/s]\n",
      "Processing Lag Times:  77%|███████▋  | 65/84 [01:24<00:11,  1.62lag/s]"
     ]
    },
    {
     "name": "stdout",
     "output_type": "stream",
     "text": [
      "transition_matrices.shape (8, 2, 2)\n",
      "[[[0.5        0.5       ]\n",
      "  [0.5        0.5       ]]\n",
      "\n",
      " [[0.5        0.5       ]\n",
      "  [0.5        0.5       ]]\n",
      "\n",
      " [[0.35922836 0.64077164]\n",
      "  [0.35451115 0.64548885]]\n",
      "\n",
      " [[0.5        0.5       ]\n",
      "  [0.5        0.5       ]]\n",
      "\n",
      " [[0.5        0.5       ]\n",
      "  [0.5        0.5       ]]\n",
      "\n",
      " [[0.5        0.5       ]\n",
      "  [0.5        0.5       ]]\n",
      "\n",
      " [[0.5        0.5       ]\n",
      "  [0.5        0.5       ]]\n",
      "\n",
      " [[0.4715939  0.5284061 ]\n",
      "  [0.50917899 0.49082101]]]\n",
      "t2_mean, pi_means: 1078.759811897234 [0.48086576 0.51913424]\n"
     ]
    },
    {
     "name": "stderr",
     "output_type": "stream",
     "text": [
      "Computing transition matrices: 100%|██████████| 8/8 [00:00<00:00, 2604.15cluster/s]\n",
      "Processing Lag Times:  79%|███████▊  | 66/84 [01:24<00:10,  1.70lag/s]"
     ]
    },
    {
     "name": "stdout",
     "output_type": "stream",
     "text": [
      "transition_matrices.shape (8, 2, 2)\n",
      "[[[0.5        0.5       ]\n",
      "  [0.5        0.5       ]]\n",
      "\n",
      " [[0.5        0.5       ]\n",
      "  [0.5        0.5       ]]\n",
      "\n",
      " [[0.5        0.5       ]\n",
      "  [0.5        0.5       ]]\n",
      "\n",
      " [[0.36628293 0.63371707]\n",
      "  [0.34557848 0.65442152]]\n",
      "\n",
      " [[0.5        0.5       ]\n",
      "  [0.5        0.5       ]]\n",
      "\n",
      " [[0.5        0.5       ]\n",
      "  [0.5        0.5       ]]\n",
      "\n",
      " [[0.5        0.5       ]\n",
      "  [0.5        0.5       ]]\n",
      "\n",
      " [[0.31386586 0.68613414]\n",
      "  [0.4237785  0.5762215 ]]]\n",
      "t2_mean, pi_means: 1148.493833148365 [0.46683716 0.53316284]\n"
     ]
    },
    {
     "name": "stderr",
     "output_type": "stream",
     "text": [
      "Computing transition matrices: 100%|██████████| 8/8 [00:00<00:00, 1714.85cluster/s]\n",
      "Processing Lag Times:  80%|███████▉  | 67/84 [01:25<00:09,  1.79lag/s]"
     ]
    },
    {
     "name": "stdout",
     "output_type": "stream",
     "text": [
      "transition_matrices.shape (8, 2, 2)\n",
      "[[[0.5        0.5       ]\n",
      "  [0.5        0.5       ]]\n",
      "\n",
      " [[0.5        0.5       ]\n",
      "  [0.5        0.5       ]]\n",
      "\n",
      " [[0.5        0.5       ]\n",
      "  [0.5        0.5       ]]\n",
      "\n",
      " [[0.5        0.5       ]\n",
      "  [0.5        0.5       ]]\n",
      "\n",
      " [[0.5        0.5       ]\n",
      "  [0.5        0.5       ]]\n",
      "\n",
      " [[0.5        0.5       ]\n",
      "  [0.5        0.5       ]]\n",
      "\n",
      " [[0.35342549 0.64657451]\n",
      "  [0.37527152 0.62472848]]\n",
      "\n",
      " [[0.5        0.5       ]\n",
      "  [0.5        0.5       ]]]\n",
      "t2_mean, pi_means: 846.5625617291832 [0.48340607 0.51659393]\n"
     ]
    },
    {
     "name": "stderr",
     "output_type": "stream",
     "text": [
      "Computing transition matrices: 100%|██████████| 8/8 [00:00<00:00, 3296.11cluster/s]\n",
      "Processing Lag Times:  81%|████████  | 68/84 [01:25<00:08,  1.86lag/s]"
     ]
    },
    {
     "name": "stdout",
     "output_type": "stream",
     "text": [
      "transition_matrices.shape (8, 2, 2)\n",
      "[[[0.5        0.5       ]\n",
      "  [0.5        0.5       ]]\n",
      "\n",
      " [[0.5        0.5       ]\n",
      "  [0.5        0.5       ]]\n",
      "\n",
      " [[0.2431694  0.7568306 ]\n",
      "  [0.35419735 0.64580265]]\n",
      "\n",
      " [[0.5        0.5       ]\n",
      "  [0.5        0.5       ]]\n",
      "\n",
      " [[0.48750325 0.51249675]\n",
      "  [0.30789663 0.69210337]]\n",
      "\n",
      " [[0.5        0.5       ]\n",
      "  [0.5        0.5       ]]\n",
      "\n",
      " [[0.5        0.5       ]\n",
      "  [0.5        0.5       ]]\n",
      "\n",
      " [[0.5        0.5       ]\n",
      "  [0.5        0.5       ]]]\n",
      "t2_mean, pi_means: 1332.3966766511487 [0.46176314 0.53823686]\n"
     ]
    },
    {
     "name": "stderr",
     "output_type": "stream",
     "text": [
      "Computing transition matrices: 100%|██████████| 8/8 [00:00<00:00, 1944.96cluster/s]\n",
      "Processing Lag Times:  82%|████████▏ | 69/84 [01:26<00:07,  1.96lag/s]"
     ]
    },
    {
     "name": "stdout",
     "output_type": "stream",
     "text": [
      "transition_matrices.shape (8, 2, 2)\n",
      "[[[0.5        0.5       ]\n",
      "  [0.5        0.5       ]]\n",
      "\n",
      " [[0.5        0.5       ]\n",
      "  [0.5        0.5       ]]\n",
      "\n",
      " [[0.5        0.5       ]\n",
      "  [0.5        0.5       ]]\n",
      "\n",
      " [[0.5        0.5       ]\n",
      "  [0.5        0.5       ]]\n",
      "\n",
      " [[0.3952381  0.6047619 ]\n",
      "  [0.34109296 0.65890704]]\n",
      "\n",
      " [[0.5        0.5       ]\n",
      "  [0.5        0.5       ]]\n",
      "\n",
      " [[0.5        0.5       ]\n",
      "  [0.5        0.5       ]]\n",
      "\n",
      " [[0.5        0.5       ]\n",
      "  [0.5        0.5       ]]]\n",
      "t2_mean, pi_means: 1199.337200753359 [0.48257734 0.51742266]\n"
     ]
    },
    {
     "name": "stderr",
     "output_type": "stream",
     "text": [
      "Computing transition matrices: 100%|██████████| 8/8 [00:00<00:00, 2175.19cluster/s]\n",
      "Processing Lag Times:  83%|████████▎ | 70/84 [01:26<00:07,  1.97lag/s]"
     ]
    },
    {
     "name": "stdout",
     "output_type": "stream",
     "text": [
      "transition_matrices.shape (8, 2, 2)\n",
      "[[[0.5        0.5       ]\n",
      "  [0.5        0.5       ]]\n",
      "\n",
      " [[0.5        0.5       ]\n",
      "  [0.5        0.5       ]]\n",
      "\n",
      " [[0.5        0.5       ]\n",
      "  [0.5        0.5       ]]\n",
      "\n",
      " [[0.5        0.5       ]\n",
      "  [0.5        0.5       ]]\n",
      "\n",
      " [[0.3731794  0.6268206 ]\n",
      "  [0.32623936 0.67376064]]\n",
      "\n",
      " [[0.5        0.5       ]\n",
      "  [0.5        0.5       ]]\n",
      "\n",
      " [[0.5        0.5       ]\n",
      "  [0.5        0.5       ]]\n",
      "\n",
      " [[0.5        0.5       ]\n",
      "  [0.5        0.5       ]]]\n",
      "t2_mean, pi_means: 1210.7613654261415 [0.48028841 0.51971159]\n"
     ]
    },
    {
     "name": "stderr",
     "output_type": "stream",
     "text": [
      "Computing transition matrices: 100%|██████████| 8/8 [00:00<00:00, 4042.70cluster/s]\n",
      "Processing Lag Times:  85%|████████▍ | 71/84 [01:27<00:06,  2.10lag/s]"
     ]
    },
    {
     "name": "stdout",
     "output_type": "stream",
     "text": [
      "transition_matrices.shape (8, 2, 2)\n",
      "[[[0.5        0.5       ]\n",
      "  [0.5        0.5       ]]\n",
      "\n",
      " [[0.5        0.5       ]\n",
      "  [0.5        0.5       ]]\n",
      "\n",
      " [[0.5        0.5       ]\n",
      "  [0.5        0.5       ]]\n",
      "\n",
      " [[0.5        0.5       ]\n",
      "  [0.5        0.5       ]]\n",
      "\n",
      " [[0.5        0.5       ]\n",
      "  [0.5        0.5       ]]\n",
      "\n",
      " [[0.5        0.5       ]\n",
      "  [0.5        0.5       ]]\n",
      "\n",
      " [[0.5        0.5       ]\n",
      "  [0.5        0.5       ]]\n",
      "\n",
      " [[0.32977898 0.67022102]\n",
      "  [0.36894968 0.63105032]]]\n",
      "t2_mean, pi_means: 901.0038840268809 [0.4818803 0.5181197]\n"
     ]
    },
    {
     "name": "stderr",
     "output_type": "stream",
     "text": [
      "Computing transition matrices: 100%|██████████| 8/8 [00:00<00:00, 1642.09cluster/s]\n",
      "Processing Lag Times:  86%|████████▌ | 72/84 [01:27<00:05,  2.26lag/s]"
     ]
    },
    {
     "name": "stdout",
     "output_type": "stream",
     "text": [
      "transition_matrices.shape (8, 2, 2)\n",
      "[[[0.5        0.5       ]\n",
      "  [0.5        0.5       ]]\n",
      "\n",
      " [[0.5        0.5       ]\n",
      "  [0.5        0.5       ]]\n",
      "\n",
      " [[0.5        0.5       ]\n",
      "  [0.5        0.5       ]]\n",
      "\n",
      " [[0.5        0.5       ]\n",
      "  [0.5        0.5       ]]\n",
      "\n",
      " [[0.5        0.5       ]\n",
      "  [0.5        0.5       ]]\n",
      "\n",
      " [[0.5        0.5       ]\n",
      "  [0.5        0.5       ]]\n",
      "\n",
      " [[0.39539389 0.60460611]\n",
      "  [0.37798349 0.62201651]]\n",
      "\n",
      " [[0.5        0.5       ]\n",
      "  [0.5        0.5       ]]]\n",
      "t2_mean, pi_means: 1204.8542538853262 [0.48558512 0.51441488]\n"
     ]
    },
    {
     "name": "stderr",
     "output_type": "stream",
     "text": [
      "Computing transition matrices: 100%|██████████| 8/8 [00:00<00:00, 3868.39cluster/s]\n",
      "Processing Lag Times:  87%|████████▋ | 73/84 [01:27<00:04,  2.44lag/s]"
     ]
    },
    {
     "name": "stdout",
     "output_type": "stream",
     "text": [
      "transition_matrices.shape (8, 2, 2)\n",
      "[[[0.5        0.5       ]\n",
      "  [0.5        0.5       ]]\n",
      "\n",
      " [[0.5        0.5       ]\n",
      "  [0.5        0.5       ]]\n",
      "\n",
      " [[0.5        0.5       ]\n",
      "  [0.5        0.5       ]]\n",
      "\n",
      " [[0.5        0.5       ]\n",
      "  [0.5        0.5       ]]\n",
      "\n",
      " [[0.5        0.5       ]\n",
      "  [0.5        0.5       ]]\n",
      "\n",
      " [[0.43956835 0.56043165]\n",
      "  [0.39465198 0.60534802]]\n",
      "\n",
      " [[0.5        0.5       ]\n",
      "  [0.5        0.5       ]]\n",
      "\n",
      " [[0.5        0.5       ]\n",
      "  [0.5        0.5       ]]]\n",
      "t2_mean, pi_means: 1264.2088192037206 [0.48915149 0.51084851]\n"
     ]
    },
    {
     "name": "stderr",
     "output_type": "stream",
     "text": [
      "Computing transition matrices: 100%|██████████| 8/8 [00:00<00:00, 2646.67cluster/s]\n",
      "Processing Lag Times:  88%|████████▊ | 74/84 [01:28<00:03,  2.58lag/s]"
     ]
    },
    {
     "name": "stdout",
     "output_type": "stream",
     "text": [
      "transition_matrices.shape (8, 2, 2)\n",
      "[[[0.5        0.5       ]\n",
      "  [0.5        0.5       ]]\n",
      "\n",
      " [[0.5        0.5       ]\n",
      "  [0.5        0.5       ]]\n",
      "\n",
      " [[0.5        0.5       ]\n",
      "  [0.5        0.5       ]]\n",
      "\n",
      " [[0.5        0.5       ]\n",
      "  [0.5        0.5       ]]\n",
      "\n",
      " [[0.40720119 0.59279881]\n",
      "  [0.40546401 0.59453599]]\n",
      "\n",
      " [[0.5        0.5       ]\n",
      "  [0.5        0.5       ]]\n",
      "\n",
      " [[0.5        0.5       ]\n",
      "  [0.5        0.5       ]]\n",
      "\n",
      " [[0.5        0.5       ]\n",
      "  [0.5        0.5       ]]]\n",
      "t2_mean, pi_means: 1172.7860468453584 [0.4882712 0.5117288]\n"
     ]
    },
    {
     "name": "stderr",
     "output_type": "stream",
     "text": [
      "Computing transition matrices: 100%|██████████| 8/8 [00:00<00:00, 2195.97cluster/s]\n",
      "Processing Lag Times:  89%|████████▉ | 75/84 [01:28<00:03,  2.77lag/s]"
     ]
    },
    {
     "name": "stdout",
     "output_type": "stream",
     "text": [
      "transition_matrices.shape (8, 2, 2)\n",
      "[[[0.5        0.5       ]\n",
      "  [0.5        0.5       ]]\n",
      "\n",
      " [[0.5        0.5       ]\n",
      "  [0.5        0.5       ]]\n",
      "\n",
      " [[0.5        0.5       ]\n",
      "  [0.5        0.5       ]]\n",
      "\n",
      " [[0.5        0.5       ]\n",
      "  [0.5        0.5       ]]\n",
      "\n",
      " [[0.5        0.5       ]\n",
      "  [0.5        0.5       ]]\n",
      "\n",
      " [[0.5        0.5       ]\n",
      "  [0.5        0.5       ]]\n",
      "\n",
      " [[0.37607245 0.62392755]\n",
      "  [0.45719985 0.54280015]]\n",
      "\n",
      " [[0.5        0.5       ]\n",
      "  [0.5        0.5       ]]]\n",
      "t2_mean, pi_means: 955.4452063245773 [0.49036147 0.50963853]\n"
     ]
    },
    {
     "name": "stderr",
     "output_type": "stream",
     "text": [
      "Computing transition matrices: 100%|██████████| 8/8 [00:00<00:00, 2757.60cluster/s]\n",
      "Processing Lag Times:  90%|█████████ | 76/84 [01:28<00:02,  3.01lag/s]"
     ]
    },
    {
     "name": "stdout",
     "output_type": "stream",
     "text": [
      "transition_matrices.shape (8, 2, 2)\n",
      "[[[0.54171123 0.45828877]\n",
      "  [0.39470871 0.60529129]]\n",
      "\n",
      " [[0.5        0.5       ]\n",
      "  [0.5        0.5       ]]\n",
      "\n",
      " [[0.5        0.5       ]\n",
      "  [0.5        0.5       ]]\n",
      "\n",
      " [[0.5        0.5       ]\n",
      "  [0.5        0.5       ]]\n",
      "\n",
      " [[0.5        0.5       ]\n",
      "  [0.5        0.5       ]]\n",
      "\n",
      " [[0.5        0.5       ]\n",
      "  [0.5        0.5       ]]\n",
      "\n",
      " [[0.5        0.5       ]\n",
      "  [0.5        0.5       ]]\n",
      "\n",
      " [[0.5        0.5       ]\n",
      "  [0.5        0.5       ]]]\n",
      "t2_mean, pi_means: 1401.6833582068323 [0.49534142 0.50465858]\n"
     ]
    },
    {
     "name": "stderr",
     "output_type": "stream",
     "text": [
      "Computing transition matrices: 100%|██████████| 8/8 [00:00<00:00, 2378.73cluster/s]\n",
      "Processing Lag Times:  92%|█████████▏| 77/84 [01:28<00:02,  3.28lag/s]"
     ]
    },
    {
     "name": "stdout",
     "output_type": "stream",
     "text": [
      "transition_matrices.shape (8, 2, 2)\n",
      "[[[0.37269682 0.62730318]\n",
      "  [0.54301075 0.45698925]]\n",
      "\n",
      " [[0.5        0.5       ]\n",
      "  [0.5        0.5       ]]\n",
      "\n",
      " [[0.5        0.5       ]\n",
      "  [0.5        0.5       ]]\n",
      "\n",
      " [[0.5        0.5       ]\n",
      "  [0.5        0.5       ]]\n",
      "\n",
      " [[0.5        0.5       ]\n",
      "  [0.5        0.5       ]]\n",
      "\n",
      " [[0.5        0.5       ]\n",
      "  [0.5        0.5       ]]\n",
      "\n",
      " [[0.5        0.5       ]\n",
      "  [0.5        0.5       ]]\n",
      "\n",
      " [[0.5        0.5       ]\n",
      "  [0.5        0.5       ]]]\n",
      "t2_mean, pi_means: 982.6658674734256 [0.49549841 0.50450159]\n"
     ]
    },
    {
     "name": "stderr",
     "output_type": "stream",
     "text": [
      "Computing transition matrices: 100%|██████████| 8/8 [00:00<00:00, 2469.05cluster/s]\n",
      "Processing Lag Times:  93%|█████████▎| 78/84 [01:29<00:01,  3.57lag/s]"
     ]
    },
    {
     "name": "stdout",
     "output_type": "stream",
     "text": [
      "transition_matrices.shape (8, 2, 2)\n",
      "[[[0.5        0.5       ]\n",
      "  [0.5        0.5       ]]\n",
      "\n",
      " [[0.5        0.5       ]\n",
      "  [0.5        0.5       ]]\n",
      "\n",
      " [[0.5        0.5       ]\n",
      "  [0.5        0.5       ]]\n",
      "\n",
      " [[0.5        0.5       ]\n",
      "  [0.5        0.5       ]]\n",
      "\n",
      " [[0.5        0.5       ]\n",
      "  [0.5        0.5       ]]\n",
      "\n",
      " [[0.5        0.5       ]\n",
      "  [0.5        0.5       ]]\n",
      "\n",
      " [[0.46190476 0.53809524]\n",
      "  [0.36590585 0.63409415]]\n",
      "\n",
      " [[0.5        0.5       ]\n",
      "  [0.5        0.5       ]]]\n",
      "t2_mean, pi_means: 1405.3554797834902 [0.48809533 0.51190467]\n"
     ]
    },
    {
     "name": "stderr",
     "output_type": "stream",
     "text": [
      "Computing transition matrices: 100%|██████████| 8/8 [00:00<00:00, 1784.43cluster/s]\n",
      "Processing Lag Times:  94%|█████████▍| 79/84 [01:29<00:01,  3.90lag/s]"
     ]
    },
    {
     "name": "stdout",
     "output_type": "stream",
     "text": [
      "transition_matrices.shape (8, 2, 2)\n",
      "[[[0.5 0.5]\n",
      "  [0.5 0.5]]\n",
      "\n",
      " [[0.5 0.5]\n",
      "  [0.5 0.5]]\n",
      "\n",
      " [[0.5 0.5]\n",
      "  [0.5 0.5]]\n",
      "\n",
      " [[0.5 0.5]\n",
      "  [0.5 0.5]]\n",
      "\n",
      " [[0.5 0.5]\n",
      "  [0.5 0.5]]\n",
      "\n",
      " [[0.5 0.5]\n",
      "  [0.5 0.5]]\n",
      "\n",
      " [[0.5 0.5]\n",
      "  [0.5 0.5]]\n",
      "\n",
      " [[0.5 0.5]\n",
      "  [0.5 0.5]]]\n",
      "t2_mean, pi_means: 1009.886528622275 [0.5 0.5]\n"
     ]
    },
    {
     "name": "stderr",
     "output_type": "stream",
     "text": [
      "Computing transition matrices: 100%|██████████| 8/8 [00:00<00:00, 2730.67cluster/s]\n",
      "Processing Lag Times:  95%|█████████▌| 80/84 [01:29<00:00,  4.63lag/s]"
     ]
    },
    {
     "name": "stdout",
     "output_type": "stream",
     "text": [
      "transition_matrices.shape (8, 2, 2)\n",
      "[[[0.5 0.5]\n",
      "  [0.5 0.5]]\n",
      "\n",
      " [[0.5 0.5]\n",
      "  [0.5 0.5]]\n",
      "\n",
      " [[0.5 0.5]\n",
      "  [0.5 0.5]]\n",
      "\n",
      " [[0.5 0.5]\n",
      "  [0.5 0.5]]\n",
      "\n",
      " [[0.5 0.5]\n",
      "  [0.5 0.5]]\n",
      "\n",
      " [[0.5 0.5]\n",
      "  [0.5 0.5]]\n",
      "\n",
      " [[0.5 0.5]\n",
      "  [0.5 0.5]]\n",
      "\n",
      " [[0.5 0.5]\n",
      "  [0.5 0.5]]]\n",
      "t2_mean, pi_means: 1023.4968591966987 [0.5 0.5]\n"
     ]
    },
    {
     "name": "stderr",
     "output_type": "stream",
     "text": [
      "Computing transition matrices: 100%|██████████| 8/8 [00:00<00:00, 2873.55cluster/s]\n",
      "Processing Lag Times:  96%|█████████▋| 81/84 [01:29<00:00,  4.78lag/s]"
     ]
    },
    {
     "name": "stdout",
     "output_type": "stream",
     "text": [
      "transition_matrices.shape (8, 2, 2)\n",
      "[[[0.5 0.5]\n",
      "  [0.5 0.5]]\n",
      "\n",
      " [[0.5 0.5]\n",
      "  [0.5 0.5]]\n",
      "\n",
      " [[0.5 0.5]\n",
      "  [0.5 0.5]]\n",
      "\n",
      " [[0.5 0.5]\n",
      "  [0.5 0.5]]\n",
      "\n",
      " [[0.5 0.5]\n",
      "  [0.5 0.5]]\n",
      "\n",
      " [[0.5 0.5]\n",
      "  [0.5 0.5]]\n",
      "\n",
      " [[0.5 0.5]\n",
      "  [0.5 0.5]]\n",
      "\n",
      " [[0.5 0.5]\n",
      "  [0.5 0.5]]]\n",
      "t2_mean, pi_means: 1037.1071897711229 [0.5 0.5]\n"
     ]
    },
    {
     "name": "stderr",
     "output_type": "stream",
     "text": [
      "Computing transition matrices: 100%|██████████| 8/8 [00:00<00:00, 3623.20cluster/s]\n",
      "Processing Lag Times:  98%|█████████▊| 82/84 [01:29<00:00,  4.95lag/s]"
     ]
    },
    {
     "name": "stdout",
     "output_type": "stream",
     "text": [
      "transition_matrices.shape (8, 2, 2)\n",
      "[[[0.5 0.5]\n",
      "  [0.5 0.5]]\n",
      "\n",
      " [[0.5 0.5]\n",
      "  [0.5 0.5]]\n",
      "\n",
      " [[0.5 0.5]\n",
      "  [0.5 0.5]]\n",
      "\n",
      " [[0.5 0.5]\n",
      "  [0.5 0.5]]\n",
      "\n",
      " [[0.5 0.5]\n",
      "  [0.5 0.5]]\n",
      "\n",
      " [[0.5 0.5]\n",
      "  [0.5 0.5]]\n",
      "\n",
      " [[0.5 0.5]\n",
      "  [0.5 0.5]]\n",
      "\n",
      " [[0.5 0.5]\n",
      "  [0.5 0.5]]]\n",
      "t2_mean, pi_means: 1050.717520345547 [0.5 0.5]\n"
     ]
    },
    {
     "name": "stderr",
     "output_type": "stream",
     "text": [
      "Computing transition matrices: 100%|██████████| 8/8 [00:00<00:00, 2773.78cluster/s]\n",
      "Processing Lag Times:  99%|█████████▉| 83/84 [01:29<00:00,  5.07lag/s]"
     ]
    },
    {
     "name": "stdout",
     "output_type": "stream",
     "text": [
      "transition_matrices.shape (8, 2, 2)\n",
      "[[[0.5 0.5]\n",
      "  [0.5 0.5]]\n",
      "\n",
      " [[0.5 0.5]\n",
      "  [0.5 0.5]]\n",
      "\n",
      " [[0.5 0.5]\n",
      "  [0.5 0.5]]\n",
      "\n",
      " [[0.5 0.5]\n",
      "  [0.5 0.5]]\n",
      "\n",
      " [[0.5 0.5]\n",
      "  [0.5 0.5]]\n",
      "\n",
      " [[0.5 0.5]\n",
      "  [0.5 0.5]]\n",
      "\n",
      " [[0.5 0.5]\n",
      "  [0.5 0.5]]\n",
      "\n",
      " [[0.5 0.5]\n",
      "  [0.5 0.5]]]\n",
      "t2_mean, pi_means: 1064.327850919971 [0.5 0.5]\n"
     ]
    },
    {
     "name": "stderr",
     "output_type": "stream",
     "text": [
      "Computing transition matrices: 100%|██████████| 8/8 [00:00<00:00, 2220.24cluster/s]\n",
      "Processing Lag Times: 100%|██████████| 84/84 [01:30<00:00,  1.07s/lag]"
     ]
    },
    {
     "name": "stdout",
     "output_type": "stream",
     "text": [
      "transition_matrices.shape (8, 2, 2)\n",
      "[[[0.5 0.5]\n",
      "  [0.5 0.5]]\n",
      "\n",
      " [[0.5 0.5]\n",
      "  [0.5 0.5]]\n",
      "\n",
      " [[0.5 0.5]\n",
      "  [0.5 0.5]]\n",
      "\n",
      " [[0.5 0.5]\n",
      "  [0.5 0.5]]\n",
      "\n",
      " [[0.5 0.5]\n",
      "  [0.5 0.5]]\n",
      "\n",
      " [[0.5 0.5]\n",
      "  [0.5 0.5]]\n",
      "\n",
      " [[0.5 0.5]\n",
      "  [0.5 0.5]]\n",
      "\n",
      " [[0.5 0.5]\n",
      "  [0.5 0.5]]]\n",
      "t2_mean, pi_means: 1077.9381814943952 [0.5 0.5]\n"
     ]
    },
    {
     "name": "stderr",
     "output_type": "stream",
     "text": [
      "\n"
     ]
    }
   ],
   "source": [
    "import numpy as np\n",
    "import matplotlib.pyplot as plt\n",
    "from tqdm import tqdm\n",
    "\n",
    "dt_in_ns = 0.01\n",
    "residues = [0, 1, 2]\n",
    "\n",
    "n_result = len(all_omega)  # Ensure all_omega is defined\n",
    "n_trajs = traj  # Ensure traj is defined\n",
    "\n",
    "num_states = 2\n",
    "#lagtimes = [5, 10, 25, 50]\n",
    "lagtimes = [5, 10, 25, 50] + list(range(100, 40000, 500))\n",
    "cluster_size = 10\n",
    "\n",
    "# Store results with proper shape: (n_residues, n_lagtimes)\n",
    "pi_all_means = []\n",
    "pi_all_stds = []\n",
    "t2_all_means = []\n",
    "t2_all_stds = []\n",
    "transition_matrices_all_res = []\n",
    "\n",
    "for residue in residues:\n",
    "    print(f'Processing residue {residue} with lagtimes = {lagtimes}')\n",
    "    \n",
    "    pi_means_res = []\n",
    "    pi_stds_res = []\n",
    "    t2_means_res = []\n",
    "    t2_stds_res = []\n",
    "    transition_matrices_res = []\n",
    "    \n",
    "    for lagtime in tqdm(lagtimes, desc=\"Processing Lag Times\", unit=\"lag\"):\n",
    "        pi_means, pi_std, t2_mean, t2_std, transition_matrices= process_trajectory(n_trajs[:, :, residue], lagtime, num_states, cluster_size)\n",
    "        \n",
    "        pi_means_res.append(pi_means)\n",
    "        pi_stds_res.append(pi_std)\n",
    "        t2_means_res.append(t2_mean)\n",
    "        t2_stds_res.append(t2_std)\n",
    "\n",
    "    # Append per-residue results\n",
    "    pi_all_means.append(pi_means_res)\n",
    "    pi_all_stds.append(pi_stds_res)\n",
    "    t2_all_means.append(t2_means_res)\n",
    "    t2_all_stds.append(t2_stds_res)\n",
    "    transition_matrices_all_res.append(transition_matrices)\n",
    "\n",
    "# Convert to NumPy arrays for easier indexing\n",
    "pi_all_means = np.array(pi_all_means)  # Shape: (n_residues, n_lagtimes)\n",
    "pi_all_stds = np.array(pi_all_stds)\n",
    "t2_all_means = np.array(t2_all_means)\n",
    "t2_all_stds = np.array(t2_all_stds)\n",
    "transition_matrices_all_res = np.array(transition_matrices_all_res)\n",
    "\n",
    "lagtimes_ns = np.array(lagtimes) * dt_in_ns\n"
   ]
  },
  {
   "cell_type": "code",
   "execution_count": 24,
   "id": "f29dd0b1",
   "metadata": {},
   "outputs": [
    {
     "data": {
      "image/png": "[encoded data removed]",
      "text/plain": [
       "<Figure size 640x480 with 1 Axes>"
      ]
     },
     "metadata": {},
     "output_type": "display_data"
    },
    {
     "data": {
      "image/png": "[encoded data removed]",
      "text/plain": [
       "<Figure size 640x480 with 1 Axes>"
      ]
     },
     "metadata": {},
     "output_type": "display_data"
    },
    {
     "data": {
      "image/png": "[encoded data removed]",
      "text/plain": [
       "<Figure size 640x480 with 1 Axes>"
      ]
     },
     "metadata": {},
     "output_type": "display_data"
    }
   ],
   "source": [
    "# Plotting\n",
    "for i, residue in enumerate(residues):\n",
    "    plt.figure()\n",
    "    plt.plot(lagtimes_ns, t2_all_means[i] * dt_in_ns, 'ko-')\n",
    "    plt.fill_between(lagtimes_ns, \n",
    "                     (t2_all_means[i] + t2_all_stds[i]) * dt_in_ns, \n",
    "                     (t2_all_means[i] - t2_all_stds[i]) * dt_in_ns, \n",
    "                     alpha=0.2)\n",
    "    plt.xlabel('Lagtime (ns)')\n",
    "    plt.ylabel('Implied timescale (ns)')\n",
    "    #plt.ylim(5, 1000)\n",
    "    plt.yscale('log')\n",
    "    plt.title(f'Implied timescales for residue {residue}')\n",
    "    plt.savefig(f\"autocoorel_data/implied_timescale_res{residue}.png\")\n",
    "    plt.show()"
   ]
  },
  {
   "cell_type": "code",
   "execution_count": 26,
   "id": "7b74a969",
   "metadata": {},
   "outputs": [
    {
     "name": "stdout",
     "output_type": "stream",
     "text": [
      " data save at autocoorel_data/residue_implied_timescale.pkl\n"
     ]
    }
   ],
   "source": [
    "# Create an instance of Data with your arrays\n",
    "data_instance = Data([pi_all_means, pi_all_stds, \n",
    "                      t2_all_means, t2_all_stds, lagtimes_ns])\n",
    "\n",
    "# Save to a file\n",
    "data_instance.save(\"autocoorel_data/residue_implied_timescale.pkl\")\n",
    "print(f\" data save at autocoorel_data/residue_implied_timescale.pkl\")"
   ]
  },
  {
   "cell_type": "code",
   "execution_count": 27,
   "id": "37eab762",
   "metadata": {},
   "outputs": [
    {
     "data": {
      "text/plain": [
       "(3, 84, 2)"
      ]
     },
     "execution_count": 27,
     "metadata": {},
     "output_type": "execute_result"
    }
   ],
   "source": [
    "omega_loaded = Data.load(\"autocoorel_data/residue_implied_timescale.pkl\").array_list\n",
    "pi_all_means = omega_loaded[0]\n",
    "pi_all_stds = omega_loaded[1]\n",
    "t2_all_means = omega_loaded[2]\n",
    "t2_all_stds = omega_loaded[3]\n",
    "lagtimes_ns = omega_loaded[4]\n",
    "\n",
    "pi_all_means.shape\n"
   ]
  },
  {
   "cell_type": "code",
   "execution_count": 30,
   "id": "ae7c9d28",
   "metadata": {},
   "outputs": [
    {
     "data": {
      "image/png": "[encoded data removed]",
      "text/plain": [
       "<Figure size 640x480 with 1 Axes>"
      ]
     },
     "metadata": {},
     "output_type": "display_data"
    },
    {
     "data": {
      "image/png": "[encoded data removed]",
      "text/plain": [
       "<Figure size 640x480 with 1 Axes>"
      ]
     },
     "metadata": {},
     "output_type": "display_data"
    },
    {
     "data": {
      "image/png": "[encoded data removed]",
      "text/plain": [
       "<Figure size 640x480 with 1 Axes>"
      ]
     },
     "metadata": {},
     "output_type": "display_data"
    }
   ],
   "source": [
    "# Plotting\n",
    "residues = [0, 1, 2]\n",
    "dt_in_ns = 0.01 # 10 ps per step\n",
    "for i, residue in enumerate(residues):\n",
    "    plt.figure()\n",
    "    plt.plot(lagtimes_ns, t2_all_means[i] * dt_in_ns, 'ko-')\n",
    "    plt.fill_between(lagtimes_ns, \n",
    "                     (t2_all_means[i] + t2_all_stds[i]) * dt_in_ns, \n",
    "                     (t2_all_means[i] - t2_all_stds[i]) * dt_in_ns, \n",
    "                     alpha=0.2)\n",
    "    plt.xlabel('Lagtime (ns)')\n",
    "    plt.ylabel('Implied timescale (ns)')\n",
    "    #plt.ylim(5, 1000)\n",
    "    plt.yscale('log')\n",
    "    plt.title(f'Implied timescales for residue {residue} EE')\n",
    "    #plt.show()\n",
    "    plt.savefig(f\"autocoorel_data/implied_timescale_res{residue}.png\")"
   ]
  },
  {
   "cell_type": "code",
   "execution_count": 29,
   "id": "29d28b3b",
   "metadata": {},
   "outputs": [
    {
     "data": {
      "image/png": "[encoded data removed]",
      "text/plain": [
       "<Figure size 800x600 with 1 Axes>"
      ]
     },
     "metadata": {},
     "output_type": "display_data"
    },
    {
     "data": {
      "image/png": "[encoded data removed]",
      "text/plain": [
       "<Figure size 800x600 with 1 Axes>"
      ]
     },
     "metadata": {},
     "output_type": "display_data"
    },
    {
     "data": {
      "image/png": "[encoded data removed]",
      "text/plain": [
       "<Figure size 800x600 with 1 Axes>"
      ]
     },
     "metadata": {},
     "output_type": "display_data"
    }
   ],
   "source": [
    "import matplotlib.pyplot as plt\n",
    "\n",
    "residues = [0, 1, 2]\n",
    "dt_in_ns = 0.01  # 10 ps per step\n",
    "state_to_plot = [0, 1]\n",
    "\n",
    "for res in residues:\n",
    "    plt.figure(figsize=(8, 6))  # Create a new figure for each residue\n",
    "    pi_means = pi_all_means[res]\n",
    "    pi_stds = pi_all_stds[res] \n",
    "\n",
    "    for i, state in enumerate(state_to_plot):\n",
    "        plt.plot(lagtimes_ns, pi_means[:, i], '-o', label=f'State {state}')\n",
    "        \n",
    "        # Add shaded region for standard deviation\n",
    "        plt.fill_between(lagtimes_ns, \n",
    "                         pi_means[:, i] + pi_stds[:, i],  # Upper bound\n",
    "                         pi_means[:, i] - pi_stds[:, i],  # Lower bound\n",
    "                         alpha=0.2)\n",
    "    \n",
    "    plt.xlabel(\"Lagtime (ns)\")\n",
    "    plt.ylabel(\"State Probability\")\n",
    "    plt.title(f\"State Probability vs. Lagtime (Residue {res})\")\n",
    "    plt.legend()\n",
    "    plt.grid(True)\n",
    "    \n",
    "    # Fix: Use `res` instead of `residue`\n",
    "    plt.savefig(f\"autocoorel_data/stationary_population_res{res}.png\", dpi=300)\n",
    "    plt.show()\n"
   ]
  }
 ],
 "metadata": {
  "kernelspec": {
   "display_name": "PeptoidFF",
   "language": "python",
   "name": "python3"
  },
  "language_info": {
   "codemirror_mode": {
    "name": "ipython",
    "version": 3
   },
   "file_extension": ".py",
   "mimetype": "text/x-python",
   "name": "python",
   "nbconvert_exporter": "python",
   "pygments_lexer": "ipython3",
   "version": "3.8.18"
  }
 },
 "nbformat": 4,
 "nbformat_minor": 5
}
