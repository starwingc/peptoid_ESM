{
 "cells": [
  {
   "cell_type": "code",
   "execution_count": 10,
   "metadata": {},
   "outputs": [],
   "source": [
    "import numpy as np\n",
    "from matplotlib import pyplot as plt\n",
    "import pickle\n",
    "import pandas as pd"
   ]
  },
  {
   "cell_type": "markdown",
   "metadata": {},
   "source": [
    "## Load Important Function"
   ]
  },
  {
   "cell_type": "code",
   "execution_count": 11,
   "metadata": {},
   "outputs": [],
   "source": [
    "class Data:\n",
    "    def __init__(self, array_list):\n",
    "        self.array_list = array_list\n",
    "\n",
    "    def save(self, filename):\n",
    "        with open(filename, 'wb') as f:\n",
    "            pickle.dump(self.array_list, f)\n",
    "\n",
    "    @classmethod\n",
    "    def load(cls, filename):\n",
    "        with open(filename, 'rb') as f:\n",
    "            array_list = pickle.load(f)\n",
    "        return cls(array_list)"
   ]
  },
  {
   "cell_type": "code",
   "execution_count": 12,
   "metadata": {},
   "outputs": [],
   "source": [
    "def omega2cistrans(omega):\n",
    "    \"\"\"Converts a sequence of float omega angles (in degrees) to an array of ints: 0 cis and 1 trans.\"\"\"\n",
    "    # Convert each element in omega to shifted_omega\n",
    "    shifted_omega = [(arr + 90.0) % 360.0 - 90.0 for arr in omega]\n",
    "    \n",
    "    # Convert to cis/trans (0 = cis, 1 = trans) using np.where\n",
    "    cistrans = [np.where(arr > 90.0, 1, 0).astype(int) for arr in shifted_omega]\n",
    "    return cistrans\n"
   ]
  },
  {
   "cell_type": "code",
   "execution_count": 13,
   "metadata": {},
   "outputs": [],
   "source": [
    "def autocorr(x):\n",
    "    tau = x.size\n",
    "    mu = x.mean()\n",
    "    var = x.var()  # Variance for normalization\n",
    "    g = np.correlate((x-mu), (x-mu), mode='full')[tau-1:]\n",
    "    g = g / var\n",
    "    n = np.arange(tau,0,-1)\n",
    "    return g/n"
   ]
  },
  {
   "cell_type": "code",
   "execution_count": 14,
   "metadata": {},
   "outputs": [],
   "source": [
    "def multi_autocorr(x_list, max_tau=None):\n",
    "    \"\"\"Given a list of 1D trajectories x (each could be different lengths), compute an autocorrelation.\n",
    "    INPUTS\n",
    "    x_list  - a list of np.array objects. Each could be different lengths.\n",
    "\n",
    "    PARAMETERS\n",
    "    max_tau - the maximum frame to compute the autocorrelation.  If None, use the whole range. Default: None.\n",
    "    \"\"\"\n",
    "\n",
    "    from tqdm import tqdm\n",
    "    import numpy as np\n",
    "\n",
    "    ntraj = len(x_list)\n",
    "    x = np.concatenate(x_list)\n",
    "    mu = x.mean(axis=0)\n",
    "    var = x.var(axis=0)\n",
    "\n",
    "    max_trajlength = max([x_list[i].shape[0] for i in range(ntraj)])\n",
    "    \n",
    "    if max_tau is None:\n",
    "        max_tau = max_trajlength\n",
    "        \n",
    "    elif max_tau > max_trajlength:\n",
    "        print(\"Error: max_tau must be less or equal to the maximum trajectory length. Setting max_tau = max_trajlength\") \n",
    "        max_tau = max_trajlength\n",
    "        \n",
    "    result = np.zeros(max_tau)\n",
    "    n = np.zeros((max_tau,))\n",
    "        \n",
    "    with tqdm(range(ntraj), desc=\"Processing trajectories\", leave=True) as pbar:\n",
    "        for i in pbar:\n",
    "            this_tau = x_list[i].shape[0] # The maximum length of the traj\n",
    "            \n",
    "            if this_tau > max_tau:\n",
    "                T = 2 * this_tau - 1 \n",
    "                result[0:max_tau] += np.correlate((x_list[i] - mu), (x_list[i] - mu), mode='full')[this_tau-1:this_tau-1+max_tau]\n",
    "                n[0:max_tau] += np.arange(this_tau, 0, -1)[0:max_tau]\n",
    "            else:\n",
    "                result[0:this_tau] += np.correlate((x_list[i] - mu), (x_list[i] - mu), mode='full')[this_tau-1:]\n",
    "                n[0:this_tau] += np.arange(this_tau, 0, -1)\n",
    "                \n",
    "    result = result / var\n",
    "    return result / n"
   ]
  },
  {
   "cell_type": "markdown",
   "metadata": {},
   "source": [
    "## Load the data"
   ]
  },
  {
   "cell_type": "code",
   "execution_count": 15,
   "metadata": {},
   "outputs": [
    {
     "name": "stdout",
     "output_type": "stream",
     "text": [
      "100\n"
     ]
    },
    {
     "data": {
      "text/plain": [
       "array([[ 170.27058 ,  176.17531 ,  178.87286 ],\n",
       "       [ -63.384693, -131.09811 ,  129.73569 ],\n",
       "       [ -15.885827, -164.63934 ,  170.40633 ],\n",
       "       ...,\n",
       "       [-123.131996, -134.82643 , -121.69861 ],\n",
       "       [-109.25685 , -153.25017 , -137.24461 ],\n",
       "       [-121.649925,  174.17133 , -173.98398 ]], dtype=float32)"
      ]
     },
     "execution_count": 15,
     "metadata": {},
     "output_type": "execute_result"
    }
   ],
   "source": [
    "save_dir = 'omega_data'\n",
    "all_omega = Data.load(f\"{save_dir}/all_omega.pkl\").array_list  # This is an (85, x, 3) array\n",
    "\n",
    "print(len(all_omega)) \n",
    "\n",
    "all_omega[0].shape\n",
    "all_omega[0]"
   ]
  },
  {
   "cell_type": "code",
   "execution_count": 16,
   "metadata": {},
   "outputs": [
    {
     "data": {
      "text/plain": [
       "array([[1, 1, 1],\n",
       "       [0, 1, 1],\n",
       "       [0, 1, 1],\n",
       "       ...,\n",
       "       [1, 1, 1],\n",
       "       [1, 1, 1],\n",
       "       [1, 1, 1]])"
      ]
     },
     "execution_count": 16,
     "metadata": {},
     "output_type": "execute_result"
    }
   ],
   "source": [
    "# This a list of 742 (N_i, 3) np.arrays, where N_i is the size of the i^{th} trajectory\n",
    "all_cistrans = omega2cistrans(all_omega)\n",
    "\n",
    "all_cistrans[0].shape\n",
    "all_cistrans[0]\n"
   ]
  },
  {
   "cell_type": "markdown",
   "metadata": {},
   "source": [
    "## Compute average and stddev over the 0=cis/1=trans trajectories "
   ]
  },
  {
   "cell_type": "code",
   "execution_count": 17,
   "metadata": {},
   "outputs": [
    {
     "name": "stdout",
     "output_type": "stream",
     "text": [
      "minlength = 171002 snapshots (1710.020 ns)\n",
      "maxlength = 318010 snapshots (3180.100 ns)\n"
     ]
    },
    {
     "data": {
      "text/plain": [
       "(100, 318010, 3)"
      ]
     },
     "execution_count": 17,
     "metadata": {},
     "output_type": "execute_result"
    }
   ],
   "source": [
    "# This a list of 742 (N_i, 3) np.arrays, where N_i is the size of the i^{th} trajectory\n",
    "ntraj = len(all_cistrans)\n",
    "\n",
    "# convert to floats for downstream operations\n",
    "for i in range(ntraj):\n",
    "    all_cistrans[i] = all_cistrans[i].astype(float)\n",
    "\n",
    "# Find the longest traj\n",
    "maxlength = max( [ len(all_cistrans[i]) for i in range(ntraj) ])\n",
    "minlength = min( [ len(all_cistrans[i]) for i in range(ntraj) ])\n",
    "ns_per_step = 0.01\n",
    "print(f'minlength = {minlength} snapshots ({minlength*ns_per_step:.3f} ns)')\n",
    "print(f'maxlength = {maxlength} snapshots ({maxlength*ns_per_step:.3f} ns)')\n",
    "\n",
    "# Make an array to store all the trajectories\n",
    "arr_cistrans = np.nan * np.ones( (ntraj, maxlength, 3) )\n",
    "\n",
    "for i in range(ntraj):\n",
    "    n = len(all_cistrans[i])\n",
    "    arr_cistrans[i, 0:n, :] = all_cistrans[i]\n",
    "\n",
    "arr_cistrans.shape"
   ]
  },
  {
   "cell_type": "markdown",
   "metadata": {},
   "source": [
    "## Autocoorelation Plot"
   ]
  },
  {
   "cell_type": "code",
   "execution_count": 21,
   "metadata": {},
   "outputs": [
    {
     "name": "stderr",
     "output_type": "stream",
     "text": [
      "Processing trajectories:  16%|█▌        | 16/100 [01:19<06:55,  4.95s/it]\n"
     ]
    },
    {
     "ename": "KeyboardInterrupt",
     "evalue": "",
     "output_type": "error",
     "traceback": [
      "\u001b[0;31m---------------------------------------------------------------------------\u001b[0m",
      "\u001b[0;31mKeyboardInterrupt\u001b[0m                         Traceback (most recent call last)",
      "Cell \u001b[0;32mIn[21], line 8\u001b[0m\n\u001b[1;32m      6\u001b[0m max_tau \u001b[38;5;241m=\u001b[39m \u001b[38;5;241m30000\u001b[39m\n\u001b[1;32m      7\u001b[0m stride \u001b[38;5;241m=\u001b[39m \u001b[38;5;241m1\u001b[39m\n\u001b[0;32m----> 8\u001b[0m result_res0 \u001b[38;5;241m=\u001b[39m \u001b[43mmulti_autocorr\u001b[49m\u001b[43m(\u001b[49m\u001b[43mall_cistrans_res0\u001b[49m\u001b[43m[\u001b[49m\u001b[38;5;241;43m0\u001b[39;49m\u001b[43m:\u001b[49m\u001b[43m:\u001b[49m\u001b[43mstride\u001b[49m\u001b[43m]\u001b[49m\u001b[43m,\u001b[49m\u001b[43m \u001b[49m\u001b[43mmax_tau\u001b[49m\u001b[38;5;241;43m=\u001b[39;49m\u001b[43mmax_tau\u001b[49m\u001b[43m)\u001b[49m\n\u001b[1;32m      9\u001b[0m result_res1 \u001b[38;5;241m=\u001b[39m multi_autocorr(all_cistrans_res1[\u001b[38;5;241m0\u001b[39m::stride], max_tau\u001b[38;5;241m=\u001b[39mmax_tau)\n\u001b[1;32m     10\u001b[0m result_res2 \u001b[38;5;241m=\u001b[39m multi_autocorr(all_cistrans_res2[\u001b[38;5;241m0\u001b[39m::stride], max_tau\u001b[38;5;241m=\u001b[39mmax_tau)\n",
      "Cell \u001b[0;32mIn[14], line 36\u001b[0m, in \u001b[0;36mmulti_autocorr\u001b[0;34m(x_list, max_tau)\u001b[0m\n\u001b[1;32m     34\u001b[0m \u001b[38;5;28;01mif\u001b[39;00m this_tau \u001b[38;5;241m>\u001b[39m max_tau:\n\u001b[1;32m     35\u001b[0m     T \u001b[38;5;241m=\u001b[39m \u001b[38;5;241m2\u001b[39m \u001b[38;5;241m*\u001b[39m this_tau \u001b[38;5;241m-\u001b[39m \u001b[38;5;241m1\u001b[39m \n\u001b[0;32m---> 36\u001b[0m     result[\u001b[38;5;241m0\u001b[39m:max_tau] \u001b[38;5;241m+\u001b[39m\u001b[38;5;241m=\u001b[39m \u001b[43mnp\u001b[49m\u001b[38;5;241;43m.\u001b[39;49m\u001b[43mcorrelate\u001b[49m\u001b[43m(\u001b[49m\u001b[43m(\u001b[49m\u001b[43mx_list\u001b[49m\u001b[43m[\u001b[49m\u001b[43mi\u001b[49m\u001b[43m]\u001b[49m\u001b[43m \u001b[49m\u001b[38;5;241;43m-\u001b[39;49m\u001b[43m \u001b[49m\u001b[43mmu\u001b[49m\u001b[43m)\u001b[49m\u001b[43m,\u001b[49m\u001b[43m \u001b[49m\u001b[43m(\u001b[49m\u001b[43mx_list\u001b[49m\u001b[43m[\u001b[49m\u001b[43mi\u001b[49m\u001b[43m]\u001b[49m\u001b[43m \u001b[49m\u001b[38;5;241;43m-\u001b[39;49m\u001b[43m \u001b[49m\u001b[43mmu\u001b[49m\u001b[43m)\u001b[49m\u001b[43m,\u001b[49m\u001b[43m \u001b[49m\u001b[43mmode\u001b[49m\u001b[38;5;241;43m=\u001b[39;49m\u001b[38;5;124;43m'\u001b[39;49m\u001b[38;5;124;43mfull\u001b[39;49m\u001b[38;5;124;43m'\u001b[39;49m\u001b[43m)\u001b[49m[this_tau\u001b[38;5;241m-\u001b[39m\u001b[38;5;241m1\u001b[39m:this_tau\u001b[38;5;241m-\u001b[39m\u001b[38;5;241m1\u001b[39m\u001b[38;5;241m+\u001b[39mmax_tau]\n\u001b[1;32m     37\u001b[0m     n[\u001b[38;5;241m0\u001b[39m:max_tau] \u001b[38;5;241m+\u001b[39m\u001b[38;5;241m=\u001b[39m np\u001b[38;5;241m.\u001b[39marange(this_tau, \u001b[38;5;241m0\u001b[39m, \u001b[38;5;241m-\u001b[39m\u001b[38;5;241m1\u001b[39m)[\u001b[38;5;241m0\u001b[39m:max_tau]\n\u001b[1;32m     38\u001b[0m \u001b[38;5;28;01melse\u001b[39;00m:\n",
      "File \u001b[0;32m~/miniconda3/envs/peptoid_env/lib/python3.10/site-packages/numpy/core/numeric.py:731\u001b[0m, in \u001b[0;36mcorrelate\u001b[0;34m(a, v, mode)\u001b[0m\n\u001b[1;32m    660\u001b[0m \u001b[38;5;129m@array_function_dispatch\u001b[39m(_correlate_dispatcher)\n\u001b[1;32m    661\u001b[0m \u001b[38;5;28;01mdef\u001b[39;00m\u001b[38;5;250m \u001b[39m\u001b[38;5;21mcorrelate\u001b[39m(a, v, mode\u001b[38;5;241m=\u001b[39m\u001b[38;5;124m'\u001b[39m\u001b[38;5;124mvalid\u001b[39m\u001b[38;5;124m'\u001b[39m):\n\u001b[1;32m    662\u001b[0m \u001b[38;5;250m    \u001b[39m\u001b[38;5;124mr\u001b[39m\u001b[38;5;124;03m\"\"\"\u001b[39;00m\n\u001b[1;32m    663\u001b[0m \u001b[38;5;124;03m    Cross-correlation of two 1-dimensional sequences.\u001b[39;00m\n\u001b[1;32m    664\u001b[0m \n\u001b[0;32m   (...)\u001b[0m\n\u001b[1;32m    729\u001b[0m \n\u001b[1;32m    730\u001b[0m \u001b[38;5;124;03m    \"\"\"\u001b[39;00m\n\u001b[0;32m--> 731\u001b[0m     \u001b[38;5;28;01mreturn\u001b[39;00m \u001b[43mmultiarray\u001b[49m\u001b[38;5;241;43m.\u001b[39;49m\u001b[43mcorrelate2\u001b[49m\u001b[43m(\u001b[49m\u001b[43ma\u001b[49m\u001b[43m,\u001b[49m\u001b[43m \u001b[49m\u001b[43mv\u001b[49m\u001b[43m,\u001b[49m\u001b[43m \u001b[49m\u001b[43mmode\u001b[49m\u001b[43m)\u001b[49m\n",
      "\u001b[0;31mKeyboardInterrupt\u001b[0m: "
     ]
    }
   ],
   "source": [
    "ntraj = len(all_cistrans)\n",
    "all_cistrans_res0 = [ all_cistrans[i][:,0] for i in range(ntraj) ]\n",
    "all_cistrans_res1 = [ all_cistrans[i][:,1] for i in range(ntraj) ]\n",
    "all_cistrans_res2 = [ all_cistrans[i][:,2] for i in range(ntraj) ]\n",
    "\n",
    "max_tau = 30000\n",
    "stride = 1\n",
    "result_res0 = multi_autocorr(all_cistrans_res0[0::stride], max_tau=max_tau)\n",
    "result_res1 = multi_autocorr(all_cistrans_res1[0::stride], max_tau=max_tau)\n",
    "result_res2 = multi_autocorr(all_cistrans_res2[0::stride], max_tau=max_tau)"
   ]
  },
  {
   "cell_type": "code",
   "execution_count": null,
   "metadata": {},
   "outputs": [],
   "source": [
    "# Save the autocorrel functions!\n",
    "Data_autocorrel = Data([result_res0, result_res1, result_res2])\n",
    "Data_autocorrel.save('autocoorel_data/autocorrel_res012_1us.pkl')"
   ]
  },
  {
   "cell_type": "code",
   "execution_count": 23,
   "metadata": {},
   "outputs": [
    {
     "name": "stderr",
     "output_type": "stream",
     "text": [
      "Processing trajectories: 100%|██████████| 1/1 [00:04<00:00,  4.45s/it]\n",
      "Processing trajectories: 100%|██████████| 1/1 [00:05<00:00,  5.77s/it]\n",
      "Processing trajectories: 100%|██████████| 1/1 [00:05<00:00,  5.92s/it]\n",
      "Processing trajectories: 100%|██████████| 1/1 [00:03<00:00,  3.76s/it]\n",
      "Processing trajectories: 100%|██████████| 1/1 [00:04<00:00,  4.08s/it]\n",
      "Processing trajectories: 100%|██████████| 1/1 [00:03<00:00,  3.58s/it]\n",
      "Processing trajectories: 100%|██████████| 1/1 [00:04<00:00,  4.27s/it]\n",
      "Processing trajectories: 100%|██████████| 1/1 [00:04<00:00,  4.11s/it]\n",
      "Processing trajectories: 100%|██████████| 1/1 [00:04<00:00,  4.05s/it]\n",
      "Processing trajectories: 100%|██████████| 1/1 [00:05<00:00,  5.38s/it]\n",
      "Processing trajectories: 100%|██████████| 1/1 [00:05<00:00,  5.44s/it]\n",
      "Processing trajectories: 100%|██████████| 1/1 [00:05<00:00,  5.55s/it]\n",
      "Processing trajectories: 100%|██████████| 1/1 [00:03<00:00,  3.50s/it]\n",
      "Processing trajectories: 100%|██████████| 1/1 [00:03<00:00,  3.56s/it]\n",
      "Processing trajectories: 100%|██████████| 1/1 [00:03<00:00,  3.50s/it]\n"
     ]
    }
   ],
   "source": [
    "# Make five partitions of the trajectories at random\n",
    "ntraj = len(all_cistrans)\n",
    "ntrials = 5\n",
    "\n",
    "Ind = np.random.permutation(np.arange(ntraj)).astype(int)\n",
    "nchunk =  int(ntraj/ntrials)  # the number of trajs in each trial\n",
    "\n",
    "Ind_trials = [ Ind[(i*nchunk) : ((i+1)*nchunk)].astype(int) for i in range(ntrials)]\n",
    "all_cistrans_trials = []\n",
    "for trial in range(ntrials):\n",
    "    all_cistrans_trials.append( [all_cistrans[i] for i in Ind_trials[trial]] )\n",
    "\n",
    "if ntraj > nchunk*ntrials:\n",
    "    # add the remaining trajs to the first group\n",
    "    for i in range(nchunk*ntrials, ntraj):\n",
    "        all_cistrans_trials[0].append( all_cistrans[i] )\n",
    "\n",
    "## Calculate multi_autocorr for each resiue, for each trial\n",
    "\n",
    "for trial in range(ntrials):\n",
    "\n",
    "    ntraj_this_trial = len(all_cistrans_trials[trial])\n",
    "    all_cistrans_res0 = [ all_cistrans_trials[trial][i][:,0] for i in range(ntraj_this_trial) ]\n",
    "    all_cistrans_res1 = [ all_cistrans_trials[trial][i][:,1] for i in range(ntraj_this_trial) ]\n",
    "    all_cistrans_res2 = [ all_cistrans_trials[trial][i][:,2] for i in range(ntraj_this_trial) ]\n",
    "    \n",
    "    max_tau = 3000\n",
    "    stride = 100\n",
    "    result_res0 = multi_autocorr(all_cistrans_res0[0::stride], max_tau=max_tau)\n",
    "    result_res1 = multi_autocorr(all_cistrans_res1[0::stride], max_tau=max_tau)\n",
    "    result_res2 = multi_autocorr(all_cistrans_res2[0::stride], max_tau=max_tau)\n",
    "\n",
    "    # Save the autocorrel functions!\n",
    "    Data_autocorrel = Data([result_res0, result_res1, result_res2])\n",
    "    Data_autocorrel.save(f'autocoorel_data/autocorrel_res012_1us_trial{trial}.pkl')"
   ]
  },
  {
   "cell_type": "markdown",
   "metadata": {},
   "source": [
    "## Data Load in and Plot"
   ]
  },
  {
   "cell_type": "code",
   "execution_count": 27,
   "metadata": {},
   "outputs": [],
   "source": [
    "result_res012 = Data.load('autocoorel_data/autocorrel_res012_1us.pkl').array_list\n",
    "result_res0, result_res1, result_res2 = result_res012[0], result_res012[1], result_res012[2]"
   ]
  },
  {
   "cell_type": "code",
   "execution_count": 28,
   "metadata": {},
   "outputs": [
    {
     "data": {
      "text/plain": [
       "array([1.00000000e+00, 7.51508947e-01, 6.84091314e-01, ...,\n",
       "       4.44492250e-04, 4.54780708e-04, 3.57622025e-04])"
      ]
     },
     "execution_count": 28,
     "metadata": {},
     "output_type": "execute_result"
    }
   ],
   "source": [
    "result_res0"
   ]
  },
  {
   "cell_type": "code",
   "execution_count": 29,
   "metadata": {},
   "outputs": [
    {
     "data": {
      "image/png": "[encoded data removed]",
      "text/plain": [
       "<Figure size 640x480 with 1 Axes>"
      ]
     },
     "metadata": {},
     "output_type": "display_data"
    }
   ],
   "source": [
    "ns_per_step = 0.01\n",
    "max_tau_res0 = result_res0.shape[0]\n",
    "max_tau_res1 = result_res1.shape[0]\n",
    "max_tau_res2 = result_res2.shape[0]\n",
    "\n",
    "plt.figure()\n",
    "plt.plot(np.arange(max_tau_res0)*ns_per_step, result_res0, label='residue 0')\n",
    "plt.plot(np.arange(max_tau_res1)*ns_per_step, result_res1, label='residue 1')\n",
    "plt.plot(np.arange(max_tau_res2)*ns_per_step, result_res2, label='residue 2')\n",
    "plt.xlabel(r'$\\tau$ (ns)')\n",
    "plt.ylabel(r'Autocorrelation function $g(\\tau)$')\n",
    "plt.title(f'Autocoorelation Plot of EE')\n",
    "plt.legend(loc='best')\n",
    "\n",
    "plt.savefig('autocoorel_data/autocorrel_res012_1us.pdf')"
   ]
  },
  {
   "cell_type": "code",
   "execution_count": 30,
   "metadata": {},
   "outputs": [],
   "source": [
    "# Define number of trials and residues\n",
    "ntrials = 5\n",
    "nres = 3  # Number of residues\n",
    "\n",
    "# Load autocorrelation data from each trial\n",
    "results_trials = []\n",
    "\n",
    "for trial in range(ntrials):    \n",
    "    with open(f'autocoorel_data/autocorrel_res012_1us_trial{trial}.pkl', 'rb') as f:\n",
    "        results_trials.append(pickle.load(f))  # Load the stored data\n",
    "\n",
    "# Determine the maximum `tau` length across all trials\n",
    "max_ntau = max([len(trial[0]) for trial in results_trials])\n",
    "\n",
    "# Initialize results array with NaNs (to handle variable-length data)\n",
    "results = np.full((ntrials, nres, max_ntau), np.nan)\n",
    "\n",
    "# Store all results, padding shorter arrays with NaN\n",
    "for trial in range(ntrials):\n",
    "    for res in range(nres):\n",
    "        ntau_current = len(results_trials[trial][res])\n",
    "        results[trial, res, :ntau_current] = results_trials[trial][res]  # Fill valid values\n",
    "\n",
    "# Compute mean and standard deviation across trials, ignoring NaNs\n",
    "results_mean = np.nanmean(results, axis=0)  # (nres, max_ntau)\n",
    "results_std = np.nanstd(results, axis=0)"
   ]
  },
  {
   "cell_type": "code",
   "execution_count": 31,
   "metadata": {},
   "outputs": [
    {
     "data": {
      "text/plain": [
       "array([[2.52090556e-14, 1.41528602e-02, 1.56597244e-02, ...,\n",
       "        3.07815970e-03, 3.07279649e-03, 3.35309660e-03],\n",
       "       [2.60983185e-14, 7.15437191e-03, 8.39639084e-03, ...,\n",
       "        1.53812533e-02, 1.53800182e-02, 1.50916291e-02],\n",
       "       [2.48185385e-14, 6.45926672e-03, 8.68500045e-03, ...,\n",
       "        8.99216318e-03, 8.76664810e-03, 8.58273163e-03]])"
      ]
     },
     "execution_count": 31,
     "metadata": {},
     "output_type": "execute_result"
    }
   ],
   "source": [
    "np.shape(result_res012)\n",
    "results_std"
   ]
  },
  {
   "cell_type": "code",
   "execution_count": 32,
   "metadata": {},
   "outputs": [
    {
     "name": "stdout",
     "output_type": "stream",
     "text": [
      " res 0 tau_c : 0.147 ns\n",
      " res 1 tau_c : 0.563 ns\n",
      " res 2 tau_c : 0.323 ns\n"
     ]
    }
   ],
   "source": [
    "dt_in_ns = 0.010  # 10 ps per step (converted to ns)\n",
    "Nmax = 500\n",
    "\n",
    "for i, res in enumerate(result_res012):\n",
    "    tau_c = np.sum(res[:Nmax]) * dt_in_ns\n",
    "    print(f\" res {i} tau_c : {tau_c:.3f} ns\")\n",
    "\n"
   ]
  },
  {
   "cell_type": "code",
   "execution_count": 33,
   "metadata": {},
   "outputs": [
    {
     "data": {
      "image/png": "[encoded data removed]",
      "text/plain": [
       "<Figure size 640x480 with 1 Axes>"
      ]
     },
     "metadata": {},
     "output_type": "display_data"
    }
   ],
   "source": [
    "ntau = result_res0.shape[0]\n",
    "ns_per_step = 0.01\n",
    "time = np.arange(ntau)*ns_per_step\n",
    "time_to_plot = 3 # in ns \n",
    "index_to_plot = int(time_to_plot / ns_per_step)  # Convert ns to index\n",
    "\n",
    "plt.figure()\n",
    "\n",
    "for res in range(nres):\n",
    "    plt.plot(time[:index_to_plot], results_mean[res,:index_to_plot], label=f'residue {res}')\n",
    "    \n",
    "    plt.fill_between(\n",
    "        time[:index_to_plot],\n",
    "        results_mean[res,:index_to_plot]+results_std[res,:index_to_plot],\n",
    "        results_mean[res,:index_to_plot]-results_std[res,:index_to_plot], alpha=0.2, lw=1)\n",
    "\n",
    "# Add a red vertical line at 1/e\n",
    "tau_1e = 1 / np.e  # Compute 1/e\n",
    "plt.axhline(y=tau_1e, color='r', linestyle='--', label=r'$g(\\tau) = \\frac{1}{e}$')\n",
    "\n",
    "plt.plot(time[:index_to_plot], np.zeros(index_to_plot), 'k-', lw=1)\n",
    "plt.ylim(-0.5,1.1)\n",
    "plt.xlabel(r'$\\tau$ (ns)')\n",
    "plt.ylabel(r'Autocorrelation function $g(\\tau)$')\n",
    "plt.legend(loc='best')\n",
    "\n",
    "plt.savefig('autocoorel_data/autocorrel_res012_1us_errorbars.pdf')"
   ]
  },
  {
   "cell_type": "code",
   "execution_count": null,
   "metadata": {},
   "outputs": [],
   "source": []
  }
 ],
 "metadata": {
  "kernelspec": {
   "display_name": "peptoid_env",
   "language": "python",
   "name": "python3"
  },
  "language_info": {
   "codemirror_mode": {
    "name": "ipython",
    "version": 3
   },
   "file_extension": ".py",
   "mimetype": "text/x-python",
   "name": "python",
   "nbconvert_exporter": "python",
   "pygments_lexer": "ipython3",
   "version": "3.10.18"
  }
 },
 "nbformat": 4,
 "nbformat_minor": 2
}
