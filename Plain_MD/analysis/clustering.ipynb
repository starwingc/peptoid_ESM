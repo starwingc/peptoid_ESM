{
 "cells": [
  {
   "cell_type": "code",
   "execution_count": 1,
   "metadata": {},
   "outputs": [],
   "source": [
    "import pyemma\n",
    "import pyemma.coordinates as coor\n",
    "\n",
    "import mdtraj as md\n",
    "from pprint import pprint\n",
    "import glob, os, shutil, subprocess\n",
    "import numpy as np\n",
    "import matplotlib.pyplot as plt\n",
    "import pickle\n",
    "import tqdm\n",
    "from collections import Counter\n",
    "\n",
    "import deeptime as dt\n",
    "from deeptime.markov.hmm import BayesianHMM\n",
    "from deeptime.clustering import BoxDiscretization\n",
    "from deeptime.clustering import RegularSpace\n"
   ]
  },
  {
   "cell_type": "markdown",
   "metadata": {},
   "source": [
    "## Extract the data and save into data.pkl"
   ]
  },
  {
   "cell_type": "code",
   "execution_count": 6,
   "metadata": {},
   "outputs": [
    {
     "name": "stdout",
     "output_type": "stream",
     "text": [
      "Directory 'omega_data/' already exists. No action taken.\n"
     ]
    }
   ],
   "source": [
    "import os\n",
    "import shutil\n",
    "\n",
    "# Define the directory path\n",
    "directory = \"omega_data/\"\n",
    "clean_dir = False\n",
    "\n",
    "# Handle directory creation and cleanup\n",
    "try:\n",
    "    if clean_dir:\n",
    "        if os.path.exists(directory):\n",
    "            # Remove all contents of the directory\n",
    "            shutil.rmtree(directory)\n",
    "            print(f\"All contents in '{directory}' have been cleared.\")\n",
    "        # Recreate the empty directory\n",
    "        os.makedirs(directory, exist_ok=True)\n",
    "        print(f\"Directory '{directory}' has been created/recreated.\")\n",
    "    else:\n",
    "        # Ensure the directory exists without cleaning\n",
    "        if not os.path.exists(directory):\n",
    "            os.makedirs(directory)\n",
    "            print(f\"Directory '{directory}' did not exist, so it has been created.\")\n",
    "        else:\n",
    "            print(f\"Directory '{directory}' already exists. No action taken.\")\n",
    "except OSError as e:\n",
    "    print(f\"Error handling directory '{directory}': {e}\")"
   ]
  },
  {
   "cell_type": "code",
   "execution_count": 7,
   "metadata": {},
   "outputs": [],
   "source": [
    "class Data:\n",
    "    def __init__(self, array_list):\n",
    "        self.array_list = array_list\n",
    "\n",
    "    def save(self, filename):\n",
    "        with open(filename, 'wb') as f:\n",
    "            pickle.dump(self.array_list, f)\n",
    "\n",
    "    @classmethod\n",
    "    def load(cls, filename):\n",
    "        with open(filename, 'rb') as f:\n",
    "            array_list = pickle.load(f)\n",
    "        return cls(array_list)"
   ]
  },
  {
   "cell_type": "markdown",
   "metadata": {},
   "source": [
    "## Featurization"
   ]
  },
  {
   "cell_type": "code",
   "execution_count": null,
   "metadata": {},
   "outputs": [
    {
     "name": "stdout",
     "output_type": "stream",
     "text": [
      "['PROJ12463traj/r1c5_inte.xtc', 'PROJ12463traj/r1c4_inte.xtc', 'PROJ12463traj/r0c32_inte.xtc', 'PROJ12463traj/r0c33_inte.xtc', 'PROJ12463traj/r7c69_inte.xtc', 'PROJ12463traj/r7c68_inte.xtc', 'PROJ12463traj/r3c93_inte.xtc', 'PROJ12463traj/r6c55_inte.xtc', 'PROJ12463traj/r6c54_inte.xtc', 'PROJ12463traj/r3c92_inte.xtc', 'PROJ12463traj/r5c66_inte.xtc', 'PROJ12463traj/r5c67_inte.xtc', 'PROJ12463traj/r3c48_inte.xtc', 'PROJ12463traj/r3c49_inte.xtc', 'PROJ12463traj/r4c13_inte.xtc', 'PROJ12463traj/r4c12_inte.xtc', 'PROJ12463traj/r1c47_inte.xtc', 'PROJ12463traj/r4c81_inte.xtc', 'PROJ12463traj/r4c80_inte.xtc', 'PROJ12463traj/r1c46_inte.xtc', 'PROJ12463traj/r2c74_inte.xtc', 'PROJ12463traj/r2c75_inte.xtc', 'PROJ12463traj/r6c9_inte.xtc', 'PROJ12463traj/r2c91_inte.xtc', 'PROJ12463traj/r6c8_inte.xtc', 'PROJ12463traj/r2c90_inte.xtc', 'PROJ12463traj/r4c64_inte.xtc', 'PROJ12463traj/r4c65_inte.xtc', 'PROJ12463traj/r1c30_inte.xtc', 'PROJ12463traj/r5c58_inte.xtc', 'PROJ12463traj/r1c31_inte.xtc', 'PROJ12463traj/r5c59_inte.xtc', 'PROJ12463traj/r0c45_inte.xtc', 'PROJ12463traj/r5c83_inte.xtc', 'PROJ12463traj/r5c82_inte.xtc', 'PROJ12463traj/r0c44_inte.xtc', 'PROJ12463traj/r3c76_inte.xtc', 'PROJ12463traj/r3c77_inte.xtc', 'PROJ12463traj/r6c22_inte.xtc', 'PROJ12463traj/r6c23_inte.xtc', 'PROJ12463traj/r5c11_inte.xtc', 'PROJ12463traj/r1c79_inte.xtc', 'PROJ12463traj/r5c10_inte.xtc', 'PROJ12463traj/r1c78_inte.xtc', 'PROJ12463traj/r6c16_inte.xtc', 'PROJ12463traj/r6c17_inte.xtc', 'PROJ12463traj/r5c25_inte.xtc', 'PROJ12463traj/r5c24_inte.xtc', 'PROJ12463traj/r0c71_inte.xtc', 'PROJ12463traj/r4c19_inte.xtc', 'PROJ12463traj/r0c70_inte.xtc', 'PROJ12463traj/r4c18_inte.xtc', 'PROJ12463traj/r6c84_inte.xtc', 'PROJ12463traj/r3c42_inte.xtc', 'PROJ12463traj/r3c43_inte.xtc', 'PROJ12463traj/r6c85_inte.xtc', 'PROJ12463traj/r0c7_inte.xtc', 'PROJ12463traj/r0c6_inte.xtc', 'PROJ12463traj/r3c99_inte.xtc', 'PROJ12463traj/r2c37_inte.xtc', 'PROJ12463traj/r3c98_inte.xtc', 'PROJ12463traj/r2c36_inte.xtc', 'PROJ12463traj/r7c63_inte.xtc', 'PROJ12463traj/r7c62_inte.xtc', 'PROJ12463traj/r4c50_inte.xtc', 'PROJ12463traj/r1c96_inte.xtc', 'PROJ12463traj/r0c38_inte.xtc', 'PROJ12463traj/r1c97_inte.xtc', 'PROJ12463traj/r4c51_inte.xtc', 'PROJ12463traj/r0c39_inte.xtc', 'PROJ12463traj/r1c73_inte.xtc', 'PROJ12463traj/r1c72_inte.xtc', 'PROJ12463traj/r7c86_inte.xtc', 'PROJ12463traj/r2c40_inte.xtc', 'PROJ12463traj/r6c28_inte.xtc', 'PROJ12463traj/r2c41_inte.xtc', 'PROJ12463traj/r7c87_inte.xtc', 'PROJ12463traj/r6c29_inte.xtc', 'PROJ12463traj/r5c89_inte.xtc', 'PROJ12463traj/r4c27_inte.xtc', 'PROJ12463traj/r5c88_inte.xtc', 'PROJ12463traj/r4c26_inte.xtc', 'PROJ12463traj/r6c61_inte.xtc', 'PROJ12463traj/r6c60_inte.xtc', 'PROJ12463traj/r5c52_inte.xtc', 'PROJ12463traj/r0c94_inte.xtc', 'PROJ12463traj/r0c95_inte.xtc', 'PROJ12463traj/r5c53_inte.xtc', 'PROJ12463traj/r3c35_inte.xtc', 'PROJ12463traj/r6c3_inte.xtc', 'PROJ12463traj/r6c2_inte.xtc', 'PROJ12463traj/r3c34_inte.xtc', 'PROJ12463traj/r5c38_inte.xtc', 'PROJ12463traj/r1c50_inte.xtc', 'PROJ12463traj/r5c7_inte.xtc', 'PROJ12463traj/r4c96_inte.xtc', 'PROJ12463traj/r5c39_inte.xtc', 'PROJ12463traj/r4c97_inte.xtc', 'PROJ12463traj/r5c6_inte.xtc', 'PROJ12463traj/r1c51_inte.xtc', 'PROJ12463traj/r2c63_inte.xtc', 'PROJ12463traj/r2c62_inte.xtc', 'PROJ12463traj/r6c99_inte.xtc', 'PROJ12463traj/r6c98_inte.xtc', 'PROJ12463traj/r3c84_inte.xtc', 'PROJ12463traj/r6c42_inte.xtc', 'PROJ12463traj/r6c43_inte.xtc', 'PROJ12463traj/r3c85_inte.xtc', 'PROJ12463traj/r1c19_inte.xtc', 'PROJ12463traj/r5c71_inte.xtc', 'PROJ12463traj/r1c18_inte.xtc', 'PROJ12463traj/r5c70_inte.xtc', 'PROJ12463traj/r0c25_inte.xtc', 'PROJ12463traj/r0c24_inte.xtc', 'PROJ12463traj/r3c16_inte.xtc', 'PROJ12463traj/r3c17_inte.xtc', 'PROJ12463traj/r6c35_inte.xtc', 'PROJ12463traj/r6c34_inte.xtc', 'PROJ12463traj/r0c52_inte.xtc', 'PROJ12463traj/r5c94_inte.xtc', 'PROJ12463traj/r5c95_inte.xtc', 'PROJ12463traj/r0c53_inte.xtc', 'PROJ12463traj/r3c3_inte.xtc', 'PROJ12463traj/r3c2_inte.xtc', 'PROJ12463traj/r3c61_inte.xtc', 'PROJ12463traj/r3c60_inte.xtc', 'PROJ12463traj/r1c27_inte.xtc', 'PROJ12463traj/r0c89_inte.xtc', 'PROJ12463traj/r1c26_inte.xtc', 'PROJ12463traj/r0c88_inte.xtc', 'PROJ12463traj/r2c14_inte.xtc', 'PROJ12463traj/r2c15_inte.xtc', 'PROJ12463traj/r3c28_inte.xtc', 'PROJ12463traj/r2c86_inte.xtc', 'PROJ12463traj/r3c29_inte.xtc', 'PROJ12463traj/r2c87_inte.xtc', 'PROJ12463traj/r4c73_inte.xtc', 'PROJ12463traj/r4c72_inte.xtc', 'PROJ12463traj/r7c74_inte.xtc', 'PROJ12463traj/r7c75_inte.xtc', 'PROJ12463traj/r4c47_inte.xtc', 'PROJ12463traj/r1c81_inte.xtc', 'PROJ12463traj/r1c80_inte.xtc', 'PROJ12463traj/r4c46_inte.xtc', 'PROJ12463traj/r1c13_inte.xtc', 'PROJ12463traj/r1c12_inte.xtc', 'PROJ12463traj/r6c48_inte.xtc', 'PROJ12463traj/r2c20_inte.xtc', 'PROJ12463traj/r6c49_inte.xtc', 'PROJ12463traj/r2c21_inte.xtc', 'PROJ12463traj/r0c66_inte.xtc', 'PROJ12463traj/r0c67_inte.xtc', 'PROJ12463traj/r6c93_inte.xtc', 'PROJ12463traj/r3c55_inte.xtc', 'PROJ12463traj/r4c5_inte.xtc', 'PROJ12463traj/r4c4_inte.xtc', 'PROJ12463traj/r3c54_inte.xtc', 'PROJ12463traj/r6c92_inte.xtc', 'PROJ12463traj/r2c69_inte.xtc', 'PROJ12463traj/r2c68_inte.xtc', 'PROJ12463traj/r5c32_inte.xtc', 'PROJ12463traj/r5c33_inte.xtc', 'PROJ12463traj/r4c79_inte.xtc', 'PROJ12463traj/r0c11_inte.xtc', 'PROJ12463traj/r4c78_inte.xtc', 'PROJ12463traj/r0c10_inte.xtc', 'PROJ12463traj/r3c22_inte.xtc', 'PROJ12463traj/r3c23_inte.xtc', 'PROJ12463traj/r6c76_inte.xtc', 'PROJ12463traj/r6c77_inte.xtc', 'PROJ12463traj/r5c45_inte.xtc', 'PROJ12463traj/r0c83_inte.xtc', 'PROJ12463traj/r0c82_inte.xtc', 'PROJ12463traj/r5c44_inte.xtc', 'PROJ12463traj/r0c58_inte.xtc', 'PROJ12463traj/r4c30_inte.xtc', 'PROJ12463traj/r0c59_inte.xtc', 'PROJ12463traj/r4c31_inte.xtc', 'PROJ12463traj/r3c9_inte.xtc', 'PROJ12463traj/r3c8_inte.xtc', 'PROJ12463traj/r1c64_inte.xtc', 'PROJ12463traj/r1c65_inte.xtc', 'PROJ12463traj/r7c91_inte.xtc', 'PROJ12463traj/r2c57_inte.xtc', 'PROJ12463traj/r2c56_inte.xtc', 'PROJ12463traj/r7c90_inte.xtc', 'PROJ12463traj/r2c1_inte.xtc', 'PROJ12463traj/r2c0_inte.xtc', 'PROJ12463traj/r4c8_inte.xtc', 'PROJ12463traj/r3c58_inte.xtc', 'PROJ12463traj/r3c59_inte.xtc', 'PROJ12463traj/r4c9_inte.xtc', 'PROJ12463traj/r5c0_inte.xtc', 'PROJ12463traj/r4c91_inte.xtc', 'PROJ12463traj/r1c57_inte.xtc', 'PROJ12463traj/r1c56_inte.xtc', 'PROJ12463traj/r4c90_inte.xtc', 'PROJ12463traj/r5c1_inte.xtc', 'PROJ12463traj/r2c64_inte.xtc', 'PROJ12463traj/r2c65_inte.xtc', 'PROJ12463traj/r0c22_inte.xtc', 'PROJ12463traj/r0c23_inte.xtc', 'PROJ12463traj/r3c11_inte.xtc', 'PROJ12463traj/r7c79_inte.xtc', 'PROJ12463traj/r3c10_inte.xtc', 'PROJ12463traj/r7c78_inte.xtc', 'PROJ12463traj/r6c45_inte.xtc', 'PROJ12463traj/r3c83_inte.xtc', 'PROJ12463traj/r3c82_inte.xtc', 'PROJ12463traj/r6c44_inte.xtc', 'PROJ12463traj/r5c76_inte.xtc', 'PROJ12463traj/r5c77_inte.xtc', 'PROJ12463traj/r5c93_inte.xtc', 'PROJ12463traj/r0c55_inte.xtc', 'PROJ12463traj/r0c54_inte.xtc', 'PROJ12463traj/r5c92_inte.xtc', 'PROJ12463traj/r3c4_inte.xtc', 'PROJ12463traj/r3c5_inte.xtc', 'PROJ12463traj/r3c66_inte.xtc', 'PROJ12463traj/r3c67_inte.xtc', 'PROJ12463traj/r6c32_inte.xtc', 'PROJ12463traj/r6c33_inte.xtc', 'PROJ12463traj/r1c69_inte.xtc', 'PROJ12463traj/r1c68_inte.xtc', 'PROJ12463traj/r2c81_inte.xtc', 'PROJ12463traj/r2c80_inte.xtc', 'PROJ12463traj/r4c74_inte.xtc', 'PROJ12463traj/r4c75_inte.xtc', 'PROJ12463traj/r1c20_inte.xtc', 'PROJ12463traj/r5c48_inte.xtc', 'PROJ12463traj/r1c21_inte.xtc', 'PROJ12463traj/r5c49_inte.xtc', 'PROJ12463traj/r2c13_inte.xtc', 'PROJ12463traj/r2c12_inte.xtc', 'PROJ12463traj/r1c14_inte.xtc', 'PROJ12463traj/r1c15_inte.xtc', 'PROJ12463traj/r3c89_inte.xtc', 'PROJ12463traj/r2c27_inte.xtc', 'PROJ12463traj/r3c88_inte.xtc', 'PROJ12463traj/r2c26_inte.xtc', 'PROJ12463traj/r7c73_inte.xtc', 'PROJ12463traj/r7c72_inte.xtc', 'PROJ12463traj/r1c86_inte.xtc', 'PROJ12463traj/r4c40_inte.xtc', 'PROJ12463traj/r0c28_inte.xtc', 'PROJ12463traj/r4c41_inte.xtc', 'PROJ12463traj/r1c87_inte.xtc', 'PROJ12463traj/r0c29_inte.xtc', 'PROJ12463traj/r5c35_inte.xtc', 'PROJ12463traj/r5c34_inte.xtc', 'PROJ12463traj/r0c61_inte.xtc', 'PROJ12463traj/r0c60_inte.xtc', 'PROJ12463traj/r3c52_inte.xtc', 'PROJ12463traj/r4c2_inte.xtc', 'PROJ12463traj/r6c94_inte.xtc', 'PROJ12463traj/r6c95_inte.xtc', 'PROJ12463traj/r4c3_inte.xtc', 'PROJ12463traj/r3c53_inte.xtc', 'PROJ12463traj/r6c71_inte.xtc', 'PROJ12463traj/r2c19_inte.xtc', 'PROJ12463traj/r6c70_inte.xtc', 'PROJ12463traj/r2c18_inte.xtc', 'PROJ12463traj/r0c84_inte.xtc', 'PROJ12463traj/r5c42_inte.xtc', 'PROJ12463traj/r5c43_inte.xtc', 'PROJ12463traj/r0c85_inte.xtc', 'PROJ12463traj/r0c16_inte.xtc', 'PROJ12463traj/r0c17_inte.xtc', 'PROJ12463traj/r3c25_inte.xtc', 'PROJ12463traj/r3c24_inte.xtc', 'PROJ12463traj/r1c63_inte.xtc', 'PROJ12463traj/r1c62_inte.xtc', 'PROJ12463traj/r2c50_inte.xtc', 'PROJ12463traj/r7c96_inte.xtc', 'PROJ12463traj/r6c38_inte.xtc', 'PROJ12463traj/r7c97_inte.xtc', 'PROJ12463traj/r2c51_inte.xtc', 'PROJ12463traj/r6c39_inte.xtc', 'PROJ12463traj/r2c6_inte.xtc', 'PROJ12463traj/r2c7_inte.xtc', 'PROJ12463traj/r5c99_inte.xtc', 'PROJ12463traj/r4c37_inte.xtc', 'PROJ12463traj/r5c98_inte.xtc', 'PROJ12463traj/r4c36_inte.xtc', 'PROJ12463traj/r6c52_inte.xtc', 'PROJ12463traj/r3c94_inte.xtc', 'PROJ12463traj/r3c95_inte.xtc', 'PROJ12463traj/r6c53_inte.xtc', 'PROJ12463traj/r5c61_inte.xtc', 'PROJ12463traj/r5c60_inte.xtc', 'PROJ12463traj/r1c2_inte.xtc', 'PROJ12463traj/r1c3_inte.xtc', 'PROJ12463traj/r0c35_inte.xtc', 'PROJ12463traj/r0c34_inte.xtc', 'PROJ12463traj/r5c28_inte.xtc', 'PROJ12463traj/r4c86_inte.xtc', 'PROJ12463traj/r1c40_inte.xtc', 'PROJ12463traj/r5c29_inte.xtc', 'PROJ12463traj/r1c41_inte.xtc', 'PROJ12463traj/r4c87_inte.xtc', 'PROJ12463traj/r2c73_inte.xtc', 'PROJ12463traj/r2c72_inte.xtc', 'PROJ12463traj/r6c89_inte.xtc', 'PROJ12463traj/r6c88_inte.xtc', 'PROJ12463traj/r4c14_inte.xtc', 'PROJ12463traj/r4c15_inte.xtc', 'PROJ12463traj/r1c37_inte.xtc', 'PROJ12463traj/r0c99_inte.xtc', 'PROJ12463traj/r1c36_inte.xtc', 'PROJ12463traj/r0c98_inte.xtc', 'PROJ12463traj/r3c38_inte.xtc', 'PROJ12463traj/r2c96_inte.xtc', 'PROJ12463traj/r3c39_inte.xtc', 'PROJ12463traj/r2c97_inte.xtc', 'PROJ12463traj/r4c63_inte.xtc', 'PROJ12463traj/r4c62_inte.xtc', 'PROJ12463traj/r6c25_inte.xtc', 'PROJ12463traj/r6c24_inte.xtc', 'PROJ12463traj/r5c16_inte.xtc', 'PROJ12463traj/r5c17_inte.xtc', 'PROJ12463traj/r5c84_inte.xtc', 'PROJ12463traj/r0c42_inte.xtc', 'PROJ12463traj/r0c43_inte.xtc', 'PROJ12463traj/r5c85_inte.xtc', 'PROJ12463traj/r3c71_inte.xtc', 'PROJ12463traj/r3c70_inte.xtc', 'PROJ12463traj/r0c76_inte.xtc', 'PROJ12463traj/r0c77_inte.xtc', 'PROJ12463traj/r3c45_inte.xtc', 'PROJ12463traj/r6c83_inte.xtc', 'PROJ12463traj/r6c82_inte.xtc', 'PROJ12463traj/r3c44_inte.xtc', 'PROJ12463traj/r2c79_inte.xtc', 'PROJ12463traj/r6c11_inte.xtc', 'PROJ12463traj/r2c78_inte.xtc', 'PROJ12463traj/r6c10_inte.xtc', 'PROJ12463traj/r5c22_inte.xtc', 'PROJ12463traj/r5c23_inte.xtc', 'PROJ12463traj/r7c64_inte.xtc', 'PROJ12463traj/r7c65_inte.xtc', 'PROJ12463traj/r1c8_inte.xtc', 'PROJ12463traj/r1c9_inte.xtc', 'PROJ12463traj/r1c91_inte.xtc', 'PROJ12463traj/r4c57_inte.xtc', 'PROJ12463traj/r4c56_inte.xtc', 'PROJ12463traj/r1c90_inte.xtc', 'PROJ12463traj/r0c0_inte.xtc', 'PROJ12463traj/r0c1_inte.xtc', 'PROJ12463traj/r6c58_inte.xtc', 'PROJ12463traj/r2c30_inte.xtc', 'PROJ12463traj/r6c59_inte.xtc', 'PROJ12463traj/r2c31_inte.xtc', 'PROJ12463traj/r0c48_inte.xtc', 'PROJ12463traj/r4c20_inte.xtc', 'PROJ12463traj/r0c49_inte.xtc', 'PROJ12463traj/r4c21_inte.xtc', 'PROJ12463traj/r1c74_inte.xtc', 'PROJ12463traj/r1c75_inte.xtc', 'PROJ12463traj/r2c47_inte.xtc', 'PROJ12463traj/r7c81_inte.xtc', 'PROJ12463traj/r7c80_inte.xtc', 'PROJ12463traj/r2c46_inte.xtc', 'PROJ12463traj/r4c69_inte.xtc', 'PROJ12463traj/r4c68_inte.xtc', 'PROJ12463traj/r6c4_inte.xtc', 'PROJ12463traj/r3c32_inte.xtc', 'PROJ12463traj/r3c33_inte.xtc', 'PROJ12463traj/r6c5_inte.xtc', 'PROJ12463traj/r6c66_inte.xtc', 'PROJ12463traj/r6c67_inte.xtc', 'PROJ12463traj/r0c93_inte.xtc', 'PROJ12463traj/r5c55_inte.xtc', 'PROJ12463traj/r5c54_inte.xtc', 'PROJ12463traj/r0c92_inte.xtc', 'PROJ12463traj/r4c44_inte.xtc', 'PROJ12463traj/r1c82_inte.xtc', 'PROJ12463traj/r1c83_inte.xtc', 'PROJ12463traj/r4c45_inte.xtc', 'PROJ12463traj/r7c77_inte.xtc', 'PROJ12463traj/r7c76_inte.xtc', 'PROJ12463traj/r2c23_inte.xtc', 'PROJ12463traj/r2c22_inte.xtc', 'PROJ12463traj/r5c78_inte.xtc', 'PROJ12463traj/r1c10_inte.xtc', 'PROJ12463traj/r5c79_inte.xtc', 'PROJ12463traj/r1c11_inte.xtc', 'PROJ12463traj/r6c90_inte.xtc', 'PROJ12463traj/r4c6_inte.xtc', 'PROJ12463traj/r3c56_inte.xtc', 'PROJ12463traj/r3c57_inte.xtc', 'PROJ12463traj/r4c7_inte.xtc', 'PROJ12463traj/r6c91_inte.xtc', 'PROJ12463traj/r0c65_inte.xtc', 'PROJ12463traj/r0c64_inte.xtc', 'PROJ12463traj/r1c59_inte.xtc', 'PROJ12463traj/r5c31_inte.xtc', 'PROJ12463traj/r1c58_inte.xtc', 'PROJ12463traj/r5c30_inte.xtc', 'PROJ12463traj/r3c21_inte.xtc', 'PROJ12463traj/r3c20_inte.xtc', 'PROJ12463traj/r0c12_inte.xtc', 'PROJ12463traj/r0c13_inte.xtc', 'PROJ12463traj/r5c46_inte.xtc', 'PROJ12463traj/r0c80_inte.xtc', 'PROJ12463traj/r0c81_inte.xtc', 'PROJ12463traj/r5c47_inte.xtc', 'PROJ12463traj/r6c75_inte.xtc', 'PROJ12463traj/r6c74_inte.xtc', 'PROJ12463traj/r4c33_inte.xtc', 'PROJ12463traj/r4c32_inte.xtc', 'PROJ12463traj/r3c68_inte.xtc', 'PROJ12463traj/r3c69_inte.xtc', 'PROJ12463traj/r7c92_inte.xtc', 'PROJ12463traj/r2c54_inte.xtc', 'PROJ12463traj/r2c55_inte.xtc', 'PROJ12463traj/r7c93_inte.xtc', 'PROJ12463traj/r2c2_inte.xtc', 'PROJ12463traj/r2c3_inte.xtc', 'PROJ12463traj/r1c67_inte.xtc', 'PROJ12463traj/r1c66_inte.xtc', 'PROJ12463traj/r2c60_inte.xtc', 'PROJ12463traj/r2c61_inte.xtc', 'PROJ12463traj/r1c53_inte.xtc', 'PROJ12463traj/r4c95_inte.xtc', 'PROJ12463traj/r5c4_inte.xtc', 'PROJ12463traj/r5c5_inte.xtc', 'PROJ12463traj/r4c94_inte.xtc', 'PROJ12463traj/r1c52_inte.xtc', 'PROJ12463traj/r5c72_inte.xtc', 'PROJ12463traj/r5c73_inte.xtc', 'PROJ12463traj/r2c29_inte.xtc', 'PROJ12463traj/r3c87_inte.xtc', 'PROJ12463traj/r6c41_inte.xtc', 'PROJ12463traj/r2c28_inte.xtc', 'PROJ12463traj/r6c40_inte.xtc', 'PROJ12463traj/r3c86_inte.xtc', 'PROJ12463traj/r3c15_inte.xtc', 'PROJ12463traj/r3c14_inte.xtc', 'PROJ12463traj/r0c26_inte.xtc', 'PROJ12463traj/r1c88_inte.xtc', 'PROJ12463traj/r0c27_inte.xtc', 'PROJ12463traj/r1c89_inte.xtc', 'PROJ12463traj/r6c36_inte.xtc', 'PROJ12463traj/r7c98_inte.xtc', 'PROJ12463traj/r6c37_inte.xtc', 'PROJ12463traj/r7c99_inte.xtc', 'PROJ12463traj/r2c8_inte.xtc', 'PROJ12463traj/r2c9_inte.xtc', 'PROJ12463traj/r3c62_inte.xtc', 'PROJ12463traj/r3c63_inte.xtc', 'PROJ12463traj/r4c39_inte.xtc', 'PROJ12463traj/r0c51_inte.xtc', 'PROJ12463traj/r5c97_inte.xtc', 'PROJ12463traj/r4c38_inte.xtc', 'PROJ12463traj/r5c96_inte.xtc', 'PROJ12463traj/r0c50_inte.xtc', 'PROJ12463traj/r3c0_inte.xtc', 'PROJ12463traj/r3c1_inte.xtc', 'PROJ12463traj/r2c17_inte.xtc', 'PROJ12463traj/r2c16_inte.xtc', 'PROJ12463traj/r1c24_inte.xtc', 'PROJ12463traj/r1c25_inte.xtc', 'PROJ12463traj/r0c18_inte.xtc', 'PROJ12463traj/r4c70_inte.xtc', 'PROJ12463traj/r0c19_inte.xtc', 'PROJ12463traj/r4c71_inte.xtc', 'PROJ12463traj/r2c85_inte.xtc', 'PROJ12463traj/r2c84_inte.xtc', 'PROJ12463traj/r4c88_inte.xtc', 'PROJ12463traj/r5c26_inte.xtc', 'PROJ12463traj/r4c89_inte.xtc', 'PROJ12463traj/r5c27_inte.xtc', 'PROJ12463traj/r6c15_inte.xtc', 'PROJ12463traj/r6c14_inte.xtc', 'PROJ12463traj/r6c87_inte.xtc', 'PROJ12463traj/r3c41_inte.xtc', 'PROJ12463traj/r3c40_inte.xtc', 'PROJ12463traj/r6c86_inte.xtc', 'PROJ12463traj/r0c72_inte.xtc', 'PROJ12463traj/r0c73_inte.xtc', 'PROJ12463traj/r0c4_inte.xtc', 'PROJ12463traj/r0c5_inte.xtc', 'PROJ12463traj/r2c34_inte.xtc', 'PROJ12463traj/r2c35_inte.xtc', 'PROJ12463traj/r4c53_inte.xtc', 'PROJ12463traj/r1c95_inte.xtc', 'PROJ12463traj/r1c94_inte.xtc', 'PROJ12463traj/r4c52_inte.xtc', 'PROJ12463traj/r7c60_inte.xtc', 'PROJ12463traj/r7c61_inte.xtc', 'PROJ12463traj/r7c85_inte.xtc', 'PROJ12463traj/r2c43_inte.xtc', 'PROJ12463traj/r2c42_inte.xtc', 'PROJ12463traj/r7c84_inte.xtc', 'PROJ12463traj/r1c70_inte.xtc', 'PROJ12463traj/r5c18_inte.xtc', 'PROJ12463traj/r1c71_inte.xtc', 'PROJ12463traj/r5c19_inte.xtc', 'PROJ12463traj/r4c24_inte.xtc', 'PROJ12463traj/r4c25_inte.xtc', 'PROJ12463traj/r5c51_inte.xtc', 'PROJ12463traj/r0c97_inte.xtc', 'PROJ12463traj/r1c39_inte.xtc', 'PROJ12463traj/r0c96_inte.xtc', 'PROJ12463traj/r5c50_inte.xtc', 'PROJ12463traj/r1c38_inte.xtc', 'PROJ12463traj/r6c62_inte.xtc', 'PROJ12463traj/r6c63_inte.xtc', 'PROJ12463traj/r2c98_inte.xtc', 'PROJ12463traj/r3c36_inte.xtc', 'PROJ12463traj/r6c0_inte.xtc', 'PROJ12463traj/r2c99_inte.xtc', 'PROJ12463traj/r6c1_inte.xtc', 'PROJ12463traj/r3c37_inte.xtc', 'PROJ12463traj/r1c6_inte.xtc', 'PROJ12463traj/r1c7_inte.xtc', 'PROJ12463traj/r0c31_inte.xtc', 'PROJ12463traj/r4c59_inte.xtc', 'PROJ12463traj/r0c30_inte.xtc', 'PROJ12463traj/r4c58_inte.xtc', 'PROJ12463traj/r5c65_inte.xtc', 'PROJ12463traj/r5c64_inte.xtc', 'PROJ12463traj/r3c90_inte.xtc', 'PROJ12463traj/r6c56_inte.xtc', 'PROJ12463traj/r6c57_inte.xtc', 'PROJ12463traj/r3c91_inte.xtc', 'PROJ12463traj/r4c10_inte.xtc', 'PROJ12463traj/r0c78_inte.xtc', 'PROJ12463traj/r4c11_inte.xtc', 'PROJ12463traj/r0c79_inte.xtc', 'PROJ12463traj/r2c77_inte.xtc', 'PROJ12463traj/r2c76_inte.xtc', 'PROJ12463traj/r1c44_inte.xtc', 'PROJ12463traj/r4c82_inte.xtc', 'PROJ12463traj/r4c83_inte.xtc', 'PROJ12463traj/r1c45_inte.xtc', 'PROJ12463traj/r4c67_inte.xtc', 'PROJ12463traj/r4c66_inte.xtc', 'PROJ12463traj/r2c92_inte.xtc', 'PROJ12463traj/r2c93_inte.xtc', 'PROJ12463traj/r6c68_inte.xtc', 'PROJ12463traj/r6c69_inte.xtc', 'PROJ12463traj/r1c33_inte.xtc', 'PROJ12463traj/r1c32_inte.xtc', 'PROJ12463traj/r3c75_inte.xtc', 'PROJ12463traj/r3c74_inte.xtc', 'PROJ12463traj/r0c46_inte.xtc', 'PROJ12463traj/r5c80_inte.xtc', 'PROJ12463traj/r5c81_inte.xtc', 'PROJ12463traj/r0c47_inte.xtc', 'PROJ12463traj/r5c12_inte.xtc', 'PROJ12463traj/r5c13_inte.xtc', 'PROJ12463traj/r6c21_inte.xtc', 'PROJ12463traj/r2c49_inte.xtc', 'PROJ12463traj/r6c20_inte.xtc', 'PROJ12463traj/r2c48_inte.xtc', 'PROJ12463traj/r3c46_inte.xtc', 'PROJ12463traj/r6c80_inte.xtc', 'PROJ12463traj/r6c81_inte.xtc', 'PROJ12463traj/r3c47_inte.xtc', 'PROJ12463traj/r0c75_inte.xtc', 'PROJ12463traj/r0c74_inte.xtc', 'PROJ12463traj/r1c49_inte.xtc', 'PROJ12463traj/r5c21_inte.xtc', 'PROJ12463traj/r1c48_inte.xtc', 'PROJ12463traj/r5c20_inte.xtc', 'PROJ12463traj/r6c12_inte.xtc', 'PROJ12463traj/r6c13_inte.xtc', 'PROJ12463traj/r1c92_inte.xtc', 'PROJ12463traj/r4c54_inte.xtc', 'PROJ12463traj/r4c55_inte.xtc', 'PROJ12463traj/r1c93_inte.xtc', 'PROJ12463traj/r7c67_inte.xtc', 'PROJ12463traj/r7c66_inte.xtc', 'PROJ12463traj/r0c3_inte.xtc', 'PROJ12463traj/r0c2_inte.xtc', 'PROJ12463traj/r2c33_inte.xtc', 'PROJ12463traj/r2c32_inte.xtc', 'PROJ12463traj/r5c68_inte.xtc', 'PROJ12463traj/r5c69_inte.xtc', 'PROJ12463traj/r4c23_inte.xtc', 'PROJ12463traj/r4c22_inte.xtc', 'PROJ12463traj/r3c78_inte.xtc', 'PROJ12463traj/r3c79_inte.xtc', 'PROJ12463traj/r2c44_inte.xtc', 'PROJ12463traj/r7c82_inte.xtc', 'PROJ12463traj/r7c83_inte.xtc', 'PROJ12463traj/r2c45_inte.xtc', 'PROJ12463traj/r1c77_inte.xtc', 'PROJ12463traj/r1c76_inte.xtc', 'PROJ12463traj/r7c59_inte.xtc', 'PROJ12463traj/r6c7_inte.xtc', 'PROJ12463traj/r3c31_inte.xtc', 'PROJ12463traj/r7c58_inte.xtc', 'PROJ12463traj/r3c30_inte.xtc', 'PROJ12463traj/r6c6_inte.xtc', 'PROJ12463traj/r0c90_inte.xtc', 'PROJ12463traj/r5c56_inte.xtc', 'PROJ12463traj/r5c57_inte.xtc', 'PROJ12463traj/r0c91_inte.xtc', 'PROJ12463traj/r6c65_inte.xtc', 'PROJ12463traj/r6c64_inte.xtc', 'PROJ12463traj/r5c62_inte.xtc', 'PROJ12463traj/r5c63_inte.xtc', 'PROJ12463traj/r0c9_inte.xtc', 'PROJ12463traj/r0c8_inte.xtc', 'PROJ12463traj/r2c39_inte.xtc', 'PROJ12463traj/r6c51_inte.xtc', 'PROJ12463traj/r3c97_inte.xtc', 'PROJ12463traj/r2c38_inte.xtc', 'PROJ12463traj/r3c96_inte.xtc', 'PROJ12463traj/r6c50_inte.xtc', 'PROJ12463traj/r1c1_inte.xtc', 'PROJ12463traj/r1c0_inte.xtc', 'PROJ12463traj/r0c36_inte.xtc', 'PROJ12463traj/r1c98_inte.xtc', 'PROJ12463traj/r0c37_inte.xtc', 'PROJ12463traj/r1c99_inte.xtc', 'PROJ12463traj/r6c18_inte.xtc', 'PROJ12463traj/r2c70_inte.xtc', 'PROJ12463traj/r6c19_inte.xtc', 'PROJ12463traj/r2c71_inte.xtc', 'PROJ12463traj/r4c85_inte.xtc', 'PROJ12463traj/r1c43_inte.xtc', 'PROJ12463traj/r1c42_inte.xtc', 'PROJ12463traj/r4c84_inte.xtc', 'PROJ12463traj/r4c17_inte.xtc', 'PROJ12463traj/r4c16_inte.xtc', 'PROJ12463traj/r1c34_inte.xtc', 'PROJ12463traj/r1c35_inte.xtc', 'PROJ12463traj/r4c60_inte.xtc', 'PROJ12463traj/r4c61_inte.xtc', 'PROJ12463traj/r2c95_inte.xtc', 'PROJ12463traj/r2c94_inte.xtc', 'PROJ12463traj/r5c15_inte.xtc', 'PROJ12463traj/r5c14_inte.xtc', 'PROJ12463traj/r6c26_inte.xtc', 'PROJ12463traj/r7c88_inte.xtc', 'PROJ12463traj/r6c27_inte.xtc', 'PROJ12463traj/r7c89_inte.xtc', 'PROJ12463traj/r3c72_inte.xtc', 'PROJ12463traj/r3c73_inte.xtc', 'PROJ12463traj/r4c29_inte.xtc', 'PROJ12463traj/r5c87_inte.xtc', 'PROJ12463traj/r0c41_inte.xtc', 'PROJ12463traj/r4c28_inte.xtc', 'PROJ12463traj/r0c40_inte.xtc', 'PROJ12463traj/r5c86_inte.xtc', 'PROJ12463traj/r2c24_inte.xtc', 'PROJ12463traj/r2c25_inte.xtc', 'PROJ12463traj/r1c17_inte.xtc', 'PROJ12463traj/r1c16_inte.xtc', 'PROJ12463traj/r1c85_inte.xtc', 'PROJ12463traj/r4c43_inte.xtc', 'PROJ12463traj/r4c42_inte.xtc', 'PROJ12463traj/r1c84_inte.xtc', 'PROJ12463traj/r7c70_inte.xtc', 'PROJ12463traj/r3c18_inte.xtc', 'PROJ12463traj/r7c71_inte.xtc', 'PROJ12463traj/r3c19_inte.xtc', 'PROJ12463traj/r5c9_inte.xtc', 'PROJ12463traj/r4c98_inte.xtc', 'PROJ12463traj/r5c36_inte.xtc', 'PROJ12463traj/r4c99_inte.xtc', 'PROJ12463traj/r5c8_inte.xtc', 'PROJ12463traj/r5c37_inte.xtc', 'PROJ12463traj/r4c1_inte.xtc', 'PROJ12463traj/r3c51_inte.xtc', 'PROJ12463traj/r6c97_inte.xtc', 'PROJ12463traj/r6c96_inte.xtc', 'PROJ12463traj/r3c50_inte.xtc', 'PROJ12463traj/r4c0_inte.xtc', 'PROJ12463traj/r0c62_inte.xtc', 'PROJ12463traj/r0c63_inte.xtc', 'PROJ12463traj/r0c87_inte.xtc', 'PROJ12463traj/r5c41_inte.xtc', 'PROJ12463traj/r1c29_inte.xtc', 'PROJ12463traj/r5c40_inte.xtc', 'PROJ12463traj/r0c86_inte.xtc', 'PROJ12463traj/r1c28_inte.xtc', 'PROJ12463traj/r6c72_inte.xtc', 'PROJ12463traj/r6c73_inte.xtc', 'PROJ12463traj/r2c88_inte.xtc', 'PROJ12463traj/r3c26_inte.xtc', 'PROJ12463traj/r2c89_inte.xtc', 'PROJ12463traj/r3c27_inte.xtc', 'PROJ12463traj/r0c15_inte.xtc', 'PROJ12463traj/r0c14_inte.xtc', 'PROJ12463traj/r2c53_inte.xtc', 'PROJ12463traj/r7c95_inte.xtc', 'PROJ12463traj/r7c94_inte.xtc', 'PROJ12463traj/r2c52_inte.xtc', 'PROJ12463traj/r2c5_inte.xtc', 'PROJ12463traj/r2c4_inte.xtc', 'PROJ12463traj/r1c60_inte.xtc', 'PROJ12463traj/r1c61_inte.xtc', 'PROJ12463traj/r4c34_inte.xtc', 'PROJ12463traj/r4c35_inte.xtc', 'PROJ12463traj/r0c68_inte.xtc', 'PROJ12463traj/r0c69_inte.xtc', 'PROJ12463traj/r2c67_inte.xtc', 'PROJ12463traj/r2c66_inte.xtc', 'PROJ12463traj/r4c92_inte.xtc', 'PROJ12463traj/r5c3_inte.xtc', 'PROJ12463traj/r1c54_inte.xtc', 'PROJ12463traj/r1c55_inte.xtc', 'PROJ12463traj/r5c2_inte.xtc', 'PROJ12463traj/r4c93_inte.xtc', 'PROJ12463traj/r3c12_inte.xtc', 'PROJ12463traj/r3c13_inte.xtc', 'PROJ12463traj/r0c21_inte.xtc', 'PROJ12463traj/r4c49_inte.xtc', 'PROJ12463traj/r0c20_inte.xtc', 'PROJ12463traj/r4c48_inte.xtc', 'PROJ12463traj/r5c75_inte.xtc', 'PROJ12463traj/r5c74_inte.xtc', 'PROJ12463traj/r6c46_inte.xtc', 'PROJ12463traj/r3c80_inte.xtc', 'PROJ12463traj/r3c81_inte.xtc', 'PROJ12463traj/r6c47_inte.xtc', 'PROJ12463traj/r3c65_inte.xtc', 'PROJ12463traj/r3c64_inte.xtc', 'PROJ12463traj/r5c90_inte.xtc', 'PROJ12463traj/r0c56_inte.xtc', 'PROJ12463traj/r0c57_inte.xtc', 'PROJ12463traj/r5c91_inte.xtc', 'PROJ12463traj/r3c7_inte.xtc', 'PROJ12463traj/r3c6_inte.xtc', 'PROJ12463traj/r6c31_inte.xtc', 'PROJ12463traj/r2c59_inte.xtc', 'PROJ12463traj/r6c30_inte.xtc', 'PROJ12463traj/r2c58_inte.xtc', 'PROJ12463traj/r4c77_inte.xtc', 'PROJ12463traj/r4c76_inte.xtc', 'PROJ12463traj/r2c82_inte.xtc', 'PROJ12463traj/r2c83_inte.xtc', 'PROJ12463traj/r2c10_inte.xtc', 'PROJ12463traj/r6c78_inte.xtc', 'PROJ12463traj/r2c11_inte.xtc', 'PROJ12463traj/r6c79_inte.xtc', 'PROJ12463traj/r1c23_inte.xtc', 'PROJ12463traj/r1c22_inte.xtc']\n"
     ]
    }
   ],
   "source": [
    "peptoid_gro = 'single_peptoid.gro'\n",
    "traj_dir = 'PROJ12463traj'\n",
    "\n",
    "file_pattern = f\"{traj_dir}/r*c*_inte.xtc\"\n",
    "files = glob.glob(file_pattern)\n",
    "print(files)\n",
    "feat = pyemma.coordinates.featurizer(peptoid_gro)"
   ]
  },
  {
   "cell_type": "code",
   "execution_count": 9,
   "metadata": {},
   "outputs": [],
   "source": [
    "## Select feature \n",
    "CA_CA = feat.select(f'name == CA')\n",
    "\n",
    "omega_atoms = [\n",
    "    [6, 7, 18, 36],\n",
    "    [36, 39, 41, 45],\n",
    "    [45, 46, 57, 75]\n",
    "]\n",
    "# Convert to numpy array, subtract 1, and convert back to list (if required)\n",
    "omega_atoms = np.array(omega_atoms) - 1\n",
    "omega_atoms = omega_atoms.tolist()  \n",
    "\n",
    "\n",
    "noe_atoms = [\n",
    "    [16, 20],\n",
    "    [16, 21],\n",
    "    [17, 20],\n",
    "    [17, 21],\n",
    "    [37, 55],\n",
    "    [37, 56],\n",
    "    [38, 55],\n",
    "    [38, 56]\n",
    "]\n",
    "\n",
    "# Convert to numpy array, subtract 1, and convert back to list (if required)\n",
    "noe_atoms = np.array(noe_atoms) - 1\n",
    "noe_atoms = noe_atoms.tolist()  "
   ]
  },
  {
   "cell_type": "code",
   "execution_count": 10,
   "metadata": {},
   "outputs": [
    {
     "name": "stdout",
     "output_type": "stream",
     "text": [
      "Features save at: omega_data/features.npy\n",
      "1 DIH: Q03 2 CA 5 - Q03 2 C 6 - R07 3 N 17 - R07 3 CA 35 \n",
      "2 DIH: R07 3 CA 35 - R07 3 C 38 - Q03 4 N 40 - Q03 4 CA 44 \n",
      "3 DIH: Q03 4 CA 44 - Q03 4 C 45 - R07 5 N 56 - R07 5 CA 74 \n"
     ]
    }
   ],
   "source": [
    "save_dir = 'omega_data'\n",
    "feat.add_dihedrals(omega_atoms,deg=True) # Select the backbone omega angles \n",
    "np.save(f\"{save_dir}/features\", feat)\n",
    "print(f\"Features save at: {save_dir}/features.npy\")\n",
    "\n",
    "all_features = feat.describe()  # `describe()` should list all feature descriptions\n",
    "for i, feature in enumerate(all_features):\n",
    "    print(i+1, feature)"
   ]
  },
  {
   "cell_type": "code",
   "execution_count": 11,
   "metadata": {},
   "outputs": [
    {
     "name": "stderr",
     "output_type": "stream",
     "text": [
      "100%|██████████| 742/742 [03:18<00:00,  3.74it/s]                     \n",
      "100%|██████████| 742/742 [08:28<00:00,  1.46it/s]                                 \n"
     ]
    },
    {
     "name": "stdout",
     "output_type": "stream",
     "text": [
      "type of data: <class 'list'>\n",
      "lengths: 742\n",
      "shape of elements: (80085, 3)\n",
      "n_atoms: 82\n"
     ]
    }
   ],
   "source": [
    "data = coor.load(files, features=feat)\n",
    "print('type of data:', type(data))\n",
    "print('lengths:', len(data))\n",
    "print('shape of elements:', data[0].shape)\n",
    "print('n_atoms:', feat.topology.n_atoms)"
   ]
  },
  {
   "cell_type": "code",
   "execution_count": 12,
   "metadata": {},
   "outputs": [
    {
     "name": "stdout",
     "output_type": "stream",
     "text": [
      "Data save at: omega_data/data.pkl\n"
     ]
    }
   ],
   "source": [
    "save_dir = 'omega_data'\n",
    "data_object = Data(data)\n",
    "data_object.save(f\"{save_dir}/data.pkl\")\n",
    "print(f\"Data save at: {save_dir}/data.pkl\")"
   ]
  },
  {
   "cell_type": "markdown",
   "metadata": {},
   "source": [
    "## Combine the omega into one large traj, and plot them"
   ]
  },
  {
   "cell_type": "code",
   "execution_count": 2,
   "metadata": {},
   "outputs": [],
   "source": [
    "class Data:\n",
    "    def __init__(self, array_list):\n",
    "        self.array_list = array_list\n",
    "\n",
    "    def save(self, filename):\n",
    "        with open(filename, 'wb') as f:\n",
    "            pickle.dump(self.array_list, f)\n",
    "\n",
    "    @classmethod\n",
    "    def load(cls, filename):\n",
    "        with open(filename, 'rb') as f:\n",
    "            array_list = pickle.load(f)\n",
    "        return cls(array_list)"
   ]
  },
  {
   "cell_type": "code",
   "execution_count": 3,
   "metadata": {},
   "outputs": [
    {
     "name": "stdout",
     "output_type": "stream",
     "text": [
      "The shape of combined_omega is (49053457, 3)\n",
      "[[186.34894     8.187271  158.7122   ]\n",
      " [149.942      -5.4726562 180.65887  ]\n",
      " [162.98587     2.9294662 189.42859  ]\n",
      " [156.76376   -25.824036  160.43533  ]\n",
      " [173.60818   -13.742081  199.69666  ]]\n"
     ]
    }
   ],
   "source": [
    "save_dir = 'omega_data'\n",
    "omega=Data.load(f\"{save_dir}/data.pkl\").array_list # This is an (716, x, 3) array\n",
    "combined_omega = np.vstack(omega)\n",
    "combined_omega = (combined_omega + 90.0) % 360.0 - 90.0 # Adjust omega values into the range (-90, 270)\n",
    "\n",
    "print(f\"The shape of combined_omega is {combined_omega.shape}\")\n",
    "print(combined_omega[:5])"
   ]
  },
  {
   "cell_type": "code",
   "execution_count": 4,
   "metadata": {},
   "outputs": [
    {
     "name": "stdout",
     "output_type": "stream",
     "text": [
      "[149.942      -5.4726562 180.65887  ]\n"
     ]
    }
   ],
   "source": [
    "nsnaps = combined_omega[1]\n",
    "print(nsnaps)"
   ]
  },
  {
   "cell_type": "code",
   "execution_count": null,
   "metadata": {},
   "outputs": [],
   "source": [
    "start = 0\n",
    "nsnaps = combined_omega.shape[0]\n",
    "t = np.arange(start, nsnaps) * 0.01 # Time axis in ns\n",
    "step = 10000\n",
    "downsampled_omega = combined_omega[start:nsnaps:step, :]  # Downsampled omega data\n",
    "\n",
    "residues_to_plot = [0, 1, 2]\n",
    "num_residues = len(residues_to_plot)\n",
    "\n",
    "# Set default font sizes globally\n",
    "plt.rc('font', size=16)         # controls default text sizes\n",
    "plt.rc('axes', titlesize=18)    # fontsize of the axes title\n",
    "plt.rc('axes', labelsize=16)    # fontsize of the x and y labels\n",
    "plt.rc('xtick', labelsize=14)   # fontsize of the tick labels\n",
    "plt.rc('ytick', labelsize=14)   # fontsize of the tick labels\n",
    "plt.rc('legend', fontsize=18)   # legend fontsize\n",
    "\n",
    "plt.figure(figsize=(10, 18))\n",
    "for panel, residue in enumerate(residues_to_plot, 1):\n",
    "    plt.subplot(num_residues, 1, panel)\n",
    "    plt.plot(t, combined_omega[start:nsnaps, residue], '.', ms=0.5, color='red')\n",
    "    plt.xlabel('time (ns)')\n",
    "    plt.ylabel(f'$\\\\omega$ {residue}°')\n",
    "    plt.title(f'Omega angles vs Time for Plain MD in 19AE1-4-A')\n",
    "\n",
    "plt.tight_layout()\n",
    "\n",
    "# Ensure the directory exists\n",
    "outfilename = f'omega_data/Omega_angles_vs_Time_Plain_MD_in_19AE1-4-A.png'\n",
    "plt.savefig(outfilename, transparent=True, dpi=600)\n",
    "print(f\"Saved at: {outfilename}\")\n",
    "#plt.show()"
   ]
  },
  {
   "cell_type": "markdown",
   "metadata": {},
   "source": [
    "## Clustering"
   ]
  },
  {
   "cell_type": "code",
   "execution_count": 5,
   "metadata": {},
   "outputs": [],
   "source": [
    "regularspace_estimator = RegularSpace(\n",
    "    dmin=170,        # minimum distance between cluster centers, 180 degree\n",
    "    max_centers=8,   # maximum number of cluster centers\n",
    "    n_jobs=8,\n",
    ")"
   ]
  },
  {
   "cell_type": "code",
   "execution_count": 6,
   "metadata": {},
   "outputs": [
    {
     "name": "stdout",
     "output_type": "stream",
     "text": [
      "[[186.34894     8.187271  158.7122   ]\n",
      " [-32.18568    -6.301346  181.85834  ]\n",
      " [ -5.1141434  17.413452  -26.175514 ]\n",
      " [196.90045   -39.36172   -14.8786545]\n",
      " [185.08801   182.7413    184.36853  ]\n",
      " [-61.47925   195.46259   192.48914  ]\n",
      " [166.84967   180.02225    -0.6526947]\n",
      " [-84.398125  180.83795    -0.689682 ]]\n",
      "Number of cluster centers: 8\n"
     ]
    }
   ],
   "source": [
    "# Fit the omegas data into model \n",
    "clustering = regularspace_estimator.fit(combined_omega).fetch_model()\n",
    "assignments = clustering.transform(combined_omega)\n",
    "\n",
    "print(clustering.cluster_centers)\n",
    "print(f\"Number of cluster centers: {len(clustering.cluster_centers)}\")"
   ]
  },
  {
   "cell_type": "code",
   "execution_count": 11,
   "metadata": {},
   "outputs": [
    {
     "name": "stdout",
     "output_type": "stream",
     "text": [
      "Cluster 0: [186.34894    8.187271 158.7122  ] → ['trans' 'cis' 'trans']\n",
      "Cluster 1: [-32.18568   -6.301346 181.85834 ] → ['cis' 'cis' 'trans']\n",
      "Cluster 2: [ -5.1141434  17.413452  -26.175514 ] → ['cis' 'cis' 'cis']\n",
      "Cluster 3: [196.90045   -39.36172   -14.8786545] → ['trans' 'cis' 'cis']\n",
      "Cluster 4: [185.08801 182.7413  184.36853] → ['trans' 'trans' 'trans']\n",
      "Cluster 5: [-61.47925 195.46259 192.48914] → ['cis' 'trans' 'trans']\n",
      "Cluster 6: [166.84967   180.02225    -0.6526947] → ['trans' 'trans' 'cis']\n",
      "Cluster 7: [-84.398125 180.83795   -0.689682] → ['cis' 'trans' 'cis']\n"
     ]
    }
   ],
   "source": [
    "## Assign each cluster center into cistrans \n",
    "cluster_center = clustering.cluster_centers\n",
    "#print(cluster_center)\n",
    "\n",
    "# Convert each value to \"cis\" or \"trans\"\n",
    "cis_trans_labels = np.where(cluster_center < 90, \"cis\", \"trans\")\n",
    "\n",
    "# Print results\n",
    "for i, (center, labels) in enumerate(zip(cluster_center, cis_trans_labels)):\n",
    "    print(f\"Cluster {i}: {center} → {labels}\")\n"
   ]
  },
  {
   "cell_type": "code",
   "execution_count": 12,
   "metadata": {},
   "outputs": [
    {
     "name": "stdout",
     "output_type": "stream",
     "text": [
      "Assignment 0: 10585775, 21.58%\n",
      "Assignment 1: 3560556, 7.259%\n",
      "Assignment 2: 4587224, 9.351%\n",
      "Assignment 3: 8955984, 18.26%\n",
      "Assignment 4: 7292070, 14.87%\n",
      "Assignment 5: 3125676, 6.372%\n",
      "Assignment 6: 7681963, 15.66%\n",
      "Assignment 7: 3264209, 6.654%\n"
     ]
    }
   ],
   "source": [
    "# count the number of each cluter \n",
    "counts = Counter(assignments)\n",
    "#print(counts)\n",
    "\n",
    "# Sort the counts \n",
    "sorted_counts = dict(sorted(counts.items()))\n",
    "total_counts = sum(counts.values())\n",
    "cluster = []\n",
    "\n",
    "for label, frequency in sorted_counts.items():    \n",
    "    precentage = (frequency / total_counts) * 100 \n",
    "    cluster.append(precentage)\n",
    "    print(f\"Assignment {label}: {frequency}, {precentage:.4g}%\")\n",
    "\n",
    "outfile = 'clusters_probability.dat'\n",
    "np.savetxt(outfile, cluster)"
   ]
  },
  {
   "cell_type": "markdown",
   "metadata": {},
   "source": [
    "#### Plot the cluster "
   ]
  },
  {
   "cell_type": "code",
   "execution_count": null,
   "metadata": {},
   "outputs": [
    {
     "name": "stderr",
     "output_type": "stream",
     "text": [
      "/var/folders/2g/yfyfpy7d3n3fwl_23ytkftvm0000gn/T/ipykernel_23618/1469998254.py:52: UserWarning: Tight layout not applied. The left and right margins cannot be made large enough to accommodate all axes decorations. \n",
      "  plt.tight_layout()\n"
     ]
    },
    {
     "ename": "KeyboardInterrupt",
     "evalue": "",
     "output_type": "error",
     "traceback": [
      "\u001b[0;31m---------------------------------------------------------------------------\u001b[0m",
      "\u001b[0;31mKeyboardInterrupt\u001b[0m                         Traceback (most recent call last)",
      "Cell \u001b[0;32mIn[22], line 55\u001b[0m\n\u001b[1;32m     52\u001b[0m plt\u001b[38;5;241m.\u001b[39mtight_layout()\n\u001b[1;32m     54\u001b[0m fig\u001b[38;5;241m.\u001b[39msuptitle(\u001b[38;5;124m'\u001b[39m\u001b[38;5;124mCluster centers and assignments directly after K-mean++ Initialization of 19AE1-4-A\u001b[39m\u001b[38;5;124m'\u001b[39m)\n\u001b[0;32m---> 55\u001b[0m \u001b[43mfig\u001b[49m\u001b[38;5;241;43m.\u001b[39;49m\u001b[43msavefig\u001b[49m\u001b[43m(\u001b[49m\u001b[38;5;124;43m'\u001b[39;49m\u001b[38;5;124;43momega_data/cluster_centers_and_assignments.png\u001b[39;49m\u001b[38;5;124;43m'\u001b[39;49m\u001b[43m,\u001b[49m\u001b[43mtransparent\u001b[49m\u001b[38;5;241;43m=\u001b[39;49m\u001b[38;5;28;43;01mTrue\u001b[39;49;00m\u001b[43m,\u001b[49m\u001b[43m \u001b[49m\u001b[43mdpi\u001b[49m\u001b[38;5;241;43m=\u001b[39;49m\u001b[38;5;241;43m600\u001b[39;49m\u001b[43m,\u001b[49m\u001b[43m \u001b[49m\u001b[43mbbox_inches\u001b[49m\u001b[38;5;241;43m=\u001b[39;49m\u001b[38;5;124;43m'\u001b[39;49m\u001b[38;5;124;43mtight\u001b[39;49m\u001b[38;5;124;43m'\u001b[39;49m\u001b[43m)\u001b[49m\n\u001b[1;32m     56\u001b[0m plt\u001b[38;5;241m.\u001b[39mshow()\n",
      "File \u001b[0;32m~/anaconda3/envs/PeptoidFF/lib/python3.8/site-packages/matplotlib/figure.py:2203\u001b[0m, in \u001b[0;36mFigure.savefig\u001b[0;34m(self, fname, transparent, **kwargs)\u001b[0m\n\u001b[1;32m   2200\u001b[0m     original_frameon \u001b[38;5;241m=\u001b[39m \u001b[38;5;28mself\u001b[39m\u001b[38;5;241m.\u001b[39mpatch\u001b[38;5;241m.\u001b[39mget_visible()\n\u001b[1;32m   2201\u001b[0m     \u001b[38;5;28mself\u001b[39m\u001b[38;5;241m.\u001b[39mpatch\u001b[38;5;241m.\u001b[39mset_visible(frameon)\n\u001b[0;32m-> 2203\u001b[0m \u001b[38;5;28;43mself\u001b[39;49m\u001b[38;5;241;43m.\u001b[39;49m\u001b[43mcanvas\u001b[49m\u001b[38;5;241;43m.\u001b[39;49m\u001b[43mprint_figure\u001b[49m\u001b[43m(\u001b[49m\u001b[43mfname\u001b[49m\u001b[43m,\u001b[49m\u001b[43m \u001b[49m\u001b[38;5;241;43m*\u001b[39;49m\u001b[38;5;241;43m*\u001b[39;49m\u001b[43mkwargs\u001b[49m\u001b[43m)\u001b[49m\n\u001b[1;32m   2205\u001b[0m \u001b[38;5;28;01mif\u001b[39;00m frameon:\n\u001b[1;32m   2206\u001b[0m     \u001b[38;5;28mself\u001b[39m\u001b[38;5;241m.\u001b[39mpatch\u001b[38;5;241m.\u001b[39mset_visible(original_frameon)\n",
      "File \u001b[0;32m~/anaconda3/envs/PeptoidFF/lib/python3.8/site-packages/matplotlib/backend_bases.py:2119\u001b[0m, in \u001b[0;36mFigureCanvasBase.print_figure\u001b[0;34m(self, filename, dpi, facecolor, edgecolor, orientation, format, bbox_inches, **kwargs)\u001b[0m\n\u001b[1;32m   2116\u001b[0m     _bbox_inches_restore \u001b[38;5;241m=\u001b[39m \u001b[38;5;28;01mNone\u001b[39;00m\n\u001b[1;32m   2118\u001b[0m \u001b[38;5;28;01mtry\u001b[39;00m:\n\u001b[0;32m-> 2119\u001b[0m     result \u001b[38;5;241m=\u001b[39m \u001b[43mprint_method\u001b[49m\u001b[43m(\u001b[49m\n\u001b[1;32m   2120\u001b[0m \u001b[43m        \u001b[49m\u001b[43mfilename\u001b[49m\u001b[43m,\u001b[49m\n\u001b[1;32m   2121\u001b[0m \u001b[43m        \u001b[49m\u001b[43mdpi\u001b[49m\u001b[38;5;241;43m=\u001b[39;49m\u001b[43mdpi\u001b[49m\u001b[43m,\u001b[49m\n\u001b[1;32m   2122\u001b[0m \u001b[43m        \u001b[49m\u001b[43mfacecolor\u001b[49m\u001b[38;5;241;43m=\u001b[39;49m\u001b[43mfacecolor\u001b[49m\u001b[43m,\u001b[49m\n\u001b[1;32m   2123\u001b[0m \u001b[43m        \u001b[49m\u001b[43medgecolor\u001b[49m\u001b[38;5;241;43m=\u001b[39;49m\u001b[43medgecolor\u001b[49m\u001b[43m,\u001b[49m\n\u001b[1;32m   2124\u001b[0m \u001b[43m        \u001b[49m\u001b[43morientation\u001b[49m\u001b[38;5;241;43m=\u001b[39;49m\u001b[43morientation\u001b[49m\u001b[43m,\u001b[49m\n\u001b[1;32m   2125\u001b[0m \u001b[43m        \u001b[49m\u001b[43mbbox_inches_restore\u001b[49m\u001b[38;5;241;43m=\u001b[39;49m\u001b[43m_bbox_inches_restore\u001b[49m\u001b[43m,\u001b[49m\n\u001b[1;32m   2126\u001b[0m \u001b[43m        \u001b[49m\u001b[38;5;241;43m*\u001b[39;49m\u001b[38;5;241;43m*\u001b[39;49m\u001b[43mkwargs\u001b[49m\u001b[43m)\u001b[49m\n\u001b[1;32m   2127\u001b[0m \u001b[38;5;28;01mfinally\u001b[39;00m:\n\u001b[1;32m   2128\u001b[0m     \u001b[38;5;28;01mif\u001b[39;00m bbox_inches \u001b[38;5;129;01mand\u001b[39;00m restore_bbox:\n",
      "File \u001b[0;32m~/anaconda3/envs/PeptoidFF/lib/python3.8/site-packages/matplotlib/backends/backend_agg.py:514\u001b[0m, in \u001b[0;36mFigureCanvasAgg.print_png\u001b[0;34m(self, filename_or_obj, metadata, pil_kwargs, *args, **kwargs)\u001b[0m\n\u001b[1;32m    508\u001b[0m     metadata \u001b[38;5;241m=\u001b[39m {}\n\u001b[1;32m    509\u001b[0m default_metadata \u001b[38;5;241m=\u001b[39m {\n\u001b[1;32m    510\u001b[0m     \u001b[38;5;124m\"\u001b[39m\u001b[38;5;124mSoftware\u001b[39m\u001b[38;5;124m\"\u001b[39m:\n\u001b[1;32m    511\u001b[0m         \u001b[38;5;124mf\u001b[39m\u001b[38;5;124m\"\u001b[39m\u001b[38;5;124mmatplotlib version\u001b[39m\u001b[38;5;132;01m{\u001b[39;00m__version__\u001b[38;5;132;01m}\u001b[39;00m\u001b[38;5;124m, http://matplotlib.org/\u001b[39m\u001b[38;5;124m\"\u001b[39m,\n\u001b[1;32m    512\u001b[0m }\n\u001b[0;32m--> 514\u001b[0m \u001b[43mFigureCanvasAgg\u001b[49m\u001b[38;5;241;43m.\u001b[39;49m\u001b[43mdraw\u001b[49m\u001b[43m(\u001b[49m\u001b[38;5;28;43mself\u001b[39;49m\u001b[43m)\u001b[49m\n\u001b[1;32m    515\u001b[0m \u001b[38;5;28;01mif\u001b[39;00m pil_kwargs \u001b[38;5;129;01mis\u001b[39;00m \u001b[38;5;129;01mnot\u001b[39;00m \u001b[38;5;28;01mNone\u001b[39;00m:\n\u001b[1;32m    516\u001b[0m     \u001b[38;5;28;01mfrom\u001b[39;00m \u001b[38;5;21;01mPIL\u001b[39;00m \u001b[38;5;28;01mimport\u001b[39;00m Image\n",
      "File \u001b[0;32m~/anaconda3/envs/PeptoidFF/lib/python3.8/site-packages/matplotlib/backends/backend_agg.py:393\u001b[0m, in \u001b[0;36mFigureCanvasAgg.draw\u001b[0;34m(self)\u001b[0m\n\u001b[1;32m    389\u001b[0m \u001b[38;5;66;03m# Acquire a lock on the shared font cache.\u001b[39;00m\n\u001b[1;32m    390\u001b[0m \u001b[38;5;28;01mwith\u001b[39;00m RendererAgg\u001b[38;5;241m.\u001b[39mlock, \\\n\u001b[1;32m    391\u001b[0m      (\u001b[38;5;28mself\u001b[39m\u001b[38;5;241m.\u001b[39mtoolbar\u001b[38;5;241m.\u001b[39m_wait_cursor_for_draw_cm() \u001b[38;5;28;01mif\u001b[39;00m \u001b[38;5;28mself\u001b[39m\u001b[38;5;241m.\u001b[39mtoolbar\n\u001b[1;32m    392\u001b[0m       \u001b[38;5;28;01melse\u001b[39;00m nullcontext()):\n\u001b[0;32m--> 393\u001b[0m     \u001b[38;5;28;43mself\u001b[39;49m\u001b[38;5;241;43m.\u001b[39;49m\u001b[43mfigure\u001b[49m\u001b[38;5;241;43m.\u001b[39;49m\u001b[43mdraw\u001b[49m\u001b[43m(\u001b[49m\u001b[38;5;28;43mself\u001b[39;49m\u001b[38;5;241;43m.\u001b[39;49m\u001b[43mrenderer\u001b[49m\u001b[43m)\u001b[49m\n\u001b[1;32m    394\u001b[0m     \u001b[38;5;66;03m# A GUI class may be need to update a window using this draw, so\u001b[39;00m\n\u001b[1;32m    395\u001b[0m     \u001b[38;5;66;03m# don't forget to call the superclass.\u001b[39;00m\n\u001b[1;32m    396\u001b[0m     \u001b[38;5;28msuper\u001b[39m()\u001b[38;5;241m.\u001b[39mdraw()\n",
      "File \u001b[0;32m~/anaconda3/envs/PeptoidFF/lib/python3.8/site-packages/matplotlib/artist.py:38\u001b[0m, in \u001b[0;36mallow_rasterization.<locals>.draw_wrapper\u001b[0;34m(artist, renderer, *args, **kwargs)\u001b[0m\n\u001b[1;32m     35\u001b[0m     \u001b[38;5;28;01mif\u001b[39;00m artist\u001b[38;5;241m.\u001b[39mget_agg_filter() \u001b[38;5;129;01mis\u001b[39;00m \u001b[38;5;129;01mnot\u001b[39;00m \u001b[38;5;28;01mNone\u001b[39;00m:\n\u001b[1;32m     36\u001b[0m         renderer\u001b[38;5;241m.\u001b[39mstart_filter()\n\u001b[0;32m---> 38\u001b[0m     \u001b[38;5;28;01mreturn\u001b[39;00m \u001b[43mdraw\u001b[49m\u001b[43m(\u001b[49m\u001b[43martist\u001b[49m\u001b[43m,\u001b[49m\u001b[43m \u001b[49m\u001b[43mrenderer\u001b[49m\u001b[43m,\u001b[49m\u001b[43m \u001b[49m\u001b[38;5;241;43m*\u001b[39;49m\u001b[43margs\u001b[49m\u001b[43m,\u001b[49m\u001b[43m \u001b[49m\u001b[38;5;241;43m*\u001b[39;49m\u001b[38;5;241;43m*\u001b[39;49m\u001b[43mkwargs\u001b[49m\u001b[43m)\u001b[49m\n\u001b[1;32m     39\u001b[0m \u001b[38;5;28;01mfinally\u001b[39;00m:\n\u001b[1;32m     40\u001b[0m     \u001b[38;5;28;01mif\u001b[39;00m artist\u001b[38;5;241m.\u001b[39mget_agg_filter() \u001b[38;5;129;01mis\u001b[39;00m \u001b[38;5;129;01mnot\u001b[39;00m \u001b[38;5;28;01mNone\u001b[39;00m:\n",
      "File \u001b[0;32m~/anaconda3/envs/PeptoidFF/lib/python3.8/site-packages/matplotlib/figure.py:1735\u001b[0m, in \u001b[0;36mFigure.draw\u001b[0;34m(self, renderer)\u001b[0m\n\u001b[1;32m   1732\u001b[0m             \u001b[38;5;66;03m# ValueError can occur when resizing a window.\u001b[39;00m\n\u001b[1;32m   1734\u001b[0m     \u001b[38;5;28mself\u001b[39m\u001b[38;5;241m.\u001b[39mpatch\u001b[38;5;241m.\u001b[39mdraw(renderer)\n\u001b[0;32m-> 1735\u001b[0m     \u001b[43mmimage\u001b[49m\u001b[38;5;241;43m.\u001b[39;49m\u001b[43m_draw_list_compositing_images\u001b[49m\u001b[43m(\u001b[49m\n\u001b[1;32m   1736\u001b[0m \u001b[43m        \u001b[49m\u001b[43mrenderer\u001b[49m\u001b[43m,\u001b[49m\u001b[43m \u001b[49m\u001b[38;5;28;43mself\u001b[39;49m\u001b[43m,\u001b[49m\u001b[43m \u001b[49m\u001b[43martists\u001b[49m\u001b[43m,\u001b[49m\u001b[43m \u001b[49m\u001b[38;5;28;43mself\u001b[39;49m\u001b[38;5;241;43m.\u001b[39;49m\u001b[43msuppressComposite\u001b[49m\u001b[43m)\u001b[49m\n\u001b[1;32m   1738\u001b[0m     renderer\u001b[38;5;241m.\u001b[39mclose_group(\u001b[38;5;124m'\u001b[39m\u001b[38;5;124mfigure\u001b[39m\u001b[38;5;124m'\u001b[39m)\n\u001b[1;32m   1739\u001b[0m \u001b[38;5;28;01mfinally\u001b[39;00m:\n",
      "File \u001b[0;32m~/anaconda3/envs/PeptoidFF/lib/python3.8/site-packages/matplotlib/image.py:137\u001b[0m, in \u001b[0;36m_draw_list_compositing_images\u001b[0;34m(renderer, parent, artists, suppress_composite)\u001b[0m\n\u001b[1;32m    135\u001b[0m \u001b[38;5;28;01mif\u001b[39;00m not_composite \u001b[38;5;129;01mor\u001b[39;00m \u001b[38;5;129;01mnot\u001b[39;00m has_images:\n\u001b[1;32m    136\u001b[0m     \u001b[38;5;28;01mfor\u001b[39;00m a \u001b[38;5;129;01min\u001b[39;00m artists:\n\u001b[0;32m--> 137\u001b[0m         \u001b[43ma\u001b[49m\u001b[38;5;241;43m.\u001b[39;49m\u001b[43mdraw\u001b[49m\u001b[43m(\u001b[49m\u001b[43mrenderer\u001b[49m\u001b[43m)\u001b[49m\n\u001b[1;32m    138\u001b[0m \u001b[38;5;28;01melse\u001b[39;00m:\n\u001b[1;32m    139\u001b[0m     \u001b[38;5;66;03m# Composite any adjacent images together\u001b[39;00m\n\u001b[1;32m    140\u001b[0m     image_group \u001b[38;5;241m=\u001b[39m []\n",
      "File \u001b[0;32m~/anaconda3/envs/PeptoidFF/lib/python3.8/site-packages/matplotlib/artist.py:38\u001b[0m, in \u001b[0;36mallow_rasterization.<locals>.draw_wrapper\u001b[0;34m(artist, renderer, *args, **kwargs)\u001b[0m\n\u001b[1;32m     35\u001b[0m     \u001b[38;5;28;01mif\u001b[39;00m artist\u001b[38;5;241m.\u001b[39mget_agg_filter() \u001b[38;5;129;01mis\u001b[39;00m \u001b[38;5;129;01mnot\u001b[39;00m \u001b[38;5;28;01mNone\u001b[39;00m:\n\u001b[1;32m     36\u001b[0m         renderer\u001b[38;5;241m.\u001b[39mstart_filter()\n\u001b[0;32m---> 38\u001b[0m     \u001b[38;5;28;01mreturn\u001b[39;00m \u001b[43mdraw\u001b[49m\u001b[43m(\u001b[49m\u001b[43martist\u001b[49m\u001b[43m,\u001b[49m\u001b[43m \u001b[49m\u001b[43mrenderer\u001b[49m\u001b[43m,\u001b[49m\u001b[43m \u001b[49m\u001b[38;5;241;43m*\u001b[39;49m\u001b[43margs\u001b[49m\u001b[43m,\u001b[49m\u001b[43m \u001b[49m\u001b[38;5;241;43m*\u001b[39;49m\u001b[38;5;241;43m*\u001b[39;49m\u001b[43mkwargs\u001b[49m\u001b[43m)\u001b[49m\n\u001b[1;32m     39\u001b[0m \u001b[38;5;28;01mfinally\u001b[39;00m:\n\u001b[1;32m     40\u001b[0m     \u001b[38;5;28;01mif\u001b[39;00m artist\u001b[38;5;241m.\u001b[39mget_agg_filter() \u001b[38;5;129;01mis\u001b[39;00m \u001b[38;5;129;01mnot\u001b[39;00m \u001b[38;5;28;01mNone\u001b[39;00m:\n",
      "File \u001b[0;32m~/anaconda3/envs/PeptoidFF/lib/python3.8/site-packages/mpl_toolkits/mplot3d/axes3d.py:310\u001b[0m, in \u001b[0;36mAxes3D.draw\u001b[0;34m(self, renderer)\u001b[0m\n\u001b[1;32m    307\u001b[0m         axis\u001b[38;5;241m.\u001b[39mdraw(renderer)\n\u001b[1;32m    309\u001b[0m \u001b[38;5;66;03m# Then rest\u001b[39;00m\n\u001b[0;32m--> 310\u001b[0m \u001b[38;5;28;43msuper\u001b[39;49m\u001b[43m(\u001b[49m\u001b[43m)\u001b[49m\u001b[38;5;241;43m.\u001b[39;49m\u001b[43mdraw\u001b[49m\u001b[43m(\u001b[49m\u001b[43mrenderer\u001b[49m\u001b[43m)\u001b[49m\n",
      "File \u001b[0;32m~/anaconda3/envs/PeptoidFF/lib/python3.8/site-packages/matplotlib/artist.py:38\u001b[0m, in \u001b[0;36mallow_rasterization.<locals>.draw_wrapper\u001b[0;34m(artist, renderer, *args, **kwargs)\u001b[0m\n\u001b[1;32m     35\u001b[0m     \u001b[38;5;28;01mif\u001b[39;00m artist\u001b[38;5;241m.\u001b[39mget_agg_filter() \u001b[38;5;129;01mis\u001b[39;00m \u001b[38;5;129;01mnot\u001b[39;00m \u001b[38;5;28;01mNone\u001b[39;00m:\n\u001b[1;32m     36\u001b[0m         renderer\u001b[38;5;241m.\u001b[39mstart_filter()\n\u001b[0;32m---> 38\u001b[0m     \u001b[38;5;28;01mreturn\u001b[39;00m \u001b[43mdraw\u001b[49m\u001b[43m(\u001b[49m\u001b[43martist\u001b[49m\u001b[43m,\u001b[49m\u001b[43m \u001b[49m\u001b[43mrenderer\u001b[49m\u001b[43m,\u001b[49m\u001b[43m \u001b[49m\u001b[38;5;241;43m*\u001b[39;49m\u001b[43margs\u001b[49m\u001b[43m,\u001b[49m\u001b[43m \u001b[49m\u001b[38;5;241;43m*\u001b[39;49m\u001b[38;5;241;43m*\u001b[39;49m\u001b[43mkwargs\u001b[49m\u001b[43m)\u001b[49m\n\u001b[1;32m     39\u001b[0m \u001b[38;5;28;01mfinally\u001b[39;00m:\n\u001b[1;32m     40\u001b[0m     \u001b[38;5;28;01mif\u001b[39;00m artist\u001b[38;5;241m.\u001b[39mget_agg_filter() \u001b[38;5;129;01mis\u001b[39;00m \u001b[38;5;129;01mnot\u001b[39;00m \u001b[38;5;28;01mNone\u001b[39;00m:\n",
      "File \u001b[0;32m~/anaconda3/envs/PeptoidFF/lib/python3.8/site-packages/matplotlib/axes/_base.py:2630\u001b[0m, in \u001b[0;36m_AxesBase.draw\u001b[0;34m(self, renderer, inframe)\u001b[0m\n\u001b[1;32m   2627\u001b[0m         a\u001b[38;5;241m.\u001b[39mdraw(renderer)\n\u001b[1;32m   2628\u001b[0m     renderer\u001b[38;5;241m.\u001b[39mstop_rasterizing()\n\u001b[0;32m-> 2630\u001b[0m \u001b[43mmimage\u001b[49m\u001b[38;5;241;43m.\u001b[39;49m\u001b[43m_draw_list_compositing_images\u001b[49m\u001b[43m(\u001b[49m\u001b[43mrenderer\u001b[49m\u001b[43m,\u001b[49m\u001b[43m \u001b[49m\u001b[38;5;28;43mself\u001b[39;49m\u001b[43m,\u001b[49m\u001b[43m \u001b[49m\u001b[43martists\u001b[49m\u001b[43m)\u001b[49m\n\u001b[1;32m   2632\u001b[0m renderer\u001b[38;5;241m.\u001b[39mclose_group(\u001b[38;5;124m'\u001b[39m\u001b[38;5;124maxes\u001b[39m\u001b[38;5;124m'\u001b[39m)\n\u001b[1;32m   2633\u001b[0m \u001b[38;5;28mself\u001b[39m\u001b[38;5;241m.\u001b[39mstale \u001b[38;5;241m=\u001b[39m \u001b[38;5;28;01mFalse\u001b[39;00m\n",
      "File \u001b[0;32m~/anaconda3/envs/PeptoidFF/lib/python3.8/site-packages/matplotlib/image.py:137\u001b[0m, in \u001b[0;36m_draw_list_compositing_images\u001b[0;34m(renderer, parent, artists, suppress_composite)\u001b[0m\n\u001b[1;32m    135\u001b[0m \u001b[38;5;28;01mif\u001b[39;00m not_composite \u001b[38;5;129;01mor\u001b[39;00m \u001b[38;5;129;01mnot\u001b[39;00m has_images:\n\u001b[1;32m    136\u001b[0m     \u001b[38;5;28;01mfor\u001b[39;00m a \u001b[38;5;129;01min\u001b[39;00m artists:\n\u001b[0;32m--> 137\u001b[0m         \u001b[43ma\u001b[49m\u001b[38;5;241;43m.\u001b[39;49m\u001b[43mdraw\u001b[49m\u001b[43m(\u001b[49m\u001b[43mrenderer\u001b[49m\u001b[43m)\u001b[49m\n\u001b[1;32m    138\u001b[0m \u001b[38;5;28;01melse\u001b[39;00m:\n\u001b[1;32m    139\u001b[0m     \u001b[38;5;66;03m# Composite any adjacent images together\u001b[39;00m\n\u001b[1;32m    140\u001b[0m     image_group \u001b[38;5;241m=\u001b[39m []\n",
      "File \u001b[0;32m~/anaconda3/envs/PeptoidFF/lib/python3.8/site-packages/matplotlib/artist.py:38\u001b[0m, in \u001b[0;36mallow_rasterization.<locals>.draw_wrapper\u001b[0;34m(artist, renderer, *args, **kwargs)\u001b[0m\n\u001b[1;32m     35\u001b[0m     \u001b[38;5;28;01mif\u001b[39;00m artist\u001b[38;5;241m.\u001b[39mget_agg_filter() \u001b[38;5;129;01mis\u001b[39;00m \u001b[38;5;129;01mnot\u001b[39;00m \u001b[38;5;28;01mNone\u001b[39;00m:\n\u001b[1;32m     36\u001b[0m         renderer\u001b[38;5;241m.\u001b[39mstart_filter()\n\u001b[0;32m---> 38\u001b[0m     \u001b[38;5;28;01mreturn\u001b[39;00m \u001b[43mdraw\u001b[49m\u001b[43m(\u001b[49m\u001b[43martist\u001b[49m\u001b[43m,\u001b[49m\u001b[43m \u001b[49m\u001b[43mrenderer\u001b[49m\u001b[43m,\u001b[49m\u001b[43m \u001b[49m\u001b[38;5;241;43m*\u001b[39;49m\u001b[43margs\u001b[49m\u001b[43m,\u001b[49m\u001b[43m \u001b[49m\u001b[38;5;241;43m*\u001b[39;49m\u001b[38;5;241;43m*\u001b[39;49m\u001b[43mkwargs\u001b[49m\u001b[43m)\u001b[49m\n\u001b[1;32m     39\u001b[0m \u001b[38;5;28;01mfinally\u001b[39;00m:\n\u001b[1;32m     40\u001b[0m     \u001b[38;5;28;01mif\u001b[39;00m artist\u001b[38;5;241m.\u001b[39mget_agg_filter() \u001b[38;5;129;01mis\u001b[39;00m \u001b[38;5;129;01mnot\u001b[39;00m \u001b[38;5;28;01mNone\u001b[39;00m:\n",
      "File \u001b[0;32m~/anaconda3/envs/PeptoidFF/lib/python3.8/site-packages/matplotlib/collections.py:894\u001b[0m, in \u001b[0;36m_CollectionWithSizes.draw\u001b[0;34m(self, renderer)\u001b[0m\n\u001b[1;32m    891\u001b[0m \u001b[38;5;129m@artist\u001b[39m\u001b[38;5;241m.\u001b[39mallow_rasterization\n\u001b[1;32m    892\u001b[0m \u001b[38;5;28;01mdef\u001b[39;00m \u001b[38;5;21mdraw\u001b[39m(\u001b[38;5;28mself\u001b[39m, renderer):\n\u001b[1;32m    893\u001b[0m     \u001b[38;5;28mself\u001b[39m\u001b[38;5;241m.\u001b[39mset_sizes(\u001b[38;5;28mself\u001b[39m\u001b[38;5;241m.\u001b[39m_sizes, \u001b[38;5;28mself\u001b[39m\u001b[38;5;241m.\u001b[39mfigure\u001b[38;5;241m.\u001b[39mdpi)\n\u001b[0;32m--> 894\u001b[0m     \u001b[43mCollection\u001b[49m\u001b[38;5;241;43m.\u001b[39;49m\u001b[43mdraw\u001b[49m\u001b[43m(\u001b[49m\u001b[38;5;28;43mself\u001b[39;49m\u001b[43m,\u001b[49m\u001b[43m \u001b[49m\u001b[43mrenderer\u001b[49m\u001b[43m)\u001b[49m\n",
      "File \u001b[0;32m~/anaconda3/envs/PeptoidFF/lib/python3.8/site-packages/matplotlib/artist.py:38\u001b[0m, in \u001b[0;36mallow_rasterization.<locals>.draw_wrapper\u001b[0;34m(artist, renderer, *args, **kwargs)\u001b[0m\n\u001b[1;32m     35\u001b[0m     \u001b[38;5;28;01mif\u001b[39;00m artist\u001b[38;5;241m.\u001b[39mget_agg_filter() \u001b[38;5;129;01mis\u001b[39;00m \u001b[38;5;129;01mnot\u001b[39;00m \u001b[38;5;28;01mNone\u001b[39;00m:\n\u001b[1;32m     36\u001b[0m         renderer\u001b[38;5;241m.\u001b[39mstart_filter()\n\u001b[0;32m---> 38\u001b[0m     \u001b[38;5;28;01mreturn\u001b[39;00m \u001b[43mdraw\u001b[49m\u001b[43m(\u001b[49m\u001b[43martist\u001b[49m\u001b[43m,\u001b[49m\u001b[43m \u001b[49m\u001b[43mrenderer\u001b[49m\u001b[43m,\u001b[49m\u001b[43m \u001b[49m\u001b[38;5;241;43m*\u001b[39;49m\u001b[43margs\u001b[49m\u001b[43m,\u001b[49m\u001b[43m \u001b[49m\u001b[38;5;241;43m*\u001b[39;49m\u001b[38;5;241;43m*\u001b[39;49m\u001b[43mkwargs\u001b[49m\u001b[43m)\u001b[49m\n\u001b[1;32m     39\u001b[0m \u001b[38;5;28;01mfinally\u001b[39;00m:\n\u001b[1;32m     40\u001b[0m     \u001b[38;5;28;01mif\u001b[39;00m artist\u001b[38;5;241m.\u001b[39mget_agg_filter() \u001b[38;5;129;01mis\u001b[39;00m \u001b[38;5;129;01mnot\u001b[39;00m \u001b[38;5;28;01mNone\u001b[39;00m:\n",
      "File \u001b[0;32m~/anaconda3/envs/PeptoidFF/lib/python3.8/site-packages/matplotlib/collections.py:363\u001b[0m, in \u001b[0;36mCollection.draw\u001b[0;34m(self, renderer)\u001b[0m\n\u001b[1;32m    359\u001b[0m     renderer\u001b[38;5;241m.\u001b[39mdraw_markers(\n\u001b[1;32m    360\u001b[0m         gc, paths[\u001b[38;5;241m0\u001b[39m], combined_transform\u001b[38;5;241m.\u001b[39mfrozen(),\n\u001b[1;32m    361\u001b[0m         mpath\u001b[38;5;241m.\u001b[39mPath(offsets), transOffset, \u001b[38;5;28mtuple\u001b[39m(facecolors[\u001b[38;5;241m0\u001b[39m]))\n\u001b[1;32m    362\u001b[0m \u001b[38;5;28;01melse\u001b[39;00m:\n\u001b[0;32m--> 363\u001b[0m     \u001b[43mrenderer\u001b[49m\u001b[38;5;241;43m.\u001b[39;49m\u001b[43mdraw_path_collection\u001b[49m\u001b[43m(\u001b[49m\n\u001b[1;32m    364\u001b[0m \u001b[43m        \u001b[49m\u001b[43mgc\u001b[49m\u001b[43m,\u001b[49m\u001b[43m \u001b[49m\u001b[43mtransform\u001b[49m\u001b[38;5;241;43m.\u001b[39;49m\u001b[43mfrozen\u001b[49m\u001b[43m(\u001b[49m\u001b[43m)\u001b[49m\u001b[43m,\u001b[49m\u001b[43m \u001b[49m\u001b[43mpaths\u001b[49m\u001b[43m,\u001b[49m\n\u001b[1;32m    365\u001b[0m \u001b[43m        \u001b[49m\u001b[38;5;28;43mself\u001b[39;49m\u001b[38;5;241;43m.\u001b[39;49m\u001b[43mget_transforms\u001b[49m\u001b[43m(\u001b[49m\u001b[43m)\u001b[49m\u001b[43m,\u001b[49m\u001b[43m \u001b[49m\u001b[43moffsets\u001b[49m\u001b[43m,\u001b[49m\u001b[43m \u001b[49m\u001b[43mtransOffset\u001b[49m\u001b[43m,\u001b[49m\n\u001b[1;32m    366\u001b[0m \u001b[43m        \u001b[49m\u001b[38;5;28;43mself\u001b[39;49m\u001b[38;5;241;43m.\u001b[39;49m\u001b[43mget_facecolor\u001b[49m\u001b[43m(\u001b[49m\u001b[43m)\u001b[49m\u001b[43m,\u001b[49m\u001b[43m \u001b[49m\u001b[38;5;28;43mself\u001b[39;49m\u001b[38;5;241;43m.\u001b[39;49m\u001b[43mget_edgecolor\u001b[49m\u001b[43m(\u001b[49m\u001b[43m)\u001b[49m\u001b[43m,\u001b[49m\n\u001b[1;32m    367\u001b[0m \u001b[43m        \u001b[49m\u001b[38;5;28;43mself\u001b[39;49m\u001b[38;5;241;43m.\u001b[39;49m\u001b[43m_linewidths\u001b[49m\u001b[43m,\u001b[49m\u001b[43m \u001b[49m\u001b[38;5;28;43mself\u001b[39;49m\u001b[38;5;241;43m.\u001b[39;49m\u001b[43m_linestyles\u001b[49m\u001b[43m,\u001b[49m\n\u001b[1;32m    368\u001b[0m \u001b[43m        \u001b[49m\u001b[38;5;28;43mself\u001b[39;49m\u001b[38;5;241;43m.\u001b[39;49m\u001b[43m_antialiaseds\u001b[49m\u001b[43m,\u001b[49m\u001b[43m \u001b[49m\u001b[38;5;28;43mself\u001b[39;49m\u001b[38;5;241;43m.\u001b[39;49m\u001b[43m_urls\u001b[49m\u001b[43m,\u001b[49m\n\u001b[1;32m    369\u001b[0m \u001b[43m        \u001b[49m\u001b[38;5;28;43mself\u001b[39;49m\u001b[38;5;241;43m.\u001b[39;49m\u001b[43m_offset_position\u001b[49m\u001b[43m)\u001b[49m\n\u001b[1;32m    371\u001b[0m gc\u001b[38;5;241m.\u001b[39mrestore()\n\u001b[1;32m    372\u001b[0m renderer\u001b[38;5;241m.\u001b[39mclose_group(\u001b[38;5;28mself\u001b[39m\u001b[38;5;241m.\u001b[39m\u001b[38;5;18m__class__\u001b[39m\u001b[38;5;241m.\u001b[39m\u001b[38;5;18m__name__\u001b[39m)\n",
      "File \u001b[0;32m~/anaconda3/envs/PeptoidFF/lib/python3.8/site-packages/matplotlib/path.py:197\u001b[0m, in \u001b[0;36mPath.vertices\u001b[0;34m(self)\u001b[0m\n\u001b[1;32m    189\u001b[0m     \u001b[38;5;28mself\u001b[39m\u001b[38;5;241m.\u001b[39m_simplify_threshold \u001b[38;5;241m=\u001b[39m rcParams[\u001b[38;5;124m'\u001b[39m\u001b[38;5;124mpath.simplify_threshold\u001b[39m\u001b[38;5;124m'\u001b[39m]\n\u001b[1;32m    190\u001b[0m     \u001b[38;5;28mself\u001b[39m\u001b[38;5;241m.\u001b[39m_should_simplify \u001b[38;5;241m=\u001b[39m (\n\u001b[1;32m    191\u001b[0m         \u001b[38;5;28mself\u001b[39m\u001b[38;5;241m.\u001b[39m_simplify_threshold \u001b[38;5;241m>\u001b[39m \u001b[38;5;241m0\u001b[39m \u001b[38;5;129;01mand\u001b[39;00m\n\u001b[1;32m    192\u001b[0m         rcParams[\u001b[38;5;124m'\u001b[39m\u001b[38;5;124mpath.simplify\u001b[39m\u001b[38;5;124m'\u001b[39m] \u001b[38;5;129;01mand\u001b[39;00m\n\u001b[1;32m    193\u001b[0m         \u001b[38;5;28mlen\u001b[39m(\u001b[38;5;28mself\u001b[39m\u001b[38;5;241m.\u001b[39m_vertices) \u001b[38;5;241m>\u001b[39m\u001b[38;5;241m=\u001b[39m \u001b[38;5;241m128\u001b[39m \u001b[38;5;129;01mand\u001b[39;00m\n\u001b[1;32m    194\u001b[0m         (\u001b[38;5;28mself\u001b[39m\u001b[38;5;241m.\u001b[39m_codes \u001b[38;5;129;01mis\u001b[39;00m \u001b[38;5;28;01mNone\u001b[39;00m \u001b[38;5;129;01mor\u001b[39;00m np\u001b[38;5;241m.\u001b[39mall(\u001b[38;5;28mself\u001b[39m\u001b[38;5;241m.\u001b[39m_codes \u001b[38;5;241m<\u001b[39m\u001b[38;5;241m=\u001b[39m Path\u001b[38;5;241m.\u001b[39mLINETO))\n\u001b[1;32m    195\u001b[0m     )\n\u001b[0;32m--> 197\u001b[0m \u001b[38;5;129m@property\u001b[39m\n\u001b[1;32m    198\u001b[0m \u001b[38;5;28;01mdef\u001b[39;00m \u001b[38;5;21mvertices\u001b[39m(\u001b[38;5;28mself\u001b[39m):\n\u001b[1;32m    199\u001b[0m \u001b[38;5;250m    \u001b[39m\u001b[38;5;124;03m\"\"\"\u001b[39;00m\n\u001b[1;32m    200\u001b[0m \u001b[38;5;124;03m    The list of vertices in the `Path` as an Nx2 numpy array.\u001b[39;00m\n\u001b[1;32m    201\u001b[0m \u001b[38;5;124;03m    \"\"\"\u001b[39;00m\n\u001b[1;32m    202\u001b[0m     \u001b[38;5;28;01mreturn\u001b[39;00m \u001b[38;5;28mself\u001b[39m\u001b[38;5;241m.\u001b[39m_vertices\n",
      "\u001b[0;31mKeyboardInterrupt\u001b[0m: "
     ]
    }
   ],
   "source": [
    "fig = plt.figure(figsize=(6, 10))\n",
    "\n",
    "# Set the display range\n",
    "x_min, x_max = -90, 270\n",
    "y_min, y_max = -90, 270\n",
    "z_min, z_max = -90, 270\n",
    "\n",
    "# Viewing angles\n",
    "elevation = 25  # Example elevation angle\n",
    "azimuth = 65    # Example azimuthal angle\n",
    "\n",
    "# Create a 3D subplot for cluster centers\n",
    "ax1 = fig.add_subplot(211, projection='3d')\n",
    "ax1.set_title('Cluster centers')\n",
    "ax1.scatter(combined_omega[:, 0], combined_omega[:, 1], combined_omega[:, 2], c=assignments[:], marker='.', alpha=0.05,cmap='tab20',label='STEPs')\n",
    "ax1.scatter(clustering.cluster_centers[:, 0], clustering.cluster_centers[:, 1], clustering.cluster_centers[:, 2], c='k', marker='o', alpha=1, label='Clustering Center')\n",
    "ax1.set_xlim(x_min, x_max)\n",
    "ax1.set_ylim(y_min, y_max)\n",
    "ax1.set_zlim(z_min, z_max)\n",
    "ax1.view_init(elev=elevation, azim=azimuth)  # Set the viewing angle\n",
    "\n",
    "# Label each cluster center\n",
    "for i, (x, y, z) in enumerate(clustering.cluster_centers):\n",
    "    ax1.text(x, y, z, f'Cluster {i}', color='red')\n",
    "\n",
    "# Create a 3D subplot for assignments\n",
    "ax2 = fig.add_subplot(212, projection='3d')\n",
    "ax2.set_title('Assignments of data to centers')\n",
    "ax2.scatter(combined_omega[:, 0], combined_omega[:, 1], combined_omega[:, 2], c=assignments[:], marker='.', alpha=0.3 , cmap='tab20', label='STEPs')\n",
    "ax2.set_xlim(x_min, x_max)\n",
    "ax2.set_ylim(y_min, y_max)\n",
    "ax2.set_zlim(z_min, z_max)\n",
    "ax2.view_init(elev=elevation, azim=azimuth)  # Set the viewing angle\n",
    "\n",
    "# Setting the legend\n",
    "ax1.legend(loc='upper right', bbox_to_anchor=(2.3, 1.0), facecolor='white', edgecolor='k')\n",
    "ax2.legend(loc='upper right', bbox_to_anchor=(2.3, 1.0), facecolor='white', edgecolor='k')\n",
    "\n",
    "# Adding axis labels\n",
    "ax1.set_xlabel(r'$\\omega_0$')\n",
    "ax1.set_ylabel(r'$\\omega_1$')\n",
    "ax1.set_zlabel(r'$\\omega_2$')\n",
    "\n",
    "ax2.set_xlabel(r'$\\omega_0$')\n",
    "ax2.set_ylabel(r'$\\omega_1$')\n",
    "ax2.set_zlabel(r'$\\omega_2$')\n",
    "\n",
    "# Adjust spacing between subplots\n",
    "#plt.subplots_adjust(hspace=0.5)  # Increase the horizontal space between subplots\n",
    "\n",
    "# Adjust layout\n",
    "plt.tight_layout()\n",
    "\n",
    "fig.suptitle('Cluster centers and assignments directly after K-mean++ Initialization of 19AE1-4-A')\n",
    "fig.savefig('omega_data/cluster_centers_and_assignments.png',transparent=True, dpi=600, bbox_inches='tight')\n",
    "plt.show()"
   ]
  }
 ],
 "metadata": {
  "kernelspec": {
   "display_name": "PeptoidFF",
   "language": "python",
   "name": "python3"
  },
  "language_info": {
   "codemirror_mode": {
    "name": "ipython",
    "version": 3
   },
   "file_extension": ".py",
   "mimetype": "text/x-python",
   "name": "python",
   "nbconvert_exporter": "python",
   "pygments_lexer": "ipython3",
   "version": "3.8.18"
  }
 },
 "nbformat": 4,
 "nbformat_minor": 2
}
