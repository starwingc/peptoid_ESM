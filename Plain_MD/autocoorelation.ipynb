{
 "cells": [
  {
   "cell_type": "code",
   "execution_count": 10,
   "metadata": {},
   "outputs": [],
   "source": [
    "import numpy as np\n",
    "from matplotlib import pyplot as plt\n",
    "import pickle\n",
    "import pandas as pd"
   ]
  },
  {
   "cell_type": "markdown",
   "metadata": {},
   "source": [
    "## Load Important Function"
   ]
  },
  {
   "cell_type": "code",
   "execution_count": 6,
   "metadata": {},
   "outputs": [],
   "source": [
    "class Data:\n",
    "    def __init__(self, array_list):\n",
    "        self.array_list = array_list\n",
    "\n",
    "    def save(self, filename):\n",
    "        with open(filename, 'wb') as f:\n",
    "            pickle.dump(self.array_list, f)\n",
    "\n",
    "    @classmethod\n",
    "    def load(cls, filename):\n",
    "        with open(filename, 'rb') as f:\n",
    "            array_list = pickle.load(f)\n",
    "        return cls(array_list)"
   ]
  },
  {
   "cell_type": "code",
   "execution_count": 15,
   "metadata": {},
   "outputs": [],
   "source": [
    "def omega2cistrans(omega):\n",
    "    \"\"\"Converts a sequence of float omega angles (in degrees) to an array of ints: 0 cis and 1 trans.\"\"\"\n",
    "    # Convert each element in omega to shifted_omega\n",
    "    shifted_omega = [(arr + 90.0) % 360.0 - 90.0 for arr in omega]\n",
    "    \n",
    "    # Convert to cis/trans (0 = cis, 1 = trans) using np.where\n",
    "    cistrans = [np.where(arr > 90.0, 1, 0).astype(int) for arr in shifted_omega]\n",
    "    return cistrans\n"
   ]
  },
  {
   "cell_type": "code",
   "execution_count": 8,
   "metadata": {},
   "outputs": [],
   "source": [
    "def autocorr(x):\n",
    "    tau = x.size\n",
    "    mu = x.mean()\n",
    "    var = x.var()  # Variance for normalization\n",
    "    g = np.correlate((x-mu), (x-mu), mode='full')[tau-1:]\n",
    "    g = g / var\n",
    "    n = np.arange(tau,0,-1)\n",
    "    return g/n"
   ]
  },
  {
   "cell_type": "code",
   "execution_count": null,
   "metadata": {},
   "outputs": [],
   "source": [
    "def multi_autocorr(x_list, max_tau=None):\n",
    "    \"\"\"Given a list of 1D trajectories x (each could be different lengths), compute an autocorrelation.\n",
    "    INPUTS\n",
    "    x_list  - a list of np.array objects. Each could be different lengths .\n",
    "\n",
    "    PARAMETERS\n",
    "    max_tau - the maximum frame to compute the autocorrelation.  If None, use the whole range. Default: None.\n",
    "    \"\"\"\n",
    "\n",
    "\n",
    "    from tqdm import tqdm\n",
    "\n",
    "    ntraj = len(x_list)\n",
    "    x = np.concatenate(x_list)\n",
    "    mu = x.mean(axis=0)\n",
    "    var = x.var(axis=0)\n",
    "\n",
    "    max_trajlength = max( [ x_list[i].shape[0] for i in range(ntraj) ])\n",
    "    \n",
    "    if max_tau == None:\n",
    "        max_tau = max_trajlength\n",
    "        \n",
    "    elif max_tau > max_trajlength:\n",
    "        print(\"Error: max_tau must be less or equal to the maximum trajectory length. Setting max_tau = max_trajlength\") \n",
    "        max_tau = max_trajlength\n",
    "        \n",
    "    result = np.zeros( max_tau )\n",
    "    n = np.zeros( (max_tau,) )\n",
    "        \n",
    "    for i in tqdm(range(ntraj)):\n",
    "\n",
    "        this_tau = x_list[i].shape[0]\n",
    "        print(f'Analyzing traj {i} of {ntraj} ({this_tau} frames)...')\n",
    "        if this_tau > max_tau:\n",
    "            ### NOTE:   np.correlate(...., mode='full') returns a 2N-1 length cross-correl of all possible shifts\n",
    "            T = 2*this_tau-1\n",
    "            result[0:max_tau] += np.correlate((x_list[i] - mu), (x_list[i] - mu), mode='full')[this_tau-1:this_tau-1+max_tau]\n",
    "            n[0:max_tau] += np.arange(this_tau,0,-1)[0:max_tau]\n",
    "        else:\n",
    "            result[0:this_tau] += np.correlate((x_list[i] - mu), (x_list[i] - mu), mode='full')[this_tau-1:]\n",
    "            n[0:this_tau] += np.arange(this_tau,0,-1)\n",
    "                \n",
    "    result = result / var\n",
    "    return result/n"
   ]
  },
  {
   "cell_type": "code",
   "execution_count": 21,
   "metadata": {},
   "outputs": [],
   "source": [
    "def multi_autocorr(x_list, max_tau=None):\n",
    "    \"\"\"Given a list of 1D trajectories x (each could be different lengths), compute an autocorrelation.\n",
    "    INPUTS\n",
    "    x_list  - a list of np.array objects. Each could be different lengths.\n",
    "\n",
    "    PARAMETERS\n",
    "    max_tau - the maximum frame to compute the autocorrelation.  If None, use the whole range. Default: None.\n",
    "    \"\"\"\n",
    "\n",
    "    from tqdm import tqdm\n",
    "    import numpy as np\n",
    "\n",
    "    ntraj = len(x_list)\n",
    "    x = np.concatenate(x_list)\n",
    "    mu = x.mean(axis=0)\n",
    "    var = x.var(axis=0)\n",
    "\n",
    "    max_trajlength = max([x_list[i].shape[0] for i in range(ntraj)])\n",
    "    \n",
    "    if max_tau is None:\n",
    "        max_tau = max_trajlength\n",
    "        \n",
    "    elif max_tau > max_trajlength:\n",
    "        print(\"Error: max_tau must be less or equal to the maximum trajectory length. Setting max_tau = max_trajlength\") \n",
    "        max_tau = max_trajlength\n",
    "        \n",
    "    result = np.zeros(max_tau)\n",
    "    n = np.zeros((max_tau,))\n",
    "        \n",
    "    with tqdm(range(ntraj), desc=\"Processing trajectories\", leave=True) as pbar:\n",
    "        for i in pbar:\n",
    "            this_tau = x_list[i].shape[0]\n",
    "            \n",
    "            if this_tau > max_tau:\n",
    "                T = 2 * this_tau - 1\n",
    "                result[0:max_tau] += np.correlate((x_list[i] - mu), (x_list[i] - mu), mode='full')[this_tau-1:this_tau-1+max_tau]\n",
    "                n[0:max_tau] += np.arange(this_tau, 0, -1)[0:max_tau]\n",
    "            else:\n",
    "                result[0:this_tau] += np.correlate((x_list[i] - mu), (x_list[i] - mu), mode='full')[this_tau-1:]\n",
    "                n[0:this_tau] += np.arange(this_tau, 0, -1)\n",
    "                \n",
    "    result = result / var\n",
    "    return result / n"
   ]
  },
  {
   "cell_type": "markdown",
   "metadata": {},
   "source": [
    "## Load the data"
   ]
  },
  {
   "cell_type": "code",
   "execution_count": 13,
   "metadata": {},
   "outputs": [
    {
     "name": "stdout",
     "output_type": "stream",
     "text": [
      "742\n"
     ]
    },
    {
     "data": {
      "text/plain": [
       "array([[-173.65106  ,    8.187268 ,  158.7122   ],\n",
       "       [ 149.942    ,   -5.472654 , -179.34113  ],\n",
       "       [ 162.98587  ,    2.9294653, -170.57141  ],\n",
       "       ...,\n",
       "       [ -25.63846  ,    6.4290886, -142.46432  ],\n",
       "       [  -1.3674331,   47.98817  , -169.6922   ],\n",
       "       [ -16.094692 ,   27.522018 ,  177.88043  ]], dtype=float32)"
      ]
     },
     "execution_count": 13,
     "metadata": {},
     "output_type": "execute_result"
    }
   ],
   "source": [
    "save_dir = 'omega_data'\n",
    "all_omega = Data.load(f\"{save_dir}/data.pkl\").array_list  # This is an (742, x, 3) array\n",
    "\n",
    "print(len(all_omega)) \n",
    "\n",
    "all_omega[0].shape\n",
    "all_omega[0]"
   ]
  },
  {
   "cell_type": "code",
   "execution_count": 16,
   "metadata": {},
   "outputs": [
    {
     "data": {
      "text/plain": [
       "array([[1, 0, 1],\n",
       "       [1, 0, 1],\n",
       "       [1, 0, 1],\n",
       "       ...,\n",
       "       [0, 0, 1],\n",
       "       [0, 0, 1],\n",
       "       [0, 0, 1]])"
      ]
     },
     "execution_count": 16,
     "metadata": {},
     "output_type": "execute_result"
    }
   ],
   "source": [
    "# This a list of 742 (N_i, 3) np.arrays, where N_i is the size of the i^{th} trajectory\n",
    "all_cistrans = omega2cistrans(all_omega)\n",
    "\n",
    "all_cistrans[0].shape\n",
    "all_cistrans[0]\n"
   ]
  },
  {
   "cell_type": "markdown",
   "metadata": {},
   "source": [
    "## Compute average and stddev over the 0=cis/1=trans trajectories "
   ]
  },
  {
   "cell_type": "code",
   "execution_count": 17,
   "metadata": {},
   "outputs": [
    {
     "name": "stdout",
     "output_type": "stream",
     "text": [
      "minlength = 3001 snapshots (30.010 ns)\n",
      "maxlength = 196095 snapshots (1960.950 ns)\n"
     ]
    },
    {
     "data": {
      "text/plain": [
       "(742, 196095, 3)"
      ]
     },
     "execution_count": 17,
     "metadata": {},
     "output_type": "execute_result"
    }
   ],
   "source": [
    "# This a list of 742 (N_i, 3) np.arrays, where N_i is the size of the i^{th} trajectory\n",
    "ntraj = len(all_cistrans)\n",
    "\n",
    "# convert to floats for downstream operations\n",
    "for i in range(ntraj):\n",
    "    all_cistrans[i] = all_cistrans[i].astype(float)\n",
    "\n",
    "# Find the longest traj\n",
    "maxlength = max( [ len(all_cistrans[i]) for i in range(ntraj) ])\n",
    "minlength = min( [ len(all_cistrans[i]) for i in range(ntraj) ])\n",
    "ns_per_step = 0.01\n",
    "print(f'minlength = {minlength} snapshots ({minlength*ns_per_step:.3f} ns)')\n",
    "print(f'maxlength = {maxlength} snapshots ({maxlength*ns_per_step:.3f} ns)')\n",
    "\n",
    "# Make an array to store all the trajectories\n",
    "arr_cistrans = np.nan * np.ones( (ntraj, maxlength, 3) )\n",
    "\n",
    "for i in range(ntraj):\n",
    "    n = len(all_cistrans[i])\n",
    "    arr_cistrans[i, 0:n, :] = all_cistrans[i]\n",
    "\n",
    "arr_cistrans.shape"
   ]
  },
  {
   "cell_type": "markdown",
   "metadata": {},
   "source": [
    "## Autocoorelation Plot"
   ]
  },
  {
   "cell_type": "code",
   "execution_count": null,
   "metadata": {},
   "outputs": [
    {
     "name": "stderr",
     "output_type": "stream",
     "text": [
      "Processing trajectories: 100%|██████████| 742/742 [12:21<00:00,  1.00it/s]\n",
      "Processing trajectories: 100%|██████████| 742/742 [09:41<00:00,  1.28it/s]\n",
      "Processing trajectories: 100%|██████████| 742/742 [09:48<00:00,  1.26it/s]\n"
     ]
    }
   ],
   "source": [
    "ntraj = len(all_cistrans)\n",
    "all_cistrans_res0 = [ all_cistrans[i][:,0] for i in range(ntraj) ]\n",
    "all_cistrans_res1 = [ all_cistrans[i][:,1] for i in range(ntraj) ]\n",
    "all_cistrans_res2 = [ all_cistrans[i][:,2] for i in range(ntraj) ]\n",
    "\n",
    "max_tau = 100000\n",
    "stride = 1\n",
    "result_res0 = multi_autocorr(all_cistrans_res0[0::stride], max_tau=max_tau)\n",
    "result_res1 = multi_autocorr(all_cistrans_res1[0::stride], max_tau=max_tau)\n",
    "result_res2 = multi_autocorr(all_cistrans_res2[0::stride], max_tau=max_tau)"
   ]
  },
  {
   "cell_type": "code",
   "execution_count": 25,
   "metadata": {},
   "outputs": [
    {
     "data": {
      "image/png": "[encoded data removed]",
      "text/plain": [
       "<Figure size 640x480 with 1 Axes>"
      ]
     },
     "metadata": {},
     "output_type": "display_data"
    }
   ],
   "source": [
    "ns_per_step = 0.01\n",
    "max_tau_res0 = result_res0.shape[0]\n",
    "max_tau_res1 = result_res1.shape[0]\n",
    "max_tau_res2 = result_res2.shape[0]\n",
    "\n",
    "plt.figure()\n",
    "plt.plot(np.arange(max_tau_res0)*ns_per_step, result_res0, label='residue 0')\n",
    "plt.plot(np.arange(max_tau_res1)*ns_per_step, result_res1, label='residue 1')\n",
    "plt.plot(np.arange(max_tau_res2)*ns_per_step, result_res2, label='residue 2')\n",
    "plt.xlabel(r'$\\tau$ (ns)')\n",
    "plt.ylabel(r'Autocorrelation function $g(\\tau)$')\n",
    "plt.legend(loc='best')\n",
    "\n",
    "plt.savefig('autocorrel_res012_1us.pdf')"
   ]
  },
  {
   "cell_type": "code",
   "execution_count": null,
   "metadata": {},
   "outputs": [],
   "source": []
  }
 ],
 "metadata": {
  "kernelspec": {
   "display_name": "PeptoidFF",
   "language": "python",
   "name": "python3"
  },
  "language_info": {
   "codemirror_mode": {
    "name": "ipython",
    "version": 3
   },
   "file_extension": ".py",
   "mimetype": "text/x-python",
   "name": "python",
   "nbconvert_exporter": "python",
   "pygments_lexer": "ipython3",
   "version": "3.8.18"
  }
 },
 "nbformat": 4,
 "nbformat_minor": 2
}
