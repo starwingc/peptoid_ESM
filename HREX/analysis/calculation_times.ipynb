{
 "cells": [
  {
   "cell_type": "code",
   "execution_count": 17,
   "metadata": {},
   "outputs": [],
   "source": [
    "import os\n",
    "import numpy as np"
   ]
  },
  {
   "cell_type": "code",
   "execution_count": 14,
   "metadata": {},
   "outputs": [
    {
     "name": "stdout",
     "output_type": "stream",
     "text": [
      "145.416ns/day\n",
      "144.414ns/day\n",
      "145.616ns/day\n",
      "144.443ns/day\n",
      "143.633ns/day\n",
      "145.859ns/day\n",
      "145.420ns/day\n",
      "144.869ns/day\n",
      "144.195ns/day\n",
      "144.970ns/day\n",
      "143.608ns/day\n",
      "144.145ns/day\n",
      "144.215ns/day\n",
      "143.903ns/day\n",
      "145.926ns/day\n",
      "142.283ns/day\n",
      "144.589ns/day\n",
      "145.179ns/day\n",
      "144.025ns/day\n",
      "143.022ns/day\n",
      "144.948ns/day\n",
      "144.056ns/day\n",
      "145.378ns/day\n",
      "145.582ns/day\n",
      "145.641ns/day\n",
      "146.307ns/day\n",
      "144.267ns/day\n",
      "144.081ns/day\n",
      "144.069ns/day\n",
      "145.075ns/day\n"
     ]
    }
   ],
   "source": [
    "data_dir = '../HREX'\n",
    "pattern = 'Performance:'\n",
    "\n",
    "HREX_list = os.listdir(data_dir)\n",
    "times = []\n",
    "\n",
    "for HREX in HREX_list:\n",
    "    log = f\"{data_dir}/{HREX}/state_0/HREMD.part0001.log\"\n",
    "    \n",
    "    try:\n",
    "        with open(log, 'r') as file:\n",
    "            for line in file:  # Read the file line by line\n",
    "                if pattern in line:\n",
    "                    time = line.strip().split()[1]\n",
    "                    print(f\"{time}ns/day\")  # Strip leading/trailing spaces before splitting\n",
    "                    times.append(time)\n",
    "    except FileNotFoundError:\n",
    "        print(f\"File not found: {log}\")\n"
   ]
  },
  {
   "cell_type": "code",
   "execution_count": null,
   "metadata": {},
   "outputs": [
    {
     "name": "stdout",
     "output_type": "stream",
     "text": [
      "Average time per day: 144.6378 +- 0.8992648997931584 ns/day\n"
     ]
    }
   ],
   "source": [
    "times = np.array(times, dtype=float)\n",
    "average_time = np.mean(times)\n",
    "vars_time = np.std(times)\n",
    "\n",
    "print(f\"Average time per day: {average_time} +- {vars_time} ns/day\") "
   ]
  },
  {
   "cell_type": "code",
   "execution_count": null,
   "metadata": {},
   "outputs": [],
   "source": []
  }
 ],
 "metadata": {
  "kernelspec": {
   "display_name": "PeptoidFF",
   "language": "python",
   "name": "python3"
  },
  "language_info": {
   "codemirror_mode": {
    "name": "ipython",
    "version": 3
   },
   "file_extension": ".py",
   "mimetype": "text/x-python",
   "name": "python",
   "nbconvert_exporter": "python",
   "pygments_lexer": "ipython3",
   "version": "3.8.18"
  }
 },
 "nbformat": 4,
 "nbformat_minor": 2
}
