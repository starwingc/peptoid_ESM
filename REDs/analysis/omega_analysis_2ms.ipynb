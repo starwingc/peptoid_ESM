{
 "cells": [
  {
   "cell_type": "markdown",
   "id": "093c6524-b460-416b-be15-f212afbe7672",
   "metadata": {},
   "source": [
    "# This notebook talke the raw output from Hamiltonian Replica Exchange, extract the dihedral angle from xtc file using MdTraj, and ananlyze the autocoorelation curve"
   ]
  },
  {
   "cell_type": "code",
   "execution_count": 1,
   "id": "1759ebdf-665f-4cde-b392-6adbbe578004",
   "metadata": {},
   "outputs": [],
   "source": [
    "import os, sys, glob, shutil, re\n",
    "import subprocess\n",
    "\n",
    "import mdtraj as md\n",
    "import matplotlib.pyplot as plt\n",
    "import matplotlib as mpl\n",
    "import numpy as np\n",
    "import pandas as pd\n",
    "import math\n",
    "from IPython.display import Image, display\n",
    "%matplotlib inline\n",
    "nmer = 5\n",
    "mpl.rcParams.update({'font.size': 16})"
   ]
  },
  {
   "cell_type": "code",
   "execution_count": 2,
   "id": "3a11cacc-54e2-41a0-a595-e1c07938a80f",
   "metadata": {},
   "outputs": [
    {
     "data": {
      "text/plain": [
       "'/Users/starwingchen/Voelz_Lab/git/peptoid_ESM/REDs/analysis'"
      ]
     },
     "execution_count": 2,
     "metadata": {},
     "output_type": "execute_result"
    }
   ],
   "source": [
    "%pwd"
   ]
  },
  {
   "cell_type": "code",
   "execution_count": 3,
   "id": "21e675de-3715-4c22-b142-a4114a799d50",
   "metadata": {},
   "outputs": [
    {
     "name": "stdout",
     "output_type": "stream",
     "text": [
      "All contents in 'omega_data/' have been cleared.\n"
     ]
    }
   ],
   "source": [
    "# Define the directory path\n",
    "directory = \"omega_data/\"\n",
    "\n",
    "# Check if the directory exists\n",
    "if os.path.exists(directory):\n",
    "    # Remove all contents of the directory\n",
    "    shutil.rmtree(directory)\n",
    "    # Recreate the empty directory\n",
    "    os.makedirs(directory)\n",
    "    print(f\"All contents in '{directory}' have been cleared.\")\n",
    "else:\n",
    "    # Create the directory if it does not exist\n",
    "    os.makedirs(directory)\n",
    "    print(f\"Directory '{directory}' did not exist, so it has been created.\")\n"
   ]
  },
  {
   "cell_type": "code",
   "execution_count": 7,
   "id": "679c492b-ece8-43e6-981c-c1704585c8ac",
   "metadata": {},
   "outputs": [
    {
     "name": "stdout",
     "output_type": "stream",
     "text": [
      "[[ 5  6 17 35]\n",
      " [35 38 40 44]\n",
      " [44 45 56 74]]\n",
      "Saved omegasto omega_data/omegas_state0.npy\n"
     ]
    }
   ],
   "source": [
    "# hand input the omega indices:\n",
    "# Define omega dihedral indices, gromcas start from 1, while np start from 0\n",
    "gmx_dihedral_indices = np.array([\n",
    "    [6, 7, 18, 36],\n",
    "    [36, 39, 41, 45],\n",
    "    [45, 46, 57, 75]\n",
    "\n",
    "])\n",
    "\n",
    "omega_dihedral_indices = gmx_dihedral_indices - 1\n",
    "print(omega_dihedral_indices)\n",
    "\n",
    "# Ensure the omega_data directory exists\n",
    "omega_path = 'omega_data/'\n",
    "omegas_list = []\n",
    "\n",
    "trrfile = f\"../traj/REDS.trr\"\n",
    "grofile = f\"../single_peptoid.gro\"\n",
    "\n",
    "traj = md.load(trrfile, top=grofile)\n",
    "\n",
    "omegas = md.compute_dihedrals(traj, omega_dihedral_indices) * (180.0 / math.pi)\n",
    "omegas_list.append(omegas)\n",
    "\n",
    "concatenated_omegas = np.vstack(omegas_list)\n",
    "outfile = os.path.join(omega_path, f\"omegas_state0.npy\")\n",
    "np.save(outfile, concatenated_omegas)\n",
    "print(f\"Saved omegasto {outfile}\")\n"
   ]
  },
  {
   "cell_type": "markdown",
   "id": "d0881a6b-80b3-4e27-af31-67ba43e21063",
   "metadata": {},
   "source": [
    "### What are the dimensions of the omega-angle arrays in each Hamiltonian state? "
   ]
  },
  {
   "cell_type": "code",
   "execution_count": 8,
   "id": "f98f2dc2-54ad-4c95-850b-0942bc5c2da2",
   "metadata": {},
   "outputs": [
    {
     "name": "stdout",
     "output_type": "stream",
     "text": [
      "[[-147.41861  160.16226 -176.02151]\n",
      " [-158.49817  147.35365 -159.85147]\n",
      " [-173.71101 -162.60245 -163.55423]\n",
      " [-179.73349  168.35565 -159.64848]\n",
      " [ 166.53426  174.07317  178.95737]]\n",
      "(2501, 3)\n"
     ]
    }
   ],
   "source": [
    "print(np.load('omega_data/omegas_state0.npy')[:5])\n",
    "print(np.load('omega_data/omegas_state0.npy').shape)"
   ]
  },
  {
   "cell_type": "code",
   "execution_count": null,
   "id": "dad77c21-8075-4492-8f2e-9ea1994408cf",
   "metadata": {},
   "outputs": [],
   "source": []
  }
 ],
 "metadata": {
  "kernelspec": {
   "display_name": "AmberTools20",
   "language": "python",
   "name": "python3"
  },
  "language_info": {
   "codemirror_mode": {
    "name": "ipython",
    "version": 3
   },
   "file_extension": ".py",
   "mimetype": "text/x-python",
   "name": "python",
   "nbconvert_exporter": "python",
   "pygments_lexer": "ipython3",
   "version": "3.8.19"
  }
 },
 "nbformat": 4,
 "nbformat_minor": 5
}
